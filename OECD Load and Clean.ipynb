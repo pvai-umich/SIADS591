{
 "cells": [
  {
   "cell_type": "markdown",
   "metadata": {},
   "source": [
    "# Intro\n",
    "\n",
    "The OECD database is composed of hundreds (if not thousands) of tables that focus on specific economic and social variables. These variables are attirbutable to individual countries, and are generally recorded over time, making them a time series. \n",
    "\n",
    "For the purposes of this analysis, we are only interested in the latest year's data point, which would reflect the most recent characterization of each country's social and economic situation. \n",
    "\n",
    "However, given that we have years of data for each country, there is also the potential to use the change in the variable as a feature of our modeling. For example, rapid improvement in immunization coverage for a country would imply effective health education and could represent a more accurate picture of how the country is better educating the public about a new pandemic versus a country with a higher, but stagnant, immunization record. \n",
    "\n",
    "For now, we are combining the various OECD tables on the 'country' key so that we can merge it with COVID data.\n",
    "\n",
    "Data transformation to follow."
   ]
  },
  {
   "cell_type": "markdown",
   "metadata": {},
   "source": [
    "# Loading and Cleaning Data\n",
    "\n",
    "Here we load and clean csv data taken from the OECD database. This includes datasets on the following topics:\n",
    "- Education\n",
    "- Government Debt\n",
    "- Immunization\n",
    "- Demographics / Population\n",
    "- Tourism\n",
    "- Wealth Distribution\n",
    "\n",
    "For each dataset, there are multiple columns we are not interested in. Furthermore, for the columns we do want, there are various version of that variable, so we need to filter on what we are looking for. The tables are not standardized, so each csv file will have to be cleaned and prepared individually. "
   ]
  },
  {
   "cell_type": "markdown",
   "metadata": {},
   "source": [
    "### Load Packages"
   ]
  },
  {
   "cell_type": "code",
   "execution_count": 1,
   "metadata": {},
   "outputs": [],
   "source": [
    "import pandas as pd"
   ]
  },
  {
   "cell_type": "markdown",
   "metadata": {},
   "source": [
    "## Education\n",
    "\n",
    "We hypothesize that a country's education should play a key role in the success rate of the country's approach to COVID. Specifically, a more highly educated country should, in theory, have a more effective approach to dealing with the virus, and should have a populace that better understands public health terminiology, what viruses are, and would be more willing to take the pandemic seriously. \n",
    "\n",
    "So we will focus on the share of population of countries that have a tertiary education level. This is defined on wikipedia as:\n",
    "\n",
    "*Tertiary education, also referred to as third-level, third-stage or post-secondary education, is the educational level following the completion of secondary education. The World Bank, for example, defines tertiary education as including universities as well as trade schools and colleges.*"
   ]
  },
  {
   "cell_type": "code",
   "execution_count": 2,
   "metadata": {},
   "outputs": [],
   "source": [
    "url_edu = 'https://raw.githubusercontent.com/pvai-umich/SIADS591/master/Data/OECD_Education_Statistics.csv'\n",
    "dfraw_edu = pd.read_csv(url_edu)\n"
   ]
  },
  {
   "cell_type": "code",
   "execution_count": 17,
   "metadata": {},
   "outputs": [
    {
     "data": {
      "text/html": [
       "<div>\n",
       "<style scoped>\n",
       "    .dataframe tbody tr th:only-of-type {\n",
       "        vertical-align: middle;\n",
       "    }\n",
       "\n",
       "    .dataframe tbody tr th {\n",
       "        vertical-align: top;\n",
       "    }\n",
       "\n",
       "    .dataframe thead th {\n",
       "        text-align: right;\n",
       "    }\n",
       "</style>\n",
       "<table border=\"1\" class=\"dataframe\">\n",
       "  <thead>\n",
       "    <tr style=\"text-align: right;\">\n",
       "      <th></th>\n",
       "      <th>COUNTRY</th>\n",
       "      <th>Country</th>\n",
       "      <th>Gender</th>\n",
       "      <th>ISCED 2011 A education level</th>\n",
       "      <th>Reference Period</th>\n",
       "      <th>Measure</th>\n",
       "      <th>Value</th>\n",
       "    </tr>\n",
       "  </thead>\n",
       "  <tbody>\n",
       "    <tr>\n",
       "      <th>447</th>\n",
       "      <td>KOR</td>\n",
       "      <td>Korea</td>\n",
       "      <td>Total</td>\n",
       "      <td>Tertiary education</td>\n",
       "      <td>2018.0</td>\n",
       "      <td>Value</td>\n",
       "      <td>49.008511</td>\n",
       "    </tr>\n",
       "    <tr>\n",
       "      <th>701</th>\n",
       "      <td>CAN</td>\n",
       "      <td>Canada</td>\n",
       "      <td>Total</td>\n",
       "      <td>Tertiary education</td>\n",
       "      <td>2018.0</td>\n",
       "      <td>Value</td>\n",
       "      <td>57.888363</td>\n",
       "    </tr>\n",
       "    <tr>\n",
       "      <th>709</th>\n",
       "      <td>JPN</td>\n",
       "      <td>Japan</td>\n",
       "      <td>Total</td>\n",
       "      <td>Tertiary education</td>\n",
       "      <td>2018.0</td>\n",
       "      <td>Value</td>\n",
       "      <td>51.928062</td>\n",
       "    </tr>\n",
       "    <tr>\n",
       "      <th>774</th>\n",
       "      <td>CZE</td>\n",
       "      <td>Czech Republic</td>\n",
       "      <td>Total</td>\n",
       "      <td>Tertiary education</td>\n",
       "      <td>2018.0</td>\n",
       "      <td>Value</td>\n",
       "      <td>24.262077</td>\n",
       "    </tr>\n",
       "    <tr>\n",
       "      <th>909</th>\n",
       "      <td>FRA</td>\n",
       "      <td>France</td>\n",
       "      <td>Total</td>\n",
       "      <td>Tertiary education</td>\n",
       "      <td>2018.0</td>\n",
       "      <td>Value</td>\n",
       "      <td>36.897491</td>\n",
       "    </tr>\n",
       "  </tbody>\n",
       "</table>\n",
       "</div>"
      ],
      "text/plain": [
       "    COUNTRY         Country Gender ISCED 2011 A education level  \\\n",
       "447     KOR           Korea  Total           Tertiary education   \n",
       "701     CAN          Canada  Total           Tertiary education   \n",
       "709     JPN           Japan  Total           Tertiary education   \n",
       "774     CZE  Czech Republic  Total           Tertiary education   \n",
       "909     FRA          France  Total           Tertiary education   \n",
       "\n",
       "     Reference Period Measure      Value  \n",
       "447            2018.0   Value  49.008511  \n",
       "701            2018.0   Value  57.888363  \n",
       "709            2018.0   Value  51.928062  \n",
       "774            2018.0   Value  24.262077  \n",
       "909            2018.0   Value  36.897491  "
      ]
     },
     "execution_count": 17,
     "metadata": {},
     "output_type": "execute_result"
    }
   ],
   "source": [
    "columns_to_use = ['COUNTRY', 'Country', 'Gender', 'ISCED 2011 A education level', 'Reference Period', 'Measure', 'Value']\n",
    "\n",
    "# Only select the columns we want to use\n",
    "df_edu = dfraw_edu[columns_to_use]\n",
    "\n",
    "# filter some of the columns to include the variables we want to see\n",
    "df_edu = df_edu[df_edu['ISCED 2011 A education level'] == \"Tertiary education\"]\n",
    "df_edu = df_edu[df_edu['Gender'] == \"Total\"]\n",
    "df_edu = df_edu[df_edu['Measure'] == \"Value\"]\n",
    "df_edu = df_edu[df_edu['Reference Period'] == 2018]\n",
    "\n",
    "# This final dataframe contains the share of each country's population that has a tertiary education. \n",
    "df_edu.head()\n"
   ]
  },
  {
   "cell_type": "code",
   "execution_count": 18,
   "metadata": {},
   "outputs": [
    {
     "data": {
      "text/html": [
       "<div>\n",
       "<style scoped>\n",
       "    .dataframe tbody tr th:only-of-type {\n",
       "        vertical-align: middle;\n",
       "    }\n",
       "\n",
       "    .dataframe tbody tr th {\n",
       "        vertical-align: top;\n",
       "    }\n",
       "\n",
       "    .dataframe thead th {\n",
       "        text-align: right;\n",
       "    }\n",
       "</style>\n",
       "<table border=\"1\" class=\"dataframe\">\n",
       "  <thead>\n",
       "    <tr style=\"text-align: right;\">\n",
       "      <th></th>\n",
       "      <th>ISO</th>\n",
       "      <th>Country</th>\n",
       "      <th>Tertiary_Education_Pct</th>\n",
       "    </tr>\n",
       "  </thead>\n",
       "  <tbody>\n",
       "    <tr>\n",
       "      <th>447</th>\n",
       "      <td>KOR</td>\n",
       "      <td>Korea</td>\n",
       "      <td>49.008511</td>\n",
       "    </tr>\n",
       "    <tr>\n",
       "      <th>701</th>\n",
       "      <td>CAN</td>\n",
       "      <td>Canada</td>\n",
       "      <td>57.888363</td>\n",
       "    </tr>\n",
       "    <tr>\n",
       "      <th>709</th>\n",
       "      <td>JPN</td>\n",
       "      <td>Japan</td>\n",
       "      <td>51.928062</td>\n",
       "    </tr>\n",
       "    <tr>\n",
       "      <th>774</th>\n",
       "      <td>CZE</td>\n",
       "      <td>Czech Republic</td>\n",
       "      <td>24.262077</td>\n",
       "    </tr>\n",
       "    <tr>\n",
       "      <th>909</th>\n",
       "      <td>FRA</td>\n",
       "      <td>France</td>\n",
       "      <td>36.897491</td>\n",
       "    </tr>\n",
       "  </tbody>\n",
       "</table>\n",
       "</div>"
      ],
      "text/plain": [
       "     ISO         Country  Tertiary_Education_Pct\n",
       "447  KOR           Korea               49.008511\n",
       "701  CAN          Canada               57.888363\n",
       "709  JPN           Japan               51.928062\n",
       "774  CZE  Czech Republic               24.262077\n",
       "909  FRA          France               36.897491"
      ]
     },
     "execution_count": 18,
     "metadata": {},
     "output_type": "execute_result"
    }
   ],
   "source": [
    "# But lets reduce this table down to what we'll be combining together later.\n",
    "# A simple country-variable table.\n",
    "\n",
    "df_edu = df_edu[['COUNTRY', 'Country', 'Value']]\n",
    "df_edu.columns = ['ISO', 'Country', 'Tertiary_Education_Pct']\n",
    "df_edu.head()"
   ]
  },
  {
   "cell_type": "markdown",
   "metadata": {},
   "source": [
    "### Debt"
   ]
  },
  {
   "cell_type": "code",
   "execution_count": 19,
   "metadata": {},
   "outputs": [],
   "source": [
    "url_debt = 'https://raw.githubusercontent.com/pvai-umich/SIADS591/master/Data/OECD_Government_Debt.csv'\n",
    "df_debt = pd.read_csv(url_debt)\n"
   ]
  },
  {
   "cell_type": "markdown",
   "metadata": {},
   "source": [
    "### Immunization"
   ]
  },
  {
   "cell_type": "code",
   "execution_count": 20,
   "metadata": {},
   "outputs": [],
   "source": [
    "url_imm = 'https://raw.githubusercontent.com/pvai-umich/SIADS591/master/Data/OECD_Immunization_Statistics.csv'\n",
    "df_imm = pd.read_csv(url_imm)\n"
   ]
  },
  {
   "cell_type": "markdown",
   "metadata": {},
   "source": [
    "### Population / Demographics"
   ]
  },
  {
   "cell_type": "code",
   "execution_count": 21,
   "metadata": {},
   "outputs": [],
   "source": [
    "url_pop = 'https://raw.githubusercontent.com/pvai-umich/SIADS591/master/Data/OECD_Population_Statistics.csv'\n",
    "df_pop = pd.read_csv(url_pop)\n"
   ]
  },
  {
   "cell_type": "markdown",
   "metadata": {},
   "source": [
    "### Tourism"
   ]
  },
  {
   "cell_type": "code",
   "execution_count": 22,
   "metadata": {},
   "outputs": [],
   "source": [
    "url_tour = 'https://raw.githubusercontent.com/pvai-umich/SIADS591/master/Data/OECD_Tourism_Statistics.csv'\n",
    "df_tour = pd.read_csv(url_tour)\n"
   ]
  },
  {
   "cell_type": "markdown",
   "metadata": {},
   "source": [
    "### Wealth Distribution"
   ]
  },
  {
   "cell_type": "code",
   "execution_count": 23,
   "metadata": {},
   "outputs": [],
   "source": [
    "url_wealth = 'https://raw.githubusercontent.com/pvai-umich/SIADS591/master/Data/OECD_Wealth_Distribution_Statistics.csv'\n",
    "df_wealth = pd.read_csv(url_wealth)"
   ]
  },
  {
   "cell_type": "markdown",
   "metadata": {},
   "source": [
    "## Combining the OECD Data\n",
    "\n",
    "For now, we are combining the various OECD tables on the 'country' key so that we can merge it with COVID data.\n",
    "\n",
    "Data transformation to follow."
   ]
  },
  {
   "cell_type": "code",
   "execution_count": null,
   "metadata": {},
   "outputs": [],
   "source": []
  }
 ],
 "metadata": {
  "kernelspec": {
   "display_name": "Python 3",
   "language": "python",
   "name": "python3"
  },
  "language_info": {
   "codemirror_mode": {
    "name": "ipython",
    "version": 3
   },
   "file_extension": ".py",
   "mimetype": "text/x-python",
   "name": "python",
   "nbconvert_exporter": "python",
   "pygments_lexer": "ipython3",
   "version": "3.6.10"
  }
 },
 "nbformat": 4,
 "nbformat_minor": 4
}
