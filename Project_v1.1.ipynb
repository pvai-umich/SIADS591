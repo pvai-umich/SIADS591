{
  "nbformat": 4,
  "nbformat_minor": 0,
  "metadata": {
    "kernelspec": {
      "display_name": "Python 3",
      "language": "python",
      "name": "python3"
    },
    "language_info": {
      "codemirror_mode": {
        "name": "ipython",
        "version": 3
      },
      "file_extension": ".py",
      "mimetype": "text/x-python",
      "name": "python",
      "nbconvert_exporter": "python",
      "pygments_lexer": "ipython3",
      "version": "3.7.3"
    },
    "colab": {
      "name": "Project_v1.1.ipynb",
      "provenance": []
    }
  },
  "cells": [
    {
      "cell_type": "markdown",
      "metadata": {
        "id": "T6tKTzOYnSRC",
        "colab_type": "text"
      },
      "source": [
        "# Intro\n",
        "\n",
        "The OECD database is composed of hundreds (if not thousands) of tables that focus on specific economic and social variables. These variables are attirbutable to individual countries, and are generally recorded over time, making them a time series. \n",
        "\n",
        "For the purposes of this analysis, we are only interested in the latest year's data point, which would reflect the most recent characterization of each country's social and economic situation. \n",
        "\n",
        "However, given that we have years of data for each country, there is also the potential to use the change in the variable as a feature of our modeling. For example, rapid improvement in immunization coverage for a country would imply effective health education and could represent a more accurate picture of how the country is better educating the public about a new pandemic versus a country with a higher, but stagnant, immunization record. \n",
        "\n",
        "For now, we are combining the various OECD tables on the 'country' key so that we can merge it with COVID data.\n",
        "\n",
        "Data transformation to follow."
      ]
    },
    {
      "cell_type": "markdown",
      "metadata": {
        "id": "vWdO1ltBnSRD",
        "colab_type": "text"
      },
      "source": [
        "# Loading and Cleaning Data\n",
        "\n",
        "Here we load and clean csv data taken from the OECD database. This includes datasets on the following topics:\n",
        "- Education\n",
        "- Government Debt\n",
        "- Immunization\n",
        "- Demographics / Population\n",
        "- Tourism\n",
        "- Wealth Distribution\n",
        "\n",
        "Here we load and clean json data taken from the COVID-19 database. This includes datasets on the following topics:\n",
        "- Education\n",
        "- Government Debt\n",
        "- Immunization\n",
        "- Demographics / Population\n",
        "- Tourism\n",
        "- Wealth Distribution\n",
        "\n",
        "For each dataset, there are multiple columns we are not interested in. Furthermore, for the columns we do want, there are various version of that variable, so we need to filter on what we are looking for. The tables are not standardized, so each csv file will have to be cleaned and prepared individually. "
      ]
    },
    {
      "cell_type": "markdown",
      "metadata": {
        "id": "0ErXdojBnSRE",
        "colab_type": "text"
      },
      "source": [
        "### Load Packages"
      ]
    },
    {
      "cell_type": "code",
      "metadata": {
        "id": "Ara0Piq0nSRF",
        "colab_type": "code",
        "colab": {}
      },
      "source": [
        "import pandas as pd\n",
        "from urllib.request import urlopen\n",
        "import ssl\n",
        "import json\n",
        "import requests\n",
        "\n",
        "ssl._create_default_https_context = ssl._create_unverified_context"
      ],
      "execution_count": null,
      "outputs": []
    },
    {
      "cell_type": "markdown",
      "metadata": {
        "id": "GotHxvPanSRJ",
        "colab_type": "text"
      },
      "source": [
        "## OECD\n",
        "### Education\n",
        "\n",
        "We hypothesize that a country's education should play a key role in the success rate of the country's approach to COVID. Specifically, a more highly educated country should, in theory, have a more effective approach to dealing with the virus, and should have a populace that better understands public health terminiology, what viruses are, and would be more willing to take the pandemic seriously. \n",
        "\n",
        "So we will focus on the share of population of countries that have a tertiary education level. This is defined on wikipedia as:\n",
        "\n",
        "*Tertiary education, also referred to as third-level, third-stage or post-secondary education, is the educational level following the completion of secondary education. The World Bank, for example, defines tertiary education as including universities as well as trade schools and colleges.*"
      ]
    },
    {
      "cell_type": "code",
      "metadata": {
        "id": "u3p59OlYnSRK",
        "colab_type": "code",
        "colab": {}
      },
      "source": [
        "url_edu = 'https://raw.githubusercontent.com/pvai-umich/SIADS591/master/Data/OECD_Education_Statistics.csv'\n",
        "dfraw_edu = pd.read_csv(url_edu)\n"
      ],
      "execution_count": null,
      "outputs": []
    },
    {
      "cell_type": "code",
      "metadata": {
        "id": "kUVxa7JKnSRM",
        "colab_type": "code",
        "colab": {},
        "outputId": "1b19f0d7-cd20-47c3-cb9d-706a6f709ddf"
      },
      "source": [
        "columns_to_use = ['COUNTRY', 'Country', 'Gender', 'ISCED 2011 A education level', 'Reference Period', 'Measure', 'Value']\n",
        "\n",
        "# Only select the columns we want to use\n",
        "df_edu = dfraw_edu[columns_to_use]\n",
        "\n",
        "# filter some of the columns to include the variables we want to see\n",
        "df_edu = df_edu[df_edu['ISCED 2011 A education level'] == \"Tertiary education\"]\n",
        "df_edu = df_edu[df_edu['Gender'] == \"Total\"]\n",
        "df_edu = df_edu[df_edu['Measure'] == \"Value\"]\n",
        "df_edu = df_edu[df_edu['Reference Period'] == 2018]\n",
        "\n",
        "# This final dataframe contains the share of each country's population that has a tertiary education. \n",
        "df_edu.head()\n"
      ],
      "execution_count": null,
      "outputs": [
        {
          "output_type": "execute_result",
          "data": {
            "text/html": [
              "<div>\n",
              "<style scoped>\n",
              "    .dataframe tbody tr th:only-of-type {\n",
              "        vertical-align: middle;\n",
              "    }\n",
              "\n",
              "    .dataframe tbody tr th {\n",
              "        vertical-align: top;\n",
              "    }\n",
              "\n",
              "    .dataframe thead th {\n",
              "        text-align: right;\n",
              "    }\n",
              "</style>\n",
              "<table border=\"1\" class=\"dataframe\">\n",
              "  <thead>\n",
              "    <tr style=\"text-align: right;\">\n",
              "      <th></th>\n",
              "      <th>COUNTRY</th>\n",
              "      <th>Country</th>\n",
              "      <th>Gender</th>\n",
              "      <th>ISCED 2011 A education level</th>\n",
              "      <th>Reference Period</th>\n",
              "      <th>Measure</th>\n",
              "      <th>Value</th>\n",
              "    </tr>\n",
              "  </thead>\n",
              "  <tbody>\n",
              "    <tr>\n",
              "      <th>447</th>\n",
              "      <td>KOR</td>\n",
              "      <td>Korea</td>\n",
              "      <td>Total</td>\n",
              "      <td>Tertiary education</td>\n",
              "      <td>2018.0</td>\n",
              "      <td>Value</td>\n",
              "      <td>49.008511</td>\n",
              "    </tr>\n",
              "    <tr>\n",
              "      <th>701</th>\n",
              "      <td>CAN</td>\n",
              "      <td>Canada</td>\n",
              "      <td>Total</td>\n",
              "      <td>Tertiary education</td>\n",
              "      <td>2018.0</td>\n",
              "      <td>Value</td>\n",
              "      <td>57.888363</td>\n",
              "    </tr>\n",
              "    <tr>\n",
              "      <th>709</th>\n",
              "      <td>JPN</td>\n",
              "      <td>Japan</td>\n",
              "      <td>Total</td>\n",
              "      <td>Tertiary education</td>\n",
              "      <td>2018.0</td>\n",
              "      <td>Value</td>\n",
              "      <td>51.928062</td>\n",
              "    </tr>\n",
              "    <tr>\n",
              "      <th>774</th>\n",
              "      <td>CZE</td>\n",
              "      <td>Czech Republic</td>\n",
              "      <td>Total</td>\n",
              "      <td>Tertiary education</td>\n",
              "      <td>2018.0</td>\n",
              "      <td>Value</td>\n",
              "      <td>24.262077</td>\n",
              "    </tr>\n",
              "    <tr>\n",
              "      <th>909</th>\n",
              "      <td>FRA</td>\n",
              "      <td>France</td>\n",
              "      <td>Total</td>\n",
              "      <td>Tertiary education</td>\n",
              "      <td>2018.0</td>\n",
              "      <td>Value</td>\n",
              "      <td>36.897491</td>\n",
              "    </tr>\n",
              "  </tbody>\n",
              "</table>\n",
              "</div>"
            ],
            "text/plain": [
              "    COUNTRY         Country Gender ISCED 2011 A education level  \\\n",
              "447     KOR           Korea  Total           Tertiary education   \n",
              "701     CAN          Canada  Total           Tertiary education   \n",
              "709     JPN           Japan  Total           Tertiary education   \n",
              "774     CZE  Czech Republic  Total           Tertiary education   \n",
              "909     FRA          France  Total           Tertiary education   \n",
              "\n",
              "     Reference Period Measure      Value  \n",
              "447            2018.0   Value  49.008511  \n",
              "701            2018.0   Value  57.888363  \n",
              "709            2018.0   Value  51.928062  \n",
              "774            2018.0   Value  24.262077  \n",
              "909            2018.0   Value  36.897491  "
            ]
          },
          "metadata": {
            "tags": []
          },
          "execution_count": 3
        }
      ]
    },
    {
      "cell_type": "code",
      "metadata": {
        "id": "UJT33i0WnSRP",
        "colab_type": "code",
        "colab": {},
        "outputId": "07ea460f-416e-45d3-9d1a-50bb670e266e"
      },
      "source": [
        "# But lets reduce this table down to what we'll be combining together later.\n",
        "# A simple country-variable table.\n",
        "\n",
        "df_edu = df_edu[['COUNTRY', 'Country', 'Value']]\n",
        "df_edu.columns = ['ISO', 'Country', 'Tertiary_Education_Pct']\n",
        "df_edu.head()"
      ],
      "execution_count": null,
      "outputs": [
        {
          "output_type": "execute_result",
          "data": {
            "text/html": [
              "<div>\n",
              "<style scoped>\n",
              "    .dataframe tbody tr th:only-of-type {\n",
              "        vertical-align: middle;\n",
              "    }\n",
              "\n",
              "    .dataframe tbody tr th {\n",
              "        vertical-align: top;\n",
              "    }\n",
              "\n",
              "    .dataframe thead th {\n",
              "        text-align: right;\n",
              "    }\n",
              "</style>\n",
              "<table border=\"1\" class=\"dataframe\">\n",
              "  <thead>\n",
              "    <tr style=\"text-align: right;\">\n",
              "      <th></th>\n",
              "      <th>ISO</th>\n",
              "      <th>Country</th>\n",
              "      <th>Tertiary_Education_Pct</th>\n",
              "    </tr>\n",
              "  </thead>\n",
              "  <tbody>\n",
              "    <tr>\n",
              "      <th>447</th>\n",
              "      <td>KOR</td>\n",
              "      <td>Korea</td>\n",
              "      <td>49.008511</td>\n",
              "    </tr>\n",
              "    <tr>\n",
              "      <th>701</th>\n",
              "      <td>CAN</td>\n",
              "      <td>Canada</td>\n",
              "      <td>57.888363</td>\n",
              "    </tr>\n",
              "    <tr>\n",
              "      <th>709</th>\n",
              "      <td>JPN</td>\n",
              "      <td>Japan</td>\n",
              "      <td>51.928062</td>\n",
              "    </tr>\n",
              "    <tr>\n",
              "      <th>774</th>\n",
              "      <td>CZE</td>\n",
              "      <td>Czech Republic</td>\n",
              "      <td>24.262077</td>\n",
              "    </tr>\n",
              "    <tr>\n",
              "      <th>909</th>\n",
              "      <td>FRA</td>\n",
              "      <td>France</td>\n",
              "      <td>36.897491</td>\n",
              "    </tr>\n",
              "  </tbody>\n",
              "</table>\n",
              "</div>"
            ],
            "text/plain": [
              "     ISO         Country  Tertiary_Education_Pct\n",
              "447  KOR           Korea               49.008511\n",
              "701  CAN          Canada               57.888363\n",
              "709  JPN           Japan               51.928062\n",
              "774  CZE  Czech Republic               24.262077\n",
              "909  FRA          France               36.897491"
            ]
          },
          "metadata": {
            "tags": []
          },
          "execution_count": 4
        }
      ]
    },
    {
      "cell_type": "markdown",
      "metadata": {
        "id": "hl7FyfCbnSRR",
        "colab_type": "text"
      },
      "source": [
        "### Debt"
      ]
    },
    {
      "cell_type": "code",
      "metadata": {
        "id": "YFZQDoH7nSRR",
        "colab_type": "code",
        "colab": {}
      },
      "source": [
        "url_debt = 'https://raw.githubusercontent.com/pvai-umich/SIADS591/master/Data/OECD_Government_Debt.csv'\n",
        "df_debt = pd.read_csv(url_debt)\n"
      ],
      "execution_count": null,
      "outputs": []
    },
    {
      "cell_type": "markdown",
      "metadata": {
        "id": "TnBi6d2SnSRT",
        "colab_type": "text"
      },
      "source": [
        "### Immunization"
      ]
    },
    {
      "cell_type": "code",
      "metadata": {
        "id": "iY5Lme7lnSRU",
        "colab_type": "code",
        "colab": {}
      },
      "source": [
        "url_imm = 'https://raw.githubusercontent.com/pvai-umich/SIADS591/master/Data/OECD_Immunization_Statistics.csv'\n",
        "df_imm = pd.read_csv(url_imm)\n"
      ],
      "execution_count": null,
      "outputs": []
    },
    {
      "cell_type": "markdown",
      "metadata": {
        "id": "k_4pILBgnSRW",
        "colab_type": "text"
      },
      "source": [
        "### Population / Demographics"
      ]
    },
    {
      "cell_type": "code",
      "metadata": {
        "id": "hWMYQWtlnSRW",
        "colab_type": "code",
        "colab": {}
      },
      "source": [
        "url_pop = 'https://raw.githubusercontent.com/pvai-umich/SIADS591/master/Data/OECD_Population_Statistics.csv'\n",
        "df_pop = pd.read_csv(url_pop)\n"
      ],
      "execution_count": null,
      "outputs": []
    },
    {
      "cell_type": "markdown",
      "metadata": {
        "id": "5mQ4_zXonSRY",
        "colab_type": "text"
      },
      "source": [
        "### Tourism"
      ]
    },
    {
      "cell_type": "code",
      "metadata": {
        "id": "WyxP_CNPnSRZ",
        "colab_type": "code",
        "colab": {}
      },
      "source": [
        "url_tour = 'https://raw.githubusercontent.com/pvai-umich/SIADS591/master/Data/OECD_Tourism_Statistics.csv'\n",
        "df_tour = pd.read_csv(url_tour)\n"
      ],
      "execution_count": null,
      "outputs": []
    },
    {
      "cell_type": "markdown",
      "metadata": {
        "id": "_zBIxCzFnSRa",
        "colab_type": "text"
      },
      "source": [
        "### Wealth Distribution"
      ]
    },
    {
      "cell_type": "code",
      "metadata": {
        "id": "RAb7K-yGnSRb",
        "colab_type": "code",
        "colab": {}
      },
      "source": [
        "url_wealth = 'https://raw.githubusercontent.com/pvai-umich/SIADS591/master/Data/OECD_Wealth_Distribution_Statistics.csv'\n",
        "df_wealth = pd.read_csv(url_wealth)"
      ],
      "execution_count": null,
      "outputs": []
    },
    {
      "cell_type": "markdown",
      "metadata": {
        "id": "HjLAU3EnnSRd",
        "colab_type": "text"
      },
      "source": [
        "## COVID-19"
      ]
    },
    {
      "cell_type": "markdown",
      "metadata": {
        "id": "X08FqiZbnSRe",
        "colab_type": "text"
      },
      "source": [
        "All attempts to load json via web is throwing an SSL error. We will load locally."
      ]
    },
    {
      "cell_type": "markdown",
      "metadata": {
        "id": "a1Cv24CWnSRe",
        "colab_type": "text"
      },
      "source": [
        "-Method 1\n",
        "-Request fails unless we provide a user-agent\n",
        "api_response = requests.get('https://thevirustracker.com/timeline/map-data.json', headers={\"User-Agent\": \"Chrome\"})\n",
        "covid_stats = api_response.json()"
      ]
    },
    {
      "cell_type": "markdown",
      "metadata": {
        "id": "HlH6aEhonSRf",
        "colab_type": "text"
      },
      "source": [
        "-Method 2\n",
        "response = urlopen('https://thevirustracker.com/timeline/map-data.json')\n",
        "json_data = response.read().decode('utf-8', 'replace')\n",
        "df = json.loads(json_data)"
      ]
    },
    {
      "cell_type": "markdown",
      "metadata": {
        "id": "mkKVLO0OnSRf",
        "colab_type": "text"
      },
      "source": [
        "### Country Covid-19 Stats"
      ]
    },
    {
      "cell_type": "code",
      "metadata": {
        "id": "IICl9BM0nSRg",
        "colab_type": "code",
        "colab": {}
      },
      "source": [
        "#Importing COVID19 Global Data\n",
        "country_stats = pd.read_json(r'covid_full.json')"
      ],
      "execution_count": null,
      "outputs": []
    },
    {
      "cell_type": "code",
      "metadata": {
        "id": "ElTRSi95nSRh",
        "colab_type": "code",
        "colab": {}
      },
      "source": [
        "lst_1=[]\n",
        "for i in country_stats['data']:\n",
        "    for key,value in i.items():\n",
        "        pair=[key,value]\n",
        "        lst_1.append(pair)"
      ],
      "execution_count": null,
      "outputs": []
    },
    {
      "cell_type": "code",
      "metadata": {
        "id": "JzeAsly4nSRj",
        "colab_type": "code",
        "colab": {},
        "outputId": "6350e126-433d-4863-82b6-22688d22931a"
      },
      "source": [
        "pd.DataFrame((lst_1), columns =['Stat', 'Value']) "
      ],
      "execution_count": null,
      "outputs": [
        {
          "output_type": "execute_result",
          "data": {
            "text/html": [
              "<div>\n",
              "<style scoped>\n",
              "    .dataframe tbody tr th:only-of-type {\n",
              "        vertical-align: middle;\n",
              "    }\n",
              "\n",
              "    .dataframe tbody tr th {\n",
              "        vertical-align: top;\n",
              "    }\n",
              "\n",
              "    .dataframe thead th {\n",
              "        text-align: right;\n",
              "    }\n",
              "</style>\n",
              "<table border=\"1\" class=\"dataframe\">\n",
              "  <thead>\n",
              "    <tr style=\"text-align: right;\">\n",
              "      <th></th>\n",
              "      <th>Stat</th>\n",
              "      <th>Value</th>\n",
              "    </tr>\n",
              "  </thead>\n",
              "  <tbody>\n",
              "    <tr>\n",
              "      <th>0</th>\n",
              "      <td>countrycode</td>\n",
              "      <td>AD</td>\n",
              "    </tr>\n",
              "    <tr>\n",
              "      <th>1</th>\n",
              "      <td>date</td>\n",
              "      <td>6/06/20</td>\n",
              "    </tr>\n",
              "    <tr>\n",
              "      <th>2</th>\n",
              "      <td>cases</td>\n",
              "      <td>852</td>\n",
              "    </tr>\n",
              "    <tr>\n",
              "      <th>3</th>\n",
              "      <td>deaths</td>\n",
              "      <td>51</td>\n",
              "    </tr>\n",
              "    <tr>\n",
              "      <th>4</th>\n",
              "      <td>recovered</td>\n",
              "      <td>1</td>\n",
              "    </tr>\n",
              "    <tr>\n",
              "      <th>5</th>\n",
              "      <td>countrycode</td>\n",
              "      <td>AD</td>\n",
              "    </tr>\n",
              "    <tr>\n",
              "      <th>6</th>\n",
              "      <td>date</td>\n",
              "      <td>6/05/20</td>\n",
              "    </tr>\n",
              "    <tr>\n",
              "      <th>7</th>\n",
              "      <td>cases</td>\n",
              "      <td>852</td>\n",
              "    </tr>\n",
              "    <tr>\n",
              "      <th>8</th>\n",
              "      <td>deaths</td>\n",
              "      <td>51</td>\n",
              "    </tr>\n",
              "    <tr>\n",
              "      <th>9</th>\n",
              "      <td>recovered</td>\n",
              "      <td>1</td>\n",
              "    </tr>\n",
              "    <tr>\n",
              "      <th>10</th>\n",
              "      <td>countrycode</td>\n",
              "      <td>AD</td>\n",
              "    </tr>\n",
              "    <tr>\n",
              "      <th>11</th>\n",
              "      <td>date</td>\n",
              "      <td>6/04/20</td>\n",
              "    </tr>\n",
              "    <tr>\n",
              "      <th>12</th>\n",
              "      <td>cases</td>\n",
              "      <td>852</td>\n",
              "    </tr>\n",
              "    <tr>\n",
              "      <th>13</th>\n",
              "      <td>deaths</td>\n",
              "      <td>51</td>\n",
              "    </tr>\n",
              "    <tr>\n",
              "      <th>14</th>\n",
              "      <td>recovered</td>\n",
              "      <td>1</td>\n",
              "    </tr>\n",
              "    <tr>\n",
              "      <th>15</th>\n",
              "      <td>countrycode</td>\n",
              "      <td>AD</td>\n",
              "    </tr>\n",
              "    <tr>\n",
              "      <th>16</th>\n",
              "      <td>date</td>\n",
              "      <td>6/03/20</td>\n",
              "    </tr>\n",
              "    <tr>\n",
              "      <th>17</th>\n",
              "      <td>cases</td>\n",
              "      <td>851</td>\n",
              "    </tr>\n",
              "    <tr>\n",
              "      <th>18</th>\n",
              "      <td>deaths</td>\n",
              "      <td>51</td>\n",
              "    </tr>\n",
              "    <tr>\n",
              "      <th>19</th>\n",
              "      <td>recovered</td>\n",
              "      <td>1</td>\n",
              "    </tr>\n",
              "    <tr>\n",
              "      <th>20</th>\n",
              "      <td>countrycode</td>\n",
              "      <td>AD</td>\n",
              "    </tr>\n",
              "    <tr>\n",
              "      <th>21</th>\n",
              "      <td>date</td>\n",
              "      <td>6/02/20</td>\n",
              "    </tr>\n",
              "    <tr>\n",
              "      <th>22</th>\n",
              "      <td>cases</td>\n",
              "      <td>844</td>\n",
              "    </tr>\n",
              "    <tr>\n",
              "      <th>23</th>\n",
              "      <td>deaths</td>\n",
              "      <td>51</td>\n",
              "    </tr>\n",
              "    <tr>\n",
              "      <th>24</th>\n",
              "      <td>recovered</td>\n",
              "      <td>1</td>\n",
              "    </tr>\n",
              "    <tr>\n",
              "      <th>25</th>\n",
              "      <td>countrycode</td>\n",
              "      <td>AD</td>\n",
              "    </tr>\n",
              "    <tr>\n",
              "      <th>26</th>\n",
              "      <td>date</td>\n",
              "      <td>6/01/20</td>\n",
              "    </tr>\n",
              "    <tr>\n",
              "      <th>27</th>\n",
              "      <td>cases</td>\n",
              "      <td>765</td>\n",
              "    </tr>\n",
              "    <tr>\n",
              "      <th>28</th>\n",
              "      <td>deaths</td>\n",
              "      <td>51</td>\n",
              "    </tr>\n",
              "    <tr>\n",
              "      <th>29</th>\n",
              "      <td>recovered</td>\n",
              "      <td>1</td>\n",
              "    </tr>\n",
              "    <tr>\n",
              "      <th>...</th>\n",
              "      <td>...</td>\n",
              "      <td>...</td>\n",
              "    </tr>\n",
              "    <tr>\n",
              "      <th>178265</th>\n",
              "      <td>countrycode</td>\n",
              "      <td>UA</td>\n",
              "    </tr>\n",
              "    <tr>\n",
              "      <th>178266</th>\n",
              "      <td>date</td>\n",
              "      <td>6/29/20</td>\n",
              "    </tr>\n",
              "    <tr>\n",
              "      <th>178267</th>\n",
              "      <td>cases</td>\n",
              "      <td>44538</td>\n",
              "    </tr>\n",
              "    <tr>\n",
              "      <th>178268</th>\n",
              "      <td>deaths</td>\n",
              "      <td>1161</td>\n",
              "    </tr>\n",
              "    <tr>\n",
              "      <th>178269</th>\n",
              "      <td>recovered</td>\n",
              "      <td>10053</td>\n",
              "    </tr>\n",
              "    <tr>\n",
              "      <th>178270</th>\n",
              "      <td>countrycode</td>\n",
              "      <td>AE</td>\n",
              "    </tr>\n",
              "    <tr>\n",
              "      <th>178271</th>\n",
              "      <td>date</td>\n",
              "      <td>6/29/20</td>\n",
              "    </tr>\n",
              "    <tr>\n",
              "      <th>178272</th>\n",
              "      <td>cases</td>\n",
              "      <td>48246</td>\n",
              "    </tr>\n",
              "    <tr>\n",
              "      <th>178273</th>\n",
              "      <td>deaths</td>\n",
              "      <td>314</td>\n",
              "    </tr>\n",
              "    <tr>\n",
              "      <th>178274</th>\n",
              "      <td>recovered</td>\n",
              "      <td>18338</td>\n",
              "    </tr>\n",
              "    <tr>\n",
              "      <th>178275</th>\n",
              "      <td>countrycode</td>\n",
              "      <td>SE</td>\n",
              "    </tr>\n",
              "    <tr>\n",
              "      <th>178276</th>\n",
              "      <td>date</td>\n",
              "      <td>6/29/20</td>\n",
              "    </tr>\n",
              "    <tr>\n",
              "      <th>178277</th>\n",
              "      <td>cases</td>\n",
              "      <td>67667</td>\n",
              "    </tr>\n",
              "    <tr>\n",
              "      <th>178278</th>\n",
              "      <td>deaths</td>\n",
              "      <td>5310</td>\n",
              "    </tr>\n",
              "    <tr>\n",
              "      <th>178279</th>\n",
              "      <td>recovered</td>\n",
              "      <td>0</td>\n",
              "    </tr>\n",
              "    <tr>\n",
              "      <th>178280</th>\n",
              "      <td>countrycode</td>\n",
              "      <td>IN</td>\n",
              "    </tr>\n",
              "    <tr>\n",
              "      <th>178281</th>\n",
              "      <td>date</td>\n",
              "      <td>6/29/20</td>\n",
              "    </tr>\n",
              "    <tr>\n",
              "      <th>178282</th>\n",
              "      <td>cases</td>\n",
              "      <td>548318</td>\n",
              "    </tr>\n",
              "    <tr>\n",
              "      <th>178283</th>\n",
              "      <td>deaths</td>\n",
              "      <td>16475</td>\n",
              "    </tr>\n",
              "    <tr>\n",
              "      <th>178284</th>\n",
              "      <td>recovered</td>\n",
              "      <td>135206</td>\n",
              "    </tr>\n",
              "    <tr>\n",
              "      <th>178285</th>\n",
              "      <td>countrycode</td>\n",
              "      <td>PK</td>\n",
              "    </tr>\n",
              "    <tr>\n",
              "      <th>178286</th>\n",
              "      <td>date</td>\n",
              "      <td>6/29/20</td>\n",
              "    </tr>\n",
              "    <tr>\n",
              "      <th>178287</th>\n",
              "      <td>cases</td>\n",
              "      <td>206512</td>\n",
              "    </tr>\n",
              "    <tr>\n",
              "      <th>178288</th>\n",
              "      <td>deaths</td>\n",
              "      <td>4167</td>\n",
              "    </tr>\n",
              "    <tr>\n",
              "      <th>178289</th>\n",
              "      <td>recovered</td>\n",
              "      <td>36308</td>\n",
              "    </tr>\n",
              "    <tr>\n",
              "      <th>178290</th>\n",
              "      <td>countrycode</td>\n",
              "      <td>GL</td>\n",
              "    </tr>\n",
              "    <tr>\n",
              "      <th>178291</th>\n",
              "      <td>date</td>\n",
              "      <td>6/29/20</td>\n",
              "    </tr>\n",
              "    <tr>\n",
              "      <th>178292</th>\n",
              "      <td>cases</td>\n",
              "      <td>13</td>\n",
              "    </tr>\n",
              "    <tr>\n",
              "      <th>178293</th>\n",
              "      <td>deaths</td>\n",
              "      <td>0</td>\n",
              "    </tr>\n",
              "    <tr>\n",
              "      <th>178294</th>\n",
              "      <td>recovered</td>\n",
              "      <td>13</td>\n",
              "    </tr>\n",
              "  </tbody>\n",
              "</table>\n",
              "<p>178295 rows × 2 columns</p>\n",
              "</div>"
            ],
            "text/plain": [
              "               Stat    Value\n",
              "0       countrycode       AD\n",
              "1              date  6/06/20\n",
              "2             cases      852\n",
              "3            deaths       51\n",
              "4         recovered        1\n",
              "...             ...      ...\n",
              "178290  countrycode       GL\n",
              "178291         date  6/29/20\n",
              "178292        cases       13\n",
              "178293       deaths        0\n",
              "178294    recovered       13\n",
              "\n",
              "[178295 rows x 2 columns]"
            ]
          },
          "metadata": {
            "tags": []
          },
          "execution_count": 49
        }
      ]
    },
    {
      "cell_type": "markdown",
      "metadata": {
        "id": "eZ6iKiCDnSRl",
        "colab_type": "text"
      },
      "source": [
        "### Global Covid-19 Stats"
      ]
    },
    {
      "cell_type": "code",
      "metadata": {
        "id": "TfrklemJnSRm",
        "colab_type": "code",
        "colab": {}
      },
      "source": [
        "#Importing COVID19 Global Data\n",
        "global_stats = pd.read_json(r'global_stats.json')"
      ],
      "execution_count": null,
      "outputs": []
    },
    {
      "cell_type": "code",
      "metadata": {
        "id": "YtUzSu7lnSRn",
        "colab_type": "code",
        "colab": {}
      },
      "source": [
        "lst=[]\n",
        "for i in global_stats['results']:\n",
        "    for key,value in i.items():\n",
        "        pair=[key,value]\n",
        "        lst.append(pair)"
      ],
      "execution_count": null,
      "outputs": []
    },
    {
      "cell_type": "code",
      "metadata": {
        "id": "pYaCZi9XnSRp",
        "colab_type": "code",
        "colab": {}
      },
      "source": [
        "pd.DataFrame((lst), columns =['Stat', 'Value']) "
      ],
      "execution_count": null,
      "outputs": []
    },
    {
      "cell_type": "markdown",
      "metadata": {
        "id": "zeDfW0c_nSRr",
        "colab_type": "text"
      },
      "source": [
        "## Combining the OECD Data\n",
        "\n",
        "For now, we are combining the various OECD tables on the 'country' key so that we can merge it with COVID data.\n",
        "\n",
        "Data transformation to follow."
      ]
    },
    {
      "cell_type": "code",
      "metadata": {
        "id": "dMhHTAg_nSRr",
        "colab_type": "code",
        "colab": {}
      },
      "source": [
        ""
      ],
      "execution_count": null,
      "outputs": []
    }
  ]
}