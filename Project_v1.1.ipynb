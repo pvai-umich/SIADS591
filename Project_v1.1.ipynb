{
  "nbformat": 4,
  "nbformat_minor": 0,
  "metadata": {
    "kernelspec": {
      "display_name": "Python 3",
      "language": "python",
      "name": "python3"
    },
    "language_info": {
      "codemirror_mode": {
        "name": "ipython",
        "version": 3
      },
      "file_extension": ".py",
      "mimetype": "text/x-python",
      "name": "python",
      "nbconvert_exporter": "python",
      "pygments_lexer": "ipython3",
      "version": "3.7.3"
    },
    "colab": {
      "name": "Project_v1.1.ipynb",
      "provenance": []
    }
  },
  "cells": [
    {
      "cell_type": "markdown",
      "metadata": {
        "id": "T6tKTzOYnSRC",
        "colab_type": "text"
      },
      "source": [
        "# Intro\n",
        "\n",
        "The OECD database is composed of hundreds (if not thousands) of tables that focus on specific economic and social variables. These variables are attirbutable to individual countries, and are generally recorded over time, making them a time series. \n",
        "\n",
        "For the purposes of this analysis, we are only interested in the latest year's data point, which would reflect the most recent characterization of each country's social and economic situation. \n",
        "\n",
        "However, given that we have years of data for each country, there is also the potential to use the change in the variable as a feature of our modeling. For example, rapid improvement in immunization coverage for a country would imply effective health education and could represent a more accurate picture of how the country is better educating the public about a new pandemic versus a country with a higher, but stagnant, immunization record. \n",
        "\n",
        "For now, we are combining the various OECD tables on the 'country' key so that we can merge it with COVID data.\n",
        "\n",
        "Data transformation to follow."
      ]
    },
    {
      "cell_type": "markdown",
      "metadata": {
        "id": "vWdO1ltBnSRD",
        "colab_type": "text"
      },
      "source": [
        "# Loading and Cleaning Data\n",
        "\n",
        "Here we load and clean csv data taken from the OECD database. This includes datasets on the following topics:\n",
        "- Education\n",
        "- Government Debt\n",
        "- Immunization\n",
        "- Demographics / Population\n",
        "- Tourism\n",
        "- Wealth Distribution\n",
        "- Life Expectancy\n",
        "\n",
        "For each dataset, there are multiple columns we are not interested in. Furthermore, for the columns we do want, there are different enteries for that variable, so we need to filter on what we are looking for. \n",
        "\n",
        "The tables and column names are not standardized, so each csv file will have to be cleaned and prepared individually. "
      ]
    },
    {
      "cell_type": "markdown",
      "metadata": {
        "id": "0ErXdojBnSRE",
        "colab_type": "text"
      },
      "source": [
        "### Load Packages"
      ]
    },
    {
      "cell_type": "code",
      "metadata": {
        "id": "Ara0Piq0nSRF",
        "colab_type": "code",
        "colab": {}
      },
      "source": [
        "import pandas as pd\n",
        "import numpy as np\n",
        "from urllib.request import urlopen\n",
        "import ssl\n",
        "import json\n",
        "import requests\n",
        "\n",
        "ssl._create_default_https_context = ssl._create_unverified_context"
      ],
      "execution_count": 1,
      "outputs": []
    },
    {
      "cell_type": "markdown",
      "metadata": {
        "id": "GotHxvPanSRJ",
        "colab_type": "text"
      },
      "source": [
        "## OECD\n"
      ]
    },
    {
      "cell_type": "markdown",
      "metadata": {
        "id": "2xMJi9vZ2JmJ",
        "colab_type": "text"
      },
      "source": [
        "### Education\n",
        "\n",
        "We hypothesize that a country's education should play a key role in the success rate of the country's approach to COVID. Specifically, a more highly educated country should, in theory, have a more effective approach to dealing with the virus, and should have a populace that better understands public health terminiology, what viruses are, and would be more willing to take the pandemic seriously. \n",
        "\n",
        "So we will focus on the share of population of countries that have a tertiary education level. This is defined on wikipedia as:\n",
        "\n",
        "*Tertiary education, also referred to as third-level, third-stage or post-secondary education, is the educational level following the completion of secondary education. The World Bank, for example, defines tertiary education as including universities as well as trade schools and colleges.*"
      ]
    },
    {
      "cell_type": "code",
      "metadata": {
        "id": "u3p59OlYnSRK",
        "colab_type": "code",
        "colab": {}
      },
      "source": [
        "url_edu = 'https://raw.githubusercontent.com/pvai-umich/SIADS591/master/Data/OECD_Education_Statistics.csv'\n",
        "dfraw_edu = pd.read_csv(url_edu)\n"
      ],
      "execution_count": 2,
      "outputs": []
    },
    {
      "cell_type": "code",
      "metadata": {
        "id": "kUVxa7JKnSRM",
        "colab_type": "code",
        "colab": {
          "base_uri": "https://localhost:8080/",
          "height": 195
        },
        "outputId": "35575d64-dacb-466a-f7d8-5df0cdcb6f37"
      },
      "source": [
        "columns_to_use = ['COUNTRY', 'Country', 'Gender', 'ISCED 2011 A education level', 'Reference Period', 'Measure', 'Value']\n",
        "\n",
        "# Only select the columns we want to use\n",
        "df_edu = dfraw_edu[columns_to_use]\n",
        "\n",
        "# filter some of the columns to include the variables we want to see\n",
        "df_edu = df_edu[df_edu['ISCED 2011 A education level'] == \"Tertiary education\"]\n",
        "df_edu = df_edu[df_edu['Gender'] == \"Total\"]\n",
        "df_edu = df_edu[df_edu['Measure'] == \"Value\"]\n",
        "\n",
        "# Choose the latest datapoint for each country\n",
        "df_edu = df_edu.sort_values('Reference Period').groupby('Country').tail(1)\n",
        "\n",
        "# This final dataframe contains the share of each country's population that has a tertiary education. \n",
        "df_edu.head()\n"
      ],
      "execution_count": 3,
      "outputs": [
        {
          "output_type": "execute_result",
          "data": {
            "text/html": [
              "<div>\n",
              "<style scoped>\n",
              "    .dataframe tbody tr th:only-of-type {\n",
              "        vertical-align: middle;\n",
              "    }\n",
              "\n",
              "    .dataframe tbody tr th {\n",
              "        vertical-align: top;\n",
              "    }\n",
              "\n",
              "    .dataframe thead th {\n",
              "        text-align: right;\n",
              "    }\n",
              "</style>\n",
              "<table border=\"1\" class=\"dataframe\">\n",
              "  <thead>\n",
              "    <tr style=\"text-align: right;\">\n",
              "      <th></th>\n",
              "      <th>COUNTRY</th>\n",
              "      <th>Country</th>\n",
              "      <th>Gender</th>\n",
              "      <th>ISCED 2011 A education level</th>\n",
              "      <th>Reference Period</th>\n",
              "      <th>Measure</th>\n",
              "      <th>Value</th>\n",
              "    </tr>\n",
              "  </thead>\n",
              "  <tbody>\n",
              "    <tr>\n",
              "      <th>3244</th>\n",
              "      <td>CHN</td>\n",
              "      <td>China (People's Republic of)</td>\n",
              "      <td>Total</td>\n",
              "      <td>Tertiary education</td>\n",
              "      <td>2010.0</td>\n",
              "      <td>Value</td>\n",
              "      <td>9.681174</td>\n",
              "    </tr>\n",
              "    <tr>\n",
              "      <th>3302</th>\n",
              "      <td>IND</td>\n",
              "      <td>India</td>\n",
              "      <td>Total</td>\n",
              "      <td>Tertiary education</td>\n",
              "      <td>2011.0</td>\n",
              "      <td>Value</td>\n",
              "      <td>10.595189</td>\n",
              "    </tr>\n",
              "    <tr>\n",
              "      <th>2846</th>\n",
              "      <td>SAU</td>\n",
              "      <td>Saudi Arabia</td>\n",
              "      <td>Total</td>\n",
              "      <td>Tertiary education</td>\n",
              "      <td>2016.0</td>\n",
              "      <td>Value</td>\n",
              "      <td>23.623922</td>\n",
              "    </tr>\n",
              "    <tr>\n",
              "      <th>2772</th>\n",
              "      <td>CHL</td>\n",
              "      <td>Chile</td>\n",
              "      <td>Total</td>\n",
              "      <td>Tertiary education</td>\n",
              "      <td>2017.0</td>\n",
              "      <td>Value</td>\n",
              "      <td>25.168179</td>\n",
              "    </tr>\n",
              "    <tr>\n",
              "      <th>2757</th>\n",
              "      <td>RUS</td>\n",
              "      <td>Russia</td>\n",
              "      <td>Total</td>\n",
              "      <td>Tertiary education</td>\n",
              "      <td>2017.0</td>\n",
              "      <td>Value</td>\n",
              "      <td>56.700150</td>\n",
              "    </tr>\n",
              "  </tbody>\n",
              "</table>\n",
              "</div>"
            ],
            "text/plain": [
              "     COUNTRY                       Country  ... Measure      Value\n",
              "3244     CHN  China (People's Republic of)  ...   Value   9.681174\n",
              "3302     IND                         India  ...   Value  10.595189\n",
              "2846     SAU                  Saudi Arabia  ...   Value  23.623922\n",
              "2772     CHL                         Chile  ...   Value  25.168179\n",
              "2757     RUS                        Russia  ...   Value  56.700150\n",
              "\n",
              "[5 rows x 7 columns]"
            ]
          },
          "metadata": {
            "tags": []
          },
          "execution_count": 3
        }
      ]
    },
    {
      "cell_type": "code",
      "metadata": {
        "id": "UJT33i0WnSRP",
        "colab_type": "code",
        "colab": {
          "base_uri": "https://localhost:8080/",
          "height": 195
        },
        "outputId": "16e86fe8-dd4e-4ef1-ebfb-9943fa8d48d4"
      },
      "source": [
        "# But lets reduce this table down to what we'll be combining together later.\n",
        "# A simple country-variable table.\n",
        "\n",
        "df_edu = df_edu[['COUNTRY', 'Country', 'Value']]\n",
        "df_edu.columns = ['ISO', 'Country', 'Tertiary_Education_Pct']\n",
        "df_edu.head()"
      ],
      "execution_count": 4,
      "outputs": [
        {
          "output_type": "execute_result",
          "data": {
            "text/html": [
              "<div>\n",
              "<style scoped>\n",
              "    .dataframe tbody tr th:only-of-type {\n",
              "        vertical-align: middle;\n",
              "    }\n",
              "\n",
              "    .dataframe tbody tr th {\n",
              "        vertical-align: top;\n",
              "    }\n",
              "\n",
              "    .dataframe thead th {\n",
              "        text-align: right;\n",
              "    }\n",
              "</style>\n",
              "<table border=\"1\" class=\"dataframe\">\n",
              "  <thead>\n",
              "    <tr style=\"text-align: right;\">\n",
              "      <th></th>\n",
              "      <th>ISO</th>\n",
              "      <th>Country</th>\n",
              "      <th>Tertiary_Education_Pct</th>\n",
              "    </tr>\n",
              "  </thead>\n",
              "  <tbody>\n",
              "    <tr>\n",
              "      <th>3244</th>\n",
              "      <td>CHN</td>\n",
              "      <td>China (People's Republic of)</td>\n",
              "      <td>9.681174</td>\n",
              "    </tr>\n",
              "    <tr>\n",
              "      <th>3302</th>\n",
              "      <td>IND</td>\n",
              "      <td>India</td>\n",
              "      <td>10.595189</td>\n",
              "    </tr>\n",
              "    <tr>\n",
              "      <th>2846</th>\n",
              "      <td>SAU</td>\n",
              "      <td>Saudi Arabia</td>\n",
              "      <td>23.623922</td>\n",
              "    </tr>\n",
              "    <tr>\n",
              "      <th>2772</th>\n",
              "      <td>CHL</td>\n",
              "      <td>Chile</td>\n",
              "      <td>25.168179</td>\n",
              "    </tr>\n",
              "    <tr>\n",
              "      <th>2757</th>\n",
              "      <td>RUS</td>\n",
              "      <td>Russia</td>\n",
              "      <td>56.700150</td>\n",
              "    </tr>\n",
              "  </tbody>\n",
              "</table>\n",
              "</div>"
            ],
            "text/plain": [
              "      ISO                       Country  Tertiary_Education_Pct\n",
              "3244  CHN  China (People's Republic of)                9.681174\n",
              "3302  IND                         India               10.595189\n",
              "2846  SAU                  Saudi Arabia               23.623922\n",
              "2772  CHL                         Chile               25.168179\n",
              "2757  RUS                        Russia               56.700150"
            ]
          },
          "metadata": {
            "tags": []
          },
          "execution_count": 4
        }
      ]
    },
    {
      "cell_type": "markdown",
      "metadata": {
        "id": "hl7FyfCbnSRR",
        "colab_type": "text"
      },
      "source": [
        "### Debt\n",
        "\n",
        "The Debt dataset from the OECD has various government-level debt statistics. Our focus here will be on the total debt-to-GDP ratio, as it helps us look at a normalized measure, rather than needing to adjust absolute debt levels across different sized countries.\n",
        "\n",
        "Our hypothesis is a little mixed. On the surface, one would expect that a heavily indebted country is not wealthy and might have to skimp on health care spending at a time of a pandemic. Or conversely, wouldn't have room to borrow more. However, anecdotally, Japan is one of the most indebted countries in the World, but is highly developed, has a great health care system, and can easily increase its debt levels. This might be a difficult variable to gain insights on."
      ]
    },
    {
      "cell_type": "code",
      "metadata": {
        "id": "YFZQDoH7nSRR",
        "colab_type": "code",
        "colab": {}
      },
      "source": [
        "# Load the Debt Data\n",
        "url_debt = 'https://raw.githubusercontent.com/pvai-umich/SIADS591/master/Data/OECD_Government_Debt.csv'\n",
        "dfraw_debt = pd.read_csv(url_debt)"
      ],
      "execution_count": 5,
      "outputs": []
    },
    {
      "cell_type": "code",
      "metadata": {
        "id": "JR8WcHCAoZLk",
        "colab_type": "code",
        "colab": {
          "base_uri": "https://localhost:8080/",
          "height": 195
        },
        "outputId": "b6a2b2cb-d6b7-4847-9bab-377fecc94acb"
      },
      "source": [
        "# Choose the latest data point for each country\n",
        "df_debt = dfraw_debt.sort_values('Time period').groupby('Country').tail(1)\n",
        "\n",
        "# Choose the columns we want and rename them.\n",
        "df_debt = df_debt[['COU', 'Country', 'Value']]\n",
        "df_debt.columns = ['ISO', 'Country', 'Debt_to_GDP']\n",
        "\n",
        "# Check to make sure it looks ok\n",
        "df_debt.head()"
      ],
      "execution_count": 6,
      "outputs": [
        {
          "output_type": "execute_result",
          "data": {
            "text/html": [
              "<div>\n",
              "<style scoped>\n",
              "    .dataframe tbody tr th:only-of-type {\n",
              "        vertical-align: middle;\n",
              "    }\n",
              "\n",
              "    .dataframe tbody tr th {\n",
              "        vertical-align: top;\n",
              "    }\n",
              "\n",
              "    .dataframe thead th {\n",
              "        text-align: right;\n",
              "    }\n",
              "</style>\n",
              "<table border=\"1\" class=\"dataframe\">\n",
              "  <thead>\n",
              "    <tr style=\"text-align: right;\">\n",
              "      <th></th>\n",
              "      <th>ISO</th>\n",
              "      <th>Country</th>\n",
              "      <th>Debt_to_GDP</th>\n",
              "    </tr>\n",
              "  </thead>\n",
              "  <tbody>\n",
              "    <tr>\n",
              "      <th>208</th>\n",
              "      <td>JPN</td>\n",
              "      <td>Japan</td>\n",
              "      <td>183.530</td>\n",
              "    </tr>\n",
              "    <tr>\n",
              "      <th>278</th>\n",
              "      <td>NZL</td>\n",
              "      <td>New Zealand</td>\n",
              "      <td>30.450</td>\n",
              "    </tr>\n",
              "    <tr>\n",
              "      <th>264</th>\n",
              "      <td>NLD</td>\n",
              "      <td>Netherlands</td>\n",
              "      <td>51.845</td>\n",
              "    </tr>\n",
              "    <tr>\n",
              "      <th>320</th>\n",
              "      <td>PRT</td>\n",
              "      <td>Portugal</td>\n",
              "      <td>87.962</td>\n",
              "    </tr>\n",
              "    <tr>\n",
              "      <th>27</th>\n",
              "      <td>AUT</td>\n",
              "      <td>Austria</td>\n",
              "      <td>65.754</td>\n",
              "    </tr>\n",
              "  </tbody>\n",
              "</table>\n",
              "</div>"
            ],
            "text/plain": [
              "     ISO      Country  Debt_to_GDP\n",
              "208  JPN        Japan      183.530\n",
              "278  NZL  New Zealand       30.450\n",
              "264  NLD  Netherlands       51.845\n",
              "320  PRT     Portugal       87.962\n",
              "27   AUT      Austria       65.754"
            ]
          },
          "metadata": {
            "tags": []
          },
          "execution_count": 6
        }
      ]
    },
    {
      "cell_type": "markdown",
      "metadata": {
        "id": "TnBi6d2SnSRT",
        "colab_type": "text"
      },
      "source": [
        "### Immunization\n",
        "\n",
        "OECD also has a slew of health care data. It is not a health care organization however, so we don't want to rely too heavily on medical statistics from this source, however, they do have useful macro level information that is insightful. \n",
        "\n",
        "One of these variables is the percentage of individuals over 65 that are immunized for the flu. Unfortunately this isn't a statistic they have for the full population, but it is still a good proxy for how open a country is to public health initiatives, and how seriously they take flu-like diseases. \n",
        "\n",
        "Our hypothesis would be that the higher the level of immunization, the more successful a country is at combatting COVID.\n"
      ]
    },
    {
      "cell_type": "code",
      "metadata": {
        "id": "iY5Lme7lnSRU",
        "colab_type": "code",
        "colab": {}
      },
      "source": [
        "# Load Immunization Data\n",
        "url_imm = 'https://raw.githubusercontent.com/pvai-umich/SIADS591/master/Data/OECD_Immunization_Statistics.csv'\n",
        "dfraw_imm = pd.read_csv(url_imm)\n"
      ],
      "execution_count": 7,
      "outputs": []
    },
    {
      "cell_type": "code",
      "metadata": {
        "id": "29XprDLCrJOr",
        "colab_type": "code",
        "colab": {
          "base_uri": "https://localhost:8080/",
          "height": 195
        },
        "outputId": "98b5a066-1ecf-4dee-f52f-0214a5270eef"
      },
      "source": [
        "# Choose the latest data point for each country\n",
        "df_imm = dfraw_imm.sort_values('Year').groupby('Country').tail(1)\n",
        "\n",
        "# Choose the columns we want and rename them.\n",
        "df_imm = df_imm[['COU', 'Country', 'Value']]\n",
        "df_imm.columns = ['ISO', 'Country', 'Pct_65_Immunized_Flu']\n",
        "\n",
        "# Check to make sure it looks ok\n",
        "df_imm.head()"
      ],
      "execution_count": 8,
      "outputs": [
        {
          "output_type": "execute_result",
          "data": {
            "text/html": [
              "<div>\n",
              "<style scoped>\n",
              "    .dataframe tbody tr th:only-of-type {\n",
              "        vertical-align: middle;\n",
              "    }\n",
              "\n",
              "    .dataframe tbody tr th {\n",
              "        vertical-align: top;\n",
              "    }\n",
              "\n",
              "    .dataframe thead th {\n",
              "        text-align: right;\n",
              "    }\n",
              "</style>\n",
              "<table border=\"1\" class=\"dataframe\">\n",
              "  <thead>\n",
              "    <tr style=\"text-align: right;\">\n",
              "      <th></th>\n",
              "      <th>ISO</th>\n",
              "      <th>Country</th>\n",
              "      <th>Pct_65_Immunized_Flu</th>\n",
              "    </tr>\n",
              "  </thead>\n",
              "  <tbody>\n",
              "    <tr>\n",
              "      <th>6</th>\n",
              "      <td>AUS</td>\n",
              "      <td>Australia</td>\n",
              "      <td>74.6</td>\n",
              "    </tr>\n",
              "    <tr>\n",
              "      <th>351</th>\n",
              "      <td>CHE</td>\n",
              "      <td>Switzerland</td>\n",
              "      <td>46.0</td>\n",
              "    </tr>\n",
              "    <tr>\n",
              "      <th>8</th>\n",
              "      <td>AUT</td>\n",
              "      <td>Austria</td>\n",
              "      <td>20.3</td>\n",
              "    </tr>\n",
              "    <tr>\n",
              "      <th>271</th>\n",
              "      <td>POL</td>\n",
              "      <td>Poland</td>\n",
              "      <td>9.7</td>\n",
              "    </tr>\n",
              "    <tr>\n",
              "      <th>224</th>\n",
              "      <td>MEX</td>\n",
              "      <td>Mexico</td>\n",
              "      <td>82.3</td>\n",
              "    </tr>\n",
              "  </tbody>\n",
              "</table>\n",
              "</div>"
            ],
            "text/plain": [
              "     ISO      Country  Pct_65_Immunized_Flu\n",
              "6    AUS    Australia                  74.6\n",
              "351  CHE  Switzerland                  46.0\n",
              "8    AUT      Austria                  20.3\n",
              "271  POL       Poland                   9.7\n",
              "224  MEX       Mexico                  82.3"
            ]
          },
          "metadata": {
            "tags": []
          },
          "execution_count": 8
        }
      ]
    },
    {
      "cell_type": "markdown",
      "metadata": {
        "id": "k_4pILBgnSRW",
        "colab_type": "text"
      },
      "source": [
        "### Population / Demographics\n",
        "\n",
        "OECD offers a slew of population and demographic data for global countries. Our variable of interest is regarding age demographics of countries. Specifically we will look at the Old Age Dependency Ratio. This is the ratio of a country's old-age population (>65 years) to the rest of the population. Our hypothesis is there is a positive correlation between COVID success and this ratio\n"
      ]
    },
    {
      "cell_type": "code",
      "metadata": {
        "id": "hWMYQWtlnSRW",
        "colab_type": "code",
        "colab": {}
      },
      "source": [
        "# Load the Demographics Data\n",
        "url_pop = 'https://raw.githubusercontent.com/pvai-umich/SIADS591/master/Data/OECD_Population_Statistics.csv'\n",
        "dfraw_pop = pd.read_csv(url_pop)"
      ],
      "execution_count": 9,
      "outputs": []
    },
    {
      "cell_type": "code",
      "metadata": {
        "id": "X7oz4wQk8obB",
        "colab_type": "code",
        "colab": {
          "base_uri": "https://localhost:8080/",
          "height": 195
        },
        "outputId": "5f2cf19f-4b3a-4251-b0a0-bd6c91b1fd59"
      },
      "source": [
        "# Create an old age ratio dataframe\n",
        "df_oldage = dfraw_pop[dfraw_pop['AGE'] == \"65_OVER_SHARE\"]\n",
        "df_oldage = df_oldage[df_oldage['Sex'] == \"Total\"]\n",
        "\n",
        "# Choose the latest data point for each country\n",
        "df_oldage = df_oldage.sort_values('Time').groupby('Country').tail(1)\n",
        "\n",
        "# Choose the columns we want and rename them.\n",
        "df_oldage = df_oldage[['LOCATION', 'Country', 'Value']]\n",
        "df_oldage.columns = ['ISO', 'Country', 'Old_Age_Ratio']\n",
        "\n",
        "# Check to make sure it looks ok\n",
        "df_oldage.head()"
      ],
      "execution_count": 10,
      "outputs": [
        {
          "output_type": "execute_result",
          "data": {
            "text/html": [
              "<div>\n",
              "<style scoped>\n",
              "    .dataframe tbody tr th:only-of-type {\n",
              "        vertical-align: middle;\n",
              "    }\n",
              "\n",
              "    .dataframe tbody tr th {\n",
              "        vertical-align: top;\n",
              "    }\n",
              "\n",
              "    .dataframe thead th {\n",
              "        text-align: right;\n",
              "    }\n",
              "</style>\n",
              "<table border=\"1\" class=\"dataframe\">\n",
              "  <thead>\n",
              "    <tr style=\"text-align: right;\">\n",
              "      <th></th>\n",
              "      <th>ISO</th>\n",
              "      <th>Country</th>\n",
              "      <th>Old_Age_Ratio</th>\n",
              "    </tr>\n",
              "  </thead>\n",
              "  <tbody>\n",
              "    <tr>\n",
              "      <th>58757</th>\n",
              "      <td>EU28</td>\n",
              "      <td>European Union (28 countries)</td>\n",
              "      <td>19.849</td>\n",
              "    </tr>\n",
              "    <tr>\n",
              "      <th>58715</th>\n",
              "      <td>G20</td>\n",
              "      <td>G20</td>\n",
              "      <td>11.037</td>\n",
              "    </tr>\n",
              "    <tr>\n",
              "      <th>58673</th>\n",
              "      <td>WLD</td>\n",
              "      <td>World</td>\n",
              "      <td>8.921</td>\n",
              "    </tr>\n",
              "    <tr>\n",
              "      <th>57623</th>\n",
              "      <td>TUR</td>\n",
              "      <td>Turkey</td>\n",
              "      <td>8.649</td>\n",
              "    </tr>\n",
              "    <tr>\n",
              "      <th>58589</th>\n",
              "      <td>SVN</td>\n",
              "      <td>Slovenia</td>\n",
              "      <td>19.670</td>\n",
              "    </tr>\n",
              "  </tbody>\n",
              "</table>\n",
              "</div>"
            ],
            "text/plain": [
              "        ISO                        Country  Old_Age_Ratio\n",
              "58757  EU28  European Union (28 countries)         19.849\n",
              "58715   G20                            G20         11.037\n",
              "58673   WLD                          World          8.921\n",
              "57623   TUR                         Turkey          8.649\n",
              "58589   SVN                       Slovenia         19.670"
            ]
          },
          "metadata": {
            "tags": []
          },
          "execution_count": 10
        }
      ]
    },
    {
      "cell_type": "markdown",
      "metadata": {
        "id": "5mQ4_zXonSRY",
        "colab_type": "text"
      },
      "source": [
        "### Tourism"
      ]
    },
    {
      "cell_type": "code",
      "metadata": {
        "id": "WyxP_CNPnSRZ",
        "colab_type": "code",
        "colab": {}
      },
      "source": [
        "url_tour = 'https://raw.githubusercontent.com/pvai-umich/SIADS591/master/Data/OECD_Tourism_Statistics.csv'\n",
        "dfraw_tour = pd.read_csv(url_tour)\n"
      ],
      "execution_count": 11,
      "outputs": []
    },
    {
      "cell_type": "code",
      "metadata": {
        "id": "1cRLUtnxA-10",
        "colab_type": "code",
        "colab": {
          "base_uri": "https://localhost:8080/",
          "height": 195
        },
        "outputId": "1d856a22-b198-4632-b693-bfa2ff2047b6"
      },
      "source": [
        "# We'll create two separate dataframes from the tourism table\n",
        "# Tourism as % of GDP (Do a lot of people come to the country)\n",
        "# and Tourism as % of Total Employment (do a lot of people interact with foreigners)\n",
        "\n",
        "# Create Tourism as % of GDP dataframe\n",
        "df_tour_gdp = dfraw_tour[dfraw_tour['KEY_IND_PC'] == \"KEYIND_TOURGDPPC\"]\n",
        "\n",
        "# Choose the latest data point for each country\n",
        "df_tour_gdp = df_tour_gdp.sort_values('Year').groupby('Country').tail(1)\n",
        "\n",
        "# Choose the columns we want and rename them.\n",
        "df_tour_gdp = df_tour_gdp[['COUNTRY', 'Country', 'Value']]\n",
        "df_tour_gdp.columns = ['ISO', 'Country', 'Tourism_Pct_GDP']\n",
        "\n",
        "# Check to make sure it looks ok\n",
        "df_tour_gdp.head()\n",
        "\n"
      ],
      "execution_count": 12,
      "outputs": [
        {
          "output_type": "execute_result",
          "data": {
            "text/html": [
              "<div>\n",
              "<style scoped>\n",
              "    .dataframe tbody tr th:only-of-type {\n",
              "        vertical-align: middle;\n",
              "    }\n",
              "\n",
              "    .dataframe tbody tr th {\n",
              "        vertical-align: top;\n",
              "    }\n",
              "\n",
              "    .dataframe thead th {\n",
              "        text-align: right;\n",
              "    }\n",
              "</style>\n",
              "<table border=\"1\" class=\"dataframe\">\n",
              "  <thead>\n",
              "    <tr style=\"text-align: right;\">\n",
              "      <th></th>\n",
              "      <th>ISO</th>\n",
              "      <th>Country</th>\n",
              "      <th>Tourism_Pct_GDP</th>\n",
              "    </tr>\n",
              "  </thead>\n",
              "  <tbody>\n",
              "    <tr>\n",
              "      <th>564</th>\n",
              "      <td>MLT</td>\n",
              "      <td>Malta</td>\n",
              "      <td>6.129</td>\n",
              "    </tr>\n",
              "    <tr>\n",
              "      <th>119</th>\n",
              "      <td>IND</td>\n",
              "      <td>India</td>\n",
              "      <td>3.759</td>\n",
              "    </tr>\n",
              "    <tr>\n",
              "      <th>108</th>\n",
              "      <td>EGY</td>\n",
              "      <td>Egypt</td>\n",
              "      <td>4.258</td>\n",
              "    </tr>\n",
              "    <tr>\n",
              "      <th>115</th>\n",
              "      <td>EST</td>\n",
              "      <td>Estonia</td>\n",
              "      <td>5.428</td>\n",
              "    </tr>\n",
              "    <tr>\n",
              "      <th>66</th>\n",
              "      <td>POL</td>\n",
              "      <td>Poland</td>\n",
              "      <td>1.175</td>\n",
              "    </tr>\n",
              "  </tbody>\n",
              "</table>\n",
              "</div>"
            ],
            "text/plain": [
              "     ISO  Country  Tourism_Pct_GDP\n",
              "564  MLT    Malta            6.129\n",
              "119  IND    India            3.759\n",
              "108  EGY    Egypt            4.258\n",
              "115  EST  Estonia            5.428\n",
              "66   POL   Poland            1.175"
            ]
          },
          "metadata": {
            "tags": []
          },
          "execution_count": 12
        }
      ]
    },
    {
      "cell_type": "code",
      "metadata": {
        "id": "pnzSMg-oBv8E",
        "colab_type": "code",
        "colab": {
          "base_uri": "https://localhost:8080/",
          "height": 195
        },
        "outputId": "ff2e5de1-f6c2-4c84-e601-483648eab51a"
      },
      "source": [
        "# Create Toursim employment as % of Total\n",
        "df_tour_emp = dfraw_tour[dfraw_tour['KEY_IND_PC'] == \"KEYIND_TOUREMPDIRECTPC\"]\n",
        "\n",
        "# Choose the latest data point for each country\n",
        "df_tour_emp = df_tour_emp.sort_values('Year').groupby('Country').tail(1)\n",
        "\n",
        "# Choose the columns we want and rename them.\n",
        "df_tour_emp = df_tour_emp[['COUNTRY', 'Country', 'Value']]\n",
        "df_tour_emp.columns = ['ISO', 'Country', 'Tourism_Pct_Employment']\n",
        "\n",
        "# Check to make sure it looks ok\n",
        "df_tour_emp.head()"
      ],
      "execution_count": 13,
      "outputs": [
        {
          "output_type": "execute_result",
          "data": {
            "text/html": [
              "<div>\n",
              "<style scoped>\n",
              "    .dataframe tbody tr th:only-of-type {\n",
              "        vertical-align: middle;\n",
              "    }\n",
              "\n",
              "    .dataframe tbody tr th {\n",
              "        vertical-align: top;\n",
              "    }\n",
              "\n",
              "    .dataframe thead th {\n",
              "        text-align: right;\n",
              "    }\n",
              "</style>\n",
              "<table border=\"1\" class=\"dataframe\">\n",
              "  <thead>\n",
              "    <tr style=\"text-align: right;\">\n",
              "      <th></th>\n",
              "      <th>ISO</th>\n",
              "      <th>Country</th>\n",
              "      <th>Tourism_Pct_Employment</th>\n",
              "    </tr>\n",
              "  </thead>\n",
              "  <tbody>\n",
              "    <tr>\n",
              "      <th>387</th>\n",
              "      <td>ARG</td>\n",
              "      <td>Argentina</td>\n",
              "      <td>10.17</td>\n",
              "    </tr>\n",
              "    <tr>\n",
              "      <th>460</th>\n",
              "      <td>IND</td>\n",
              "      <td>India</td>\n",
              "      <td>5.31</td>\n",
              "    </tr>\n",
              "    <tr>\n",
              "      <th>465</th>\n",
              "      <td>IDN</td>\n",
              "      <td>Indonesia</td>\n",
              "      <td>8.37</td>\n",
              "    </tr>\n",
              "    <tr>\n",
              "      <th>577</th>\n",
              "      <td>PER</td>\n",
              "      <td>Peru</td>\n",
              "      <td>3.82</td>\n",
              "    </tr>\n",
              "    <tr>\n",
              "      <th>282</th>\n",
              "      <td>ITA</td>\n",
              "      <td>Italy</td>\n",
              "      <td>8.30</td>\n",
              "    </tr>\n",
              "  </tbody>\n",
              "</table>\n",
              "</div>"
            ],
            "text/plain": [
              "     ISO    Country  Tourism_Pct_Employment\n",
              "387  ARG  Argentina                   10.17\n",
              "460  IND      India                    5.31\n",
              "465  IDN  Indonesia                    8.37\n",
              "577  PER       Peru                    3.82\n",
              "282  ITA      Italy                    8.30"
            ]
          },
          "metadata": {
            "tags": []
          },
          "execution_count": 13
        }
      ]
    },
    {
      "cell_type": "markdown",
      "metadata": {
        "id": "_zBIxCzFnSRa",
        "colab_type": "text"
      },
      "source": [
        "### Wealth Distribution"
      ]
    },
    {
      "cell_type": "code",
      "metadata": {
        "id": "RAb7K-yGnSRb",
        "colab_type": "code",
        "colab": {}
      },
      "source": [
        "url_wealth = 'https://raw.githubusercontent.com/pvai-umich/SIADS591/master/Data/OECD_Wealth_Distribution_Statistics.csv'\n",
        "dfraw_wealth = pd.read_csv(url_wealth)"
      ],
      "execution_count": 14,
      "outputs": []
    },
    {
      "cell_type": "code",
      "metadata": {
        "id": "6Le53tLsCpmk",
        "colab_type": "code",
        "colab": {
          "base_uri": "https://localhost:8080/",
          "height": 195
        },
        "outputId": "f663c792-4e7d-4e01-bcb5-5b4b7747c264"
      },
      "source": [
        "# Create two dataframes from the wealth distirbution table. The focus is on\n",
        "# inequality is the focus of the data.\n",
        "# Share of top 10% wealth (how rich are the super-rich)\n",
        "# Share of bottom 60% of wealth (how poor is the bottom half)\n",
        "dfraw_wealth.head()\n",
        "\n",
        "# First, create the top 10pct dataframe\n",
        "df_top_10pct_share = dfraw_wealth[dfraw_wealth['Variable'] == 'Share of top 10% of wealth']\n",
        "\n",
        "# Choose the latest data point for each country\n",
        "df_top_10pct_share = df_top_10pct_share.sort_values('Time').groupby('Country').tail(1)\n",
        "\n",
        "# Choose the columns we want and rename them.\n",
        "df_top_10pct_share = df_top_10pct_share[['COUNTRY', 'Country', 'Value']]\n",
        "df_top_10pct_share.columns = ['ISO', 'Country', 'Top_10pct_Share']\n",
        "\n",
        "# Check to make sure it looks ok\n",
        "df_top_10pct_share.head()\n"
      ],
      "execution_count": 15,
      "outputs": [
        {
          "output_type": "execute_result",
          "data": {
            "text/html": [
              "<div>\n",
              "<style scoped>\n",
              "    .dataframe tbody tr th:only-of-type {\n",
              "        vertical-align: middle;\n",
              "    }\n",
              "\n",
              "    .dataframe tbody tr th {\n",
              "        vertical-align: top;\n",
              "    }\n",
              "\n",
              "    .dataframe thead th {\n",
              "        text-align: right;\n",
              "    }\n",
              "</style>\n",
              "<table border=\"1\" class=\"dataframe\">\n",
              "  <thead>\n",
              "    <tr style=\"text-align: right;\">\n",
              "      <th></th>\n",
              "      <th>ISO</th>\n",
              "      <th>Country</th>\n",
              "      <th>Top_10pct_Share</th>\n",
              "    </tr>\n",
              "  </thead>\n",
              "  <tbody>\n",
              "    <tr>\n",
              "      <th>268</th>\n",
              "      <td>ESP</td>\n",
              "      <td>Spain</td>\n",
              "      <td>45.577541</td>\n",
              "    </tr>\n",
              "    <tr>\n",
              "      <th>752</th>\n",
              "      <td>PRT</td>\n",
              "      <td>Portugal</td>\n",
              "      <td>52.127502</td>\n",
              "    </tr>\n",
              "    <tr>\n",
              "      <th>487</th>\n",
              "      <td>IRL</td>\n",
              "      <td>Ireland</td>\n",
              "      <td>53.792400</td>\n",
              "    </tr>\n",
              "    <tr>\n",
              "      <th>325</th>\n",
              "      <td>FIN</td>\n",
              "      <td>Finland</td>\n",
              "      <td>45.231823</td>\n",
              "    </tr>\n",
              "    <tr>\n",
              "      <th>288</th>\n",
              "      <td>EST</td>\n",
              "      <td>Estonia</td>\n",
              "      <td>55.713390</td>\n",
              "    </tr>\n",
              "  </tbody>\n",
              "</table>\n",
              "</div>"
            ],
            "text/plain": [
              "     ISO   Country  Top_10pct_Share\n",
              "268  ESP     Spain        45.577541\n",
              "752  PRT  Portugal        52.127502\n",
              "487  IRL   Ireland        53.792400\n",
              "325  FIN   Finland        45.231823\n",
              "288  EST   Estonia        55.713390"
            ]
          },
          "metadata": {
            "tags": []
          },
          "execution_count": 15
        }
      ]
    },
    {
      "cell_type": "code",
      "metadata": {
        "id": "DhvJ1hzYjQyl",
        "colab_type": "code",
        "colab": {
          "base_uri": "https://localhost:8080/",
          "height": 195
        },
        "outputId": "a22b4ee5-c917-490e-e93a-95213432b561"
      },
      "source": [
        "# Create the bottom 60% dataframe\n",
        "\n",
        "df_bottom_60pct_share = dfraw_wealth[dfraw_wealth['Variable'] == 'Share of bottom 60% of wealth']\n",
        "\n",
        "# Choose the latest data point for each country\n",
        "df_bottom_60pct_share = df_bottom_60pct_share.sort_values('Time').groupby('Country').tail(1)\n",
        "\n",
        "# Choose the columns we want and rename them.\n",
        "df_bottom_60pct_share = df_bottom_60pct_share[['COUNTRY', 'Country', 'Value']]\n",
        "df_bottom_60pct_share.columns = ['ISO', 'Country', 'Bottom_60pct_Share']\n",
        "\n",
        "# Check to make sure it looks ok\n",
        "df_bottom_60pct_share.head()"
      ],
      "execution_count": 16,
      "outputs": [
        {
          "output_type": "execute_result",
          "data": {
            "text/html": [
              "<div>\n",
              "<style scoped>\n",
              "    .dataframe tbody tr th:only-of-type {\n",
              "        vertical-align: middle;\n",
              "    }\n",
              "\n",
              "    .dataframe tbody tr th {\n",
              "        vertical-align: top;\n",
              "    }\n",
              "\n",
              "    .dataframe thead th {\n",
              "        text-align: right;\n",
              "    }\n",
              "</style>\n",
              "<table border=\"1\" class=\"dataframe\">\n",
              "  <thead>\n",
              "    <tr style=\"text-align: right;\">\n",
              "      <th></th>\n",
              "      <th>ISO</th>\n",
              "      <th>Country</th>\n",
              "      <th>Bottom_60pct_Share</th>\n",
              "    </tr>\n",
              "  </thead>\n",
              "  <tbody>\n",
              "    <tr>\n",
              "      <th>252</th>\n",
              "      <td>ESP</td>\n",
              "      <td>Spain</td>\n",
              "      <td>18.664709</td>\n",
              "    </tr>\n",
              "    <tr>\n",
              "      <th>280</th>\n",
              "      <td>EST</td>\n",
              "      <td>Estonia</td>\n",
              "      <td>12.786300</td>\n",
              "    </tr>\n",
              "    <tr>\n",
              "      <th>736</th>\n",
              "      <td>PRT</td>\n",
              "      <td>Portugal</td>\n",
              "      <td>12.422934</td>\n",
              "    </tr>\n",
              "    <tr>\n",
              "      <th>479</th>\n",
              "      <td>IRL</td>\n",
              "      <td>Ireland</td>\n",
              "      <td>7.184053</td>\n",
              "    </tr>\n",
              "    <tr>\n",
              "      <th>309</th>\n",
              "      <td>FIN</td>\n",
              "      <td>Finland</td>\n",
              "      <td>13.552249</td>\n",
              "    </tr>\n",
              "  </tbody>\n",
              "</table>\n",
              "</div>"
            ],
            "text/plain": [
              "     ISO   Country  Bottom_60pct_Share\n",
              "252  ESP     Spain           18.664709\n",
              "280  EST   Estonia           12.786300\n",
              "736  PRT  Portugal           12.422934\n",
              "479  IRL   Ireland            7.184053\n",
              "309  FIN   Finland           13.552249"
            ]
          },
          "metadata": {
            "tags": []
          },
          "execution_count": 16
        }
      ]
    },
    {
      "cell_type": "markdown",
      "metadata": {
        "id": "_67gF6kKCsg7",
        "colab_type": "text"
      },
      "source": [
        "### Life Expectancy\n"
      ]
    },
    {
      "cell_type": "code",
      "metadata": {
        "id": "27NJBQ_YCxvq",
        "colab_type": "code",
        "colab": {}
      },
      "source": [
        "url_life_exp = 'https://raw.githubusercontent.com/pvai-umich/SIADS591/master/Data/OECD_Life_Expectancy.csv'\n",
        "dfraw_life_exp = pd.read_csv(url_life_exp)"
      ],
      "execution_count": 17,
      "outputs": []
    },
    {
      "cell_type": "code",
      "metadata": {
        "id": "xhoAoO4OC6Ik",
        "colab_type": "code",
        "colab": {
          "base_uri": "https://localhost:8080/",
          "height": 195
        },
        "outputId": "ee572a5d-0b74-4f0c-ced2-2cf8958b248b"
      },
      "source": [
        "# There's only one variable here, so we just need to get the last available date\n",
        "# and then choose the columns we want \n",
        "\n",
        "# Choose the latest data point for each country\n",
        "df_life_exp = dfraw_life_exp.sort_values('Year').groupby('Country').tail(1)\n",
        "\n",
        "# Choose the columns we want and rename them.\n",
        "df_life_exp = df_life_exp[['COU', 'Country', 'Value']]\n",
        "df_life_exp.columns = ['ISO', 'Country', 'Life_Expectancy']\n",
        "\n",
        "# Check to make sure it looks ok\n",
        "df_life_exp.head()"
      ],
      "execution_count": 18,
      "outputs": [
        {
          "output_type": "execute_result",
          "data": {
            "text/html": [
              "<div>\n",
              "<style scoped>\n",
              "    .dataframe tbody tr th:only-of-type {\n",
              "        vertical-align: middle;\n",
              "    }\n",
              "\n",
              "    .dataframe tbody tr th {\n",
              "        vertical-align: top;\n",
              "    }\n",
              "\n",
              "    .dataframe thead th {\n",
              "        text-align: right;\n",
              "    }\n",
              "</style>\n",
              "<table border=\"1\" class=\"dataframe\">\n",
              "  <thead>\n",
              "    <tr style=\"text-align: right;\">\n",
              "      <th></th>\n",
              "      <th>ISO</th>\n",
              "      <th>Country</th>\n",
              "      <th>Life_Expectancy</th>\n",
              "    </tr>\n",
              "  </thead>\n",
              "  <tbody>\n",
              "    <tr>\n",
              "      <th>133</th>\n",
              "      <td>JPN</td>\n",
              "      <td>Japan</td>\n",
              "      <td>84.2</td>\n",
              "    </tr>\n",
              "    <tr>\n",
              "      <th>368</th>\n",
              "      <td>LVA</td>\n",
              "      <td>Latvia</td>\n",
              "      <td>74.9</td>\n",
              "    </tr>\n",
              "    <tr>\n",
              "      <th>71</th>\n",
              "      <td>FRA</td>\n",
              "      <td>France</td>\n",
              "      <td>82.8</td>\n",
              "    </tr>\n",
              "    <tr>\n",
              "      <th>377</th>\n",
              "      <td>CRI</td>\n",
              "      <td>Costa Rica</td>\n",
              "      <td>80.4</td>\n",
              "    </tr>\n",
              "    <tr>\n",
              "      <th>386</th>\n",
              "      <td>LTU</td>\n",
              "      <td>Lithuania</td>\n",
              "      <td>75.8</td>\n",
              "    </tr>\n",
              "  </tbody>\n",
              "</table>\n",
              "</div>"
            ],
            "text/plain": [
              "     ISO     Country  Life_Expectancy\n",
              "133  JPN       Japan             84.2\n",
              "368  LVA      Latvia             74.9\n",
              "71   FRA      France             82.8\n",
              "377  CRI  Costa Rica             80.4\n",
              "386  LTU   Lithuania             75.8"
            ]
          },
          "metadata": {
            "tags": []
          },
          "execution_count": 18
        }
      ]
    },
    {
      "cell_type": "markdown",
      "metadata": {
        "id": "HjLAU3EnnSRd",
        "colab_type": "text"
      },
      "source": [
        "## COVID-19"
      ]
    },
    {
      "cell_type": "markdown",
      "metadata": {
        "id": "X08FqiZbnSRe",
        "colab_type": "text"
      },
      "source": [
        "All attempts to load json via web is throwing an SSL error. We will load locally."
      ]
    },
    {
      "cell_type": "markdown",
      "metadata": {
        "id": "a1Cv24CWnSRe",
        "colab_type": "text"
      },
      "source": [
        "-Method 1\n",
        "-Request fails unless we provide a user-agent\n",
        "api_response = requests.get('https://thevirustracker.com/timeline/map-data.json', headers={\"User-Agent\": \"Chrome\"})\n",
        "covid_stats = api_response.json()"
      ]
    },
    {
      "cell_type": "markdown",
      "metadata": {
        "id": "HlH6aEhonSRf",
        "colab_type": "text"
      },
      "source": [
        "-Method 2\n",
        "response = urlopen('https://thevirustracker.com/timeline/map-data.json')\n",
        "json_data = response.read().decode('utf-8', 'replace')\n",
        "df = json.loads(json_data)"
      ]
    },
    {
      "cell_type": "markdown",
      "metadata": {
        "id": "mkKVLO0OnSRf",
        "colab_type": "text"
      },
      "source": [
        "### Country Covid-19 Stats"
      ]
    },
    {
      "cell_type": "code",
      "metadata": {
        "id": "IICl9BM0nSRg",
        "colab_type": "code",
        "colab": {}
      },
      "source": [
        "#Importing COVID19 Global Data\n",
        "country_stats = pd.read_json(r'covid_full.json')"
      ],
      "execution_count": null,
      "outputs": []
    },
    {
      "cell_type": "code",
      "metadata": {
        "id": "ElTRSi95nSRh",
        "colab_type": "code",
        "colab": {}
      },
      "source": [
        "lst_1=[]\n",
        "for i in country_stats['data']:\n",
        "    for key,value in i.items():\n",
        "        pair=[key,value]\n",
        "        lst_1.append(pair)"
      ],
      "execution_count": null,
      "outputs": []
    },
    {
      "cell_type": "code",
      "metadata": {
        "id": "JzeAsly4nSRj",
        "colab_type": "code",
        "colab": {},
        "outputId": "6350e126-433d-4863-82b6-22688d22931a"
      },
      "source": [
        "pd.DataFrame((lst_1), columns =['Stat', 'Value']) "
      ],
      "execution_count": null,
      "outputs": [
        {
          "output_type": "execute_result",
          "data": {
            "text/html": [
              "<div>\n",
              "<style scoped>\n",
              "    .dataframe tbody tr th:only-of-type {\n",
              "        vertical-align: middle;\n",
              "    }\n",
              "\n",
              "    .dataframe tbody tr th {\n",
              "        vertical-align: top;\n",
              "    }\n",
              "\n",
              "    .dataframe thead th {\n",
              "        text-align: right;\n",
              "    }\n",
              "</style>\n",
              "<table border=\"1\" class=\"dataframe\">\n",
              "  <thead>\n",
              "    <tr style=\"text-align: right;\">\n",
              "      <th></th>\n",
              "      <th>Stat</th>\n",
              "      <th>Value</th>\n",
              "    </tr>\n",
              "  </thead>\n",
              "  <tbody>\n",
              "    <tr>\n",
              "      <th>0</th>\n",
              "      <td>countrycode</td>\n",
              "      <td>AD</td>\n",
              "    </tr>\n",
              "    <tr>\n",
              "      <th>1</th>\n",
              "      <td>date</td>\n",
              "      <td>6/06/20</td>\n",
              "    </tr>\n",
              "    <tr>\n",
              "      <th>2</th>\n",
              "      <td>cases</td>\n",
              "      <td>852</td>\n",
              "    </tr>\n",
              "    <tr>\n",
              "      <th>3</th>\n",
              "      <td>deaths</td>\n",
              "      <td>51</td>\n",
              "    </tr>\n",
              "    <tr>\n",
              "      <th>4</th>\n",
              "      <td>recovered</td>\n",
              "      <td>1</td>\n",
              "    </tr>\n",
              "    <tr>\n",
              "      <th>5</th>\n",
              "      <td>countrycode</td>\n",
              "      <td>AD</td>\n",
              "    </tr>\n",
              "    <tr>\n",
              "      <th>6</th>\n",
              "      <td>date</td>\n",
              "      <td>6/05/20</td>\n",
              "    </tr>\n",
              "    <tr>\n",
              "      <th>7</th>\n",
              "      <td>cases</td>\n",
              "      <td>852</td>\n",
              "    </tr>\n",
              "    <tr>\n",
              "      <th>8</th>\n",
              "      <td>deaths</td>\n",
              "      <td>51</td>\n",
              "    </tr>\n",
              "    <tr>\n",
              "      <th>9</th>\n",
              "      <td>recovered</td>\n",
              "      <td>1</td>\n",
              "    </tr>\n",
              "    <tr>\n",
              "      <th>10</th>\n",
              "      <td>countrycode</td>\n",
              "      <td>AD</td>\n",
              "    </tr>\n",
              "    <tr>\n",
              "      <th>11</th>\n",
              "      <td>date</td>\n",
              "      <td>6/04/20</td>\n",
              "    </tr>\n",
              "    <tr>\n",
              "      <th>12</th>\n",
              "      <td>cases</td>\n",
              "      <td>852</td>\n",
              "    </tr>\n",
              "    <tr>\n",
              "      <th>13</th>\n",
              "      <td>deaths</td>\n",
              "      <td>51</td>\n",
              "    </tr>\n",
              "    <tr>\n",
              "      <th>14</th>\n",
              "      <td>recovered</td>\n",
              "      <td>1</td>\n",
              "    </tr>\n",
              "    <tr>\n",
              "      <th>15</th>\n",
              "      <td>countrycode</td>\n",
              "      <td>AD</td>\n",
              "    </tr>\n",
              "    <tr>\n",
              "      <th>16</th>\n",
              "      <td>date</td>\n",
              "      <td>6/03/20</td>\n",
              "    </tr>\n",
              "    <tr>\n",
              "      <th>17</th>\n",
              "      <td>cases</td>\n",
              "      <td>851</td>\n",
              "    </tr>\n",
              "    <tr>\n",
              "      <th>18</th>\n",
              "      <td>deaths</td>\n",
              "      <td>51</td>\n",
              "    </tr>\n",
              "    <tr>\n",
              "      <th>19</th>\n",
              "      <td>recovered</td>\n",
              "      <td>1</td>\n",
              "    </tr>\n",
              "    <tr>\n",
              "      <th>20</th>\n",
              "      <td>countrycode</td>\n",
              "      <td>AD</td>\n",
              "    </tr>\n",
              "    <tr>\n",
              "      <th>21</th>\n",
              "      <td>date</td>\n",
              "      <td>6/02/20</td>\n",
              "    </tr>\n",
              "    <tr>\n",
              "      <th>22</th>\n",
              "      <td>cases</td>\n",
              "      <td>844</td>\n",
              "    </tr>\n",
              "    <tr>\n",
              "      <th>23</th>\n",
              "      <td>deaths</td>\n",
              "      <td>51</td>\n",
              "    </tr>\n",
              "    <tr>\n",
              "      <th>24</th>\n",
              "      <td>recovered</td>\n",
              "      <td>1</td>\n",
              "    </tr>\n",
              "    <tr>\n",
              "      <th>25</th>\n",
              "      <td>countrycode</td>\n",
              "      <td>AD</td>\n",
              "    </tr>\n",
              "    <tr>\n",
              "      <th>26</th>\n",
              "      <td>date</td>\n",
              "      <td>6/01/20</td>\n",
              "    </tr>\n",
              "    <tr>\n",
              "      <th>27</th>\n",
              "      <td>cases</td>\n",
              "      <td>765</td>\n",
              "    </tr>\n",
              "    <tr>\n",
              "      <th>28</th>\n",
              "      <td>deaths</td>\n",
              "      <td>51</td>\n",
              "    </tr>\n",
              "    <tr>\n",
              "      <th>29</th>\n",
              "      <td>recovered</td>\n",
              "      <td>1</td>\n",
              "    </tr>\n",
              "    <tr>\n",
              "      <th>...</th>\n",
              "      <td>...</td>\n",
              "      <td>...</td>\n",
              "    </tr>\n",
              "    <tr>\n",
              "      <th>178265</th>\n",
              "      <td>countrycode</td>\n",
              "      <td>UA</td>\n",
              "    </tr>\n",
              "    <tr>\n",
              "      <th>178266</th>\n",
              "      <td>date</td>\n",
              "      <td>6/29/20</td>\n",
              "    </tr>\n",
              "    <tr>\n",
              "      <th>178267</th>\n",
              "      <td>cases</td>\n",
              "      <td>44538</td>\n",
              "    </tr>\n",
              "    <tr>\n",
              "      <th>178268</th>\n",
              "      <td>deaths</td>\n",
              "      <td>1161</td>\n",
              "    </tr>\n",
              "    <tr>\n",
              "      <th>178269</th>\n",
              "      <td>recovered</td>\n",
              "      <td>10053</td>\n",
              "    </tr>\n",
              "    <tr>\n",
              "      <th>178270</th>\n",
              "      <td>countrycode</td>\n",
              "      <td>AE</td>\n",
              "    </tr>\n",
              "    <tr>\n",
              "      <th>178271</th>\n",
              "      <td>date</td>\n",
              "      <td>6/29/20</td>\n",
              "    </tr>\n",
              "    <tr>\n",
              "      <th>178272</th>\n",
              "      <td>cases</td>\n",
              "      <td>48246</td>\n",
              "    </tr>\n",
              "    <tr>\n",
              "      <th>178273</th>\n",
              "      <td>deaths</td>\n",
              "      <td>314</td>\n",
              "    </tr>\n",
              "    <tr>\n",
              "      <th>178274</th>\n",
              "      <td>recovered</td>\n",
              "      <td>18338</td>\n",
              "    </tr>\n",
              "    <tr>\n",
              "      <th>178275</th>\n",
              "      <td>countrycode</td>\n",
              "      <td>SE</td>\n",
              "    </tr>\n",
              "    <tr>\n",
              "      <th>178276</th>\n",
              "      <td>date</td>\n",
              "      <td>6/29/20</td>\n",
              "    </tr>\n",
              "    <tr>\n",
              "      <th>178277</th>\n",
              "      <td>cases</td>\n",
              "      <td>67667</td>\n",
              "    </tr>\n",
              "    <tr>\n",
              "      <th>178278</th>\n",
              "      <td>deaths</td>\n",
              "      <td>5310</td>\n",
              "    </tr>\n",
              "    <tr>\n",
              "      <th>178279</th>\n",
              "      <td>recovered</td>\n",
              "      <td>0</td>\n",
              "    </tr>\n",
              "    <tr>\n",
              "      <th>178280</th>\n",
              "      <td>countrycode</td>\n",
              "      <td>IN</td>\n",
              "    </tr>\n",
              "    <tr>\n",
              "      <th>178281</th>\n",
              "      <td>date</td>\n",
              "      <td>6/29/20</td>\n",
              "    </tr>\n",
              "    <tr>\n",
              "      <th>178282</th>\n",
              "      <td>cases</td>\n",
              "      <td>548318</td>\n",
              "    </tr>\n",
              "    <tr>\n",
              "      <th>178283</th>\n",
              "      <td>deaths</td>\n",
              "      <td>16475</td>\n",
              "    </tr>\n",
              "    <tr>\n",
              "      <th>178284</th>\n",
              "      <td>recovered</td>\n",
              "      <td>135206</td>\n",
              "    </tr>\n",
              "    <tr>\n",
              "      <th>178285</th>\n",
              "      <td>countrycode</td>\n",
              "      <td>PK</td>\n",
              "    </tr>\n",
              "    <tr>\n",
              "      <th>178286</th>\n",
              "      <td>date</td>\n",
              "      <td>6/29/20</td>\n",
              "    </tr>\n",
              "    <tr>\n",
              "      <th>178287</th>\n",
              "      <td>cases</td>\n",
              "      <td>206512</td>\n",
              "    </tr>\n",
              "    <tr>\n",
              "      <th>178288</th>\n",
              "      <td>deaths</td>\n",
              "      <td>4167</td>\n",
              "    </tr>\n",
              "    <tr>\n",
              "      <th>178289</th>\n",
              "      <td>recovered</td>\n",
              "      <td>36308</td>\n",
              "    </tr>\n",
              "    <tr>\n",
              "      <th>178290</th>\n",
              "      <td>countrycode</td>\n",
              "      <td>GL</td>\n",
              "    </tr>\n",
              "    <tr>\n",
              "      <th>178291</th>\n",
              "      <td>date</td>\n",
              "      <td>6/29/20</td>\n",
              "    </tr>\n",
              "    <tr>\n",
              "      <th>178292</th>\n",
              "      <td>cases</td>\n",
              "      <td>13</td>\n",
              "    </tr>\n",
              "    <tr>\n",
              "      <th>178293</th>\n",
              "      <td>deaths</td>\n",
              "      <td>0</td>\n",
              "    </tr>\n",
              "    <tr>\n",
              "      <th>178294</th>\n",
              "      <td>recovered</td>\n",
              "      <td>13</td>\n",
              "    </tr>\n",
              "  </tbody>\n",
              "</table>\n",
              "<p>178295 rows × 2 columns</p>\n",
              "</div>"
            ],
            "text/plain": [
              "               Stat    Value\n",
              "0       countrycode       AD\n",
              "1              date  6/06/20\n",
              "2             cases      852\n",
              "3            deaths       51\n",
              "4         recovered        1\n",
              "...             ...      ...\n",
              "178290  countrycode       GL\n",
              "178291         date  6/29/20\n",
              "178292        cases       13\n",
              "178293       deaths        0\n",
              "178294    recovered       13\n",
              "\n",
              "[178295 rows x 2 columns]"
            ]
          },
          "metadata": {
            "tags": []
          },
          "execution_count": 49
        }
      ]
    },
    {
      "cell_type": "markdown",
      "metadata": {
        "id": "eZ6iKiCDnSRl",
        "colab_type": "text"
      },
      "source": [
        "### Global Covid-19 Stats"
      ]
    },
    {
      "cell_type": "code",
      "metadata": {
        "id": "TfrklemJnSRm",
        "colab_type": "code",
        "colab": {}
      },
      "source": [
        "#Importing COVID19 Global Data\n",
        "global_stats = pd.read_json(r'global_stats.json')"
      ],
      "execution_count": null,
      "outputs": []
    },
    {
      "cell_type": "code",
      "metadata": {
        "id": "YtUzSu7lnSRn",
        "colab_type": "code",
        "colab": {}
      },
      "source": [
        "lst=[]\n",
        "for i in global_stats['results']:\n",
        "    for key,value in i.items():\n",
        "        pair=[key,value]\n",
        "        lst.append(pair)"
      ],
      "execution_count": null,
      "outputs": []
    },
    {
      "cell_type": "code",
      "metadata": {
        "id": "pYaCZi9XnSRp",
        "colab_type": "code",
        "colab": {}
      },
      "source": [
        "pd.DataFrame((lst), columns =['Stat', 'Value']) "
      ],
      "execution_count": null,
      "outputs": []
    },
    {
      "cell_type": "markdown",
      "metadata": {
        "id": "zeDfW0c_nSRr",
        "colab_type": "text"
      },
      "source": [
        "## Combining the OECD Data\n",
        "\n",
        "For now, we are combining the various OECD tables on the 'country' key so that we can merge it with COVID data.\n",
        "\n",
        "At this point, there are XXXXX variables we are looking to "
      ]
    },
    {
      "cell_type": "code",
      "metadata": {
        "id": "dMhHTAg_nSRr",
        "colab_type": "code",
        "colab": {
          "base_uri": "https://localhost:8080/",
          "height": 536
        },
        "outputId": "5f27df60-f363-4b62-ee4d-ade3df46ad72"
      },
      "source": [
        "# Let's keep a running list of the dataframe names. Will make it easier\n",
        "# to run future analysis if we can just iterate on this list of df names rather\n",
        "# than including each one individually in multiple spots\n",
        "# So if a new variable is added up top, append it to this list, and the rest\n",
        "# of the analysis is good to go.\n",
        "oecd_df_list = list()\n",
        "oecd_df_list.append(df_edu)\n",
        "oecd_df_list.append(df_debt)\n",
        "oecd_df_list.append(df_oldage)\n",
        "oecd_df_list.append(df_tour_gdp)\n",
        "oecd_df_list.append(df_tour_emp)\n",
        "oecd_df_list.append(df_top_10pct_share)\n",
        "oecd_df_list.append(df_bottom_60pct_share)\n",
        "oecd_df_list.append(df_life_exp)\n",
        "\n",
        "# Doing a quick check of the shapes of each data frame.\n",
        "# it looks like some are smaller than others. Will need to decide what countries to keep later.\n",
        "for i in oecd_df_list:\n",
        "  print(i.shape)\n",
        "\n",
        "# Let's merge them all together\n",
        "df_oecd = pd.DataFrame(columns=['ISO', 'Country'])\n",
        "\n",
        "for df in oecd_df_list:\n",
        "  df_oecd = df_oecd.merge(df, on=['ISO', 'Country'], how='outer') \n",
        "\n",
        "# Let's check it out!\n",
        "df_oecd.head()"
      ],
      "execution_count": 31,
      "outputs": [
        {
          "output_type": "stream",
          "text": [
            "(48, 3)\n",
            "(34, 3)\n",
            "(56, 3)\n",
            "(24, 3)\n",
            "(46, 3)\n",
            "(27, 3)\n",
            "(28, 3)\n",
            "(44, 3)\n"
          ],
          "name": "stdout"
        },
        {
          "output_type": "execute_result",
          "data": {
            "text/html": [
              "<div>\n",
              "<style scoped>\n",
              "    .dataframe tbody tr th:only-of-type {\n",
              "        vertical-align: middle;\n",
              "    }\n",
              "\n",
              "    .dataframe tbody tr th {\n",
              "        vertical-align: top;\n",
              "    }\n",
              "\n",
              "    .dataframe thead th {\n",
              "        text-align: right;\n",
              "    }\n",
              "</style>\n",
              "<table border=\"1\" class=\"dataframe\">\n",
              "  <thead>\n",
              "    <tr style=\"text-align: right;\">\n",
              "      <th></th>\n",
              "      <th>ISO</th>\n",
              "      <th>Country</th>\n",
              "      <th>Tertiary_Education_Pct</th>\n",
              "      <th>Debt_to_GDP</th>\n",
              "      <th>Old_Age_Ratio</th>\n",
              "      <th>Tourism_Pct_GDP</th>\n",
              "      <th>Tourism_Pct_Employment</th>\n",
              "      <th>Top_10pct_Share</th>\n",
              "      <th>Bottom_60pct_Share</th>\n",
              "      <th>Life_Expectancy</th>\n",
              "    </tr>\n",
              "  </thead>\n",
              "  <tbody>\n",
              "    <tr>\n",
              "      <th>0</th>\n",
              "      <td>CHN</td>\n",
              "      <td>China (People's Republic of)</td>\n",
              "      <td>9.681174</td>\n",
              "      <td>NaN</td>\n",
              "      <td>11.194</td>\n",
              "      <td>NaN</td>\n",
              "      <td>NaN</td>\n",
              "      <td>NaN</td>\n",
              "      <td>NaN</td>\n",
              "      <td>76.8</td>\n",
              "    </tr>\n",
              "    <tr>\n",
              "      <th>1</th>\n",
              "      <td>IND</td>\n",
              "      <td>India</td>\n",
              "      <td>10.595189</td>\n",
              "      <td>NaN</td>\n",
              "      <td>6.176</td>\n",
              "      <td>3.759</td>\n",
              "      <td>5.310</td>\n",
              "      <td>NaN</td>\n",
              "      <td>NaN</td>\n",
              "      <td>69.5</td>\n",
              "    </tr>\n",
              "    <tr>\n",
              "      <th>2</th>\n",
              "      <td>SAU</td>\n",
              "      <td>Saudi Arabia</td>\n",
              "      <td>23.623922</td>\n",
              "      <td>NaN</td>\n",
              "      <td>3.220</td>\n",
              "      <td>NaN</td>\n",
              "      <td>NaN</td>\n",
              "      <td>NaN</td>\n",
              "      <td>NaN</td>\n",
              "      <td>NaN</td>\n",
              "    </tr>\n",
              "    <tr>\n",
              "      <th>3</th>\n",
              "      <td>CHL</td>\n",
              "      <td>Chile</td>\n",
              "      <td>25.168179</td>\n",
              "      <td>9.185</td>\n",
              "      <td>11.547</td>\n",
              "      <td>NaN</td>\n",
              "      <td>6.461</td>\n",
              "      <td>57.710564</td>\n",
              "      <td>8.490582</td>\n",
              "      <td>80.6</td>\n",
              "    </tr>\n",
              "    <tr>\n",
              "      <th>4</th>\n",
              "      <td>RUS</td>\n",
              "      <td>Russia</td>\n",
              "      <td>56.700150</td>\n",
              "      <td>NaN</td>\n",
              "      <td>14.746</td>\n",
              "      <td>NaN</td>\n",
              "      <td>NaN</td>\n",
              "      <td>NaN</td>\n",
              "      <td>NaN</td>\n",
              "      <td>72.8</td>\n",
              "    </tr>\n",
              "    <tr>\n",
              "      <th>...</th>\n",
              "      <td>...</td>\n",
              "      <td>...</td>\n",
              "      <td>...</td>\n",
              "      <td>...</td>\n",
              "      <td>...</td>\n",
              "      <td>...</td>\n",
              "      <td>...</td>\n",
              "      <td>...</td>\n",
              "      <td>...</td>\n",
              "      <td>...</td>\n",
              "    </tr>\n",
              "    <tr>\n",
              "      <th>57</th>\n",
              "      <td>EGY</td>\n",
              "      <td>Egypt</td>\n",
              "      <td>NaN</td>\n",
              "      <td>NaN</td>\n",
              "      <td>NaN</td>\n",
              "      <td>4.258</td>\n",
              "      <td>16.200</td>\n",
              "      <td>NaN</td>\n",
              "      <td>NaN</td>\n",
              "      <td>NaN</td>\n",
              "    </tr>\n",
              "    <tr>\n",
              "      <th>58</th>\n",
              "      <td>PHL</td>\n",
              "      <td>Philippines</td>\n",
              "      <td>NaN</td>\n",
              "      <td>NaN</td>\n",
              "      <td>NaN</td>\n",
              "      <td>8.588</td>\n",
              "      <td>12.800</td>\n",
              "      <td>NaN</td>\n",
              "      <td>NaN</td>\n",
              "      <td>NaN</td>\n",
              "    </tr>\n",
              "    <tr>\n",
              "      <th>59</th>\n",
              "      <td>MAR</td>\n",
              "      <td>Morocco</td>\n",
              "      <td>NaN</td>\n",
              "      <td>NaN</td>\n",
              "      <td>NaN</td>\n",
              "      <td>6.944</td>\n",
              "      <td>5.000</td>\n",
              "      <td>NaN</td>\n",
              "      <td>NaN</td>\n",
              "      <td>NaN</td>\n",
              "    </tr>\n",
              "    <tr>\n",
              "      <th>60</th>\n",
              "      <td>PER</td>\n",
              "      <td>Peru</td>\n",
              "      <td>NaN</td>\n",
              "      <td>NaN</td>\n",
              "      <td>NaN</td>\n",
              "      <td>3.900</td>\n",
              "      <td>3.820</td>\n",
              "      <td>NaN</td>\n",
              "      <td>NaN</td>\n",
              "      <td>NaN</td>\n",
              "    </tr>\n",
              "    <tr>\n",
              "      <th>61</th>\n",
              "      <td>KAZ</td>\n",
              "      <td>Kazakhstan</td>\n",
              "      <td>NaN</td>\n",
              "      <td>NaN</td>\n",
              "      <td>NaN</td>\n",
              "      <td>NaN</td>\n",
              "      <td>5.330</td>\n",
              "      <td>NaN</td>\n",
              "      <td>NaN</td>\n",
              "      <td>NaN</td>\n",
              "    </tr>\n",
              "  </tbody>\n",
              "</table>\n",
              "<p>62 rows × 10 columns</p>\n",
              "</div>"
            ],
            "text/plain": [
              "    ISO                       Country  ...  Bottom_60pct_Share  Life_Expectancy\n",
              "0   CHN  China (People's Republic of)  ...                 NaN             76.8\n",
              "1   IND                         India  ...                 NaN             69.5\n",
              "2   SAU                  Saudi Arabia  ...                 NaN              NaN\n",
              "3   CHL                         Chile  ...            8.490582             80.6\n",
              "4   RUS                        Russia  ...                 NaN             72.8\n",
              "..  ...                           ...  ...                 ...              ...\n",
              "57  EGY                         Egypt  ...                 NaN              NaN\n",
              "58  PHL                   Philippines  ...                 NaN              NaN\n",
              "59  MAR                       Morocco  ...                 NaN              NaN\n",
              "60  PER                          Peru  ...                 NaN              NaN\n",
              "61  KAZ                    Kazakhstan  ...                 NaN              NaN\n",
              "\n",
              "[62 rows x 10 columns]"
            ]
          },
          "metadata": {
            "tags": []
          },
          "execution_count": 31
        }
      ]
    },
    {
      "cell_type": "code",
      "metadata": {
        "id": "db6W-YjJeF0c",
        "colab_type": "code",
        "colab": {
          "base_uri": "https://localhost:8080/",
          "height": 185
        },
        "outputId": "f1d38d59-4bd8-4b8f-8b6f-0c339f8ef528"
      },
      "source": [
        "# now what does it look like if we drop all rows with NA?\n",
        "# This is technically the most complete dataset.\n",
        "df_oecd.dropna(axis = 0).Country\n",
        "\n",
        "# this doesn't leave us with a lot of countries. Will probably need to \n",
        "# drop some of the variables to get a more complete set of data"
      ],
      "execution_count": 35,
      "outputs": [
        {
          "output_type": "execute_result",
          "data": {
            "text/plain": [
              "16            Estonia\n",
              "22             Norway\n",
              "27              Japan\n",
              "29             France\n",
              "30          Australia\n",
              "31            Austria\n",
              "32           Slovenia\n",
              "42    Slovak Republic\n",
              "43              Spain\n",
              "Name: Country, dtype: object"
            ]
          },
          "metadata": {
            "tags": []
          },
          "execution_count": 35
        }
      ]
    },
    {
      "cell_type": "code",
      "metadata": {
        "id": "o8XTeY6Cejt3",
        "colab_type": "code",
        "colab": {
          "base_uri": "https://localhost:8080/",
          "height": 77
        },
        "outputId": "d9134cfb-43dc-4dc7-c30e-709b99fedac1"
      },
      "source": [
        "# Let's check what we're missing from the US. This should definitely be a country we include. \n",
        "df_oecd[df_oecd['Country'] == 'United States']\n",
        "\n",
        "# So we shold probably frop the Tourism as % of GDP variable. that's not a big problem.."
      ],
      "execution_count": 36,
      "outputs": [
        {
          "output_type": "execute_result",
          "data": {
            "text/html": [
              "<div>\n",
              "<style scoped>\n",
              "    .dataframe tbody tr th:only-of-type {\n",
              "        vertical-align: middle;\n",
              "    }\n",
              "\n",
              "    .dataframe tbody tr th {\n",
              "        vertical-align: top;\n",
              "    }\n",
              "\n",
              "    .dataframe thead th {\n",
              "        text-align: right;\n",
              "    }\n",
              "</style>\n",
              "<table border=\"1\" class=\"dataframe\">\n",
              "  <thead>\n",
              "    <tr style=\"text-align: right;\">\n",
              "      <th></th>\n",
              "      <th>ISO</th>\n",
              "      <th>Country</th>\n",
              "      <th>Tertiary_Education_Pct</th>\n",
              "      <th>Debt_to_GDP</th>\n",
              "      <th>Old_Age_Ratio</th>\n",
              "      <th>Tourism_Pct_GDP</th>\n",
              "      <th>Tourism_Pct_Employment</th>\n",
              "      <th>Top_10pct_Share</th>\n",
              "      <th>Bottom_60pct_Share</th>\n",
              "      <th>Life_Expectancy</th>\n",
              "    </tr>\n",
              "  </thead>\n",
              "  <tbody>\n",
              "    <tr>\n",
              "      <th>23</th>\n",
              "      <td>USA</td>\n",
              "      <td>United States</td>\n",
              "      <td>47.431145</td>\n",
              "      <td>61.274</td>\n",
              "      <td>16.026</td>\n",
              "      <td>NaN</td>\n",
              "      <td>4.321</td>\n",
              "      <td>79.471603</td>\n",
              "      <td>2.398355</td>\n",
              "      <td>78.7</td>\n",
              "    </tr>\n",
              "  </tbody>\n",
              "</table>\n",
              "</div>"
            ],
            "text/plain": [
              "    ISO        Country  ...  Bottom_60pct_Share  Life_Expectancy\n",
              "23  USA  United States  ...            2.398355             78.7\n",
              "\n",
              "[1 rows x 10 columns]"
            ]
          },
          "metadata": {
            "tags": []
          },
          "execution_count": 36
        }
      ]
    }
  ]
}