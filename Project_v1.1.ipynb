{
  "nbformat": 4,
  "nbformat_minor": 0,
  "metadata": {
    "kernelspec": {
      "display_name": "Python 3",
      "language": "python",
      "name": "python3"
    },
    "language_info": {
      "codemirror_mode": {
        "name": "ipython",
        "version": 3
      },
      "file_extension": ".py",
      "mimetype": "text/x-python",
      "name": "python",
      "nbconvert_exporter": "python",
      "pygments_lexer": "ipython3",
      "version": "3.7.3"
    },
    "colab": {
      "name": "Project_v1.1.ipynb",
      "provenance": []
    }
  },
  "cells": [
    {
      "cell_type": "markdown",
      "metadata": {
        "id": "T6tKTzOYnSRC",
        "colab_type": "text"
      },
      "source": [
        "# Intro\n",
        "\n",
        "The OECD database is composed of hundreds (if not thousands) of tables that focus on specific economic and social variables. These variables are attirbutable to individual countries, and are generally recorded over time, making them a time series. \n",
        "\n",
        "For the purposes of this analysis, we are only interested in the latest year's data point, which would reflect the most recent characterization of each country's social and economic situation. \n",
        "\n",
        "However, given that we have years of data for each country, there is also the potential to use the change in the variable as a feature of our modeling. For example, rapid improvement in immunization coverage for a country would imply effective health education and could represent a more accurate picture of how the country is better educating the public about a new pandemic versus a country with a higher, but stagnant, immunization record. \n",
        "\n",
        "For now, we are combining the various OECD tables on the 'country' key so that we can merge it with COVID data.\n",
        "\n",
        "Data transformation to follow."
      ]
    },
    {
      "cell_type": "markdown",
      "metadata": {
        "id": "vWdO1ltBnSRD",
        "colab_type": "text"
      },
      "source": [
        "# Loading and Cleaning Data\n",
        "\n",
        "Here we load and clean csv data taken from the OECD database. This includes datasets on the following topics:\n",
        "- Education\n",
        "- Government Debt\n",
        "- Immunization\n",
        "- Demographics / Population\n",
        "- Tourism\n",
        "- Wealth Distribution\n",
        "\n",
        "Here we load and clean json data taken from the COVID-19 database. This includes datasets on the following topics:\n",
        "- Education\n",
        "- Government Debt\n",
        "- Immunization\n",
        "- Demographics / Population\n",
        "- Tourism\n",
        "- Wealth Distribution\n",
        "\n",
        "For each dataset, there are multiple columns we are not interested in. Furthermore, for the columns we do want, there are various version of that variable, so we need to filter on what we are looking for. The tables are not standardized, so each csv file will have to be cleaned and prepared individually. "
      ]
    },
    {
      "cell_type": "markdown",
      "metadata": {
        "id": "0ErXdojBnSRE",
        "colab_type": "text"
      },
      "source": [
        "### Load Packages"
      ]
    },
    {
      "cell_type": "code",
      "metadata": {
        "id": "Ara0Piq0nSRF",
        "colab_type": "code",
        "colab": {}
      },
      "source": [
        "import pandas as pd\n",
        "from urllib.request import urlopen\n",
        "import ssl\n",
        "import json\n",
        "import requests\n",
        "\n",
        "ssl._create_default_https_context = ssl._create_unverified_context"
      ],
      "execution_count": 1,
      "outputs": []
    },
    {
      "cell_type": "markdown",
      "metadata": {
        "id": "GotHxvPanSRJ",
        "colab_type": "text"
      },
      "source": [
        "## OECD\n",
        "### Education\n",
        "\n",
        "We hypothesize that a country's education should play a key role in the success rate of the country's approach to COVID. Specifically, a more highly educated country should, in theory, have a more effective approach to dealing with the virus, and should have a populace that better understands public health terminiology, what viruses are, and would be more willing to take the pandemic seriously. \n",
        "\n",
        "So we will focus on the share of population of countries that have a tertiary education level. This is defined on wikipedia as:\n",
        "\n",
        "*Tertiary education, also referred to as third-level, third-stage or post-secondary education, is the educational level following the completion of secondary education. The World Bank, for example, defines tertiary education as including universities as well as trade schools and colleges.*"
      ]
    },
    {
      "cell_type": "code",
      "metadata": {
        "id": "u3p59OlYnSRK",
        "colab_type": "code",
        "colab": {}
      },
      "source": [
        "url_edu = 'https://raw.githubusercontent.com/pvai-umich/SIADS591/master/Data/OECD_Education_Statistics.csv'\n",
        "dfraw_edu = pd.read_csv(url_edu)\n"
      ],
      "execution_count": 15,
      "outputs": []
    },
    {
      "cell_type": "code",
      "metadata": {
        "id": "kUVxa7JKnSRM",
        "colab_type": "code",
        "colab": {
          "base_uri": "https://localhost:8080/",
          "height": 195
        },
        "outputId": "5f4b8545-a27f-4e34-cac9-70988044946a"
      },
      "source": [
        "columns_to_use = ['COUNTRY', 'Country', 'Gender', 'ISCED 2011 A education level', 'Reference Period', 'Measure', 'Value']\n",
        "\n",
        "# Only select the columns we want to use\n",
        "df_edu = dfraw_edu[columns_to_use]\n",
        "\n",
        "# filter some of the columns to include the variables we want to see\n",
        "df_edu = df_edu[df_edu['ISCED 2011 A education level'] == \"Tertiary education\"]\n",
        "df_edu = df_edu[df_edu['Gender'] == \"Total\"]\n",
        "df_edu = df_edu[df_edu['Measure'] == \"Value\"]\n",
        "\n",
        "# Choose the latest datapoint for each country\n",
        "df_edu = df_edu.sort_values('Reference Period').groupby('Country').tail(1)\n",
        "\n",
        "# This final dataframe contains the share of each country's population that has a tertiary education. \n",
        "df_edu.head()\n"
      ],
      "execution_count": 16,
      "outputs": [
        {
          "output_type": "execute_result",
          "data": {
            "text/html": [
              "<div>\n",
              "<style scoped>\n",
              "    .dataframe tbody tr th:only-of-type {\n",
              "        vertical-align: middle;\n",
              "    }\n",
              "\n",
              "    .dataframe tbody tr th {\n",
              "        vertical-align: top;\n",
              "    }\n",
              "\n",
              "    .dataframe thead th {\n",
              "        text-align: right;\n",
              "    }\n",
              "</style>\n",
              "<table border=\"1\" class=\"dataframe\">\n",
              "  <thead>\n",
              "    <tr style=\"text-align: right;\">\n",
              "      <th></th>\n",
              "      <th>COUNTRY</th>\n",
              "      <th>Country</th>\n",
              "      <th>Gender</th>\n",
              "      <th>ISCED 2011 A education level</th>\n",
              "      <th>Reference Period</th>\n",
              "      <th>Measure</th>\n",
              "      <th>Value</th>\n",
              "    </tr>\n",
              "  </thead>\n",
              "  <tbody>\n",
              "    <tr>\n",
              "      <th>3244</th>\n",
              "      <td>CHN</td>\n",
              "      <td>China (People's Republic of)</td>\n",
              "      <td>Total</td>\n",
              "      <td>Tertiary education</td>\n",
              "      <td>2010.0</td>\n",
              "      <td>Value</td>\n",
              "      <td>9.681174</td>\n",
              "    </tr>\n",
              "    <tr>\n",
              "      <th>3302</th>\n",
              "      <td>IND</td>\n",
              "      <td>India</td>\n",
              "      <td>Total</td>\n",
              "      <td>Tertiary education</td>\n",
              "      <td>2011.0</td>\n",
              "      <td>Value</td>\n",
              "      <td>10.595189</td>\n",
              "    </tr>\n",
              "    <tr>\n",
              "      <th>2846</th>\n",
              "      <td>SAU</td>\n",
              "      <td>Saudi Arabia</td>\n",
              "      <td>Total</td>\n",
              "      <td>Tertiary education</td>\n",
              "      <td>2016.0</td>\n",
              "      <td>Value</td>\n",
              "      <td>23.623922</td>\n",
              "    </tr>\n",
              "    <tr>\n",
              "      <th>2772</th>\n",
              "      <td>CHL</td>\n",
              "      <td>Chile</td>\n",
              "      <td>Total</td>\n",
              "      <td>Tertiary education</td>\n",
              "      <td>2017.0</td>\n",
              "      <td>Value</td>\n",
              "      <td>25.168179</td>\n",
              "    </tr>\n",
              "    <tr>\n",
              "      <th>2757</th>\n",
              "      <td>RUS</td>\n",
              "      <td>Russia</td>\n",
              "      <td>Total</td>\n",
              "      <td>Tertiary education</td>\n",
              "      <td>2017.0</td>\n",
              "      <td>Value</td>\n",
              "      <td>56.700150</td>\n",
              "    </tr>\n",
              "  </tbody>\n",
              "</table>\n",
              "</div>"
            ],
            "text/plain": [
              "     COUNTRY                       Country  ... Measure      Value\n",
              "3244     CHN  China (People's Republic of)  ...   Value   9.681174\n",
              "3302     IND                         India  ...   Value  10.595189\n",
              "2846     SAU                  Saudi Arabia  ...   Value  23.623922\n",
              "2772     CHL                         Chile  ...   Value  25.168179\n",
              "2757     RUS                        Russia  ...   Value  56.700150\n",
              "\n",
              "[5 rows x 7 columns]"
            ]
          },
          "metadata": {
            "tags": []
          },
          "execution_count": 16
        }
      ]
    },
    {
      "cell_type": "code",
      "metadata": {
        "id": "UJT33i0WnSRP",
        "colab_type": "code",
        "colab": {
          "base_uri": "https://localhost:8080/",
          "height": 195
        },
        "outputId": "83217d9a-95c2-4c56-a298-18e053e298b9"
      },
      "source": [
        "# But lets reduce this table down to what we'll be combining together later.\n",
        "# A simple country-variable table.\n",
        "\n",
        "df_edu = df_edu[['COUNTRY', 'Country', 'Value']]\n",
        "df_edu.columns = ['ISO', 'Country', 'Tertiary_Education_Pct']\n",
        "df_edu.head()"
      ],
      "execution_count": 4,
      "outputs": [
        {
          "output_type": "execute_result",
          "data": {
            "text/html": [
              "<div>\n",
              "<style scoped>\n",
              "    .dataframe tbody tr th:only-of-type {\n",
              "        vertical-align: middle;\n",
              "    }\n",
              "\n",
              "    .dataframe tbody tr th {\n",
              "        vertical-align: top;\n",
              "    }\n",
              "\n",
              "    .dataframe thead th {\n",
              "        text-align: right;\n",
              "    }\n",
              "</style>\n",
              "<table border=\"1\" class=\"dataframe\">\n",
              "  <thead>\n",
              "    <tr style=\"text-align: right;\">\n",
              "      <th></th>\n",
              "      <th>ISO</th>\n",
              "      <th>Country</th>\n",
              "      <th>Tertiary_Education_Pct</th>\n",
              "    </tr>\n",
              "  </thead>\n",
              "  <tbody>\n",
              "    <tr>\n",
              "      <th>447</th>\n",
              "      <td>KOR</td>\n",
              "      <td>Korea</td>\n",
              "      <td>49.008511</td>\n",
              "    </tr>\n",
              "    <tr>\n",
              "      <th>701</th>\n",
              "      <td>CAN</td>\n",
              "      <td>Canada</td>\n",
              "      <td>57.888363</td>\n",
              "    </tr>\n",
              "    <tr>\n",
              "      <th>709</th>\n",
              "      <td>JPN</td>\n",
              "      <td>Japan</td>\n",
              "      <td>51.928062</td>\n",
              "    </tr>\n",
              "    <tr>\n",
              "      <th>774</th>\n",
              "      <td>CZE</td>\n",
              "      <td>Czech Republic</td>\n",
              "      <td>24.262077</td>\n",
              "    </tr>\n",
              "    <tr>\n",
              "      <th>909</th>\n",
              "      <td>FRA</td>\n",
              "      <td>France</td>\n",
              "      <td>36.897491</td>\n",
              "    </tr>\n",
              "  </tbody>\n",
              "</table>\n",
              "</div>"
            ],
            "text/plain": [
              "     ISO         Country  Tertiary_Education_Pct\n",
              "447  KOR           Korea               49.008511\n",
              "701  CAN          Canada               57.888363\n",
              "709  JPN           Japan               51.928062\n",
              "774  CZE  Czech Republic               24.262077\n",
              "909  FRA          France               36.897491"
            ]
          },
          "metadata": {
            "tags": []
          },
          "execution_count": 4
        }
      ]
    },
    {
      "cell_type": "markdown",
      "metadata": {
        "id": "hl7FyfCbnSRR",
        "colab_type": "text"
      },
      "source": [
        "### Debt"
      ]
    },
    {
      "cell_type": "code",
      "metadata": {
        "id": "YFZQDoH7nSRR",
        "colab_type": "code",
        "colab": {}
      },
      "source": [
        "# Load the Debt Data\n",
        "url_debt = 'https://raw.githubusercontent.com/pvai-umich/SIADS591/master/Data/OECD_Government_Debt.csv'\n",
        "dfraw_debt = pd.read_csv(url_debt)"
      ],
      "execution_count": 17,
      "outputs": []
    },
    {
      "cell_type": "code",
      "metadata": {
        "id": "JR8WcHCAoZLk",
        "colab_type": "code",
        "colab": {
          "base_uri": "https://localhost:8080/",
          "height": 195
        },
        "outputId": "4af56ae5-bade-4ddd-cbd3-9d7bc29b1625"
      },
      "source": [
        "# Choose the latest data point for each country\n",
        "df_debt = dfraw_debt.sort_values('Time period').groupby('Country').tail(1)\n",
        "\n",
        "# Choose the columns we want and rename them.\n",
        "df_debt = df_debt[['COU', 'Country', 'Value']]\n",
        "df_debt.columns = ['ISO', 'Country', 'Debt_to_GDP']\n",
        "\n",
        "# Check to make sure it looks ok\n",
        "df_debt.head()"
      ],
      "execution_count": 30,
      "outputs": [
        {
          "output_type": "execute_result",
          "data": {
            "text/html": [
              "<div>\n",
              "<style scoped>\n",
              "    .dataframe tbody tr th:only-of-type {\n",
              "        vertical-align: middle;\n",
              "    }\n",
              "\n",
              "    .dataframe tbody tr th {\n",
              "        vertical-align: top;\n",
              "    }\n",
              "\n",
              "    .dataframe thead th {\n",
              "        text-align: right;\n",
              "    }\n",
              "</style>\n",
              "<table border=\"1\" class=\"dataframe\">\n",
              "  <thead>\n",
              "    <tr style=\"text-align: right;\">\n",
              "      <th></th>\n",
              "      <th>ISO</th>\n",
              "      <th>Country</th>\n",
              "      <th>Gov_Debt_Pct_GDP</th>\n",
              "    </tr>\n",
              "  </thead>\n",
              "  <tbody>\n",
              "    <tr>\n",
              "      <th>208</th>\n",
              "      <td>JPN</td>\n",
              "      <td>Japan</td>\n",
              "      <td>183.530</td>\n",
              "    </tr>\n",
              "    <tr>\n",
              "      <th>278</th>\n",
              "      <td>NZL</td>\n",
              "      <td>New Zealand</td>\n",
              "      <td>30.450</td>\n",
              "    </tr>\n",
              "    <tr>\n",
              "      <th>264</th>\n",
              "      <td>NLD</td>\n",
              "      <td>Netherlands</td>\n",
              "      <td>51.845</td>\n",
              "    </tr>\n",
              "    <tr>\n",
              "      <th>320</th>\n",
              "      <td>PRT</td>\n",
              "      <td>Portugal</td>\n",
              "      <td>87.962</td>\n",
              "    </tr>\n",
              "    <tr>\n",
              "      <th>27</th>\n",
              "      <td>AUT</td>\n",
              "      <td>Austria</td>\n",
              "      <td>65.754</td>\n",
              "    </tr>\n",
              "  </tbody>\n",
              "</table>\n",
              "</div>"
            ],
            "text/plain": [
              "     ISO      Country  Gov_Debt_Pct_GDP\n",
              "208  JPN        Japan           183.530\n",
              "278  NZL  New Zealand            30.450\n",
              "264  NLD  Netherlands            51.845\n",
              "320  PRT     Portugal            87.962\n",
              "27   AUT      Austria            65.754"
            ]
          },
          "metadata": {
            "tags": []
          },
          "execution_count": 30
        }
      ]
    },
    {
      "cell_type": "markdown",
      "metadata": {
        "id": "TnBi6d2SnSRT",
        "colab_type": "text"
      },
      "source": [
        "### Immunization"
      ]
    },
    {
      "cell_type": "code",
      "metadata": {
        "id": "iY5Lme7lnSRU",
        "colab_type": "code",
        "colab": {}
      },
      "source": [
        "# Load Immunization Data\n",
        "url_imm = 'https://raw.githubusercontent.com/pvai-umich/SIADS591/master/Data/OECD_Immunization_Statistics.csv'\n",
        "dfraw_imm = pd.read_csv(url_imm)\n"
      ],
      "execution_count": 21,
      "outputs": []
    },
    {
      "cell_type": "code",
      "metadata": {
        "id": "29XprDLCrJOr",
        "colab_type": "code",
        "colab": {
          "base_uri": "https://localhost:8080/",
          "height": 195
        },
        "outputId": "e5f49696-3e36-4f04-87c6-b740f91b7496"
      },
      "source": [
        "# Choose the latest data point for each country\n",
        "df_imm = dfraw_imm.sort_values('Year').groupby('Country').tail(1)\n",
        "\n",
        "# Choose the columns we want and rename them.\n",
        "df_imm = df_imm[['COU', 'Country', 'Value']]\n",
        "df_imm.columns = ['ISO', 'Country', 'Pct_65_Immunized_Flu']\n",
        "\n",
        "# Check to make sure it looks ok\n",
        "df_imm.head()"
      ],
      "execution_count": 31,
      "outputs": [
        {
          "output_type": "execute_result",
          "data": {
            "text/html": [
              "<div>\n",
              "<style scoped>\n",
              "    .dataframe tbody tr th:only-of-type {\n",
              "        vertical-align: middle;\n",
              "    }\n",
              "\n",
              "    .dataframe tbody tr th {\n",
              "        vertical-align: top;\n",
              "    }\n",
              "\n",
              "    .dataframe thead th {\n",
              "        text-align: right;\n",
              "    }\n",
              "</style>\n",
              "<table border=\"1\" class=\"dataframe\">\n",
              "  <thead>\n",
              "    <tr style=\"text-align: right;\">\n",
              "      <th></th>\n",
              "      <th>ISO</th>\n",
              "      <th>Country</th>\n",
              "      <th>Pct_Immunized_Flu</th>\n",
              "    </tr>\n",
              "  </thead>\n",
              "  <tbody>\n",
              "    <tr>\n",
              "      <th>6</th>\n",
              "      <td>AUS</td>\n",
              "      <td>Australia</td>\n",
              "      <td>74.6</td>\n",
              "    </tr>\n",
              "    <tr>\n",
              "      <th>351</th>\n",
              "      <td>CHE</td>\n",
              "      <td>Switzerland</td>\n",
              "      <td>46.0</td>\n",
              "    </tr>\n",
              "    <tr>\n",
              "      <th>8</th>\n",
              "      <td>AUT</td>\n",
              "      <td>Austria</td>\n",
              "      <td>20.3</td>\n",
              "    </tr>\n",
              "    <tr>\n",
              "      <th>271</th>\n",
              "      <td>POL</td>\n",
              "      <td>Poland</td>\n",
              "      <td>9.7</td>\n",
              "    </tr>\n",
              "    <tr>\n",
              "      <th>224</th>\n",
              "      <td>MEX</td>\n",
              "      <td>Mexico</td>\n",
              "      <td>82.3</td>\n",
              "    </tr>\n",
              "  </tbody>\n",
              "</table>\n",
              "</div>"
            ],
            "text/plain": [
              "     ISO      Country  Pct_Immunized_Flu\n",
              "6    AUS    Australia               74.6\n",
              "351  CHE  Switzerland               46.0\n",
              "8    AUT      Austria               20.3\n",
              "271  POL       Poland                9.7\n",
              "224  MEX       Mexico               82.3"
            ]
          },
          "metadata": {
            "tags": []
          },
          "execution_count": 31
        }
      ]
    },
    {
      "cell_type": "markdown",
      "metadata": {
        "id": "k_4pILBgnSRW",
        "colab_type": "text"
      },
      "source": [
        "### Population / Demographics"
      ]
    },
    {
      "cell_type": "code",
      "metadata": {
        "id": "hWMYQWtlnSRW",
        "colab_type": "code",
        "colab": {}
      },
      "source": [
        "# Load the Demographics Data\n",
        "url_pop = 'https://raw.githubusercontent.com/pvai-umich/SIADS591/master/Data/OECD_Population_Statistics.csv'\n",
        "dfraw_pop = pd.read_csv(url_pop)"
      ],
      "execution_count": 33,
      "outputs": []
    },
    {
      "cell_type": "code",
      "metadata": {
        "id": "X7oz4wQk8obB",
        "colab_type": "code",
        "colab": {
          "base_uri": "https://localhost:8080/",
          "height": 195
        },
        "outputId": "3849850f-56f1-4a37-e7ee-c8a107f7b578"
      },
      "source": [
        "# Create an old age ratio dataframe\n",
        "df_oldage = dfraw_pop[dfraw_pop['AGE'] == \"65_OVER_SHARE\"]\n",
        "df_oldage = df_oldage[df_oldage['Sex'] == \"Total\"]\n",
        "\n",
        "# Choose the latest data point for each country\n",
        "df_oldage = df_oldage.sort_values('Time').groupby('Country').tail(1)\n",
        "\n",
        "# Choose the columns we want and rename them.\n",
        "df_oldage = df_oldage[['LOCATION', 'Country', 'Value']]\n",
        "df_oldage.columns = ['ISO', 'Country', 'Old_Age_Ratio']\n",
        "\n",
        "# Check to make sure it looks ok\n",
        "df_oldage.head()"
      ],
      "execution_count": 39,
      "outputs": [
        {
          "output_type": "execute_result",
          "data": {
            "text/html": [
              "<div>\n",
              "<style scoped>\n",
              "    .dataframe tbody tr th:only-of-type {\n",
              "        vertical-align: middle;\n",
              "    }\n",
              "\n",
              "    .dataframe tbody tr th {\n",
              "        vertical-align: top;\n",
              "    }\n",
              "\n",
              "    .dataframe thead th {\n",
              "        text-align: right;\n",
              "    }\n",
              "</style>\n",
              "<table border=\"1\" class=\"dataframe\">\n",
              "  <thead>\n",
              "    <tr style=\"text-align: right;\">\n",
              "      <th></th>\n",
              "      <th>ISO</th>\n",
              "      <th>Country</th>\n",
              "      <th>Old_Age_Ratio</th>\n",
              "    </tr>\n",
              "  </thead>\n",
              "  <tbody>\n",
              "    <tr>\n",
              "      <th>58757</th>\n",
              "      <td>EU28</td>\n",
              "      <td>European Union (28 countries)</td>\n",
              "      <td>19.849</td>\n",
              "    </tr>\n",
              "    <tr>\n",
              "      <th>58715</th>\n",
              "      <td>G20</td>\n",
              "      <td>G20</td>\n",
              "      <td>11.037</td>\n",
              "    </tr>\n",
              "    <tr>\n",
              "      <th>58673</th>\n",
              "      <td>WLD</td>\n",
              "      <td>World</td>\n",
              "      <td>8.921</td>\n",
              "    </tr>\n",
              "    <tr>\n",
              "      <th>57623</th>\n",
              "      <td>TUR</td>\n",
              "      <td>Turkey</td>\n",
              "      <td>8.649</td>\n",
              "    </tr>\n",
              "    <tr>\n",
              "      <th>58589</th>\n",
              "      <td>SVN</td>\n",
              "      <td>Slovenia</td>\n",
              "      <td>19.670</td>\n",
              "    </tr>\n",
              "  </tbody>\n",
              "</table>\n",
              "</div>"
            ],
            "text/plain": [
              "        ISO                        Country  Old_Age_Ratio\n",
              "58757  EU28  European Union (28 countries)         19.849\n",
              "58715   G20                            G20         11.037\n",
              "58673   WLD                          World          8.921\n",
              "57623   TUR                         Turkey          8.649\n",
              "58589   SVN                       Slovenia         19.670"
            ]
          },
          "metadata": {
            "tags": []
          },
          "execution_count": 39
        }
      ]
    },
    {
      "cell_type": "code",
      "metadata": {
        "id": "TU75VVAfAEi7",
        "colab_type": "code",
        "colab": {}
      },
      "source": [
        "# Create a sex ratio dataframe\n",
        "df_sexratio = dfraw_pop[dfraw_pop['AGE'] == \"TOTAL\"] #i.e. total population of the country\n",
        "\n",
        "# STILL NEED TO DO"
      ],
      "execution_count": null,
      "outputs": []
    },
    {
      "cell_type": "markdown",
      "metadata": {
        "id": "5mQ4_zXonSRY",
        "colab_type": "text"
      },
      "source": [
        "### Tourism"
      ]
    },
    {
      "cell_type": "code",
      "metadata": {
        "id": "WyxP_CNPnSRZ",
        "colab_type": "code",
        "colab": {}
      },
      "source": [
        "url_tour = 'https://raw.githubusercontent.com/pvai-umich/SIADS591/master/Data/OECD_Tourism_Statistics.csv'\n",
        "dfraw_tour = pd.read_csv(url_tour)\n"
      ],
      "execution_count": 40,
      "outputs": []
    },
    {
      "cell_type": "code",
      "metadata": {
        "id": "1cRLUtnxA-10",
        "colab_type": "code",
        "colab": {
          "base_uri": "https://localhost:8080/",
          "height": 195
        },
        "outputId": "9b226cbe-dfbf-4e9e-b1bd-3f3dc78ff2f0"
      },
      "source": [
        "dfraw_tour.head()\n",
        "# Create Toursim as % of GDP dataframe\n",
        "df_tour_gdp = dfraw_tour[dfraw_tour['KEY_IND_PC'] == \"KEYIND_TOURGDPPC\"]\n",
        "\n",
        "# Choose the latest data point for each country\n",
        "df_tour_gdp = df_tour_gdp.sort_values('Year').groupby('Country').tail(1)\n",
        "\n",
        "# Choose the columns we want and rename them.\n",
        "df_tour_gdp = df_tour_gdp[['COUNTRY', 'Country', 'Value']]\n",
        "df_tour_gdp.columns = ['ISO', 'Country', 'Tourism_Pct_GDP']\n",
        "\n",
        "# Check to make sure it looks ok\n",
        "df_tour_gdp.head()\n",
        "\n"
      ],
      "execution_count": 50,
      "outputs": [
        {
          "output_type": "execute_result",
          "data": {
            "text/html": [
              "<div>\n",
              "<style scoped>\n",
              "    .dataframe tbody tr th:only-of-type {\n",
              "        vertical-align: middle;\n",
              "    }\n",
              "\n",
              "    .dataframe tbody tr th {\n",
              "        vertical-align: top;\n",
              "    }\n",
              "\n",
              "    .dataframe thead th {\n",
              "        text-align: right;\n",
              "    }\n",
              "</style>\n",
              "<table border=\"1\" class=\"dataframe\">\n",
              "  <thead>\n",
              "    <tr style=\"text-align: right;\">\n",
              "      <th></th>\n",
              "      <th>ISO</th>\n",
              "      <th>Country</th>\n",
              "      <th>Tourism_Pct_GDP</th>\n",
              "    </tr>\n",
              "  </thead>\n",
              "  <tbody>\n",
              "    <tr>\n",
              "      <th>564</th>\n",
              "      <td>MLT</td>\n",
              "      <td>Malta</td>\n",
              "      <td>6.129</td>\n",
              "    </tr>\n",
              "    <tr>\n",
              "      <th>119</th>\n",
              "      <td>IND</td>\n",
              "      <td>India</td>\n",
              "      <td>3.759</td>\n",
              "    </tr>\n",
              "    <tr>\n",
              "      <th>108</th>\n",
              "      <td>EGY</td>\n",
              "      <td>Egypt</td>\n",
              "      <td>4.258</td>\n",
              "    </tr>\n",
              "    <tr>\n",
              "      <th>115</th>\n",
              "      <td>EST</td>\n",
              "      <td>Estonia</td>\n",
              "      <td>5.428</td>\n",
              "    </tr>\n",
              "    <tr>\n",
              "      <th>66</th>\n",
              "      <td>POL</td>\n",
              "      <td>Poland</td>\n",
              "      <td>1.175</td>\n",
              "    </tr>\n",
              "  </tbody>\n",
              "</table>\n",
              "</div>"
            ],
            "text/plain": [
              "     ISO  Country  Tourism_Pct_GDP\n",
              "564  MLT    Malta            6.129\n",
              "119  IND    India            3.759\n",
              "108  EGY    Egypt            4.258\n",
              "115  EST  Estonia            5.428\n",
              "66   POL   Poland            1.175"
            ]
          },
          "metadata": {
            "tags": []
          },
          "execution_count": 50
        }
      ]
    },
    {
      "cell_type": "code",
      "metadata": {
        "id": "pnzSMg-oBv8E",
        "colab_type": "code",
        "colab": {
          "base_uri": "https://localhost:8080/",
          "height": 195
        },
        "outputId": "cb383bb5-3702-47f5-b408-b324faa3eb81"
      },
      "source": [
        "# Create Toursim employment as % of Total\n",
        "df_tour_emp = dfraw_tour[dfraw_tour['KEY_IND_PC'] == \"KEYIND_TOUREMPDIRECTPC\"]\n",
        "\n",
        "# Choose the latest data point for each country\n",
        "df_tour_emp = df_tour_emp.sort_values('Year').groupby('Country').tail(1)\n",
        "\n",
        "# Choose the columns we want and rename them.\n",
        "df_tour_emp = df_tour_emp[['COUNTRY', 'Country', 'Value']]\n",
        "df_tour_emp.columns = ['ISO', 'Country', 'Tourism_Pct_Employment']\n",
        "\n",
        "# Check to make sure it looks ok\n",
        "df_tour_emp.head()"
      ],
      "execution_count": 55,
      "outputs": [
        {
          "output_type": "execute_result",
          "data": {
            "text/html": [
              "<div>\n",
              "<style scoped>\n",
              "    .dataframe tbody tr th:only-of-type {\n",
              "        vertical-align: middle;\n",
              "    }\n",
              "\n",
              "    .dataframe tbody tr th {\n",
              "        vertical-align: top;\n",
              "    }\n",
              "\n",
              "    .dataframe thead th {\n",
              "        text-align: right;\n",
              "    }\n",
              "</style>\n",
              "<table border=\"1\" class=\"dataframe\">\n",
              "  <thead>\n",
              "    <tr style=\"text-align: right;\">\n",
              "      <th></th>\n",
              "      <th>ISO</th>\n",
              "      <th>Country</th>\n",
              "      <th>Tourism_Pct_Employment</th>\n",
              "    </tr>\n",
              "  </thead>\n",
              "  <tbody>\n",
              "    <tr>\n",
              "      <th>387</th>\n",
              "      <td>ARG</td>\n",
              "      <td>Argentina</td>\n",
              "      <td>10.17</td>\n",
              "    </tr>\n",
              "    <tr>\n",
              "      <th>460</th>\n",
              "      <td>IND</td>\n",
              "      <td>India</td>\n",
              "      <td>5.31</td>\n",
              "    </tr>\n",
              "    <tr>\n",
              "      <th>465</th>\n",
              "      <td>IDN</td>\n",
              "      <td>Indonesia</td>\n",
              "      <td>8.37</td>\n",
              "    </tr>\n",
              "    <tr>\n",
              "      <th>577</th>\n",
              "      <td>PER</td>\n",
              "      <td>Peru</td>\n",
              "      <td>3.82</td>\n",
              "    </tr>\n",
              "    <tr>\n",
              "      <th>282</th>\n",
              "      <td>ITA</td>\n",
              "      <td>Italy</td>\n",
              "      <td>8.30</td>\n",
              "    </tr>\n",
              "  </tbody>\n",
              "</table>\n",
              "</div>"
            ],
            "text/plain": [
              "     ISO    Country  Tourism_Pct_Employment\n",
              "387  ARG  Argentina                   10.17\n",
              "460  IND      India                    5.31\n",
              "465  IDN  Indonesia                    8.37\n",
              "577  PER       Peru                    3.82\n",
              "282  ITA      Italy                    8.30"
            ]
          },
          "metadata": {
            "tags": []
          },
          "execution_count": 55
        }
      ]
    },
    {
      "cell_type": "markdown",
      "metadata": {
        "id": "_zBIxCzFnSRa",
        "colab_type": "text"
      },
      "source": [
        "### Wealth Distribution"
      ]
    },
    {
      "cell_type": "code",
      "metadata": {
        "id": "RAb7K-yGnSRb",
        "colab_type": "code",
        "colab": {}
      },
      "source": [
        "url_wealth = 'https://raw.githubusercontent.com/pvai-umich/SIADS591/master/Data/OECD_Wealth_Distribution_Statistics.csv'\n",
        "dfraw_wealth = pd.read_csv(url_wealth)"
      ],
      "execution_count": 56,
      "outputs": []
    },
    {
      "cell_type": "code",
      "metadata": {
        "id": "6Le53tLsCpmk",
        "colab_type": "code",
        "colab": {
          "base_uri": "https://localhost:8080/",
          "height": 302
        },
        "outputId": "812c3e5e-9338-472b-e339-6a6cce12e560"
      },
      "source": [
        "# Create two dataframes -  share of top 1% wealth, and share of bottom 60% of wealth\n",
        "dfraw_wealth.Variable.unique()"
      ],
      "execution_count": 58,
      "outputs": [
        {
          "output_type": "execute_result",
          "data": {
            "text/plain": [
              "array(['Mean financial assets per household (current prices)',\n",
              "       'Mean liabilities per household (current prices)',\n",
              "       'Mean net wealth per household (current prices)',\n",
              "       'Mean net wealth per person (current prices)',\n",
              "       'Mean to median net wealth ratio',\n",
              "       'Median debt-to-assets ratio of indebted households',\n",
              "       'Median debt-to-income ratio of indebted households',\n",
              "       'Median net wealth per household (current prices)',\n",
              "       'Share of indebted households with debt-to-assets ratio above 75%',\n",
              "       'Share of bottom 60% of wealth', 'Share of indebted households',\n",
              "       'Share of indebted households with debt-to-income ratio above 3',\n",
              "       'Share of individuals with eq. liquid financial wealth <25% of income poverty line',\n",
              "       'Share of individuals with eq. liquid financial wealth <50 % of  income poverty line',\n",
              "       'Share of individuals with eq. net wealth < 25% of income poverty line',\n",
              "       'Share of individuals with eq. net wealth <50 % of  income poverty line',\n",
              "       'Share of top 1% of wealth', 'Share of top 10% of wealth',\n",
              "       'Share of top 5% of wealth'], dtype=object)"
            ]
          },
          "metadata": {
            "tags": []
          },
          "execution_count": 58
        }
      ]
    },
    {
      "cell_type": "markdown",
      "metadata": {
        "id": "_67gF6kKCsg7",
        "colab_type": "text"
      },
      "source": [
        "### Life Expectancy\n"
      ]
    },
    {
      "cell_type": "code",
      "metadata": {
        "id": "27NJBQ_YCxvq",
        "colab_type": "code",
        "colab": {}
      },
      "source": [
        "url_life_exp = 'https://raw.githubusercontent.com/pvai-umich/SIADS591/master/Data/OECD_Life_Expectancy.csv'\n",
        "dfraw_life_exp = pd.read_csv(url_life_exp)"
      ],
      "execution_count": null,
      "outputs": []
    },
    {
      "cell_type": "code",
      "metadata": {
        "id": "xhoAoO4OC6Ik",
        "colab_type": "code",
        "colab": {}
      },
      "source": [
        "# TODO"
      ],
      "execution_count": null,
      "outputs": []
    },
    {
      "cell_type": "markdown",
      "metadata": {
        "id": "HjLAU3EnnSRd",
        "colab_type": "text"
      },
      "source": [
        "## COVID-19"
      ]
    },
    {
      "cell_type": "markdown",
      "metadata": {
        "id": "X08FqiZbnSRe",
        "colab_type": "text"
      },
      "source": [
        "All attempts to load json via web is throwing an SSL error. We will load locally."
      ]
    },
    {
      "cell_type": "markdown",
      "metadata": {
        "id": "a1Cv24CWnSRe",
        "colab_type": "text"
      },
      "source": [
        "-Method 1\n",
        "-Request fails unless we provide a user-agent\n",
        "api_response = requests.get('https://thevirustracker.com/timeline/map-data.json', headers={\"User-Agent\": \"Chrome\"})\n",
        "covid_stats = api_response.json()"
      ]
    },
    {
      "cell_type": "markdown",
      "metadata": {
        "id": "HlH6aEhonSRf",
        "colab_type": "text"
      },
      "source": [
        "-Method 2\n",
        "response = urlopen('https://thevirustracker.com/timeline/map-data.json')\n",
        "json_data = response.read().decode('utf-8', 'replace')\n",
        "df = json.loads(json_data)"
      ]
    },
    {
      "cell_type": "markdown",
      "metadata": {
        "id": "mkKVLO0OnSRf",
        "colab_type": "text"
      },
      "source": [
        "### Country Covid-19 Stats"
      ]
    },
    {
      "cell_type": "code",
      "metadata": {
        "id": "IICl9BM0nSRg",
        "colab_type": "code",
        "colab": {}
      },
      "source": [
        "#Importing COVID19 Global Data\n",
        "country_stats = pd.read_json(r'covid_full.json')"
      ],
      "execution_count": null,
      "outputs": []
    },
    {
      "cell_type": "code",
      "metadata": {
        "id": "ElTRSi95nSRh",
        "colab_type": "code",
        "colab": {}
      },
      "source": [
        "lst_1=[]\n",
        "for i in country_stats['data']:\n",
        "    for key,value in i.items():\n",
        "        pair=[key,value]\n",
        "        lst_1.append(pair)"
      ],
      "execution_count": null,
      "outputs": []
    },
    {
      "cell_type": "code",
      "metadata": {
        "id": "JzeAsly4nSRj",
        "colab_type": "code",
        "colab": {},
        "outputId": "6350e126-433d-4863-82b6-22688d22931a"
      },
      "source": [
        "pd.DataFrame((lst_1), columns =['Stat', 'Value']) "
      ],
      "execution_count": null,
      "outputs": [
        {
          "output_type": "execute_result",
          "data": {
            "text/html": [
              "<div>\n",
              "<style scoped>\n",
              "    .dataframe tbody tr th:only-of-type {\n",
              "        vertical-align: middle;\n",
              "    }\n",
              "\n",
              "    .dataframe tbody tr th {\n",
              "        vertical-align: top;\n",
              "    }\n",
              "\n",
              "    .dataframe thead th {\n",
              "        text-align: right;\n",
              "    }\n",
              "</style>\n",
              "<table border=\"1\" class=\"dataframe\">\n",
              "  <thead>\n",
              "    <tr style=\"text-align: right;\">\n",
              "      <th></th>\n",
              "      <th>Stat</th>\n",
              "      <th>Value</th>\n",
              "    </tr>\n",
              "  </thead>\n",
              "  <tbody>\n",
              "    <tr>\n",
              "      <th>0</th>\n",
              "      <td>countrycode</td>\n",
              "      <td>AD</td>\n",
              "    </tr>\n",
              "    <tr>\n",
              "      <th>1</th>\n",
              "      <td>date</td>\n",
              "      <td>6/06/20</td>\n",
              "    </tr>\n",
              "    <tr>\n",
              "      <th>2</th>\n",
              "      <td>cases</td>\n",
              "      <td>852</td>\n",
              "    </tr>\n",
              "    <tr>\n",
              "      <th>3</th>\n",
              "      <td>deaths</td>\n",
              "      <td>51</td>\n",
              "    </tr>\n",
              "    <tr>\n",
              "      <th>4</th>\n",
              "      <td>recovered</td>\n",
              "      <td>1</td>\n",
              "    </tr>\n",
              "    <tr>\n",
              "      <th>5</th>\n",
              "      <td>countrycode</td>\n",
              "      <td>AD</td>\n",
              "    </tr>\n",
              "    <tr>\n",
              "      <th>6</th>\n",
              "      <td>date</td>\n",
              "      <td>6/05/20</td>\n",
              "    </tr>\n",
              "    <tr>\n",
              "      <th>7</th>\n",
              "      <td>cases</td>\n",
              "      <td>852</td>\n",
              "    </tr>\n",
              "    <tr>\n",
              "      <th>8</th>\n",
              "      <td>deaths</td>\n",
              "      <td>51</td>\n",
              "    </tr>\n",
              "    <tr>\n",
              "      <th>9</th>\n",
              "      <td>recovered</td>\n",
              "      <td>1</td>\n",
              "    </tr>\n",
              "    <tr>\n",
              "      <th>10</th>\n",
              "      <td>countrycode</td>\n",
              "      <td>AD</td>\n",
              "    </tr>\n",
              "    <tr>\n",
              "      <th>11</th>\n",
              "      <td>date</td>\n",
              "      <td>6/04/20</td>\n",
              "    </tr>\n",
              "    <tr>\n",
              "      <th>12</th>\n",
              "      <td>cases</td>\n",
              "      <td>852</td>\n",
              "    </tr>\n",
              "    <tr>\n",
              "      <th>13</th>\n",
              "      <td>deaths</td>\n",
              "      <td>51</td>\n",
              "    </tr>\n",
              "    <tr>\n",
              "      <th>14</th>\n",
              "      <td>recovered</td>\n",
              "      <td>1</td>\n",
              "    </tr>\n",
              "    <tr>\n",
              "      <th>15</th>\n",
              "      <td>countrycode</td>\n",
              "      <td>AD</td>\n",
              "    </tr>\n",
              "    <tr>\n",
              "      <th>16</th>\n",
              "      <td>date</td>\n",
              "      <td>6/03/20</td>\n",
              "    </tr>\n",
              "    <tr>\n",
              "      <th>17</th>\n",
              "      <td>cases</td>\n",
              "      <td>851</td>\n",
              "    </tr>\n",
              "    <tr>\n",
              "      <th>18</th>\n",
              "      <td>deaths</td>\n",
              "      <td>51</td>\n",
              "    </tr>\n",
              "    <tr>\n",
              "      <th>19</th>\n",
              "      <td>recovered</td>\n",
              "      <td>1</td>\n",
              "    </tr>\n",
              "    <tr>\n",
              "      <th>20</th>\n",
              "      <td>countrycode</td>\n",
              "      <td>AD</td>\n",
              "    </tr>\n",
              "    <tr>\n",
              "      <th>21</th>\n",
              "      <td>date</td>\n",
              "      <td>6/02/20</td>\n",
              "    </tr>\n",
              "    <tr>\n",
              "      <th>22</th>\n",
              "      <td>cases</td>\n",
              "      <td>844</td>\n",
              "    </tr>\n",
              "    <tr>\n",
              "      <th>23</th>\n",
              "      <td>deaths</td>\n",
              "      <td>51</td>\n",
              "    </tr>\n",
              "    <tr>\n",
              "      <th>24</th>\n",
              "      <td>recovered</td>\n",
              "      <td>1</td>\n",
              "    </tr>\n",
              "    <tr>\n",
              "      <th>25</th>\n",
              "      <td>countrycode</td>\n",
              "      <td>AD</td>\n",
              "    </tr>\n",
              "    <tr>\n",
              "      <th>26</th>\n",
              "      <td>date</td>\n",
              "      <td>6/01/20</td>\n",
              "    </tr>\n",
              "    <tr>\n",
              "      <th>27</th>\n",
              "      <td>cases</td>\n",
              "      <td>765</td>\n",
              "    </tr>\n",
              "    <tr>\n",
              "      <th>28</th>\n",
              "      <td>deaths</td>\n",
              "      <td>51</td>\n",
              "    </tr>\n",
              "    <tr>\n",
              "      <th>29</th>\n",
              "      <td>recovered</td>\n",
              "      <td>1</td>\n",
              "    </tr>\n",
              "    <tr>\n",
              "      <th>...</th>\n",
              "      <td>...</td>\n",
              "      <td>...</td>\n",
              "    </tr>\n",
              "    <tr>\n",
              "      <th>178265</th>\n",
              "      <td>countrycode</td>\n",
              "      <td>UA</td>\n",
              "    </tr>\n",
              "    <tr>\n",
              "      <th>178266</th>\n",
              "      <td>date</td>\n",
              "      <td>6/29/20</td>\n",
              "    </tr>\n",
              "    <tr>\n",
              "      <th>178267</th>\n",
              "      <td>cases</td>\n",
              "      <td>44538</td>\n",
              "    </tr>\n",
              "    <tr>\n",
              "      <th>178268</th>\n",
              "      <td>deaths</td>\n",
              "      <td>1161</td>\n",
              "    </tr>\n",
              "    <tr>\n",
              "      <th>178269</th>\n",
              "      <td>recovered</td>\n",
              "      <td>10053</td>\n",
              "    </tr>\n",
              "    <tr>\n",
              "      <th>178270</th>\n",
              "      <td>countrycode</td>\n",
              "      <td>AE</td>\n",
              "    </tr>\n",
              "    <tr>\n",
              "      <th>178271</th>\n",
              "      <td>date</td>\n",
              "      <td>6/29/20</td>\n",
              "    </tr>\n",
              "    <tr>\n",
              "      <th>178272</th>\n",
              "      <td>cases</td>\n",
              "      <td>48246</td>\n",
              "    </tr>\n",
              "    <tr>\n",
              "      <th>178273</th>\n",
              "      <td>deaths</td>\n",
              "      <td>314</td>\n",
              "    </tr>\n",
              "    <tr>\n",
              "      <th>178274</th>\n",
              "      <td>recovered</td>\n",
              "      <td>18338</td>\n",
              "    </tr>\n",
              "    <tr>\n",
              "      <th>178275</th>\n",
              "      <td>countrycode</td>\n",
              "      <td>SE</td>\n",
              "    </tr>\n",
              "    <tr>\n",
              "      <th>178276</th>\n",
              "      <td>date</td>\n",
              "      <td>6/29/20</td>\n",
              "    </tr>\n",
              "    <tr>\n",
              "      <th>178277</th>\n",
              "      <td>cases</td>\n",
              "      <td>67667</td>\n",
              "    </tr>\n",
              "    <tr>\n",
              "      <th>178278</th>\n",
              "      <td>deaths</td>\n",
              "      <td>5310</td>\n",
              "    </tr>\n",
              "    <tr>\n",
              "      <th>178279</th>\n",
              "      <td>recovered</td>\n",
              "      <td>0</td>\n",
              "    </tr>\n",
              "    <tr>\n",
              "      <th>178280</th>\n",
              "      <td>countrycode</td>\n",
              "      <td>IN</td>\n",
              "    </tr>\n",
              "    <tr>\n",
              "      <th>178281</th>\n",
              "      <td>date</td>\n",
              "      <td>6/29/20</td>\n",
              "    </tr>\n",
              "    <tr>\n",
              "      <th>178282</th>\n",
              "      <td>cases</td>\n",
              "      <td>548318</td>\n",
              "    </tr>\n",
              "    <tr>\n",
              "      <th>178283</th>\n",
              "      <td>deaths</td>\n",
              "      <td>16475</td>\n",
              "    </tr>\n",
              "    <tr>\n",
              "      <th>178284</th>\n",
              "      <td>recovered</td>\n",
              "      <td>135206</td>\n",
              "    </tr>\n",
              "    <tr>\n",
              "      <th>178285</th>\n",
              "      <td>countrycode</td>\n",
              "      <td>PK</td>\n",
              "    </tr>\n",
              "    <tr>\n",
              "      <th>178286</th>\n",
              "      <td>date</td>\n",
              "      <td>6/29/20</td>\n",
              "    </tr>\n",
              "    <tr>\n",
              "      <th>178287</th>\n",
              "      <td>cases</td>\n",
              "      <td>206512</td>\n",
              "    </tr>\n",
              "    <tr>\n",
              "      <th>178288</th>\n",
              "      <td>deaths</td>\n",
              "      <td>4167</td>\n",
              "    </tr>\n",
              "    <tr>\n",
              "      <th>178289</th>\n",
              "      <td>recovered</td>\n",
              "      <td>36308</td>\n",
              "    </tr>\n",
              "    <tr>\n",
              "      <th>178290</th>\n",
              "      <td>countrycode</td>\n",
              "      <td>GL</td>\n",
              "    </tr>\n",
              "    <tr>\n",
              "      <th>178291</th>\n",
              "      <td>date</td>\n",
              "      <td>6/29/20</td>\n",
              "    </tr>\n",
              "    <tr>\n",
              "      <th>178292</th>\n",
              "      <td>cases</td>\n",
              "      <td>13</td>\n",
              "    </tr>\n",
              "    <tr>\n",
              "      <th>178293</th>\n",
              "      <td>deaths</td>\n",
              "      <td>0</td>\n",
              "    </tr>\n",
              "    <tr>\n",
              "      <th>178294</th>\n",
              "      <td>recovered</td>\n",
              "      <td>13</td>\n",
              "    </tr>\n",
              "  </tbody>\n",
              "</table>\n",
              "<p>178295 rows × 2 columns</p>\n",
              "</div>"
            ],
            "text/plain": [
              "               Stat    Value\n",
              "0       countrycode       AD\n",
              "1              date  6/06/20\n",
              "2             cases      852\n",
              "3            deaths       51\n",
              "4         recovered        1\n",
              "...             ...      ...\n",
              "178290  countrycode       GL\n",
              "178291         date  6/29/20\n",
              "178292        cases       13\n",
              "178293       deaths        0\n",
              "178294    recovered       13\n",
              "\n",
              "[178295 rows x 2 columns]"
            ]
          },
          "metadata": {
            "tags": []
          },
          "execution_count": 49
        }
      ]
    },
    {
      "cell_type": "markdown",
      "metadata": {
        "id": "eZ6iKiCDnSRl",
        "colab_type": "text"
      },
      "source": [
        "### Global Covid-19 Stats"
      ]
    },
    {
      "cell_type": "code",
      "metadata": {
        "id": "TfrklemJnSRm",
        "colab_type": "code",
        "colab": {}
      },
      "source": [
        "#Importing COVID19 Global Data\n",
        "global_stats = pd.read_json(r'global_stats.json')"
      ],
      "execution_count": null,
      "outputs": []
    },
    {
      "cell_type": "code",
      "metadata": {
        "id": "YtUzSu7lnSRn",
        "colab_type": "code",
        "colab": {}
      },
      "source": [
        "lst=[]\n",
        "for i in global_stats['results']:\n",
        "    for key,value in i.items():\n",
        "        pair=[key,value]\n",
        "        lst.append(pair)"
      ],
      "execution_count": null,
      "outputs": []
    },
    {
      "cell_type": "code",
      "metadata": {
        "id": "pYaCZi9XnSRp",
        "colab_type": "code",
        "colab": {}
      },
      "source": [
        "pd.DataFrame((lst), columns =['Stat', 'Value']) "
      ],
      "execution_count": null,
      "outputs": []
    },
    {
      "cell_type": "markdown",
      "metadata": {
        "id": "zeDfW0c_nSRr",
        "colab_type": "text"
      },
      "source": [
        "## Combining the OECD Data\n",
        "\n",
        "For now, we are combining the various OECD tables on the 'country' key so that we can merge it with COVID data.\n",
        "\n",
        "Data transformation to follow."
      ]
    },
    {
      "cell_type": "code",
      "metadata": {
        "id": "dMhHTAg_nSRr",
        "colab_type": "code",
        "colab": {}
      },
      "source": [
        ""
      ],
      "execution_count": null,
      "outputs": []
    }
  ]
}