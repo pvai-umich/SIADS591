{
 "cells": [
  {
   "cell_type": "markdown",
   "metadata": {
    "colab_type": "text",
    "id": "T6tKTzOYnSRC"
   },
   "source": [
    "# Intro\n",
    "\n",
    "The OECD database is composed of hundreds (if not thousands) of tables that focus on specific economic and social variables. These variables are attirbutable to individual countries, and are generally recorded over time, making them a time series. \n",
    "\n",
    "For the purposes of this analysis, we are only interested in the latest year's data point, which would reflect the most recent characterization of each country's social and economic situation. \n",
    "\n",
    "However, given that we have years of data for each country, there is also the potential to use the change in the variable as a feature of our modeling. For example, rapid improvement in immunization coverage for a country would imply effective health education and could represent a more accurate picture of how the country is better educating the public about a new pandemic versus a country with a higher, but stagnant, immunization record. \n",
    "\n",
    "For now, we are combining the various OECD tables on the 'country' key so that we can merge it with COVID data.\n",
    "\n",
    "Data transformation to follow."
   ]
  },
  {
   "cell_type": "markdown",
   "metadata": {
    "colab_type": "text",
    "id": "vWdO1ltBnSRD"
   },
   "source": [
    "# Loading and Cleaning Data\n",
    "\n",
    "Here we load and clean csv data taken from the OECD database. This includes datasets on the following topics:\n",
    "- Education\n",
    "- Government Debt\n",
    "- Immunization\n",
    "- Demographics / Population\n",
    "- Tourism\n",
    "- Wealth Distribution\n",
    "- Life Expectancy\n",
    "\n",
    "For each dataset, there are multiple columns we are not interested in. Furthermore, for the columns we do want, there are different enteries for that variable, so we need to filter on what we are looking for. \n",
    "\n",
    "The tables and column names are not standardized, so each csv file will have to be cleaned and prepared individually. "
   ]
  },
  {
   "cell_type": "markdown",
   "metadata": {
    "colab_type": "text",
    "id": "0ErXdojBnSRE"
   },
   "source": [
    "### Load Packages"
   ]
  },
  {
   "cell_type": "code",
   "execution_count": 1,
   "metadata": {
    "colab": {},
    "colab_type": "code",
    "id": "Ara0Piq0nSRF"
   },
   "outputs": [],
   "source": [
    "import pandas as pd\n",
    "import numpy as np\n",
    "from urllib.request import urlopen\n",
    "import ssl\n",
    "import json\n",
    "import requests\n",
    "\n",
    "ssl._create_default_https_context = ssl._create_unverified_context"
   ]
  },
  {
   "cell_type": "markdown",
   "metadata": {
    "colab_type": "text",
    "id": "GotHxvPanSRJ"
   },
   "source": [
    "## OECD\n"
   ]
  },
  {
   "cell_type": "markdown",
   "metadata": {
    "colab_type": "text",
    "id": "2xMJi9vZ2JmJ"
   },
   "source": [
    "### Education\n",
    "\n",
    "We hypothesize that a country's education should play a key role in the success rate of the country's approach to COVID. Specifically, a more highly educated country should, in theory, have a more effective approach to dealing with the virus, and should have a populace that better understands public health terminiology, what viruses are, and would be more willing to take the pandemic seriously. \n",
    "\n",
    "So we will focus on the share of population of countries that have a tertiary education level. This is defined on wikipedia as:\n",
    "\n",
    "*Tertiary education, also referred to as third-level, third-stage or post-secondary education, is the educational level following the completion of secondary education. The World Bank, for example, defines tertiary education as including universities as well as trade schools and colleges.*"
   ]
  },
  {
   "cell_type": "code",
   "execution_count": 2,
   "metadata": {
    "colab": {},
    "colab_type": "code",
    "id": "u3p59OlYnSRK"
   },
   "outputs": [],
   "source": [
    "url_edu = 'https://raw.githubusercontent.com/pvai-umich/SIADS591/master/Data/OECD_Education_Statistics.csv'\n",
    "dfraw_edu = pd.read_csv(url_edu)\n"
   ]
  },
  {
   "cell_type": "code",
   "execution_count": 3,
   "metadata": {
    "colab": {
     "base_uri": "https://localhost:8080/",
     "height": 195
    },
    "colab_type": "code",
    "id": "kUVxa7JKnSRM",
    "outputId": "35575d64-dacb-466a-f7d8-5df0cdcb6f37"
   },
   "outputs": [
    {
     "data": {
      "text/html": [
       "<div>\n",
       "<style scoped>\n",
       "    .dataframe tbody tr th:only-of-type {\n",
       "        vertical-align: middle;\n",
       "    }\n",
       "\n",
       "    .dataframe tbody tr th {\n",
       "        vertical-align: top;\n",
       "    }\n",
       "\n",
       "    .dataframe thead th {\n",
       "        text-align: right;\n",
       "    }\n",
       "</style>\n",
       "<table border=\"1\" class=\"dataframe\">\n",
       "  <thead>\n",
       "    <tr style=\"text-align: right;\">\n",
       "      <th></th>\n",
       "      <th>COUNTRY</th>\n",
       "      <th>Country</th>\n",
       "      <th>Gender</th>\n",
       "      <th>ISCED 2011 A education level</th>\n",
       "      <th>Reference Period</th>\n",
       "      <th>Measure</th>\n",
       "      <th>Value</th>\n",
       "    </tr>\n",
       "  </thead>\n",
       "  <tbody>\n",
       "    <tr>\n",
       "      <th>3244</th>\n",
       "      <td>CHN</td>\n",
       "      <td>China (People's Republic of)</td>\n",
       "      <td>Total</td>\n",
       "      <td>Tertiary education</td>\n",
       "      <td>2010.0</td>\n",
       "      <td>Value</td>\n",
       "      <td>9.681174</td>\n",
       "    </tr>\n",
       "    <tr>\n",
       "      <th>3302</th>\n",
       "      <td>IND</td>\n",
       "      <td>India</td>\n",
       "      <td>Total</td>\n",
       "      <td>Tertiary education</td>\n",
       "      <td>2011.0</td>\n",
       "      <td>Value</td>\n",
       "      <td>10.595189</td>\n",
       "    </tr>\n",
       "    <tr>\n",
       "      <th>2846</th>\n",
       "      <td>SAU</td>\n",
       "      <td>Saudi Arabia</td>\n",
       "      <td>Total</td>\n",
       "      <td>Tertiary education</td>\n",
       "      <td>2016.0</td>\n",
       "      <td>Value</td>\n",
       "      <td>23.623922</td>\n",
       "    </tr>\n",
       "    <tr>\n",
       "      <th>2772</th>\n",
       "      <td>CHL</td>\n",
       "      <td>Chile</td>\n",
       "      <td>Total</td>\n",
       "      <td>Tertiary education</td>\n",
       "      <td>2017.0</td>\n",
       "      <td>Value</td>\n",
       "      <td>25.168179</td>\n",
       "    </tr>\n",
       "    <tr>\n",
       "      <th>2757</th>\n",
       "      <td>RUS</td>\n",
       "      <td>Russia</td>\n",
       "      <td>Total</td>\n",
       "      <td>Tertiary education</td>\n",
       "      <td>2017.0</td>\n",
       "      <td>Value</td>\n",
       "      <td>56.700150</td>\n",
       "    </tr>\n",
       "  </tbody>\n",
       "</table>\n",
       "</div>"
      ],
      "text/plain": [
       "     COUNTRY                       Country Gender  \\\n",
       "3244     CHN  China (People's Republic of)  Total   \n",
       "3302     IND                         India  Total   \n",
       "2846     SAU                  Saudi Arabia  Total   \n",
       "2772     CHL                         Chile  Total   \n",
       "2757     RUS                        Russia  Total   \n",
       "\n",
       "     ISCED 2011 A education level  Reference Period Measure      Value  \n",
       "3244           Tertiary education            2010.0   Value   9.681174  \n",
       "3302           Tertiary education            2011.0   Value  10.595189  \n",
       "2846           Tertiary education            2016.0   Value  23.623922  \n",
       "2772           Tertiary education            2017.0   Value  25.168179  \n",
       "2757           Tertiary education            2017.0   Value  56.700150  "
      ]
     },
     "execution_count": 3,
     "metadata": {},
     "output_type": "execute_result"
    }
   ],
   "source": [
    "columns_to_use = ['COUNTRY', 'Country', 'Gender', 'ISCED 2011 A education level', 'Reference Period', 'Measure', 'Value']\n",
    "\n",
    "# Only select the columns we want to use\n",
    "df_edu = dfraw_edu[columns_to_use]\n",
    "\n",
    "# filter some of the columns to include the variables we want to see\n",
    "df_edu = df_edu[df_edu['ISCED 2011 A education level'] == \"Tertiary education\"]\n",
    "df_edu = df_edu[df_edu['Gender'] == \"Total\"]\n",
    "df_edu = df_edu[df_edu['Measure'] == \"Value\"]\n",
    "\n",
    "# Choose the latest datapoint for each country\n",
    "df_edu = df_edu.sort_values('Reference Period').groupby('Country').tail(1)\n",
    "\n",
    "# This final dataframe contains the share of each country's population that has a tertiary education. \n",
    "df_edu.head()\n"
   ]
  },
  {
   "cell_type": "code",
   "execution_count": 4,
   "metadata": {
    "colab": {
     "base_uri": "https://localhost:8080/",
     "height": 195
    },
    "colab_type": "code",
    "id": "UJT33i0WnSRP",
    "outputId": "16e86fe8-dd4e-4ef1-ebfb-9943fa8d48d4"
   },
   "outputs": [
    {
     "data": {
      "text/html": [
       "<div>\n",
       "<style scoped>\n",
       "    .dataframe tbody tr th:only-of-type {\n",
       "        vertical-align: middle;\n",
       "    }\n",
       "\n",
       "    .dataframe tbody tr th {\n",
       "        vertical-align: top;\n",
       "    }\n",
       "\n",
       "    .dataframe thead th {\n",
       "        text-align: right;\n",
       "    }\n",
       "</style>\n",
       "<table border=\"1\" class=\"dataframe\">\n",
       "  <thead>\n",
       "    <tr style=\"text-align: right;\">\n",
       "      <th></th>\n",
       "      <th>ISO</th>\n",
       "      <th>Country</th>\n",
       "      <th>Tertiary_Education_Pct</th>\n",
       "    </tr>\n",
       "  </thead>\n",
       "  <tbody>\n",
       "    <tr>\n",
       "      <th>3244</th>\n",
       "      <td>CHN</td>\n",
       "      <td>China (People's Republic of)</td>\n",
       "      <td>9.681174</td>\n",
       "    </tr>\n",
       "    <tr>\n",
       "      <th>3302</th>\n",
       "      <td>IND</td>\n",
       "      <td>India</td>\n",
       "      <td>10.595189</td>\n",
       "    </tr>\n",
       "    <tr>\n",
       "      <th>2846</th>\n",
       "      <td>SAU</td>\n",
       "      <td>Saudi Arabia</td>\n",
       "      <td>23.623922</td>\n",
       "    </tr>\n",
       "    <tr>\n",
       "      <th>2772</th>\n",
       "      <td>CHL</td>\n",
       "      <td>Chile</td>\n",
       "      <td>25.168179</td>\n",
       "    </tr>\n",
       "    <tr>\n",
       "      <th>2757</th>\n",
       "      <td>RUS</td>\n",
       "      <td>Russia</td>\n",
       "      <td>56.700150</td>\n",
       "    </tr>\n",
       "  </tbody>\n",
       "</table>\n",
       "</div>"
      ],
      "text/plain": [
       "      ISO                       Country  Tertiary_Education_Pct\n",
       "3244  CHN  China (People's Republic of)                9.681174\n",
       "3302  IND                         India               10.595189\n",
       "2846  SAU                  Saudi Arabia               23.623922\n",
       "2772  CHL                         Chile               25.168179\n",
       "2757  RUS                        Russia               56.700150"
      ]
     },
     "execution_count": 4,
     "metadata": {},
     "output_type": "execute_result"
    }
   ],
   "source": [
    "# But lets reduce this table down to what we'll be combining together later.\n",
    "# A simple country-variable table.\n",
    "\n",
    "df_edu = df_edu[['COUNTRY', 'Country', 'Value']]\n",
    "df_edu.columns = ['ISO', 'Country', 'Tertiary_Education_Pct']\n",
    "df_edu.head()"
   ]
  },
  {
   "cell_type": "markdown",
   "metadata": {
    "colab_type": "text",
    "id": "hl7FyfCbnSRR"
   },
   "source": [
    "### Debt\n",
    "\n",
    "The Debt dataset from the OECD has various government-level debt statistics. Our focus here will be on the total debt-to-GDP ratio, as it helps us look at a normalized measure, rather than needing to adjust absolute debt levels across different sized countries.\n",
    "\n",
    "Our hypothesis is a little mixed. On the surface, one would expect that a heavily indebted country is not wealthy and might have to skimp on health care spending at a time of a pandemic. Or conversely, wouldn't have room to borrow more. However, anecdotally, Japan is one of the most indebted countries in the World, but is highly developed, has a great health care system, and can easily increase its debt levels. This might be a difficult variable to gain insights on."
   ]
  },
  {
   "cell_type": "code",
   "execution_count": 5,
   "metadata": {
    "colab": {},
    "colab_type": "code",
    "id": "YFZQDoH7nSRR"
   },
   "outputs": [],
   "source": [
    "# Load the Debt Data\n",
    "url_debt = 'https://raw.githubusercontent.com/pvai-umich/SIADS591/master/Data/OECD_Government_Debt.csv'\n",
    "dfraw_debt = pd.read_csv(url_debt)"
   ]
  },
  {
   "cell_type": "code",
   "execution_count": 6,
   "metadata": {
    "colab": {
     "base_uri": "https://localhost:8080/",
     "height": 195
    },
    "colab_type": "code",
    "id": "JR8WcHCAoZLk",
    "outputId": "b6a2b2cb-d6b7-4847-9bab-377fecc94acb"
   },
   "outputs": [
    {
     "data": {
      "text/html": [
       "<div>\n",
       "<style scoped>\n",
       "    .dataframe tbody tr th:only-of-type {\n",
       "        vertical-align: middle;\n",
       "    }\n",
       "\n",
       "    .dataframe tbody tr th {\n",
       "        vertical-align: top;\n",
       "    }\n",
       "\n",
       "    .dataframe thead th {\n",
       "        text-align: right;\n",
       "    }\n",
       "</style>\n",
       "<table border=\"1\" class=\"dataframe\">\n",
       "  <thead>\n",
       "    <tr style=\"text-align: right;\">\n",
       "      <th></th>\n",
       "      <th>ISO</th>\n",
       "      <th>Country</th>\n",
       "      <th>Debt_to_GDP</th>\n",
       "    </tr>\n",
       "  </thead>\n",
       "  <tbody>\n",
       "    <tr>\n",
       "      <th>208</th>\n",
       "      <td>JPN</td>\n",
       "      <td>Japan</td>\n",
       "      <td>183.530</td>\n",
       "    </tr>\n",
       "    <tr>\n",
       "      <th>278</th>\n",
       "      <td>NZL</td>\n",
       "      <td>New Zealand</td>\n",
       "      <td>30.450</td>\n",
       "    </tr>\n",
       "    <tr>\n",
       "      <th>264</th>\n",
       "      <td>NLD</td>\n",
       "      <td>Netherlands</td>\n",
       "      <td>51.845</td>\n",
       "    </tr>\n",
       "    <tr>\n",
       "      <th>320</th>\n",
       "      <td>PRT</td>\n",
       "      <td>Portugal</td>\n",
       "      <td>87.962</td>\n",
       "    </tr>\n",
       "    <tr>\n",
       "      <th>27</th>\n",
       "      <td>AUT</td>\n",
       "      <td>Austria</td>\n",
       "      <td>65.754</td>\n",
       "    </tr>\n",
       "  </tbody>\n",
       "</table>\n",
       "</div>"
      ],
      "text/plain": [
       "     ISO      Country  Debt_to_GDP\n",
       "208  JPN        Japan      183.530\n",
       "278  NZL  New Zealand       30.450\n",
       "264  NLD  Netherlands       51.845\n",
       "320  PRT     Portugal       87.962\n",
       "27   AUT      Austria       65.754"
      ]
     },
     "execution_count": 6,
     "metadata": {},
     "output_type": "execute_result"
    }
   ],
   "source": [
    "# Choose the latest data point for each country\n",
    "df_debt = dfraw_debt.sort_values('Time period').groupby('Country').tail(1)\n",
    "\n",
    "# Choose the columns we want and rename them.\n",
    "df_debt = df_debt[['COU', 'Country', 'Value']]\n",
    "df_debt.columns = ['ISO', 'Country', 'Debt_to_GDP']\n",
    "\n",
    "# Check to make sure it looks ok\n",
    "df_debt.head()"
   ]
  },
  {
   "cell_type": "markdown",
   "metadata": {
    "colab_type": "text",
    "id": "TnBi6d2SnSRT"
   },
   "source": [
    "### Immunization\n",
    "\n",
    "OECD also has a slew of health care data. It is not a health care organization however, so we don't want to rely too heavily on medical statistics from this source, however, they do have useful macro level information that is insightful. \n",
    "\n",
    "One of these variables is the percentage of individuals over 65 that are immunized for the flu. Unfortunately this isn't a statistic they have for the full population, but it is still a good proxy for how open a country is to public health initiatives, and how seriously they take flu-like diseases. \n",
    "\n",
    "Our hypothesis would be that the higher the level of immunization, the more successful a country is at combatting COVID.\n"
   ]
  },
  {
   "cell_type": "code",
   "execution_count": 7,
   "metadata": {
    "colab": {},
    "colab_type": "code",
    "id": "iY5Lme7lnSRU"
   },
   "outputs": [],
   "source": [
    "# Load Immunization Data\n",
    "url_imm = 'https://raw.githubusercontent.com/pvai-umich/SIADS591/master/Data/OECD_Immunization_Statistics.csv'\n",
    "dfraw_imm = pd.read_csv(url_imm)\n"
   ]
  },
  {
   "cell_type": "code",
   "execution_count": 8,
   "metadata": {
    "colab": {
     "base_uri": "https://localhost:8080/",
     "height": 195
    },
    "colab_type": "code",
    "id": "29XprDLCrJOr",
    "outputId": "98b5a066-1ecf-4dee-f52f-0214a5270eef"
   },
   "outputs": [
    {
     "data": {
      "text/html": [
       "<div>\n",
       "<style scoped>\n",
       "    .dataframe tbody tr th:only-of-type {\n",
       "        vertical-align: middle;\n",
       "    }\n",
       "\n",
       "    .dataframe tbody tr th {\n",
       "        vertical-align: top;\n",
       "    }\n",
       "\n",
       "    .dataframe thead th {\n",
       "        text-align: right;\n",
       "    }\n",
       "</style>\n",
       "<table border=\"1\" class=\"dataframe\">\n",
       "  <thead>\n",
       "    <tr style=\"text-align: right;\">\n",
       "      <th></th>\n",
       "      <th>ISO</th>\n",
       "      <th>Country</th>\n",
       "      <th>Pct_65_Immunized_Flu</th>\n",
       "    </tr>\n",
       "  </thead>\n",
       "  <tbody>\n",
       "    <tr>\n",
       "      <th>6</th>\n",
       "      <td>AUS</td>\n",
       "      <td>Australia</td>\n",
       "      <td>74.6</td>\n",
       "    </tr>\n",
       "    <tr>\n",
       "      <th>351</th>\n",
       "      <td>CHE</td>\n",
       "      <td>Switzerland</td>\n",
       "      <td>46.0</td>\n",
       "    </tr>\n",
       "    <tr>\n",
       "      <th>8</th>\n",
       "      <td>AUT</td>\n",
       "      <td>Austria</td>\n",
       "      <td>20.3</td>\n",
       "    </tr>\n",
       "    <tr>\n",
       "      <th>271</th>\n",
       "      <td>POL</td>\n",
       "      <td>Poland</td>\n",
       "      <td>9.7</td>\n",
       "    </tr>\n",
       "    <tr>\n",
       "      <th>224</th>\n",
       "      <td>MEX</td>\n",
       "      <td>Mexico</td>\n",
       "      <td>82.3</td>\n",
       "    </tr>\n",
       "  </tbody>\n",
       "</table>\n",
       "</div>"
      ],
      "text/plain": [
       "     ISO      Country  Pct_65_Immunized_Flu\n",
       "6    AUS    Australia                  74.6\n",
       "351  CHE  Switzerland                  46.0\n",
       "8    AUT      Austria                  20.3\n",
       "271  POL       Poland                   9.7\n",
       "224  MEX       Mexico                  82.3"
      ]
     },
     "execution_count": 8,
     "metadata": {},
     "output_type": "execute_result"
    }
   ],
   "source": [
    "# Choose the latest data point for each country\n",
    "df_imm = dfraw_imm.sort_values('Year').groupby('Country').tail(1)\n",
    "\n",
    "# Choose the columns we want and rename them.\n",
    "df_imm = df_imm[['COU', 'Country', 'Value']]\n",
    "df_imm.columns = ['ISO', 'Country', 'Pct_65_Immunized_Flu']\n",
    "\n",
    "# Check to make sure it looks ok\n",
    "df_imm.head()"
   ]
  },
  {
   "cell_type": "markdown",
   "metadata": {
    "colab_type": "text",
    "id": "k_4pILBgnSRW"
   },
   "source": [
    "### Population / Demographics\n",
    "\n",
    "OECD offers a slew of population and demographic data for global countries. Our variable of interest is regarding age demographics of countries. Specifically we will look at the Old Age Dependency Ratio. This is the ratio of a country's old-age population (>65 years) to the rest of the population. Our hypothesis is there is a positive correlation between COVID success and this ratio\n"
   ]
  },
  {
   "cell_type": "code",
   "execution_count": 9,
   "metadata": {
    "colab": {},
    "colab_type": "code",
    "id": "hWMYQWtlnSRW"
   },
   "outputs": [],
   "source": [
    "# Load the Demographics Data\n",
    "url_pop = 'https://raw.githubusercontent.com/pvai-umich/SIADS591/master/Data/OECD_Population_Statistics.csv'\n",
    "dfraw_pop = pd.read_csv(url_pop)"
   ]
  },
  {
   "cell_type": "code",
   "execution_count": 10,
   "metadata": {
    "colab": {
     "base_uri": "https://localhost:8080/",
     "height": 195
    },
    "colab_type": "code",
    "id": "X7oz4wQk8obB",
    "outputId": "5f2cf19f-4b3a-4251-b0a0-bd6c91b1fd59"
   },
   "outputs": [
    {
     "data": {
      "text/html": [
       "<div>\n",
       "<style scoped>\n",
       "    .dataframe tbody tr th:only-of-type {\n",
       "        vertical-align: middle;\n",
       "    }\n",
       "\n",
       "    .dataframe tbody tr th {\n",
       "        vertical-align: top;\n",
       "    }\n",
       "\n",
       "    .dataframe thead th {\n",
       "        text-align: right;\n",
       "    }\n",
       "</style>\n",
       "<table border=\"1\" class=\"dataframe\">\n",
       "  <thead>\n",
       "    <tr style=\"text-align: right;\">\n",
       "      <th></th>\n",
       "      <th>ISO</th>\n",
       "      <th>Country</th>\n",
       "      <th>Old_Age_Ratio</th>\n",
       "    </tr>\n",
       "  </thead>\n",
       "  <tbody>\n",
       "    <tr>\n",
       "      <th>58757</th>\n",
       "      <td>EU28</td>\n",
       "      <td>European Union (28 countries)</td>\n",
       "      <td>19.849</td>\n",
       "    </tr>\n",
       "    <tr>\n",
       "      <th>58715</th>\n",
       "      <td>G20</td>\n",
       "      <td>G20</td>\n",
       "      <td>11.037</td>\n",
       "    </tr>\n",
       "    <tr>\n",
       "      <th>58673</th>\n",
       "      <td>WLD</td>\n",
       "      <td>World</td>\n",
       "      <td>8.921</td>\n",
       "    </tr>\n",
       "    <tr>\n",
       "      <th>57623</th>\n",
       "      <td>TUR</td>\n",
       "      <td>Turkey</td>\n",
       "      <td>8.649</td>\n",
       "    </tr>\n",
       "    <tr>\n",
       "      <th>58589</th>\n",
       "      <td>SVN</td>\n",
       "      <td>Slovenia</td>\n",
       "      <td>19.670</td>\n",
       "    </tr>\n",
       "  </tbody>\n",
       "</table>\n",
       "</div>"
      ],
      "text/plain": [
       "        ISO                        Country  Old_Age_Ratio\n",
       "58757  EU28  European Union (28 countries)         19.849\n",
       "58715   G20                            G20         11.037\n",
       "58673   WLD                          World          8.921\n",
       "57623   TUR                         Turkey          8.649\n",
       "58589   SVN                       Slovenia         19.670"
      ]
     },
     "execution_count": 10,
     "metadata": {},
     "output_type": "execute_result"
    }
   ],
   "source": [
    "# Create an old age ratio dataframe\n",
    "df_oldage = dfraw_pop[dfraw_pop['AGE'] == \"65_OVER_SHARE\"]\n",
    "df_oldage = df_oldage[df_oldage['Sex'] == \"Total\"]\n",
    "\n",
    "# Choose the latest data point for each country\n",
    "df_oldage = df_oldage.sort_values('Time').groupby('Country').tail(1)\n",
    "\n",
    "# Choose the columns we want and rename them.\n",
    "df_oldage = df_oldage[['LOCATION', 'Country', 'Value']]\n",
    "df_oldage.columns = ['ISO', 'Country', 'Old_Age_Ratio']\n",
    "\n",
    "# Check to make sure it looks ok\n",
    "df_oldage.head()"
   ]
  },
  {
   "cell_type": "markdown",
   "metadata": {
    "colab_type": "text",
    "id": "5mQ4_zXonSRY"
   },
   "source": [
    "### Tourism"
   ]
  },
  {
   "cell_type": "code",
   "execution_count": 11,
   "metadata": {
    "colab": {},
    "colab_type": "code",
    "id": "WyxP_CNPnSRZ"
   },
   "outputs": [],
   "source": [
    "url_tour = 'https://raw.githubusercontent.com/pvai-umich/SIADS591/master/Data/OECD_Tourism_Statistics.csv'\n",
    "dfraw_tour = pd.read_csv(url_tour)\n"
   ]
  },
  {
   "cell_type": "code",
   "execution_count": 12,
   "metadata": {
    "colab": {
     "base_uri": "https://localhost:8080/",
     "height": 195
    },
    "colab_type": "code",
    "id": "1cRLUtnxA-10",
    "outputId": "1d856a22-b198-4632-b693-bfa2ff2047b6"
   },
   "outputs": [
    {
     "data": {
      "text/html": [
       "<div>\n",
       "<style scoped>\n",
       "    .dataframe tbody tr th:only-of-type {\n",
       "        vertical-align: middle;\n",
       "    }\n",
       "\n",
       "    .dataframe tbody tr th {\n",
       "        vertical-align: top;\n",
       "    }\n",
       "\n",
       "    .dataframe thead th {\n",
       "        text-align: right;\n",
       "    }\n",
       "</style>\n",
       "<table border=\"1\" class=\"dataframe\">\n",
       "  <thead>\n",
       "    <tr style=\"text-align: right;\">\n",
       "      <th></th>\n",
       "      <th>ISO</th>\n",
       "      <th>Country</th>\n",
       "      <th>Tourism_Pct_GDP</th>\n",
       "    </tr>\n",
       "  </thead>\n",
       "  <tbody>\n",
       "    <tr>\n",
       "      <th>564</th>\n",
       "      <td>MLT</td>\n",
       "      <td>Malta</td>\n",
       "      <td>6.129</td>\n",
       "    </tr>\n",
       "    <tr>\n",
       "      <th>119</th>\n",
       "      <td>IND</td>\n",
       "      <td>India</td>\n",
       "      <td>3.759</td>\n",
       "    </tr>\n",
       "    <tr>\n",
       "      <th>108</th>\n",
       "      <td>EGY</td>\n",
       "      <td>Egypt</td>\n",
       "      <td>4.258</td>\n",
       "    </tr>\n",
       "    <tr>\n",
       "      <th>115</th>\n",
       "      <td>EST</td>\n",
       "      <td>Estonia</td>\n",
       "      <td>5.428</td>\n",
       "    </tr>\n",
       "    <tr>\n",
       "      <th>66</th>\n",
       "      <td>POL</td>\n",
       "      <td>Poland</td>\n",
       "      <td>1.175</td>\n",
       "    </tr>\n",
       "  </tbody>\n",
       "</table>\n",
       "</div>"
      ],
      "text/plain": [
       "     ISO  Country  Tourism_Pct_GDP\n",
       "564  MLT    Malta            6.129\n",
       "119  IND    India            3.759\n",
       "108  EGY    Egypt            4.258\n",
       "115  EST  Estonia            5.428\n",
       "66   POL   Poland            1.175"
      ]
     },
     "execution_count": 12,
     "metadata": {},
     "output_type": "execute_result"
    }
   ],
   "source": [
    "# We'll create two separate dataframes from the tourism table\n",
    "# Tourism as % of GDP (Do a lot of people come to the country)\n",
    "# and Tourism as % of Total Employment (do a lot of people interact with foreigners)\n",
    "\n",
    "# Create Tourism as % of GDP dataframe\n",
    "df_tour_gdp = dfraw_tour[dfraw_tour['KEY_IND_PC'] == \"KEYIND_TOURGDPPC\"]\n",
    "\n",
    "# Choose the latest data point for each country\n",
    "df_tour_gdp = df_tour_gdp.sort_values('Year').groupby('Country').tail(1)\n",
    "\n",
    "# Choose the columns we want and rename them.\n",
    "df_tour_gdp = df_tour_gdp[['COUNTRY', 'Country', 'Value']]\n",
    "df_tour_gdp.columns = ['ISO', 'Country', 'Tourism_Pct_GDP']\n",
    "\n",
    "# Check to make sure it looks ok\n",
    "df_tour_gdp.head()\n",
    "\n"
   ]
  },
  {
   "cell_type": "code",
   "execution_count": 13,
   "metadata": {
    "colab": {
     "base_uri": "https://localhost:8080/",
     "height": 195
    },
    "colab_type": "code",
    "id": "pnzSMg-oBv8E",
    "outputId": "ff2e5de1-f6c2-4c84-e601-483648eab51a"
   },
   "outputs": [
    {
     "data": {
      "text/html": [
       "<div>\n",
       "<style scoped>\n",
       "    .dataframe tbody tr th:only-of-type {\n",
       "        vertical-align: middle;\n",
       "    }\n",
       "\n",
       "    .dataframe tbody tr th {\n",
       "        vertical-align: top;\n",
       "    }\n",
       "\n",
       "    .dataframe thead th {\n",
       "        text-align: right;\n",
       "    }\n",
       "</style>\n",
       "<table border=\"1\" class=\"dataframe\">\n",
       "  <thead>\n",
       "    <tr style=\"text-align: right;\">\n",
       "      <th></th>\n",
       "      <th>ISO</th>\n",
       "      <th>Country</th>\n",
       "      <th>Tourism_Pct_Employment</th>\n",
       "    </tr>\n",
       "  </thead>\n",
       "  <tbody>\n",
       "    <tr>\n",
       "      <th>387</th>\n",
       "      <td>ARG</td>\n",
       "      <td>Argentina</td>\n",
       "      <td>10.17</td>\n",
       "    </tr>\n",
       "    <tr>\n",
       "      <th>460</th>\n",
       "      <td>IND</td>\n",
       "      <td>India</td>\n",
       "      <td>5.31</td>\n",
       "    </tr>\n",
       "    <tr>\n",
       "      <th>465</th>\n",
       "      <td>IDN</td>\n",
       "      <td>Indonesia</td>\n",
       "      <td>8.37</td>\n",
       "    </tr>\n",
       "    <tr>\n",
       "      <th>577</th>\n",
       "      <td>PER</td>\n",
       "      <td>Peru</td>\n",
       "      <td>3.82</td>\n",
       "    </tr>\n",
       "    <tr>\n",
       "      <th>282</th>\n",
       "      <td>ITA</td>\n",
       "      <td>Italy</td>\n",
       "      <td>8.30</td>\n",
       "    </tr>\n",
       "  </tbody>\n",
       "</table>\n",
       "</div>"
      ],
      "text/plain": [
       "     ISO    Country  Tourism_Pct_Employment\n",
       "387  ARG  Argentina                   10.17\n",
       "460  IND      India                    5.31\n",
       "465  IDN  Indonesia                    8.37\n",
       "577  PER       Peru                    3.82\n",
       "282  ITA      Italy                    8.30"
      ]
     },
     "execution_count": 13,
     "metadata": {},
     "output_type": "execute_result"
    }
   ],
   "source": [
    "# Create Toursim employment as % of Total\n",
    "df_tour_emp = dfraw_tour[dfraw_tour['KEY_IND_PC'] == \"KEYIND_TOUREMPDIRECTPC\"]\n",
    "\n",
    "# Choose the latest data point for each country\n",
    "df_tour_emp = df_tour_emp.sort_values('Year').groupby('Country').tail(1)\n",
    "\n",
    "# Choose the columns we want and rename them.\n",
    "df_tour_emp = df_tour_emp[['COUNTRY', 'Country', 'Value']]\n",
    "df_tour_emp.columns = ['ISO', 'Country', 'Tourism_Pct_Employment']\n",
    "\n",
    "# Check to make sure it looks ok\n",
    "df_tour_emp.head()"
   ]
  },
  {
   "cell_type": "markdown",
   "metadata": {
    "colab_type": "text",
    "id": "_zBIxCzFnSRa"
   },
   "source": [
    "### Wealth Distribution"
   ]
  },
  {
   "cell_type": "code",
   "execution_count": 14,
   "metadata": {
    "colab": {},
    "colab_type": "code",
    "id": "RAb7K-yGnSRb"
   },
   "outputs": [],
   "source": [
    "url_wealth = 'https://raw.githubusercontent.com/pvai-umich/SIADS591/master/Data/OECD_Wealth_Distribution_Statistics.csv'\n",
    "dfraw_wealth = pd.read_csv(url_wealth)"
   ]
  },
  {
   "cell_type": "code",
   "execution_count": 15,
   "metadata": {
    "colab": {
     "base_uri": "https://localhost:8080/",
     "height": 195
    },
    "colab_type": "code",
    "id": "6Le53tLsCpmk",
    "outputId": "f663c792-4e7d-4e01-bcb5-5b4b7747c264"
   },
   "outputs": [
    {
     "data": {
      "text/html": [
       "<div>\n",
       "<style scoped>\n",
       "    .dataframe tbody tr th:only-of-type {\n",
       "        vertical-align: middle;\n",
       "    }\n",
       "\n",
       "    .dataframe tbody tr th {\n",
       "        vertical-align: top;\n",
       "    }\n",
       "\n",
       "    .dataframe thead th {\n",
       "        text-align: right;\n",
       "    }\n",
       "</style>\n",
       "<table border=\"1\" class=\"dataframe\">\n",
       "  <thead>\n",
       "    <tr style=\"text-align: right;\">\n",
       "      <th></th>\n",
       "      <th>ISO</th>\n",
       "      <th>Country</th>\n",
       "      <th>Top_10pct_Share</th>\n",
       "    </tr>\n",
       "  </thead>\n",
       "  <tbody>\n",
       "    <tr>\n",
       "      <th>268</th>\n",
       "      <td>ESP</td>\n",
       "      <td>Spain</td>\n",
       "      <td>45.577541</td>\n",
       "    </tr>\n",
       "    <tr>\n",
       "      <th>752</th>\n",
       "      <td>PRT</td>\n",
       "      <td>Portugal</td>\n",
       "      <td>52.127502</td>\n",
       "    </tr>\n",
       "    <tr>\n",
       "      <th>487</th>\n",
       "      <td>IRL</td>\n",
       "      <td>Ireland</td>\n",
       "      <td>53.792400</td>\n",
       "    </tr>\n",
       "    <tr>\n",
       "      <th>325</th>\n",
       "      <td>FIN</td>\n",
       "      <td>Finland</td>\n",
       "      <td>45.231823</td>\n",
       "    </tr>\n",
       "    <tr>\n",
       "      <th>288</th>\n",
       "      <td>EST</td>\n",
       "      <td>Estonia</td>\n",
       "      <td>55.713390</td>\n",
       "    </tr>\n",
       "  </tbody>\n",
       "</table>\n",
       "</div>"
      ],
      "text/plain": [
       "     ISO   Country  Top_10pct_Share\n",
       "268  ESP     Spain        45.577541\n",
       "752  PRT  Portugal        52.127502\n",
       "487  IRL   Ireland        53.792400\n",
       "325  FIN   Finland        45.231823\n",
       "288  EST   Estonia        55.713390"
      ]
     },
     "execution_count": 15,
     "metadata": {},
     "output_type": "execute_result"
    }
   ],
   "source": [
    "# Create two dataframes from the wealth distirbution table. The focus is on\n",
    "# inequality is the focus of the data.\n",
    "# Share of top 10% wealth (how rich are the super-rich)\n",
    "# Share of bottom 60% of wealth (how poor is the bottom half)\n",
    "dfraw_wealth.head()\n",
    "\n",
    "# First, create the top 10pct dataframe\n",
    "df_top_10pct_share = dfraw_wealth[dfraw_wealth['Variable'] == 'Share of top 10% of wealth']\n",
    "\n",
    "# Choose the latest data point for each country\n",
    "df_top_10pct_share = df_top_10pct_share.sort_values('Time').groupby('Country').tail(1)\n",
    "\n",
    "# Choose the columns we want and rename them.\n",
    "df_top_10pct_share = df_top_10pct_share[['COUNTRY', 'Country', 'Value']]\n",
    "df_top_10pct_share.columns = ['ISO', 'Country', 'Top_10pct_Share']\n",
    "\n",
    "# Check to make sure it looks ok\n",
    "df_top_10pct_share.head()\n"
   ]
  },
  {
   "cell_type": "code",
   "execution_count": 16,
   "metadata": {
    "colab": {
     "base_uri": "https://localhost:8080/",
     "height": 195
    },
    "colab_type": "code",
    "id": "DhvJ1hzYjQyl",
    "outputId": "a22b4ee5-c917-490e-e93a-95213432b561"
   },
   "outputs": [
    {
     "data": {
      "text/html": [
       "<div>\n",
       "<style scoped>\n",
       "    .dataframe tbody tr th:only-of-type {\n",
       "        vertical-align: middle;\n",
       "    }\n",
       "\n",
       "    .dataframe tbody tr th {\n",
       "        vertical-align: top;\n",
       "    }\n",
       "\n",
       "    .dataframe thead th {\n",
       "        text-align: right;\n",
       "    }\n",
       "</style>\n",
       "<table border=\"1\" class=\"dataframe\">\n",
       "  <thead>\n",
       "    <tr style=\"text-align: right;\">\n",
       "      <th></th>\n",
       "      <th>ISO</th>\n",
       "      <th>Country</th>\n",
       "      <th>Bottom_60pct_Share</th>\n",
       "    </tr>\n",
       "  </thead>\n",
       "  <tbody>\n",
       "    <tr>\n",
       "      <th>252</th>\n",
       "      <td>ESP</td>\n",
       "      <td>Spain</td>\n",
       "      <td>18.664709</td>\n",
       "    </tr>\n",
       "    <tr>\n",
       "      <th>280</th>\n",
       "      <td>EST</td>\n",
       "      <td>Estonia</td>\n",
       "      <td>12.786300</td>\n",
       "    </tr>\n",
       "    <tr>\n",
       "      <th>736</th>\n",
       "      <td>PRT</td>\n",
       "      <td>Portugal</td>\n",
       "      <td>12.422934</td>\n",
       "    </tr>\n",
       "    <tr>\n",
       "      <th>479</th>\n",
       "      <td>IRL</td>\n",
       "      <td>Ireland</td>\n",
       "      <td>7.184053</td>\n",
       "    </tr>\n",
       "    <tr>\n",
       "      <th>309</th>\n",
       "      <td>FIN</td>\n",
       "      <td>Finland</td>\n",
       "      <td>13.552249</td>\n",
       "    </tr>\n",
       "  </tbody>\n",
       "</table>\n",
       "</div>"
      ],
      "text/plain": [
       "     ISO   Country  Bottom_60pct_Share\n",
       "252  ESP     Spain           18.664709\n",
       "280  EST   Estonia           12.786300\n",
       "736  PRT  Portugal           12.422934\n",
       "479  IRL   Ireland            7.184053\n",
       "309  FIN   Finland           13.552249"
      ]
     },
     "execution_count": 16,
     "metadata": {},
     "output_type": "execute_result"
    }
   ],
   "source": [
    "# Create the bottom 60% dataframe\n",
    "\n",
    "df_bottom_60pct_share = dfraw_wealth[dfraw_wealth['Variable'] == 'Share of bottom 60% of wealth']\n",
    "\n",
    "# Choose the latest data point for each country\n",
    "df_bottom_60pct_share = df_bottom_60pct_share.sort_values('Time').groupby('Country').tail(1)\n",
    "\n",
    "# Choose the columns we want and rename them.\n",
    "df_bottom_60pct_share = df_bottom_60pct_share[['COUNTRY', 'Country', 'Value']]\n",
    "df_bottom_60pct_share.columns = ['ISO', 'Country', 'Bottom_60pct_Share']\n",
    "\n",
    "# Check to make sure it looks ok\n",
    "df_bottom_60pct_share.head()"
   ]
  },
  {
   "cell_type": "markdown",
   "metadata": {
    "colab_type": "text",
    "id": "_67gF6kKCsg7"
   },
   "source": [
    "### Life Expectancy\n"
   ]
  },
  {
   "cell_type": "code",
   "execution_count": 17,
   "metadata": {
    "colab": {},
    "colab_type": "code",
    "id": "27NJBQ_YCxvq"
   },
   "outputs": [],
   "source": [
    "url_life_exp = 'https://raw.githubusercontent.com/pvai-umich/SIADS591/master/Data/OECD_Life_Expectancy.csv'\n",
    "dfraw_life_exp = pd.read_csv(url_life_exp)"
   ]
  },
  {
   "cell_type": "code",
   "execution_count": 18,
   "metadata": {
    "colab": {
     "base_uri": "https://localhost:8080/",
     "height": 195
    },
    "colab_type": "code",
    "id": "xhoAoO4OC6Ik",
    "outputId": "ee572a5d-0b74-4f0c-ced2-2cf8958b248b"
   },
   "outputs": [
    {
     "data": {
      "text/html": [
       "<div>\n",
       "<style scoped>\n",
       "    .dataframe tbody tr th:only-of-type {\n",
       "        vertical-align: middle;\n",
       "    }\n",
       "\n",
       "    .dataframe tbody tr th {\n",
       "        vertical-align: top;\n",
       "    }\n",
       "\n",
       "    .dataframe thead th {\n",
       "        text-align: right;\n",
       "    }\n",
       "</style>\n",
       "<table border=\"1\" class=\"dataframe\">\n",
       "  <thead>\n",
       "    <tr style=\"text-align: right;\">\n",
       "      <th></th>\n",
       "      <th>ISO</th>\n",
       "      <th>Country</th>\n",
       "      <th>Life_Expectancy</th>\n",
       "    </tr>\n",
       "  </thead>\n",
       "  <tbody>\n",
       "    <tr>\n",
       "      <th>133</th>\n",
       "      <td>JPN</td>\n",
       "      <td>Japan</td>\n",
       "      <td>84.2</td>\n",
       "    </tr>\n",
       "    <tr>\n",
       "      <th>368</th>\n",
       "      <td>LVA</td>\n",
       "      <td>Latvia</td>\n",
       "      <td>74.9</td>\n",
       "    </tr>\n",
       "    <tr>\n",
       "      <th>71</th>\n",
       "      <td>FRA</td>\n",
       "      <td>France</td>\n",
       "      <td>82.8</td>\n",
       "    </tr>\n",
       "    <tr>\n",
       "      <th>377</th>\n",
       "      <td>CRI</td>\n",
       "      <td>Costa Rica</td>\n",
       "      <td>80.4</td>\n",
       "    </tr>\n",
       "    <tr>\n",
       "      <th>386</th>\n",
       "      <td>LTU</td>\n",
       "      <td>Lithuania</td>\n",
       "      <td>75.8</td>\n",
       "    </tr>\n",
       "  </tbody>\n",
       "</table>\n",
       "</div>"
      ],
      "text/plain": [
       "     ISO     Country  Life_Expectancy\n",
       "133  JPN       Japan             84.2\n",
       "368  LVA      Latvia             74.9\n",
       "71   FRA      France             82.8\n",
       "377  CRI  Costa Rica             80.4\n",
       "386  LTU   Lithuania             75.8"
      ]
     },
     "execution_count": 18,
     "metadata": {},
     "output_type": "execute_result"
    }
   ],
   "source": [
    "# There's only one variable here, so we just need to get the last available date\n",
    "# and then choose the columns we want \n",
    "\n",
    "# Choose the latest data point for each country\n",
    "df_life_exp = dfraw_life_exp.sort_values('Year').groupby('Country').tail(1)\n",
    "\n",
    "# Choose the columns we want and rename them.\n",
    "df_life_exp = df_life_exp[['COU', 'Country', 'Value']]\n",
    "df_life_exp.columns = ['ISO', 'Country', 'Life_Expectancy']\n",
    "\n",
    "# Check to make sure it looks ok\n",
    "df_life_exp.head()"
   ]
  },
  {
   "cell_type": "markdown",
   "metadata": {
    "colab_type": "text",
    "id": "HjLAU3EnnSRd"
   },
   "source": [
    "## COVID-19"
   ]
  },
  {
   "cell_type": "markdown",
   "metadata": {
    "colab_type": "text",
    "id": "X08FqiZbnSRe"
   },
   "source": [
    "All attempts to load json via web is throwing an SSL error. We will load locally."
   ]
  },
  {
   "cell_type": "markdown",
   "metadata": {
    "colab_type": "text",
    "id": "a1Cv24CWnSRe"
   },
   "source": [
    "-Method 1\n",
    "-Request fails unless we provide a user-agent\n",
    "api_response = requests.get('https://thevirustracker.com/timeline/map-data.json', headers={\"User-Agent\": \"Chrome\"})\n",
    "covid_stats = api_response.json()"
   ]
  },
  {
   "cell_type": "markdown",
   "metadata": {
    "colab_type": "text",
    "id": "HlH6aEhonSRf"
   },
   "source": [
    "-Method 2\n",
    "response = urlopen('https://thevirustracker.com/timeline/map-data.json')\n",
    "json_data = response.read().decode('utf-8', 'replace')\n",
    "df = json.loads(json_data)"
   ]
  },
  {
   "cell_type": "markdown",
   "metadata": {
    "colab_type": "text",
    "id": "mkKVLO0OnSRf"
   },
   "source": [
    "### Covid-19 Daily Stats by Country"
   ]
  },
  {
   "cell_type": "code",
   "execution_count": 19,
   "metadata": {
    "colab": {},
    "colab_type": "code",
    "id": "IICl9BM0nSRg"
   },
   "outputs": [],
   "source": [
    "#Importing COVID19 Global Data\n",
    "cf = 'covid_full.json'\n",
    "with open(cf, 'r') as f:\n",
    "    doc = json.load(f)"
   ]
  },
  {
   "cell_type": "code",
   "execution_count": 20,
   "metadata": {},
   "outputs": [
    {
     "data": {
      "text/html": [
       "<div>\n",
       "<style scoped>\n",
       "    .dataframe tbody tr th:only-of-type {\n",
       "        vertical-align: middle;\n",
       "    }\n",
       "\n",
       "    .dataframe tbody tr th {\n",
       "        vertical-align: top;\n",
       "    }\n",
       "\n",
       "    .dataframe thead th {\n",
       "        text-align: right;\n",
       "    }\n",
       "</style>\n",
       "<table border=\"1\" class=\"dataframe\">\n",
       "  <thead>\n",
       "    <tr style=\"text-align: right;\">\n",
       "      <th></th>\n",
       "      <th>Alpha-2 code</th>\n",
       "      <th>Date</th>\n",
       "      <th>Cases</th>\n",
       "      <th>Deaths</th>\n",
       "      <th>Recovered</th>\n",
       "    </tr>\n",
       "  </thead>\n",
       "  <tbody>\n",
       "    <tr>\n",
       "      <th>10373</th>\n",
       "      <td>MD</td>\n",
       "      <td>5/27/20</td>\n",
       "      <td>7537</td>\n",
       "      <td>274</td>\n",
       "      <td>2953</td>\n",
       "    </tr>\n",
       "    <tr>\n",
       "      <th>12366</th>\n",
       "      <td>NP</td>\n",
       "      <td>3/28/20</td>\n",
       "      <td>5</td>\n",
       "      <td>0</td>\n",
       "      <td>1</td>\n",
       "    </tr>\n",
       "    <tr>\n",
       "      <th>3857</th>\n",
       "      <td>CV</td>\n",
       "      <td>4/28/20</td>\n",
       "      <td>114</td>\n",
       "      <td>1</td>\n",
       "      <td>0</td>\n",
       "    </tr>\n",
       "    <tr>\n",
       "      <th>13363</th>\n",
       "      <td>PT</td>\n",
       "      <td>4/19/20</td>\n",
       "      <td>20206</td>\n",
       "      <td>714</td>\n",
       "      <td>5</td>\n",
       "    </tr>\n",
       "    <tr>\n",
       "      <th>12823</th>\n",
       "      <td>PG</td>\n",
       "      <td>5/30/20</td>\n",
       "      <td>8</td>\n",
       "      <td>0</td>\n",
       "      <td>0</td>\n",
       "    </tr>\n",
       "    <tr>\n",
       "      <th>33803</th>\n",
       "      <td>DZ</td>\n",
       "      <td>8/31/20</td>\n",
       "      <td>44494</td>\n",
       "      <td>1510</td>\n",
       "      <td>12094</td>\n",
       "    </tr>\n",
       "    <tr>\n",
       "      <th>19360</th>\n",
       "      <td>ZW</td>\n",
       "      <td>6/15/20</td>\n",
       "      <td>387</td>\n",
       "      <td>4</td>\n",
       "      <td>0</td>\n",
       "    </tr>\n",
       "    <tr>\n",
       "      <th>17828</th>\n",
       "      <td>SK</td>\n",
       "      <td>6/07/20</td>\n",
       "      <td>1528</td>\n",
       "      <td>28</td>\n",
       "      <td>7</td>\n",
       "    </tr>\n",
       "    <tr>\n",
       "      <th>8913</th>\n",
       "      <td>KR</td>\n",
       "      <td>4/22/20</td>\n",
       "      <td>10694</td>\n",
       "      <td>238</td>\n",
       "      <td>3166</td>\n",
       "    </tr>\n",
       "    <tr>\n",
       "      <th>22507</th>\n",
       "      <td>SD</td>\n",
       "      <td>7/03/20</td>\n",
       "      <td>9663</td>\n",
       "      <td>604</td>\n",
       "      <td>0</td>\n",
       "    </tr>\n",
       "  </tbody>\n",
       "</table>\n",
       "</div>"
      ],
      "text/plain": [
       "      Alpha-2 code     Date  Cases  Deaths Recovered\n",
       "10373           MD  5/27/20   7537     274      2953\n",
       "12366           NP  3/28/20      5       0         1\n",
       "3857            CV  4/28/20    114       1         0\n",
       "13363           PT  4/19/20  20206     714         5\n",
       "12823           PG  5/30/20      8       0         0\n",
       "33803           DZ  8/31/20  44494    1510     12094\n",
       "19360           ZW  6/15/20    387       4         0\n",
       "17828           SK  6/07/20   1528      28         7\n",
       "8913            KR  4/22/20  10694     238      3166\n",
       "22507           SD  7/03/20   9663     604         0"
      ]
     },
     "execution_count": 20,
     "metadata": {},
     "output_type": "execute_result"
    }
   ],
   "source": [
    "#converting to pandas data frame\n",
    "covid_daily_stats=pd.DataFrame(doc)\n",
    "\n",
    "#changing the types of the columns\n",
    "covid_daily_stats['cases']=covid_daily_stats['cases'].astype('int')\n",
    "covid_daily_stats['deaths']=covid_daily_stats['deaths'].astype('int')\n",
    "\n",
    "\n",
    "#renaming columns for future merge\n",
    "covid_daily_stats.rename(columns={'countrycode':'Alpha-2 code','date':'Date','cases':'Cases','deaths':'Deaths','recovered':'Recovered'}, inplace=True)\n",
    "\n",
    "covid_daily_stats.sample(10)"
   ]
  },
  {
   "cell_type": "code",
   "execution_count": 21,
   "metadata": {},
   "outputs": [
    {
     "data": {
      "text/plain": [
       "Alpha-2 code    object\n",
       "Date            object\n",
       "Cases            int64\n",
       "Deaths           int64\n",
       "Recovered       object\n",
       "dtype: object"
      ]
     },
     "execution_count": 21,
     "metadata": {},
     "output_type": "execute_result"
    }
   ],
   "source": [
    "covid_daily_stats.dtypes"
   ]
  },
  {
   "cell_type": "markdown",
   "metadata": {
    "colab_type": "text",
    "id": "eZ6iKiCDnSRl"
   },
   "source": [
    "### Covid-19 Global Stats"
   ]
  },
  {
   "cell_type": "code",
   "execution_count": 22,
   "metadata": {
    "colab": {},
    "colab_type": "code",
    "id": "TfrklemJnSRm"
   },
   "outputs": [
    {
     "data": {
      "text/html": [
       "<div>\n",
       "<style scoped>\n",
       "    .dataframe tbody tr th:only-of-type {\n",
       "        vertical-align: middle;\n",
       "    }\n",
       "\n",
       "    .dataframe tbody tr th {\n",
       "        vertical-align: top;\n",
       "    }\n",
       "\n",
       "    .dataframe thead th {\n",
       "        text-align: right;\n",
       "    }\n",
       "</style>\n",
       "<table border=\"1\" class=\"dataframe\">\n",
       "  <thead>\n",
       "    <tr style=\"text-align: right;\">\n",
       "      <th></th>\n",
       "      <th>stats</th>\n",
       "    </tr>\n",
       "  </thead>\n",
       "  <tbody>\n",
       "    <tr>\n",
       "      <th>total_cases</th>\n",
       "      <td>23164025</td>\n",
       "    </tr>\n",
       "    <tr>\n",
       "      <th>total_recovered</th>\n",
       "      <td>15742473</td>\n",
       "    </tr>\n",
       "    <tr>\n",
       "      <th>total_unresolved</th>\n",
       "      <td>5940153</td>\n",
       "    </tr>\n",
       "    <tr>\n",
       "      <th>total_deaths</th>\n",
       "      <td>804028</td>\n",
       "    </tr>\n",
       "    <tr>\n",
       "      <th>total_new_cases_today</th>\n",
       "      <td>0</td>\n",
       "    </tr>\n",
       "  </tbody>\n",
       "</table>\n",
       "</div>"
      ],
      "text/plain": [
       "                          stats\n",
       "total_cases            23164025\n",
       "total_recovered        15742473\n",
       "total_unresolved        5940153\n",
       "total_deaths             804028\n",
       "total_new_cases_today         0"
      ]
     },
     "execution_count": 22,
     "metadata": {},
     "output_type": "execute_result"
    }
   ],
   "source": [
    "#Importing COVID19 Global Data\n",
    "gs= 'global_stats.json'\n",
    "with open(gs, 'r') as g:\n",
    "    doc1 = json.load(g)\n",
    "covid_global_stats=pd.DataFrame(doc1).transpose()\n",
    "covid_global_stats.rename(columns={0:'stats'}, inplace=True)\n",
    "covid_global_stats.head()"
   ]
  },
  {
   "cell_type": "markdown",
   "metadata": {},
   "source": [
    "### Covid-19 Total Stats by Country"
   ]
  },
  {
   "cell_type": "code",
   "execution_count": 23,
   "metadata": {},
   "outputs": [
    {
     "data": {
      "text/html": [
       "<div>\n",
       "<style scoped>\n",
       "    .dataframe tbody tr th:only-of-type {\n",
       "        vertical-align: middle;\n",
       "    }\n",
       "\n",
       "    .dataframe tbody tr th {\n",
       "        vertical-align: top;\n",
       "    }\n",
       "\n",
       "    .dataframe thead th {\n",
       "        text-align: right;\n",
       "    }\n",
       "</style>\n",
       "<table border=\"1\" class=\"dataframe\">\n",
       "  <thead>\n",
       "    <tr style=\"text-align: right;\">\n",
       "      <th></th>\n",
       "      <th>Cases</th>\n",
       "      <th>Deaths</th>\n",
       "      <th>Recovered</th>\n",
       "      <th>Mortality_Rate</th>\n",
       "    </tr>\n",
       "    <tr>\n",
       "      <th>Alpha-2 code</th>\n",
       "      <th></th>\n",
       "      <th></th>\n",
       "      <th></th>\n",
       "      <th></th>\n",
       "    </tr>\n",
       "  </thead>\n",
       "  <tbody>\n",
       "    <tr>\n",
       "      <th>AD</th>\n",
       "      <td>1301</td>\n",
       "      <td>53</td>\n",
       "      <td>800</td>\n",
       "      <td>0.040738</td>\n",
       "    </tr>\n",
       "    <tr>\n",
       "      <th>AE</th>\n",
       "      <td>75981</td>\n",
       "      <td>393</td>\n",
       "      <td>7</td>\n",
       "      <td>0.005172</td>\n",
       "    </tr>\n",
       "    <tr>\n",
       "      <th>AF</th>\n",
       "      <td>38544</td>\n",
       "      <td>1420</td>\n",
       "      <td>5</td>\n",
       "      <td>0.036841</td>\n",
       "    </tr>\n",
       "    <tr>\n",
       "      <th>AG</th>\n",
       "      <td>95</td>\n",
       "      <td>3</td>\n",
       "      <td>23</td>\n",
       "      <td>0.031579</td>\n",
       "    </tr>\n",
       "    <tr>\n",
       "      <th>AL</th>\n",
       "      <td>10704</td>\n",
       "      <td>322</td>\n",
       "      <td>67</td>\n",
       "      <td>0.030082</td>\n",
       "    </tr>\n",
       "    <tr>\n",
       "      <th>AM</th>\n",
       "      <td>45152</td>\n",
       "      <td>905</td>\n",
       "      <td>31</td>\n",
       "      <td>0.020043</td>\n",
       "    </tr>\n",
       "    <tr>\n",
       "      <th>AO</th>\n",
       "      <td>3092</td>\n",
       "      <td>126</td>\n",
       "      <td>117</td>\n",
       "      <td>0.040750</td>\n",
       "    </tr>\n",
       "    <tr>\n",
       "      <th>AR</th>\n",
       "      <td>500034</td>\n",
       "      <td>10457</td>\n",
       "      <td>72</td>\n",
       "      <td>0.020913</td>\n",
       "    </tr>\n",
       "    <tr>\n",
       "      <th>AT</th>\n",
       "      <td>30583</td>\n",
       "      <td>747</td>\n",
       "      <td>9</td>\n",
       "      <td>0.024425</td>\n",
       "    </tr>\n",
       "    <tr>\n",
       "      <th>AU</th>\n",
       "      <td>26516</td>\n",
       "      <td>788</td>\n",
       "      <td>88</td>\n",
       "      <td>0.029718</td>\n",
       "    </tr>\n",
       "  </tbody>\n",
       "</table>\n",
       "</div>"
      ],
      "text/plain": [
       "               Cases  Deaths Recovered  Mortality_Rate\n",
       "Alpha-2 code                                          \n",
       "AD              1301      53       800        0.040738\n",
       "AE             75981     393         7        0.005172\n",
       "AF             38544    1420         5        0.036841\n",
       "AG                95       3        23        0.031579\n",
       "AL             10704     322        67        0.030082\n",
       "AM             45152     905        31        0.020043\n",
       "AO              3092     126       117        0.040750\n",
       "AR            500034   10457        72        0.020913\n",
       "AT             30583     747         9        0.024425\n",
       "AU             26516     788        88        0.029718"
      ]
     },
     "execution_count": 23,
     "metadata": {},
     "output_type": "execute_result"
    }
   ],
   "source": [
    "#Group daily covid data by country.. pull out max values\n",
    "cts=covid_daily_stats.groupby(['Alpha-2 code']).max()\n",
    "cts['Mortality_Rate']=cts['Deaths']/cts['Cases']\n",
    "\n",
    "#Sort values by Death Ratio\n",
    "cts.sort_values(by='Mortality_Rate', ascending=False)\n",
    "cts.drop(columns=['Date'],inplace=True)\n",
    "\n",
    "cts.head(10)"
   ]
  },
  {
   "cell_type": "code",
   "execution_count": 24,
   "metadata": {},
   "outputs": [
    {
     "data": {
      "text/html": [
       "<div>\n",
       "<style scoped>\n",
       "    .dataframe tbody tr th:only-of-type {\n",
       "        vertical-align: middle;\n",
       "    }\n",
       "\n",
       "    .dataframe tbody tr th {\n",
       "        vertical-align: top;\n",
       "    }\n",
       "\n",
       "    .dataframe thead th {\n",
       "        text-align: right;\n",
       "    }\n",
       "</style>\n",
       "<table border=\"1\" class=\"dataframe\">\n",
       "  <thead>\n",
       "    <tr style=\"text-align: right;\">\n",
       "      <th></th>\n",
       "      <th>Cases</th>\n",
       "      <th>Deaths</th>\n",
       "      <th>Recovered</th>\n",
       "      <th>Mortality_Rate</th>\n",
       "    </tr>\n",
       "    <tr>\n",
       "      <th>Alpha-2 code</th>\n",
       "      <th></th>\n",
       "      <th></th>\n",
       "      <th></th>\n",
       "      <th></th>\n",
       "    </tr>\n",
       "  </thead>\n",
       "  <tbody>\n",
       "    <tr>\n",
       "      <th>US</th>\n",
       "      <td>6358247</td>\n",
       "      <td>190727</td>\n",
       "      <td>924148</td>\n",
       "      <td>0.029997</td>\n",
       "    </tr>\n",
       "  </tbody>\n",
       "</table>\n",
       "</div>"
      ],
      "text/plain": [
       "                Cases  Deaths Recovered  Mortality_Rate\n",
       "Alpha-2 code                                           \n",
       "US            6358247  190727    924148        0.029997"
      ]
     },
     "execution_count": 24,
     "metadata": {},
     "output_type": "execute_result"
    }
   ],
   "source": [
    "cts.filter(like='US', axis=0)"
   ]
  },
  {
   "cell_type": "markdown",
   "metadata": {},
   "source": [
    "### ISO Translation"
   ]
  },
  {
   "cell_type": "code",
   "execution_count": 25,
   "metadata": {},
   "outputs": [
    {
     "data": {
      "text/html": [
       "<div>\n",
       "<style scoped>\n",
       "    .dataframe tbody tr th:only-of-type {\n",
       "        vertical-align: middle;\n",
       "    }\n",
       "\n",
       "    .dataframe tbody tr th {\n",
       "        vertical-align: top;\n",
       "    }\n",
       "\n",
       "    .dataframe thead th {\n",
       "        text-align: right;\n",
       "    }\n",
       "</style>\n",
       "<table border=\"1\" class=\"dataframe\">\n",
       "  <thead>\n",
       "    <tr style=\"text-align: right;\">\n",
       "      <th></th>\n",
       "      <th>Country</th>\n",
       "      <th>Alpha-2 code</th>\n",
       "      <th>Alpha-3 code</th>\n",
       "      <th>Numeric</th>\n",
       "    </tr>\n",
       "  </thead>\n",
       "  <tbody>\n",
       "    <tr>\n",
       "      <th>0</th>\n",
       "      <td>Afghanistan</td>\n",
       "      <td>AF</td>\n",
       "      <td>AFG</td>\n",
       "      <td>4</td>\n",
       "    </tr>\n",
       "    <tr>\n",
       "      <th>1</th>\n",
       "      <td>Albania</td>\n",
       "      <td>AL</td>\n",
       "      <td>ALB</td>\n",
       "      <td>8</td>\n",
       "    </tr>\n",
       "    <tr>\n",
       "      <th>2</th>\n",
       "      <td>Algeria</td>\n",
       "      <td>DZ</td>\n",
       "      <td>DZA</td>\n",
       "      <td>12</td>\n",
       "    </tr>\n",
       "    <tr>\n",
       "      <th>3</th>\n",
       "      <td>American Samoa</td>\n",
       "      <td>AS</td>\n",
       "      <td>ASM</td>\n",
       "      <td>16</td>\n",
       "    </tr>\n",
       "    <tr>\n",
       "      <th>4</th>\n",
       "      <td>Andorra</td>\n",
       "      <td>AD</td>\n",
       "      <td>AND</td>\n",
       "      <td>20</td>\n",
       "    </tr>\n",
       "  </tbody>\n",
       "</table>\n",
       "</div>"
      ],
      "text/plain": [
       "          Country Alpha-2 code Alpha-3 code  Numeric\n",
       "0     Afghanistan           AF          AFG        4\n",
       "1         Albania           AL          ALB        8\n",
       "2         Algeria           DZ          DZA       12\n",
       "3  American Samoa           AS          ASM       16\n",
       "4         Andorra           AD          AND       20"
      ]
     },
     "execution_count": 25,
     "metadata": {},
     "output_type": "execute_result"
    }
   ],
   "source": [
    "ISO=pd.read_excel('ISO_CODES.xlsx')\n",
    "ISO.head()"
   ]
  },
  {
   "cell_type": "code",
   "execution_count": 26,
   "metadata": {},
   "outputs": [
    {
     "data": {
      "text/plain": [
       "Index(['Alpha-2 code', 'Cases', 'Deaths', 'Recovered', 'Mortality_Rate',\n",
       "       'Country', 'Alpha-3 code', 'Numeric'],\n",
       "      dtype='object')"
      ]
     },
     "execution_count": 26,
     "metadata": {},
     "output_type": "execute_result"
    }
   ],
   "source": [
    "cts=cts.merge(ISO,on='Alpha-2 code')\n",
    "cts.columns"
   ]
  },
  {
   "cell_type": "markdown",
   "metadata": {
    "colab_type": "text",
    "id": "zeDfW0c_nSRr"
   },
   "source": [
    "## Combining the OECD Data\n",
    "\n",
    "For now, we are combining the various OECD tables on the 'country' key so that we can merge it with COVID data.\n",
    "\n",
    "At this point, there are XXXXX variables we are looking to "
   ]
  },
  {
   "cell_type": "code",
   "execution_count": 27,
   "metadata": {
    "colab": {
     "base_uri": "https://localhost:8080/",
     "height": 536
    },
    "colab_type": "code",
    "id": "dMhHTAg_nSRr",
    "outputId": "5f27df60-f363-4b62-ee4d-ade3df46ad72"
   },
   "outputs": [
    {
     "name": "stdout",
     "output_type": "stream",
     "text": [
      "(48, 3)\n",
      "(34, 3)\n",
      "(56, 3)\n",
      "(24, 3)\n",
      "(46, 3)\n",
      "(27, 3)\n",
      "(28, 3)\n",
      "(44, 3)\n"
     ]
    },
    {
     "data": {
      "text/html": [
       "<div>\n",
       "<style scoped>\n",
       "    .dataframe tbody tr th:only-of-type {\n",
       "        vertical-align: middle;\n",
       "    }\n",
       "\n",
       "    .dataframe tbody tr th {\n",
       "        vertical-align: top;\n",
       "    }\n",
       "\n",
       "    .dataframe thead th {\n",
       "        text-align: right;\n",
       "    }\n",
       "</style>\n",
       "<table border=\"1\" class=\"dataframe\">\n",
       "  <thead>\n",
       "    <tr style=\"text-align: right;\">\n",
       "      <th></th>\n",
       "      <th>ISO</th>\n",
       "      <th>Country</th>\n",
       "      <th>Tertiary_Education_Pct</th>\n",
       "      <th>Debt_to_GDP</th>\n",
       "      <th>Old_Age_Ratio</th>\n",
       "      <th>Tourism_Pct_GDP</th>\n",
       "      <th>Tourism_Pct_Employment</th>\n",
       "      <th>Top_10pct_Share</th>\n",
       "      <th>Bottom_60pct_Share</th>\n",
       "      <th>Life_Expectancy</th>\n",
       "    </tr>\n",
       "  </thead>\n",
       "  <tbody>\n",
       "    <tr>\n",
       "      <th>0</th>\n",
       "      <td>CHN</td>\n",
       "      <td>China (People's Republic of)</td>\n",
       "      <td>9.681174</td>\n",
       "      <td>NaN</td>\n",
       "      <td>11.194</td>\n",
       "      <td>NaN</td>\n",
       "      <td>NaN</td>\n",
       "      <td>NaN</td>\n",
       "      <td>NaN</td>\n",
       "      <td>76.8</td>\n",
       "    </tr>\n",
       "    <tr>\n",
       "      <th>1</th>\n",
       "      <td>IND</td>\n",
       "      <td>India</td>\n",
       "      <td>10.595189</td>\n",
       "      <td>NaN</td>\n",
       "      <td>6.176</td>\n",
       "      <td>3.759</td>\n",
       "      <td>5.310</td>\n",
       "      <td>NaN</td>\n",
       "      <td>NaN</td>\n",
       "      <td>69.5</td>\n",
       "    </tr>\n",
       "    <tr>\n",
       "      <th>2</th>\n",
       "      <td>SAU</td>\n",
       "      <td>Saudi Arabia</td>\n",
       "      <td>23.623922</td>\n",
       "      <td>NaN</td>\n",
       "      <td>3.220</td>\n",
       "      <td>NaN</td>\n",
       "      <td>NaN</td>\n",
       "      <td>NaN</td>\n",
       "      <td>NaN</td>\n",
       "      <td>NaN</td>\n",
       "    </tr>\n",
       "    <tr>\n",
       "      <th>3</th>\n",
       "      <td>CHL</td>\n",
       "      <td>Chile</td>\n",
       "      <td>25.168179</td>\n",
       "      <td>9.185</td>\n",
       "      <td>11.547</td>\n",
       "      <td>NaN</td>\n",
       "      <td>6.461</td>\n",
       "      <td>57.710564</td>\n",
       "      <td>8.490582</td>\n",
       "      <td>80.6</td>\n",
       "    </tr>\n",
       "    <tr>\n",
       "      <th>4</th>\n",
       "      <td>RUS</td>\n",
       "      <td>Russia</td>\n",
       "      <td>56.700150</td>\n",
       "      <td>NaN</td>\n",
       "      <td>14.746</td>\n",
       "      <td>NaN</td>\n",
       "      <td>NaN</td>\n",
       "      <td>NaN</td>\n",
       "      <td>NaN</td>\n",
       "      <td>72.8</td>\n",
       "    </tr>\n",
       "  </tbody>\n",
       "</table>\n",
       "</div>"
      ],
      "text/plain": [
       "   ISO                       Country  Tertiary_Education_Pct  Debt_to_GDP  \\\n",
       "0  CHN  China (People's Republic of)                9.681174          NaN   \n",
       "1  IND                         India               10.595189          NaN   \n",
       "2  SAU                  Saudi Arabia               23.623922          NaN   \n",
       "3  CHL                         Chile               25.168179        9.185   \n",
       "4  RUS                        Russia               56.700150          NaN   \n",
       "\n",
       "   Old_Age_Ratio  Tourism_Pct_GDP  Tourism_Pct_Employment  Top_10pct_Share  \\\n",
       "0         11.194              NaN                     NaN              NaN   \n",
       "1          6.176            3.759                   5.310              NaN   \n",
       "2          3.220              NaN                     NaN              NaN   \n",
       "3         11.547              NaN                   6.461        57.710564   \n",
       "4         14.746              NaN                     NaN              NaN   \n",
       "\n",
       "   Bottom_60pct_Share  Life_Expectancy  \n",
       "0                 NaN             76.8  \n",
       "1                 NaN             69.5  \n",
       "2                 NaN              NaN  \n",
       "3            8.490582             80.6  \n",
       "4                 NaN             72.8  "
      ]
     },
     "execution_count": 27,
     "metadata": {},
     "output_type": "execute_result"
    }
   ],
   "source": [
    "# Let's keep a running list of the dataframe names. Will make it easier\n",
    "# to run future analysis if we can just iterate on this list of df names rather\n",
    "# than including each one individually in multiple spots\n",
    "# So if a new variable is added up top, append it to this list, and the rest\n",
    "# of the analysis is good to go.\n",
    "oecd_df_list = list()\n",
    "oecd_df_list.append(df_edu)\n",
    "oecd_df_list.append(df_debt)\n",
    "oecd_df_list.append(df_oldage)\n",
    "oecd_df_list.append(df_tour_gdp)\n",
    "oecd_df_list.append(df_tour_emp)\n",
    "oecd_df_list.append(df_top_10pct_share)\n",
    "oecd_df_list.append(df_bottom_60pct_share)\n",
    "oecd_df_list.append(df_life_exp)\n",
    "\n",
    "# Doing a quick check of the shapes of each data frame.\n",
    "# it looks like some are smaller than others. Will need to decide what countries to keep later.\n",
    "for i in oecd_df_list:\n",
    "  print(i.shape)\n",
    "\n",
    "# Let's merge them all together\n",
    "df_oecd = pd.DataFrame(columns=['ISO', 'Country'])\n",
    "\n",
    "for df in oecd_df_list:\n",
    "  df_oecd = df_oecd.merge(df, on=['ISO', 'Country'], how='outer') \n",
    "\n",
    "# Let's check it out!\n",
    "df_oecd.head()"
   ]
  },
  {
   "cell_type": "code",
   "execution_count": 28,
   "metadata": {
    "colab": {
     "base_uri": "https://localhost:8080/",
     "height": 185
    },
    "colab_type": "code",
    "id": "db6W-YjJeF0c",
    "outputId": "f1d38d59-4bd8-4b8f-8b6f-0c339f8ef528"
   },
   "outputs": [
    {
     "data": {
      "text/plain": [
       "16            Estonia\n",
       "22             Norway\n",
       "27              Japan\n",
       "29             France\n",
       "30          Australia\n",
       "31            Austria\n",
       "32           Slovenia\n",
       "42    Slovak Republic\n",
       "43              Spain\n",
       "Name: Country, dtype: object"
      ]
     },
     "execution_count": 28,
     "metadata": {},
     "output_type": "execute_result"
    }
   ],
   "source": [
    "# now what does it look like if we drop all rows with NA?\n",
    "# This is technically the most complete dataset.\n",
    "df_oecd.dropna(axis = 0).Country\n",
    "\n",
    "# this doesn't leave us with a lot of countries. Will probably need to \n",
    "# drop some of the variables to get a more complete set of data"
   ]
  },
  {
   "cell_type": "code",
   "execution_count": 29,
   "metadata": {
    "colab": {
     "base_uri": "https://localhost:8080/",
     "height": 77
    },
    "colab_type": "code",
    "id": "o8XTeY6Cejt3",
    "outputId": "d9134cfb-43dc-4dc7-c30e-709b99fedac1"
   },
   "outputs": [
    {
     "data": {
      "text/html": [
       "<div>\n",
       "<style scoped>\n",
       "    .dataframe tbody tr th:only-of-type {\n",
       "        vertical-align: middle;\n",
       "    }\n",
       "\n",
       "    .dataframe tbody tr th {\n",
       "        vertical-align: top;\n",
       "    }\n",
       "\n",
       "    .dataframe thead th {\n",
       "        text-align: right;\n",
       "    }\n",
       "</style>\n",
       "<table border=\"1\" class=\"dataframe\">\n",
       "  <thead>\n",
       "    <tr style=\"text-align: right;\">\n",
       "      <th></th>\n",
       "      <th>ISO</th>\n",
       "      <th>Country</th>\n",
       "      <th>Tertiary_Education_Pct</th>\n",
       "      <th>Debt_to_GDP</th>\n",
       "      <th>Old_Age_Ratio</th>\n",
       "      <th>Tourism_Pct_GDP</th>\n",
       "      <th>Tourism_Pct_Employment</th>\n",
       "      <th>Top_10pct_Share</th>\n",
       "      <th>Bottom_60pct_Share</th>\n",
       "      <th>Life_Expectancy</th>\n",
       "    </tr>\n",
       "  </thead>\n",
       "  <tbody>\n",
       "    <tr>\n",
       "      <th>23</th>\n",
       "      <td>USA</td>\n",
       "      <td>United States</td>\n",
       "      <td>47.431145</td>\n",
       "      <td>61.274</td>\n",
       "      <td>16.026</td>\n",
       "      <td>NaN</td>\n",
       "      <td>4.321</td>\n",
       "      <td>79.471603</td>\n",
       "      <td>2.398355</td>\n",
       "      <td>78.7</td>\n",
       "    </tr>\n",
       "  </tbody>\n",
       "</table>\n",
       "</div>"
      ],
      "text/plain": [
       "    ISO        Country  Tertiary_Education_Pct  Debt_to_GDP  Old_Age_Ratio  \\\n",
       "23  USA  United States               47.431145       61.274         16.026   \n",
       "\n",
       "    Tourism_Pct_GDP  Tourism_Pct_Employment  Top_10pct_Share  \\\n",
       "23              NaN                   4.321        79.471603   \n",
       "\n",
       "    Bottom_60pct_Share  Life_Expectancy  \n",
       "23            2.398355             78.7  "
      ]
     },
     "execution_count": 29,
     "metadata": {},
     "output_type": "execute_result"
    }
   ],
   "source": [
    "# Let's check what we're missing from the US. This should definitely be a country we include. \n",
    "df_oecd[df_oecd['Country'] == 'United States']\n",
    "\n",
    "# So we shold probably frop the Tourism as % of GDP variable. that's not a big problem.."
   ]
  },
  {
   "cell_type": "markdown",
   "metadata": {},
   "source": [
    "### Master Combination"
   ]
  },
  {
   "cell_type": "code",
   "execution_count": 97,
   "metadata": {},
   "outputs": [],
   "source": [
    "combined = cts.merge(df_oecd, left_on='Alpha-3 code', right_on='ISO')\n",
    "\n",
    "#drop duplicate columns due to merge\n",
    "combined.drop(columns=['Country_x'],inplace=True)\n",
    "\n",
    "#rename columns for better interpretation\n",
    "combined.rename(columns={'Country_y':'Country'},inplace=True)"
   ]
  },
  {
   "cell_type": "code",
   "execution_count": 31,
   "metadata": {},
   "outputs": [
    {
     "data": {
      "text/html": [
       "<div>\n",
       "<style scoped>\n",
       "    .dataframe tbody tr th:only-of-type {\n",
       "        vertical-align: middle;\n",
       "    }\n",
       "\n",
       "    .dataframe tbody tr th {\n",
       "        vertical-align: top;\n",
       "    }\n",
       "\n",
       "    .dataframe thead th {\n",
       "        text-align: right;\n",
       "    }\n",
       "</style>\n",
       "<table border=\"1\" class=\"dataframe\">\n",
       "  <thead>\n",
       "    <tr style=\"text-align: right;\">\n",
       "      <th></th>\n",
       "      <th>Alpha-2 code</th>\n",
       "      <th>Cases</th>\n",
       "      <th>Deaths</th>\n",
       "      <th>Recovered</th>\n",
       "      <th>Mortality_Rate</th>\n",
       "      <th>Alpha-3 code</th>\n",
       "      <th>Numeric</th>\n",
       "      <th>ISO</th>\n",
       "      <th>Country</th>\n",
       "      <th>Tertiary_Education_Pct</th>\n",
       "      <th>Debt_to_GDP</th>\n",
       "      <th>Old_Age_Ratio</th>\n",
       "      <th>Tourism_Pct_GDP</th>\n",
       "      <th>Tourism_Pct_Employment</th>\n",
       "      <th>Top_10pct_Share</th>\n",
       "      <th>Bottom_60pct_Share</th>\n",
       "      <th>Life_Expectancy</th>\n",
       "    </tr>\n",
       "  </thead>\n",
       "  <tbody>\n",
       "    <tr>\n",
       "      <th>42</th>\n",
       "      <td>NZ</td>\n",
       "      <td>1788</td>\n",
       "      <td>24</td>\n",
       "      <td>83</td>\n",
       "      <td>0.013423</td>\n",
       "      <td>NZL</td>\n",
       "      <td>554</td>\n",
       "      <td>NZL</td>\n",
       "      <td>New Zealand</td>\n",
       "      <td>39.292675</td>\n",
       "      <td>30.45</td>\n",
       "      <td>15.288</td>\n",
       "      <td>NaN</td>\n",
       "      <td>8.0</td>\n",
       "      <td>52.944607</td>\n",
       "      <td>12.318701</td>\n",
       "      <td>81.8</td>\n",
       "    </tr>\n",
       "    <tr>\n",
       "      <th>49</th>\n",
       "      <td>SA</td>\n",
       "      <td>323012</td>\n",
       "      <td>4165</td>\n",
       "      <td>8</td>\n",
       "      <td>0.012894</td>\n",
       "      <td>SAU</td>\n",
       "      <td>682</td>\n",
       "      <td>SAU</td>\n",
       "      <td>Saudi Arabia</td>\n",
       "      <td>23.623922</td>\n",
       "      <td>NaN</td>\n",
       "      <td>3.220</td>\n",
       "      <td>NaN</td>\n",
       "      <td>NaN</td>\n",
       "      <td>NaN</td>\n",
       "      <td>NaN</td>\n",
       "      <td>NaN</td>\n",
       "    </tr>\n",
       "    <tr>\n",
       "      <th>9</th>\n",
       "      <td>CN</td>\n",
       "      <td>90087</td>\n",
       "      <td>4733</td>\n",
       "      <td>9298</td>\n",
       "      <td>0.052538</td>\n",
       "      <td>CHN</td>\n",
       "      <td>156</td>\n",
       "      <td>CHN</td>\n",
       "      <td>China (People's Republic of)</td>\n",
       "      <td>9.681174</td>\n",
       "      <td>NaN</td>\n",
       "      <td>11.194</td>\n",
       "      <td>NaN</td>\n",
       "      <td>NaN</td>\n",
       "      <td>NaN</td>\n",
       "      <td>NaN</td>\n",
       "      <td>76.8</td>\n",
       "    </tr>\n",
       "  </tbody>\n",
       "</table>\n",
       "</div>"
      ],
      "text/plain": [
       "   Alpha-2 code   Cases  Deaths Recovered  Mortality_Rate Alpha-3 code  \\\n",
       "42           NZ    1788      24        83        0.013423          NZL   \n",
       "49           SA  323012    4165         8        0.012894          SAU   \n",
       "9            CN   90087    4733      9298        0.052538          CHN   \n",
       "\n",
       "    Numeric  ISO                       Country  Tertiary_Education_Pct  \\\n",
       "42      554  NZL                   New Zealand               39.292675   \n",
       "49      682  SAU                  Saudi Arabia               23.623922   \n",
       "9       156  CHN  China (People's Republic of)                9.681174   \n",
       "\n",
       "    Debt_to_GDP  Old_Age_Ratio  Tourism_Pct_GDP  Tourism_Pct_Employment  \\\n",
       "42        30.45         15.288              NaN                     8.0   \n",
       "49          NaN          3.220              NaN                     NaN   \n",
       "9           NaN         11.194              NaN                     NaN   \n",
       "\n",
       "    Top_10pct_Share  Bottom_60pct_Share  Life_Expectancy  \n",
       "42        52.944607           12.318701             81.8  \n",
       "49              NaN                 NaN              NaN  \n",
       "9               NaN                 NaN             76.8  "
      ]
     },
     "execution_count": 31,
     "metadata": {},
     "output_type": "execute_result"
    }
   ],
   "source": [
    "combined.sample(3)"
   ]
  },
  {
   "cell_type": "code",
   "execution_count": 32,
   "metadata": {},
   "outputs": [],
   "source": [
    "from sklearn.linear_model import LinearRegression\n",
    "import statsmodels.api as sm"
   ]
  },
  {
   "cell_type": "code",
   "execution_count": 103,
   "metadata": {},
   "outputs": [
    {
     "name": "stdout",
     "output_type": "stream",
     "text": [
      "lr len is  52\n",
      "combined len is  57\n"
     ]
    },
    {
     "data": {
      "text/plain": [
       "Index(['Alpha-2 code', 'Cases', 'Deaths', 'Recovered', 'Mortality_Rate',\n",
       "       'Alpha-3 code', 'Numeric', 'ISO', 'Country', 'Tertiary_Education_Pct',\n",
       "       'Debt_to_GDP', 'Old_Age_Ratio', 'Tourism_Pct_GDP',\n",
       "       'Tourism_Pct_Employment', 'Top_10pct_Share', 'Bottom_60pct_Share',\n",
       "       'Life_Expectancy'],\n",
       "      dtype='object')"
      ]
     },
     "execution_count": 103,
     "metadata": {},
     "output_type": "execute_result"
    }
   ],
   "source": [
    "lr=combined.dropna(subset=['Old_Age_Ratio'])\n",
    "print('lr len is ', len(lr))\n",
    "print('combined len is ', len(combined))\n",
    "lr.columns"
   ]
  },
  {
   "cell_type": "code",
   "execution_count": 114,
   "metadata": {},
   "outputs": [
    {
     "name": "stdout",
     "output_type": "stream",
     "text": [
      "                                 OLS Regression Results                                \n",
      "=======================================================================================\n",
      "Dep. Variable:         Mortality_Rate   R-squared (uncentered):                   0.617\n",
      "Model:                            OLS   Adj. R-squared (uncentered):              0.609\n",
      "Method:                 Least Squares   F-statistic:                              82.01\n",
      "Date:                Mon, 28 Sep 2020   Prob (F-statistic):                    3.39e-12\n",
      "Time:                        21:50:01   Log-Likelihood:                          110.66\n",
      "No. Observations:                  52   AIC:                                     -219.3\n",
      "Df Residuals:                      51   BIC:                                     -217.4\n",
      "Df Model:                           1                                                  \n",
      "Covariance Type:            nonrobust                                                  \n",
      "=================================================================================\n",
      "                    coef    std err          t      P>|t|      [0.025      0.975]\n",
      "---------------------------------------------------------------------------------\n",
      "Old_Age_Ratio     0.0022      0.000      9.056      0.000       0.002       0.003\n",
      "==============================================================================\n",
      "Omnibus:                       17.786   Durbin-Watson:                   2.111\n",
      "Prob(Omnibus):                  0.000   Jarque-Bera (JB):               21.550\n",
      "Skew:                           1.347   Prob(JB):                     2.09e-05\n",
      "Kurtosis:                       4.640   Cond. No.                         1.00\n",
      "==============================================================================\n",
      "\n",
      "Warnings:\n",
      "[1] Standard Errors assume that the covariance matrix of the errors is correctly specified.\n"
     ]
    }
   ],
   "source": [
    "old_age_ratio_x=combined['Old_Age_Ratio'].dropna()\n",
    "mortality_rate_y=combined['Mortality_Rate'].dropna()\n",
    "\n",
    "results = sm.OLS(y, X).fit()\n",
    "print(results.summary())"
   ]
  },
  {
   "cell_type": "code",
   "execution_count": 36,
   "metadata": {},
   "outputs": [],
   "source": [
    "import altair as alt"
   ]
  },
  {
   "cell_type": "code",
   "execution_count": 141,
   "metadata": {},
   "outputs": [
    {
     "data": {
      "text/html": [
       "\n",
       "<div id=\"altair-viz-64f0a4c982cf47c4b6446d2c7729febf\"></div>\n",
       "<script type=\"text/javascript\">\n",
       "  (function(spec, embedOpt){\n",
       "    let outputDiv = document.currentScript.previousElementSibling;\n",
       "    if (outputDiv.id !== \"altair-viz-64f0a4c982cf47c4b6446d2c7729febf\") {\n",
       "      outputDiv = document.getElementById(\"altair-viz-64f0a4c982cf47c4b6446d2c7729febf\");\n",
       "    }\n",
       "    const paths = {\n",
       "      \"vega\": \"https://cdn.jsdelivr.net/npm//vega@5?noext\",\n",
       "      \"vega-lib\": \"https://cdn.jsdelivr.net/npm//vega-lib?noext\",\n",
       "      \"vega-lite\": \"https://cdn.jsdelivr.net/npm//vega-lite@4.8.1?noext\",\n",
       "      \"vega-embed\": \"https://cdn.jsdelivr.net/npm//vega-embed@6?noext\",\n",
       "    };\n",
       "\n",
       "    function loadScript(lib) {\n",
       "      return new Promise(function(resolve, reject) {\n",
       "        var s = document.createElement('script');\n",
       "        s.src = paths[lib];\n",
       "        s.async = true;\n",
       "        s.onload = () => resolve(paths[lib]);\n",
       "        s.onerror = () => reject(`Error loading script: ${paths[lib]}`);\n",
       "        document.getElementsByTagName(\"head\")[0].appendChild(s);\n",
       "      });\n",
       "    }\n",
       "\n",
       "    function showError(err) {\n",
       "      outputDiv.innerHTML = `<div class=\"error\" style=\"color:red;\">${err}</div>`;\n",
       "      throw err;\n",
       "    }\n",
       "\n",
       "    function displayChart(vegaEmbed) {\n",
       "      vegaEmbed(outputDiv, spec, embedOpt)\n",
       "        .catch(err => showError(`Javascript Error: ${err.message}<br>This usually means there's a typo in your chart specification. See the javascript console for the full traceback.`));\n",
       "    }\n",
       "\n",
       "    if(typeof define === \"function\" && define.amd) {\n",
       "      requirejs.config({paths});\n",
       "      require([\"vega-embed\"], displayChart, err => showError(`Error loading script: ${err.message}`));\n",
       "    } else if (typeof vegaEmbed === \"function\") {\n",
       "      displayChart(vegaEmbed);\n",
       "    } else {\n",
       "      loadScript(\"vega\")\n",
       "        .then(() => loadScript(\"vega-lite\"))\n",
       "        .then(() => loadScript(\"vega-embed\"))\n",
       "        .catch(showError)\n",
       "        .then(() => displayChart(vegaEmbed));\n",
       "    }\n",
       "  })({\"config\": {\"view\": {\"continuousWidth\": 400, \"continuousHeight\": 300}}, \"layer\": [{\"mark\": \"point\", \"encoding\": {\"tooltip\": [{\"type\": \"nominal\", \"field\": \"Country\"}, {\"type\": \"nominal\", \"field\": \"Mortality_Rate\"}, {\"type\": \"quantitative\", \"field\": \"Old_Age_Ratio\"}, {\"type\": \"quantitative\", \"field\": \"Cases\"}, {\"type\": \"quantitative\", \"field\": \"Deaths\"}, {\"type\": \"quantitative\", \"field\": \"Recovered\"}], \"x\": {\"type\": \"quantitative\", \"field\": \"Old_Age_Ratio\", \"title\": \"Old Age Ratio (% of population >65)\"}, \"y\": {\"type\": \"quantitative\", \"field\": \"Mortality_Rate\", \"title\": \"Mortality Ratio (% of Covid-19)\"}}, \"title\": {\"text\": \"Impact of Covid-19 on older aged populations\", \"align\": \"left\", \"anchor\": \"start\", \"fontSize\": 20, \"fontWeight\": \"bold\", \"subtitle\": [\"By Country Comparison of Old Age ratio to Mortality Rate\"], \"subtitleFontSize\": 14}}, {\"mark\": \"line\", \"encoding\": {\"color\": {\"value\": \"#FF0000\"}, \"tooltip\": [{\"type\": \"nominal\", \"field\": \"Country\"}, {\"type\": \"nominal\", \"field\": \"Mortality_Rate\"}, {\"type\": \"quantitative\", \"field\": \"Old_Age_Ratio\"}, {\"type\": \"quantitative\", \"field\": \"Cases\"}, {\"type\": \"quantitative\", \"field\": \"Deaths\"}, {\"type\": \"quantitative\", \"field\": \"Recovered\"}], \"x\": {\"type\": \"quantitative\", \"field\": \"Old_Age_Ratio\", \"title\": \"Old Age Ratio (% of population >65)\"}, \"y\": {\"type\": \"quantitative\", \"field\": \"Mortality_Rate\", \"title\": \"Mortality Ratio (% of Covid-19)\"}}, \"title\": {\"text\": \"Impact of Covid-19 on older aged populations\", \"align\": \"left\", \"anchor\": \"start\", \"fontSize\": 20, \"fontWeight\": \"bold\", \"subtitle\": [\"By Country Comparison of Old Age ratio to Mortality Rate\"], \"subtitleFontSize\": 14}, \"transform\": [{\"on\": \"Old_Age_Ratio\", \"regression\": \"Mortality_Rate\"}]}], \"data\": {\"name\": \"data-497044c6543f78978d7fb6c49c6fa77c\"}, \"$schema\": \"https://vega.github.io/schema/vega-lite/v4.8.1.json\", \"datasets\": {\"data-497044c6543f78978d7fb6c49c6fa77c\": [{\"Alpha-2 code\": \"AR\", \"Cases\": 500034, \"Deaths\": 10457, \"Recovered\": \"72\", \"Mortality_Rate\": 0.02091257794469976, \"Alpha-3 code\": \"ARG\", \"Numeric\": 32, \"ISO\": \"ARG\", \"Country\": \"Argentina\", \"Tertiary_Education_Pct\": 35.663551, \"Debt_to_GDP\": null, \"Old_Age_Ratio\": 11.198, \"Tourism_Pct_GDP\": null, \"Tourism_Pct_Employment\": 10.17, \"Top_10pct_Share\": null, \"Bottom_60pct_Share\": null, \"Life_Expectancy\": null}, {\"Alpha-2 code\": \"AT\", \"Cases\": 30583, \"Deaths\": 747, \"Recovered\": \"9\", \"Mortality_Rate\": 0.024425334336069058, \"Alpha-3 code\": \"AUT\", \"Numeric\": 40, \"ISO\": \"AUT\", \"Country\": \"Austria\", \"Tertiary_Education_Pct\": 32.711426, \"Debt_to_GDP\": 65.75399999999999, \"Old_Age_Ratio\": 18.759, \"Tourism_Pct_GDP\": 6.474, \"Tourism_Pct_Employment\": 6.365, \"Top_10pct_Share\": 55.59053, \"Bottom_60pct_Share\": 8.0044022, \"Life_Expectancy\": 81.8}, {\"Alpha-2 code\": \"AU\", \"Cases\": 26516, \"Deaths\": 788, \"Recovered\": \"88\", \"Mortality_Rate\": 0.02971790616985971, \"Alpha-3 code\": \"AUS\", \"Numeric\": 36, \"ISO\": \"AUS\", \"Country\": \"Australia\", \"Tertiary_Education_Pct\": 45.727478000000005, \"Debt_to_GDP\": 10.966, \"Old_Age_Ratio\": 15.663, \"Tourism_Pct_GDP\": 3.0989999999999998, \"Tourism_Pct_Employment\": 5.2, \"Top_10pct_Share\": 46.465977, \"Bottom_60pct_Share\": 16.535754999999998, \"Life_Expectancy\": 82.8}, {\"Alpha-2 code\": \"BE\", \"Cases\": 89141, \"Deaths\": 9996, \"Recovered\": \"858\", \"Mortality_Rate\": 0.11213695157110645, \"Alpha-3 code\": \"BEL\", \"Numeric\": 56, \"ISO\": \"BEL\", \"Country\": \"Belgium\", \"Tertiary_Education_Pct\": 40.638546000000005, \"Debt_to_GDP\": 96.789, \"Old_Age_Ratio\": 18.835, \"Tourism_Pct_GDP\": null, \"Tourism_Pct_Employment\": null, \"Top_10pct_Share\": 42.495087, \"Bottom_60pct_Share\": 18.985046, \"Life_Expectancy\": 81.7}, {\"Alpha-2 code\": \"BG\", \"Cases\": 17435, \"Deaths\": 702, \"Recovered\": \"9\", \"Mortality_Rate\": 0.04026383710926298, \"Alpha-3 code\": \"BGR\", \"Numeric\": 100, \"ISO\": \"BGR\", \"Country\": \"Bulgaria\", \"Tertiary_Education_Pct\": null, \"Debt_to_GDP\": null, \"Old_Age_Ratio\": 21.174, \"Tourism_Pct_GDP\": null, \"Tourism_Pct_Employment\": null, \"Top_10pct_Share\": null, \"Bottom_60pct_Share\": null, \"Life_Expectancy\": null}, {\"Alpha-2 code\": \"BR\", \"Cases\": 4162073, \"Deaths\": 127464, \"Recovered\": \"6\", \"Mortality_Rate\": 0.03062512358625137, \"Alpha-3 code\": \"BRA\", \"Numeric\": 76, \"ISO\": \"BRA\", \"Country\": \"Brazil\", \"Tertiary_Education_Pct\": 17.210516000000002, \"Debt_to_GDP\": null, \"Old_Age_Ratio\": 9.222000000000001, \"Tourism_Pct_GDP\": null, \"Tourism_Pct_Employment\": 2.5, \"Top_10pct_Share\": null, \"Bottom_60pct_Share\": null, \"Life_Expectancy\": 75.7}, {\"Alpha-2 code\": \"CA\", \"Cases\": 136135, \"Deaths\": 9204, \"Recovered\": \"9\", \"Mortality_Rate\": 0.06760935835751276, \"Alpha-3 code\": \"CAN\", \"Numeric\": 124, \"ISO\": \"CAN\", \"Country\": \"Canada\", \"Tertiary_Education_Pct\": 57.888363, \"Debt_to_GDP\": 36.073, \"Old_Age_Ratio\": 17.157, \"Tourism_Pct_GDP\": null, \"Tourism_Pct_Employment\": 3.89, \"Top_10pct_Share\": 51.077117919921896, \"Bottom_60pct_Share\": 12.4380216598511, \"Life_Expectancy\": 82.0}, {\"Alpha-2 code\": \"CH\", \"Cases\": 45306, \"Deaths\": 2019, \"Recovered\": \"4\", \"Mortality_Rate\": 0.04456363395576745, \"Alpha-3 code\": \"CHE\", \"Numeric\": 756, \"ISO\": \"CHE\", \"Country\": \"Switzerland\", \"Tertiary_Education_Pct\": 43.744415000000004, \"Debt_to_GDP\": 20.24, \"Old_Age_Ratio\": 18.371, \"Tourism_Pct_GDP\": null, \"Tourism_Pct_Employment\": 4.416, \"Top_10pct_Share\": null, \"Bottom_60pct_Share\": null, \"Life_Expectancy\": 83.8}, {\"Alpha-2 code\": \"CL\", \"Cases\": 427027, \"Deaths\": 11702, \"Recovered\": \"8\", \"Mortality_Rate\": 0.027403419455912625, \"Alpha-3 code\": \"CHL\", \"Numeric\": 152, \"ISO\": \"CHL\", \"Country\": \"Chile\", \"Tertiary_Education_Pct\": 25.168179000000002, \"Debt_to_GDP\": 9.185, \"Old_Age_Ratio\": 11.547, \"Tourism_Pct_GDP\": null, \"Tourism_Pct_Employment\": 6.461, \"Top_10pct_Share\": 57.710564, \"Bottom_60pct_Share\": 8.490581500000001, \"Life_Expectancy\": 80.6}, {\"Alpha-2 code\": \"CN\", \"Cases\": 90087, \"Deaths\": 4733, \"Recovered\": \"9298\", \"Mortality_Rate\": 0.05253810205690055, \"Alpha-3 code\": \"CHN\", \"Numeric\": 156, \"ISO\": \"CHN\", \"Country\": \"China (People's Republic of)\", \"Tertiary_Education_Pct\": 9.6811743, \"Debt_to_GDP\": null, \"Old_Age_Ratio\": 11.194, \"Tourism_Pct_GDP\": null, \"Tourism_Pct_Employment\": null, \"Top_10pct_Share\": null, \"Bottom_60pct_Share\": null, \"Life_Expectancy\": 76.8}, {\"Alpha-2 code\": \"CO\", \"Cases\": 679513, \"Deaths\": 21817, \"Recovered\": \"8\", \"Mortality_Rate\": 0.03210681767677734, \"Alpha-3 code\": \"COL\", \"Numeric\": 170, \"ISO\": \"COL\", \"Country\": \"Colombia\", \"Tertiary_Education_Pct\": 23.391361, \"Debt_to_GDP\": null, \"Old_Age_Ratio\": 8.06, \"Tourism_Pct_GDP\": null, \"Tourism_Pct_Employment\": 8.791, \"Top_10pct_Share\": null, \"Bottom_60pct_Share\": null, \"Life_Expectancy\": 77.1}, {\"Alpha-2 code\": \"CR\", \"Cases\": 51224, \"Deaths\": 543, \"Recovered\": \"4\", \"Mortality_Rate\": 0.010600499765734812, \"Alpha-3 code\": \"CRI\", \"Numeric\": 188, \"ISO\": \"CRI\", \"Country\": \"Costa Rica\", \"Tertiary_Education_Pct\": 22.601564, \"Debt_to_GDP\": null, \"Old_Age_Ratio\": 8.18, \"Tourism_Pct_GDP\": 4.994, \"Tourism_Pct_Employment\": 6.63, \"Top_10pct_Share\": null, \"Bottom_60pct_Share\": null, \"Life_Expectancy\": 80.4}, {\"Alpha-2 code\": \"CY\", \"Cases\": 1514, \"Deaths\": 22, \"Recovered\": \"839\", \"Mortality_Rate\": 0.01453104359313078, \"Alpha-3 code\": \"CYP\", \"Numeric\": 196, \"ISO\": \"CYP\", \"Country\": \"Cyprus\", \"Tertiary_Education_Pct\": null, \"Debt_to_GDP\": null, \"Old_Age_Ratio\": 16.023, \"Tourism_Pct_GDP\": null, \"Tourism_Pct_Employment\": null, \"Top_10pct_Share\": null, \"Bottom_60pct_Share\": null, \"Life_Expectancy\": null}, {\"Alpha-2 code\": \"CZ\", \"Cases\": 31036, \"Deaths\": 444, \"Recovered\": \"7910\", \"Mortality_Rate\": 0.014305967263822657, \"Alpha-3 code\": \"CZE\", \"Numeric\": 203, \"ISO\": \"CZE\", \"Country\": \"Czech Republic\", \"Tertiary_Education_Pct\": 24.262076999999998, \"Debt_to_GDP\": 36.625, \"Old_Age_Ratio\": 19.414, \"Tourism_Pct_GDP\": 2.945, \"Tourism_Pct_Employment\": 4.468, \"Top_10pct_Share\": null, \"Bottom_60pct_Share\": null, \"Life_Expectancy\": 79.1}, {\"Alpha-2 code\": \"DE\", \"Cases\": 256433, \"Deaths\": 9342, \"Recovered\": \"9211\", \"Mortality_Rate\": 0.03643056860856442, \"Alpha-3 code\": \"DEU\", \"Numeric\": 276, \"ISO\": \"DEU\", \"Country\": \"Germany\", \"Tertiary_Education_Pct\": 29.065134000000004, \"Debt_to_GDP\": 44.403, \"Old_Age_Ratio\": 21.465999999999998, \"Tourism_Pct_GDP\": null, \"Tourism_Pct_Employment\": 4.796, \"Top_10pct_Share\": 59.758945, \"Bottom_60pct_Share\": 6.4569225, \"Life_Expectancy\": 81.0}, {\"Alpha-2 code\": \"DK\", \"Cases\": 19036, \"Deaths\": 628, \"Recovered\": \"971\", \"Mortality_Rate\": 0.03299012397562513, \"Alpha-3 code\": \"DNK\", \"Numeric\": 208, \"ISO\": \"DNK\", \"Country\": \"Denmark\", \"Tertiary_Education_Pct\": 38.055264, \"Debt_to_GDP\": 39.59, \"Old_Age_Ratio\": 19.461, \"Tourism_Pct_GDP\": null, \"Tourism_Pct_Employment\": 8.824, \"Top_10pct_Share\": 63.976688, \"Bottom_60pct_Share\": -3.8514315999999997, \"Life_Expectancy\": 81.0}, {\"Alpha-2 code\": \"EE\", \"Cases\": 2585, \"Deaths\": 69, \"Recovered\": \"8\", \"Mortality_Rate\": 0.026692456479690523, \"Alpha-3 code\": \"EST\", \"Numeric\": 233, \"ISO\": \"EST\", \"Country\": \"Estonia\", \"Tertiary_Education_Pct\": 41.130722, \"Debt_to_GDP\": 3.227, \"Old_Age_Ratio\": 19.676, \"Tourism_Pct_GDP\": 5.428, \"Tourism_Pct_Employment\": 4.3, \"Top_10pct_Share\": 55.713390000000004, \"Bottom_60pct_Share\": 12.7863, \"Life_Expectancy\": 78.4}, {\"Alpha-2 code\": \"EG\", \"Cases\": 100403, \"Deaths\": 5577, \"Recovered\": \"95\", \"Mortality_Rate\": 0.05554614901945161, \"Alpha-3 code\": \"EGY\", \"Numeric\": 818, \"ISO\": \"EGY\", \"Country\": \"Egypt\", \"Tertiary_Education_Pct\": null, \"Debt_to_GDP\": null, \"Old_Age_Ratio\": null, \"Tourism_Pct_GDP\": 4.258, \"Tourism_Pct_Employment\": 16.2, \"Top_10pct_Share\": null, \"Bottom_60pct_Share\": null, \"Life_Expectancy\": null}, {\"Alpha-2 code\": \"ES\", \"Cases\": 543379, \"Deaths\": 29628, \"Recovered\": \"9357\", \"Mortality_Rate\": 0.05452547853339934, \"Alpha-3 code\": \"ESP\", \"Numeric\": 724, \"ISO\": \"ESP\", \"Country\": \"Spain\", \"Tertiary_Education_Pct\": 37.252804, \"Debt_to_GDP\": 51.693000000000005, \"Old_Age_Ratio\": 19.29, \"Tourism_Pct_GDP\": 11.793, \"Tourism_Pct_Employment\": 13.48, \"Top_10pct_Share\": 45.577541, \"Bottom_60pct_Share\": 18.664709, \"Life_Expectancy\": 83.5}, {\"Alpha-2 code\": \"FI\", \"Cases\": 8430, \"Deaths\": 337, \"Recovered\": \"6700\", \"Mortality_Rate\": 0.039976275207591935, \"Alpha-3 code\": \"FIN\", \"Numeric\": 246, \"ISO\": \"FIN\", \"Country\": \"Finland\", \"Tertiary_Education_Pct\": 45.188133, \"Debt_to_GDP\": 41.683, \"Old_Age_Ratio\": 21.613000000000003, \"Tourism_Pct_GDP\": null, \"Tourism_Pct_Employment\": 5.5, \"Top_10pct_Share\": 45.231823, \"Bottom_60pct_Share\": 13.552249, \"Life_Expectancy\": 81.8}, {\"Alpha-2 code\": \"FR\", \"Cases\": 344101, \"Deaths\": 20319, \"Recovered\": \"9513\", \"Mortality_Rate\": 0.059049523250441, \"Alpha-3 code\": \"FRA\", \"Numeric\": 250, \"ISO\": \"FRA\", \"Country\": \"France\", \"Tertiary_Education_Pct\": 36.897490999999995, \"Debt_to_GDP\": 67.418, \"Old_Age_Ratio\": 19.837, \"Tourism_Pct_GDP\": 7.365, \"Tourism_Pct_Employment\": 7.496, \"Top_10pct_Share\": 50.586899, \"Bottom_60pct_Share\": 12.110005000000001, \"Life_Expectancy\": 82.8}, {\"Alpha-2 code\": \"GB\", \"Cases\": 355219, \"Deaths\": 41594, \"Recovered\": \"8\", \"Mortality_Rate\": 0.117093961753172, \"Alpha-3 code\": \"GBR\", \"Numeric\": 826, \"ISO\": \"GBR\", \"Country\": \"United Kingdom\", \"Tertiary_Education_Pct\": 45.781677, \"Debt_to_GDP\": 85.535, \"Old_Age_Ratio\": 18.312, \"Tourism_Pct_GDP\": null, \"Tourism_Pct_Employment\": 4.67, \"Top_10pct_Share\": 51.9886474609375, \"Bottom_60pct_Share\": 11.807471275329599, \"Life_Expectancy\": 81.3}, {\"Alpha-2 code\": \"GR\", \"Cases\": 12080, \"Deaths\": 293, \"Recovered\": \"8\", \"Mortality_Rate\": 0.02425496688741722, \"Alpha-3 code\": \"GRC\", \"Numeric\": 300, \"ISO\": \"GRC\", \"Country\": \"Greece\", \"Tertiary_Education_Pct\": 31.739904, \"Debt_to_GDP\": 147.839, \"Old_Age_Ratio\": 21.894000000000002, \"Tourism_Pct_GDP\": null, \"Tourism_Pct_Employment\": 9.974, \"Top_10pct_Share\": 42.423823999999996, \"Bottom_60pct_Share\": 17.925282, \"Life_Expectancy\": 81.9}, {\"Alpha-2 code\": \"HR\", \"Cases\": 12626, \"Deaths\": 206, \"Recovered\": \"73\", \"Mortality_Rate\": 0.016315539363218754, \"Alpha-3 code\": \"HRV\", \"Numeric\": 191, \"ISO\": \"HRV\", \"Country\": \"Croatia\", \"Tertiary_Education_Pct\": null, \"Debt_to_GDP\": null, \"Old_Age_Ratio\": 20.36, \"Tourism_Pct_GDP\": 11.402000000000001, \"Tourism_Pct_Employment\": 6.64, \"Top_10pct_Share\": null, \"Bottom_60pct_Share\": null, \"Life_Expectancy\": null}, {\"Alpha-2 code\": \"HU\", \"Cases\": 9715, \"Deaths\": 628, \"Recovered\": \"7\", \"Mortality_Rate\": 0.06464230571281523, \"Alpha-3 code\": \"HUN\", \"Numeric\": 348, \"ISO\": \"HUN\", \"Country\": \"Hungary\", \"Tertiary_Education_Pct\": 25.101177, \"Debt_to_GDP\": 73.898, \"Old_Age_Ratio\": 19.143, \"Tourism_Pct_GDP\": null, \"Tourism_Pct_Employment\": 9.59, \"Top_10pct_Share\": 48.477074, \"Bottom_60pct_Share\": 15.445245000000002, \"Life_Expectancy\": 76.2}, {\"Alpha-2 code\": \"ID\", \"Cases\": 203342, \"Deaths\": 8336, \"Recovered\": \"81\", \"Mortality_Rate\": 0.040994973984715403, \"Alpha-3 code\": \"IDN\", \"Numeric\": 360, \"ISO\": \"IDN\", \"Country\": \"Indonesia\", \"Tertiary_Education_Pct\": 11.857569, \"Debt_to_GDP\": null, \"Old_Age_Ratio\": 5.812, \"Tourism_Pct_GDP\": 4.11, \"Tourism_Pct_Employment\": 8.37, \"Top_10pct_Share\": null, \"Bottom_60pct_Share\": null, \"Life_Expectancy\": 71.6}, {\"Alpha-2 code\": \"IE\", \"Cases\": 30164, \"Deaths\": 1781, \"Recovered\": \"5\", \"Mortality_Rate\": 0.059043893382840475, \"Alpha-3 code\": \"IRL\", \"Numeric\": 372, \"ISO\": \"IRL\", \"Country\": \"Ireland\", \"Tertiary_Education_Pct\": 46.935134999999995, \"Debt_to_GDP\": 60.703, \"Old_Age_Ratio\": 13.864, \"Tourism_Pct_GDP\": null, \"Tourism_Pct_Employment\": 10.279000000000002, \"Top_10pct_Share\": 53.7924, \"Bottom_60pct_Share\": 7.1840534, \"Life_Expectancy\": 82.3}, {\"Alpha-2 code\": \"IL\", \"Cases\": 141097, \"Deaths\": 1054, \"Recovered\": \"89\", \"Mortality_Rate\": 0.007470038342416919, \"Alpha-3 code\": \"ISR\", \"Numeric\": 376, \"ISO\": \"ISR\", \"Country\": \"Israel\", \"Tertiary_Education_Pct\": 50.91605, \"Debt_to_GDP\": 74.714, \"Old_Age_Ratio\": 11.654000000000002, \"Tourism_Pct_GDP\": null, \"Tourism_Pct_Employment\": 3.61, \"Top_10pct_Share\": null, \"Bottom_60pct_Share\": null, \"Life_Expectancy\": 82.9}, {\"Alpha-2 code\": \"IN\", \"Cases\": 4370128, \"Deaths\": 73890, \"Recovered\": \"95\", \"Mortality_Rate\": 0.016907971574287983, \"Alpha-3 code\": \"IND\", \"Numeric\": 356, \"ISO\": \"IND\", \"Country\": \"India\", \"Tertiary_Education_Pct\": 10.595189, \"Debt_to_GDP\": null, \"Old_Age_Ratio\": 6.176, \"Tourism_Pct_GDP\": 3.759, \"Tourism_Pct_Employment\": 5.31, \"Top_10pct_Share\": null, \"Bottom_60pct_Share\": null, \"Life_Expectancy\": 69.5}, {\"Alpha-2 code\": \"IS\", \"Cases\": 2153, \"Deaths\": 10, \"Recovered\": \"97\", \"Mortality_Rate\": 0.004644681839294009, \"Alpha-3 code\": \"ISL\", \"Numeric\": 352, \"ISO\": \"ISL\", \"Country\": \"Iceland\", \"Tertiary_Education_Pct\": 43.749649, \"Debt_to_GDP\": 81.257, \"Old_Age_Ratio\": 14.136, \"Tourism_Pct_GDP\": 8.64, \"Tourism_Pct_Employment\": 15.7, \"Top_10pct_Share\": null, \"Bottom_60pct_Share\": null, \"Life_Expectancy\": 82.9}, {\"Alpha-2 code\": \"IT\", \"Cases\": 281583, \"Deaths\": 35577, \"Recovered\": \"9362\", \"Mortality_Rate\": 0.12634640585546714, \"Alpha-3 code\": \"ITA\", \"Numeric\": 380, \"ISO\": \"ITA\", \"Country\": \"Italy\", \"Tertiary_Education_Pct\": 19.323732, \"Debt_to_GDP\": 109.015, \"Old_Age_Ratio\": 22.675, \"Tourism_Pct_GDP\": null, \"Tourism_Pct_Employment\": 8.3, \"Top_10pct_Share\": 42.784328, \"Bottom_60pct_Share\": 17.315496, \"Life_Expectancy\": 83.4}, {\"Alpha-2 code\": \"JP\", \"Cases\": 73266, \"Deaths\": 1412, \"Recovered\": \"9\", \"Mortality_Rate\": 0.019272240875713154, \"Alpha-3 code\": \"JPN\", \"Numeric\": 392, \"ISO\": \"JPN\", \"Country\": \"Japan\", \"Tertiary_Education_Pct\": 51.928062, \"Debt_to_GDP\": 183.53, \"Old_Age_Ratio\": 28.136999999999997, \"Tourism_Pct_GDP\": 1.9609999999999999, \"Tourism_Pct_Employment\": 9.61, \"Top_10pct_Share\": 41.01643, \"Bottom_60pct_Share\": 17.749653, \"Life_Expectancy\": 84.2}, {\"Alpha-2 code\": \"KR\", \"Cases\": 21588, \"Deaths\": 344, \"Recovered\": \"9\", \"Mortality_Rate\": 0.015934778580692976, \"Alpha-3 code\": \"KOR\", \"Numeric\": 410, \"ISO\": \"KOR\", \"Country\": \"Korea\", \"Tertiary_Education_Pct\": 49.008511, \"Debt_to_GDP\": 31.935, \"Old_Age_Ratio\": 14.294, \"Tourism_Pct_GDP\": null, \"Tourism_Pct_Employment\": null, \"Top_10pct_Share\": null, \"Bottom_60pct_Share\": 17.694309, \"Life_Expectancy\": 82.7}, {\"Alpha-2 code\": \"KZ\", \"Cases\": 106498, \"Deaths\": 1634, \"Recovered\": \"3\", \"Mortality_Rate\": 0.015343011136359368, \"Alpha-3 code\": \"KAZ\", \"Numeric\": 398, \"ISO\": \"KAZ\", \"Country\": \"Kazakhstan\", \"Tertiary_Education_Pct\": null, \"Debt_to_GDP\": null, \"Old_Age_Ratio\": null, \"Tourism_Pct_GDP\": null, \"Tourism_Pct_Employment\": 5.33, \"Top_10pct_Share\": null, \"Bottom_60pct_Share\": null, \"Life_Expectancy\": null}, {\"Alpha-2 code\": \"LT\", \"Cases\": 3163, \"Deaths\": 86, \"Recovered\": \"7\", \"Mortality_Rate\": 0.027189377173569396, \"Alpha-3 code\": \"LTU\", \"Numeric\": 440, \"ISO\": \"LTU\", \"Country\": \"Lithuania\", \"Tertiary_Education_Pct\": 41.654594, \"Debt_to_GDP\": null, \"Old_Age_Ratio\": 19.706, \"Tourism_Pct_GDP\": null, \"Tourism_Pct_Employment\": 4.9, \"Top_10pct_Share\": null, \"Bottom_60pct_Share\": null, \"Life_Expectancy\": 75.8}, {\"Alpha-2 code\": \"LU\", \"Cases\": 7928, \"Deaths\": 124, \"Recovered\": \"80\", \"Mortality_Rate\": 0.01564076690211907, \"Alpha-3 code\": \"LUX\", \"Numeric\": 442, \"ISO\": \"LUX\", \"Country\": \"Luxembourg\", \"Tertiary_Education_Pct\": 43.886856, \"Debt_to_GDP\": 12.578, \"Old_Age_Ratio\": 14.354000000000001, \"Tourism_Pct_GDP\": null, \"Tourism_Pct_Employment\": null, \"Top_10pct_Share\": 48.667435, \"Bottom_60pct_Share\": 15.277357, \"Life_Expectancy\": 82.4}, {\"Alpha-2 code\": \"LV\", \"Cases\": 1443, \"Deaths\": 35, \"Recovered\": \"1008\", \"Mortality_Rate\": 0.024255024255024255, \"Alpha-3 code\": \"LVA\", \"Numeric\": 428, \"ISO\": \"LVA\", \"Country\": \"Latvia\", \"Tertiary_Education_Pct\": 33.939289, \"Debt_to_GDP\": null, \"Old_Age_Ratio\": 20.180999999999997, \"Tourism_Pct_GDP\": null, \"Tourism_Pct_Employment\": 8.48, \"Top_10pct_Share\": 63.376293000000004, \"Bottom_60pct_Share\": 7.114192500000001, \"Life_Expectancy\": 74.9}, {\"Alpha-2 code\": \"MA\", \"Cases\": 77878, \"Deaths\": 1453, \"Recovered\": \"8\", \"Mortality_Rate\": 0.01865738719535684, \"Alpha-3 code\": \"MAR\", \"Numeric\": 504, \"ISO\": \"MAR\", \"Country\": \"Morocco\", \"Tertiary_Education_Pct\": null, \"Debt_to_GDP\": null, \"Old_Age_Ratio\": null, \"Tourism_Pct_GDP\": 6.944, \"Tourism_Pct_Employment\": 5.0, \"Top_10pct_Share\": null, \"Bottom_60pct_Share\": null, \"Life_Expectancy\": null}, {\"Alpha-2 code\": \"MT\", \"Cases\": 2162, \"Deaths\": 14, \"Recovered\": \"653\", \"Mortality_Rate\": 0.0064754856614246065, \"Alpha-3 code\": \"MLT\", \"Numeric\": 470, \"ISO\": \"MLT\", \"Country\": \"Malta\", \"Tertiary_Education_Pct\": null, \"Debt_to_GDP\": null, \"Old_Age_Ratio\": 18.785, \"Tourism_Pct_GDP\": 6.129, \"Tourism_Pct_Employment\": 14.89, \"Top_10pct_Share\": null, \"Bottom_60pct_Share\": null, \"Life_Expectancy\": null}, {\"Alpha-2 code\": \"MX\", \"Cases\": 642860, \"Deaths\": 68484, \"Recovered\": \"4\", \"Mortality_Rate\": 0.10653019319914134, \"Alpha-3 code\": \"MEX\", \"Numeric\": 484, \"ISO\": \"MEX\", \"Country\": \"Mexico\", \"Tertiary_Education_Pct\": 17.979799, \"Debt_to_GDP\": 27.46, \"Old_Age_Ratio\": 7.246, \"Tourism_Pct_GDP\": null, \"Tourism_Pct_Employment\": 5.975, \"Top_10pct_Share\": null, \"Bottom_60pct_Share\": null, \"Life_Expectancy\": 75.0}, {\"Alpha-2 code\": \"NL\", \"Cases\": 81082, \"Deaths\": 6281, \"Recovered\": \"6\", \"Mortality_Rate\": 0.07746478873239436, \"Alpha-3 code\": \"NLD\", \"Numeric\": 528, \"ISO\": \"NLD\", \"Country\": \"Netherlands\", \"Tertiary_Education_Pct\": 38.343895, \"Debt_to_GDP\": 51.845, \"Old_Age_Ratio\": 19.015, \"Tourism_Pct_GDP\": null, \"Tourism_Pct_Employment\": 6.3, \"Top_10pct_Share\": 68.347847, \"Bottom_60pct_Share\": -3.9857127999999995, \"Life_Expectancy\": 81.9}, {\"Alpha-2 code\": \"NO\", \"Cases\": 11746, \"Deaths\": 264, \"Recovered\": \"8138\", \"Mortality_Rate\": 0.022475736420909245, \"Alpha-3 code\": \"NOR\", \"Numeric\": 578, \"ISO\": \"NOR\", \"Country\": \"Norway\", \"Tertiary_Education_Pct\": 43.575832, \"Debt_to_GDP\": 26.076999999999998, \"Old_Age_Ratio\": 17.087, \"Tourism_Pct_GDP\": 3.648, \"Tourism_Pct_Employment\": 6.05, \"Top_10pct_Share\": 51.450287, \"Bottom_60pct_Share\": 7.3088636, \"Life_Expectancy\": 82.8}, {\"Alpha-2 code\": \"NZ\", \"Cases\": 1788, \"Deaths\": 24, \"Recovered\": \"83\", \"Mortality_Rate\": 0.013422818791946308, \"Alpha-3 code\": \"NZL\", \"Numeric\": 554, \"ISO\": \"NZL\", \"Country\": \"New Zealand\", \"Tertiary_Education_Pct\": 39.292675, \"Debt_to_GDP\": 30.45, \"Old_Age_Ratio\": 15.288, \"Tourism_Pct_GDP\": null, \"Tourism_Pct_Employment\": 8.0, \"Top_10pct_Share\": 52.944607, \"Bottom_60pct_Share\": 12.318700999999999, \"Life_Expectancy\": 81.8}, {\"Alpha-2 code\": \"PE\", \"Cases\": 696190, \"Deaths\": 30123, \"Recovered\": \"53\", \"Mortality_Rate\": 0.043268360648673496, \"Alpha-3 code\": \"PER\", \"Numeric\": 604, \"ISO\": \"PER\", \"Country\": \"Peru\", \"Tertiary_Education_Pct\": null, \"Debt_to_GDP\": null, \"Old_Age_Ratio\": null, \"Tourism_Pct_GDP\": 3.9, \"Tourism_Pct_Employment\": 3.82, \"Top_10pct_Share\": null, \"Bottom_60pct_Share\": null, \"Life_Expectancy\": null}, {\"Alpha-2 code\": \"PH\", \"Cases\": 245143, \"Deaths\": 3986, \"Recovered\": \"8\", \"Mortality_Rate\": 0.016259897284442142, \"Alpha-3 code\": \"PHL\", \"Numeric\": 608, \"ISO\": \"PHL\", \"Country\": \"Philippines\", \"Tertiary_Education_Pct\": null, \"Debt_to_GDP\": null, \"Old_Age_Ratio\": null, \"Tourism_Pct_GDP\": 8.588, \"Tourism_Pct_Employment\": 12.8, \"Top_10pct_Share\": null, \"Bottom_60pct_Share\": null, \"Life_Expectancy\": null}, {\"Alpha-2 code\": \"PL\", \"Cases\": 71947, \"Deaths\": 2147, \"Recovered\": \"7\", \"Mortality_Rate\": 0.02984141103868125, \"Alpha-3 code\": \"POL\", \"Numeric\": 616, \"ISO\": \"POL\", \"Country\": \"Poland\", \"Tertiary_Education_Pct\": 30.919591999999998, \"Debt_to_GDP\": 49.678999999999995, \"Old_Age_Ratio\": 17.23, \"Tourism_Pct_GDP\": 1.175, \"Tourism_Pct_Employment\": null, \"Top_10pct_Share\": 41.83997, \"Bottom_60pct_Share\": 18.263699, \"Life_Expectancy\": 77.7}, {\"Alpha-2 code\": \"PT\", \"Cases\": 61541, \"Deaths\": 1849, \"Recovered\": \"5\", \"Mortality_Rate\": 0.030045010643310964, \"Alpha-3 code\": \"PRT\", \"Numeric\": 620, \"ISO\": \"PRT\", \"Country\": \"Portugal\", \"Tertiary_Education_Pct\": 24.984337, \"Debt_to_GDP\": 87.962, \"Old_Age_Ratio\": 21.671999999999997, \"Tourism_Pct_GDP\": null, \"Tourism_Pct_Employment\": 9.81, \"Top_10pct_Share\": 52.127502, \"Bottom_60pct_Share\": 12.422934, \"Life_Expectancy\": 81.4}, {\"Alpha-2 code\": \"RO\", \"Cases\": 98304, \"Deaths\": 4018, \"Recovered\": \"94\", \"Mortality_Rate\": 0.040873209635416664, \"Alpha-3 code\": \"ROU\", \"Numeric\": 642, \"ISO\": \"ROU\", \"Country\": \"Romania\", \"Tertiary_Education_Pct\": null, \"Debt_to_GDP\": null, \"Old_Age_Ratio\": 18.355999999999998, \"Tourism_Pct_GDP\": 2.787, \"Tourism_Pct_Employment\": null, \"Top_10pct_Share\": null, \"Bottom_60pct_Share\": null, \"Life_Expectancy\": null}, {\"Alpha-2 code\": \"RU\", \"Cases\": 1037526, \"Deaths\": 18080, \"Recovered\": \"9\", \"Mortality_Rate\": 0.01742606932260011, \"Alpha-3 code\": \"RUS\", \"Numeric\": 643, \"ISO\": \"RUS\", \"Country\": \"Russia\", \"Tertiary_Education_Pct\": 56.70015, \"Debt_to_GDP\": null, \"Old_Age_Ratio\": 14.745999999999999, \"Tourism_Pct_GDP\": null, \"Tourism_Pct_Employment\": null, \"Top_10pct_Share\": null, \"Bottom_60pct_Share\": null, \"Life_Expectancy\": 72.8}, {\"Alpha-2 code\": \"SA\", \"Cases\": 323012, \"Deaths\": 4165, \"Recovered\": \"8\", \"Mortality_Rate\": 0.012894257798471883, \"Alpha-3 code\": \"SAU\", \"Numeric\": 682, \"ISO\": \"SAU\", \"Country\": \"Saudi Arabia\", \"Tertiary_Education_Pct\": 23.623922, \"Debt_to_GDP\": null, \"Old_Age_Ratio\": 3.22, \"Tourism_Pct_GDP\": null, \"Tourism_Pct_Employment\": null, \"Top_10pct_Share\": null, \"Bottom_60pct_Share\": null, \"Life_Expectancy\": null}, {\"Alpha-2 code\": \"SE\", \"Cases\": 87072, \"Deaths\": 5842, \"Recovered\": \"16\", \"Mortality_Rate\": 0.06709389930172731, \"Alpha-3 code\": \"SWE\", \"Numeric\": 752, \"ISO\": \"SWE\", \"Country\": \"Sweden\", \"Tertiary_Education_Pct\": 43.26717, \"Debt_to_GDP\": 33.782, \"Old_Age_Ratio\": 19.861, \"Tourism_Pct_GDP\": 6.966, \"Tourism_Pct_Employment\": 3.4, \"Top_10pct_Share\": null, \"Bottom_60pct_Share\": null, \"Life_Expectancy\": 82.6}, {\"Alpha-2 code\": \"SG\", \"Cases\": 57166, \"Deaths\": 27, \"Recovered\": \"97\", \"Mortality_Rate\": 0.00047230871497043697, \"Alpha-3 code\": \"SGP\", \"Numeric\": 702, \"ISO\": \"SGP\", \"Country\": \"Singapore\", \"Tertiary_Education_Pct\": null, \"Debt_to_GDP\": null, \"Old_Age_Ratio\": 13.716, \"Tourism_Pct_GDP\": null, \"Tourism_Pct_Employment\": null, \"Top_10pct_Share\": null, \"Bottom_60pct_Share\": null, \"Life_Expectancy\": null}, {\"Alpha-2 code\": \"SI\", \"Cases\": 3312, \"Deaths\": 135, \"Recovered\": \"1423\", \"Mortality_Rate\": 0.04076086956521739, \"Alpha-3 code\": \"SVN\", \"Numeric\": 705, \"ISO\": \"SVN\", \"Country\": \"Slovenia\", \"Tertiary_Education_Pct\": 32.455208, \"Debt_to_GDP\": 36.023, \"Old_Age_Ratio\": 19.67, \"Tourism_Pct_GDP\": 5.29, \"Tourism_Pct_Employment\": 7.682, \"Top_10pct_Share\": 48.622921000000005, \"Bottom_60pct_Share\": 17.293293, \"Life_Expectancy\": 81.5}, {\"Alpha-2 code\": \"SK\", \"Cases\": 4888, \"Deaths\": 37, \"Recovered\": \"7\", \"Mortality_Rate\": 0.0075695581014729955, \"Alpha-3 code\": \"SVK\", \"Numeric\": 703, \"ISO\": \"SVK\", \"Country\": \"Slovak Republic\", \"Tertiary_Education_Pct\": 24.58342, \"Debt_to_GDP\": 39.078, \"Old_Age_Ratio\": 15.782, \"Tourism_Pct_GDP\": 2.804, \"Tourism_Pct_Employment\": 6.25, \"Top_10pct_Share\": 34.325706, \"Bottom_60pct_Share\": 25.886946, \"Life_Expectancy\": 77.4}, {\"Alpha-2 code\": \"TR\", \"Cases\": 284943, \"Deaths\": 6837, \"Recovered\": \"70\", \"Mortality_Rate\": 0.02399427253871827, \"Alpha-3 code\": \"TUR\", \"Numeric\": 792, \"ISO\": \"TUR\", \"Country\": \"Turkey\", \"Tertiary_Education_Pct\": 20.780222, \"Debt_to_GDP\": 42.851000000000006, \"Old_Age_Ratio\": 8.649, \"Tourism_Pct_GDP\": null, \"Tourism_Pct_Employment\": 7.733, \"Top_10pct_Share\": null, \"Bottom_60pct_Share\": null, \"Life_Expectancy\": 78.3}, {\"Alpha-2 code\": \"US\", \"Cases\": 6358247, \"Deaths\": 190727, \"Recovered\": \"924148\", \"Mortality_Rate\": 0.0299967899957331, \"Alpha-3 code\": \"USA\", \"Numeric\": 840, \"ISO\": \"USA\", \"Country\": \"United States\", \"Tertiary_Education_Pct\": 47.431145, \"Debt_to_GDP\": 61.273999999999994, \"Old_Age_Ratio\": 16.026, \"Tourism_Pct_GDP\": null, \"Tourism_Pct_Employment\": 4.321000000000001, \"Top_10pct_Share\": 79.471603, \"Bottom_60pct_Share\": 2.3983548, \"Life_Expectancy\": 78.7}, {\"Alpha-2 code\": \"ZA\", \"Cases\": 642431, \"Deaths\": 15168, \"Recovered\": \"97848\", \"Mortality_Rate\": 0.023610317683922476, \"Alpha-3 code\": \"ZAF\", \"Numeric\": 710, \"ISO\": \"ZAF\", \"Country\": \"South Africa\", \"Tertiary_Education_Pct\": 7.1976118, \"Debt_to_GDP\": null, \"Old_Age_Ratio\": 5.587000000000001, \"Tourism_Pct_GDP\": 2.799, \"Tourism_Pct_Employment\": 4.5, \"Top_10pct_Share\": null, \"Bottom_60pct_Share\": null, \"Life_Expectancy\": 63.9}]}}, {\"mode\": \"vega-lite\"});\n",
       "</script>"
      ],
      "text/plain": [
       "alt.LayerChart(...)"
      ]
     },
     "execution_count": 141,
     "metadata": {},
     "output_type": "execute_result"
    }
   ],
   "source": [
    "mortality_chart = alt.Chart(combined, title=alt.TitleParams(text=\"Impact of Covid-19 on older aged populations\",\n",
    "    fontSize=20, fontWeight='bold',\n",
    "    align='left', anchor='start',\n",
    "    subtitle=['By Country Comparison of Old Age ratio to Mortality Rate'],\n",
    "    subtitleFontSize=14)).mark_point().encode(\n",
    "    x=alt.X('Old_Age_Ratio:Q', title='Old Age Ratio (% of population >65)'),\n",
    "    y=alt.Y('Mortality_Rate:Q', title='Mortality Ratio (% of Covid-19)'),\n",
    "    #color='death_ratio:Q',\n",
    "    tooltip=['Country:N', 'Mortality_Rate:N', 'Old_Age_Ratio:Q', 'Cases:Q', 'Deaths:Q', 'Recovered:Q']\n",
    ")\n",
    "\n",
    "mortality_reg=mortality_chart.transform_regression('Old_Age_Ratio','Mortality_Rate').mark_line().encode(color=alt.value(\"#FF0000\"))\n",
    "\n",
    "mortalitylayer=mortality_chart + mortality_reg\n",
    "\n",
    "mortalitylayer"
   ]
  },
  {
   "cell_type": "code",
   "execution_count": 139,
   "metadata": {},
   "outputs": [
    {
     "data": {
      "text/html": [
       "\n",
       "<div id=\"altair-viz-0b09ad9ea6544bd3b26438d88af53555\"></div>\n",
       "<script type=\"text/javascript\">\n",
       "  (function(spec, embedOpt){\n",
       "    let outputDiv = document.currentScript.previousElementSibling;\n",
       "    if (outputDiv.id !== \"altair-viz-0b09ad9ea6544bd3b26438d88af53555\") {\n",
       "      outputDiv = document.getElementById(\"altair-viz-0b09ad9ea6544bd3b26438d88af53555\");\n",
       "    }\n",
       "    const paths = {\n",
       "      \"vega\": \"https://cdn.jsdelivr.net/npm//vega@5?noext\",\n",
       "      \"vega-lib\": \"https://cdn.jsdelivr.net/npm//vega-lib?noext\",\n",
       "      \"vega-lite\": \"https://cdn.jsdelivr.net/npm//vega-lite@4.8.1?noext\",\n",
       "      \"vega-embed\": \"https://cdn.jsdelivr.net/npm//vega-embed@6?noext\",\n",
       "    };\n",
       "\n",
       "    function loadScript(lib) {\n",
       "      return new Promise(function(resolve, reject) {\n",
       "        var s = document.createElement('script');\n",
       "        s.src = paths[lib];\n",
       "        s.async = true;\n",
       "        s.onload = () => resolve(paths[lib]);\n",
       "        s.onerror = () => reject(`Error loading script: ${paths[lib]}`);\n",
       "        document.getElementsByTagName(\"head\")[0].appendChild(s);\n",
       "      });\n",
       "    }\n",
       "\n",
       "    function showError(err) {\n",
       "      outputDiv.innerHTML = `<div class=\"error\" style=\"color:red;\">${err}</div>`;\n",
       "      throw err;\n",
       "    }\n",
       "\n",
       "    function displayChart(vegaEmbed) {\n",
       "      vegaEmbed(outputDiv, spec, embedOpt)\n",
       "        .catch(err => showError(`Javascript Error: ${err.message}<br>This usually means there's a typo in your chart specification. See the javascript console for the full traceback.`));\n",
       "    }\n",
       "\n",
       "    if(typeof define === \"function\" && define.amd) {\n",
       "      requirejs.config({paths});\n",
       "      require([\"vega-embed\"], displayChart, err => showError(`Error loading script: ${err.message}`));\n",
       "    } else if (typeof vegaEmbed === \"function\") {\n",
       "      displayChart(vegaEmbed);\n",
       "    } else {\n",
       "      loadScript(\"vega\")\n",
       "        .then(() => loadScript(\"vega-lite\"))\n",
       "        .then(() => loadScript(\"vega-embed\"))\n",
       "        .catch(showError)\n",
       "        .then(() => displayChart(vegaEmbed));\n",
       "    }\n",
       "  })({\"config\": {\"view\": {\"continuousWidth\": 400, \"continuousHeight\": 300}}, \"data\": {\"name\": \"data-497044c6543f78978d7fb6c49c6fa77c\"}, \"mark\": {\"type\": \"text\", \"align\": \"left\"}, \"encoding\": {\"text\": {\"type\": \"nominal\", \"field\": \"rSquared\"}, \"x\": {\"value\": 20}, \"y\": {\"value\": 20}}, \"transform\": [{\"on\": \"Old_Age_Ratio\", \"regression\": \"Mortality_Rate\", \"params\": true}], \"$schema\": \"https://vega.github.io/schema/vega-lite/v4.8.1.json\", \"datasets\": {\"data-497044c6543f78978d7fb6c49c6fa77c\": [{\"Alpha-2 code\": \"AR\", \"Cases\": 500034, \"Deaths\": 10457, \"Recovered\": \"72\", \"Mortality_Rate\": 0.02091257794469976, \"Alpha-3 code\": \"ARG\", \"Numeric\": 32, \"ISO\": \"ARG\", \"Country\": \"Argentina\", \"Tertiary_Education_Pct\": 35.663551, \"Debt_to_GDP\": null, \"Old_Age_Ratio\": 11.198, \"Tourism_Pct_GDP\": null, \"Tourism_Pct_Employment\": 10.17, \"Top_10pct_Share\": null, \"Bottom_60pct_Share\": null, \"Life_Expectancy\": null}, {\"Alpha-2 code\": \"AT\", \"Cases\": 30583, \"Deaths\": 747, \"Recovered\": \"9\", \"Mortality_Rate\": 0.024425334336069058, \"Alpha-3 code\": \"AUT\", \"Numeric\": 40, \"ISO\": \"AUT\", \"Country\": \"Austria\", \"Tertiary_Education_Pct\": 32.711426, \"Debt_to_GDP\": 65.75399999999999, \"Old_Age_Ratio\": 18.759, \"Tourism_Pct_GDP\": 6.474, \"Tourism_Pct_Employment\": 6.365, \"Top_10pct_Share\": 55.59053, \"Bottom_60pct_Share\": 8.0044022, \"Life_Expectancy\": 81.8}, {\"Alpha-2 code\": \"AU\", \"Cases\": 26516, \"Deaths\": 788, \"Recovered\": \"88\", \"Mortality_Rate\": 0.02971790616985971, \"Alpha-3 code\": \"AUS\", \"Numeric\": 36, \"ISO\": \"AUS\", \"Country\": \"Australia\", \"Tertiary_Education_Pct\": 45.727478000000005, \"Debt_to_GDP\": 10.966, \"Old_Age_Ratio\": 15.663, \"Tourism_Pct_GDP\": 3.0989999999999998, \"Tourism_Pct_Employment\": 5.2, \"Top_10pct_Share\": 46.465977, \"Bottom_60pct_Share\": 16.535754999999998, \"Life_Expectancy\": 82.8}, {\"Alpha-2 code\": \"BE\", \"Cases\": 89141, \"Deaths\": 9996, \"Recovered\": \"858\", \"Mortality_Rate\": 0.11213695157110645, \"Alpha-3 code\": \"BEL\", \"Numeric\": 56, \"ISO\": \"BEL\", \"Country\": \"Belgium\", \"Tertiary_Education_Pct\": 40.638546000000005, \"Debt_to_GDP\": 96.789, \"Old_Age_Ratio\": 18.835, \"Tourism_Pct_GDP\": null, \"Tourism_Pct_Employment\": null, \"Top_10pct_Share\": 42.495087, \"Bottom_60pct_Share\": 18.985046, \"Life_Expectancy\": 81.7}, {\"Alpha-2 code\": \"BG\", \"Cases\": 17435, \"Deaths\": 702, \"Recovered\": \"9\", \"Mortality_Rate\": 0.04026383710926298, \"Alpha-3 code\": \"BGR\", \"Numeric\": 100, \"ISO\": \"BGR\", \"Country\": \"Bulgaria\", \"Tertiary_Education_Pct\": null, \"Debt_to_GDP\": null, \"Old_Age_Ratio\": 21.174, \"Tourism_Pct_GDP\": null, \"Tourism_Pct_Employment\": null, \"Top_10pct_Share\": null, \"Bottom_60pct_Share\": null, \"Life_Expectancy\": null}, {\"Alpha-2 code\": \"BR\", \"Cases\": 4162073, \"Deaths\": 127464, \"Recovered\": \"6\", \"Mortality_Rate\": 0.03062512358625137, \"Alpha-3 code\": \"BRA\", \"Numeric\": 76, \"ISO\": \"BRA\", \"Country\": \"Brazil\", \"Tertiary_Education_Pct\": 17.210516000000002, \"Debt_to_GDP\": null, \"Old_Age_Ratio\": 9.222000000000001, \"Tourism_Pct_GDP\": null, \"Tourism_Pct_Employment\": 2.5, \"Top_10pct_Share\": null, \"Bottom_60pct_Share\": null, \"Life_Expectancy\": 75.7}, {\"Alpha-2 code\": \"CA\", \"Cases\": 136135, \"Deaths\": 9204, \"Recovered\": \"9\", \"Mortality_Rate\": 0.06760935835751276, \"Alpha-3 code\": \"CAN\", \"Numeric\": 124, \"ISO\": \"CAN\", \"Country\": \"Canada\", \"Tertiary_Education_Pct\": 57.888363, \"Debt_to_GDP\": 36.073, \"Old_Age_Ratio\": 17.157, \"Tourism_Pct_GDP\": null, \"Tourism_Pct_Employment\": 3.89, \"Top_10pct_Share\": 51.077117919921896, \"Bottom_60pct_Share\": 12.4380216598511, \"Life_Expectancy\": 82.0}, {\"Alpha-2 code\": \"CH\", \"Cases\": 45306, \"Deaths\": 2019, \"Recovered\": \"4\", \"Mortality_Rate\": 0.04456363395576745, \"Alpha-3 code\": \"CHE\", \"Numeric\": 756, \"ISO\": \"CHE\", \"Country\": \"Switzerland\", \"Tertiary_Education_Pct\": 43.744415000000004, \"Debt_to_GDP\": 20.24, \"Old_Age_Ratio\": 18.371, \"Tourism_Pct_GDP\": null, \"Tourism_Pct_Employment\": 4.416, \"Top_10pct_Share\": null, \"Bottom_60pct_Share\": null, \"Life_Expectancy\": 83.8}, {\"Alpha-2 code\": \"CL\", \"Cases\": 427027, \"Deaths\": 11702, \"Recovered\": \"8\", \"Mortality_Rate\": 0.027403419455912625, \"Alpha-3 code\": \"CHL\", \"Numeric\": 152, \"ISO\": \"CHL\", \"Country\": \"Chile\", \"Tertiary_Education_Pct\": 25.168179000000002, \"Debt_to_GDP\": 9.185, \"Old_Age_Ratio\": 11.547, \"Tourism_Pct_GDP\": null, \"Tourism_Pct_Employment\": 6.461, \"Top_10pct_Share\": 57.710564, \"Bottom_60pct_Share\": 8.490581500000001, \"Life_Expectancy\": 80.6}, {\"Alpha-2 code\": \"CN\", \"Cases\": 90087, \"Deaths\": 4733, \"Recovered\": \"9298\", \"Mortality_Rate\": 0.05253810205690055, \"Alpha-3 code\": \"CHN\", \"Numeric\": 156, \"ISO\": \"CHN\", \"Country\": \"China (People's Republic of)\", \"Tertiary_Education_Pct\": 9.6811743, \"Debt_to_GDP\": null, \"Old_Age_Ratio\": 11.194, \"Tourism_Pct_GDP\": null, \"Tourism_Pct_Employment\": null, \"Top_10pct_Share\": null, \"Bottom_60pct_Share\": null, \"Life_Expectancy\": 76.8}, {\"Alpha-2 code\": \"CO\", \"Cases\": 679513, \"Deaths\": 21817, \"Recovered\": \"8\", \"Mortality_Rate\": 0.03210681767677734, \"Alpha-3 code\": \"COL\", \"Numeric\": 170, \"ISO\": \"COL\", \"Country\": \"Colombia\", \"Tertiary_Education_Pct\": 23.391361, \"Debt_to_GDP\": null, \"Old_Age_Ratio\": 8.06, \"Tourism_Pct_GDP\": null, \"Tourism_Pct_Employment\": 8.791, \"Top_10pct_Share\": null, \"Bottom_60pct_Share\": null, \"Life_Expectancy\": 77.1}, {\"Alpha-2 code\": \"CR\", \"Cases\": 51224, \"Deaths\": 543, \"Recovered\": \"4\", \"Mortality_Rate\": 0.010600499765734812, \"Alpha-3 code\": \"CRI\", \"Numeric\": 188, \"ISO\": \"CRI\", \"Country\": \"Costa Rica\", \"Tertiary_Education_Pct\": 22.601564, \"Debt_to_GDP\": null, \"Old_Age_Ratio\": 8.18, \"Tourism_Pct_GDP\": 4.994, \"Tourism_Pct_Employment\": 6.63, \"Top_10pct_Share\": null, \"Bottom_60pct_Share\": null, \"Life_Expectancy\": 80.4}, {\"Alpha-2 code\": \"CY\", \"Cases\": 1514, \"Deaths\": 22, \"Recovered\": \"839\", \"Mortality_Rate\": 0.01453104359313078, \"Alpha-3 code\": \"CYP\", \"Numeric\": 196, \"ISO\": \"CYP\", \"Country\": \"Cyprus\", \"Tertiary_Education_Pct\": null, \"Debt_to_GDP\": null, \"Old_Age_Ratio\": 16.023, \"Tourism_Pct_GDP\": null, \"Tourism_Pct_Employment\": null, \"Top_10pct_Share\": null, \"Bottom_60pct_Share\": null, \"Life_Expectancy\": null}, {\"Alpha-2 code\": \"CZ\", \"Cases\": 31036, \"Deaths\": 444, \"Recovered\": \"7910\", \"Mortality_Rate\": 0.014305967263822657, \"Alpha-3 code\": \"CZE\", \"Numeric\": 203, \"ISO\": \"CZE\", \"Country\": \"Czech Republic\", \"Tertiary_Education_Pct\": 24.262076999999998, \"Debt_to_GDP\": 36.625, \"Old_Age_Ratio\": 19.414, \"Tourism_Pct_GDP\": 2.945, \"Tourism_Pct_Employment\": 4.468, \"Top_10pct_Share\": null, \"Bottom_60pct_Share\": null, \"Life_Expectancy\": 79.1}, {\"Alpha-2 code\": \"DE\", \"Cases\": 256433, \"Deaths\": 9342, \"Recovered\": \"9211\", \"Mortality_Rate\": 0.03643056860856442, \"Alpha-3 code\": \"DEU\", \"Numeric\": 276, \"ISO\": \"DEU\", \"Country\": \"Germany\", \"Tertiary_Education_Pct\": 29.065134000000004, \"Debt_to_GDP\": 44.403, \"Old_Age_Ratio\": 21.465999999999998, \"Tourism_Pct_GDP\": null, \"Tourism_Pct_Employment\": 4.796, \"Top_10pct_Share\": 59.758945, \"Bottom_60pct_Share\": 6.4569225, \"Life_Expectancy\": 81.0}, {\"Alpha-2 code\": \"DK\", \"Cases\": 19036, \"Deaths\": 628, \"Recovered\": \"971\", \"Mortality_Rate\": 0.03299012397562513, \"Alpha-3 code\": \"DNK\", \"Numeric\": 208, \"ISO\": \"DNK\", \"Country\": \"Denmark\", \"Tertiary_Education_Pct\": 38.055264, \"Debt_to_GDP\": 39.59, \"Old_Age_Ratio\": 19.461, \"Tourism_Pct_GDP\": null, \"Tourism_Pct_Employment\": 8.824, \"Top_10pct_Share\": 63.976688, \"Bottom_60pct_Share\": -3.8514315999999997, \"Life_Expectancy\": 81.0}, {\"Alpha-2 code\": \"EE\", \"Cases\": 2585, \"Deaths\": 69, \"Recovered\": \"8\", \"Mortality_Rate\": 0.026692456479690523, \"Alpha-3 code\": \"EST\", \"Numeric\": 233, \"ISO\": \"EST\", \"Country\": \"Estonia\", \"Tertiary_Education_Pct\": 41.130722, \"Debt_to_GDP\": 3.227, \"Old_Age_Ratio\": 19.676, \"Tourism_Pct_GDP\": 5.428, \"Tourism_Pct_Employment\": 4.3, \"Top_10pct_Share\": 55.713390000000004, \"Bottom_60pct_Share\": 12.7863, \"Life_Expectancy\": 78.4}, {\"Alpha-2 code\": \"EG\", \"Cases\": 100403, \"Deaths\": 5577, \"Recovered\": \"95\", \"Mortality_Rate\": 0.05554614901945161, \"Alpha-3 code\": \"EGY\", \"Numeric\": 818, \"ISO\": \"EGY\", \"Country\": \"Egypt\", \"Tertiary_Education_Pct\": null, \"Debt_to_GDP\": null, \"Old_Age_Ratio\": null, \"Tourism_Pct_GDP\": 4.258, \"Tourism_Pct_Employment\": 16.2, \"Top_10pct_Share\": null, \"Bottom_60pct_Share\": null, \"Life_Expectancy\": null}, {\"Alpha-2 code\": \"ES\", \"Cases\": 543379, \"Deaths\": 29628, \"Recovered\": \"9357\", \"Mortality_Rate\": 0.05452547853339934, \"Alpha-3 code\": \"ESP\", \"Numeric\": 724, \"ISO\": \"ESP\", \"Country\": \"Spain\", \"Tertiary_Education_Pct\": 37.252804, \"Debt_to_GDP\": 51.693000000000005, \"Old_Age_Ratio\": 19.29, \"Tourism_Pct_GDP\": 11.793, \"Tourism_Pct_Employment\": 13.48, \"Top_10pct_Share\": 45.577541, \"Bottom_60pct_Share\": 18.664709, \"Life_Expectancy\": 83.5}, {\"Alpha-2 code\": \"FI\", \"Cases\": 8430, \"Deaths\": 337, \"Recovered\": \"6700\", \"Mortality_Rate\": 0.039976275207591935, \"Alpha-3 code\": \"FIN\", \"Numeric\": 246, \"ISO\": \"FIN\", \"Country\": \"Finland\", \"Tertiary_Education_Pct\": 45.188133, \"Debt_to_GDP\": 41.683, \"Old_Age_Ratio\": 21.613000000000003, \"Tourism_Pct_GDP\": null, \"Tourism_Pct_Employment\": 5.5, \"Top_10pct_Share\": 45.231823, \"Bottom_60pct_Share\": 13.552249, \"Life_Expectancy\": 81.8}, {\"Alpha-2 code\": \"FR\", \"Cases\": 344101, \"Deaths\": 20319, \"Recovered\": \"9513\", \"Mortality_Rate\": 0.059049523250441, \"Alpha-3 code\": \"FRA\", \"Numeric\": 250, \"ISO\": \"FRA\", \"Country\": \"France\", \"Tertiary_Education_Pct\": 36.897490999999995, \"Debt_to_GDP\": 67.418, \"Old_Age_Ratio\": 19.837, \"Tourism_Pct_GDP\": 7.365, \"Tourism_Pct_Employment\": 7.496, \"Top_10pct_Share\": 50.586899, \"Bottom_60pct_Share\": 12.110005000000001, \"Life_Expectancy\": 82.8}, {\"Alpha-2 code\": \"GB\", \"Cases\": 355219, \"Deaths\": 41594, \"Recovered\": \"8\", \"Mortality_Rate\": 0.117093961753172, \"Alpha-3 code\": \"GBR\", \"Numeric\": 826, \"ISO\": \"GBR\", \"Country\": \"United Kingdom\", \"Tertiary_Education_Pct\": 45.781677, \"Debt_to_GDP\": 85.535, \"Old_Age_Ratio\": 18.312, \"Tourism_Pct_GDP\": null, \"Tourism_Pct_Employment\": 4.67, \"Top_10pct_Share\": 51.9886474609375, \"Bottom_60pct_Share\": 11.807471275329599, \"Life_Expectancy\": 81.3}, {\"Alpha-2 code\": \"GR\", \"Cases\": 12080, \"Deaths\": 293, \"Recovered\": \"8\", \"Mortality_Rate\": 0.02425496688741722, \"Alpha-3 code\": \"GRC\", \"Numeric\": 300, \"ISO\": \"GRC\", \"Country\": \"Greece\", \"Tertiary_Education_Pct\": 31.739904, \"Debt_to_GDP\": 147.839, \"Old_Age_Ratio\": 21.894000000000002, \"Tourism_Pct_GDP\": null, \"Tourism_Pct_Employment\": 9.974, \"Top_10pct_Share\": 42.423823999999996, \"Bottom_60pct_Share\": 17.925282, \"Life_Expectancy\": 81.9}, {\"Alpha-2 code\": \"HR\", \"Cases\": 12626, \"Deaths\": 206, \"Recovered\": \"73\", \"Mortality_Rate\": 0.016315539363218754, \"Alpha-3 code\": \"HRV\", \"Numeric\": 191, \"ISO\": \"HRV\", \"Country\": \"Croatia\", \"Tertiary_Education_Pct\": null, \"Debt_to_GDP\": null, \"Old_Age_Ratio\": 20.36, \"Tourism_Pct_GDP\": 11.402000000000001, \"Tourism_Pct_Employment\": 6.64, \"Top_10pct_Share\": null, \"Bottom_60pct_Share\": null, \"Life_Expectancy\": null}, {\"Alpha-2 code\": \"HU\", \"Cases\": 9715, \"Deaths\": 628, \"Recovered\": \"7\", \"Mortality_Rate\": 0.06464230571281523, \"Alpha-3 code\": \"HUN\", \"Numeric\": 348, \"ISO\": \"HUN\", \"Country\": \"Hungary\", \"Tertiary_Education_Pct\": 25.101177, \"Debt_to_GDP\": 73.898, \"Old_Age_Ratio\": 19.143, \"Tourism_Pct_GDP\": null, \"Tourism_Pct_Employment\": 9.59, \"Top_10pct_Share\": 48.477074, \"Bottom_60pct_Share\": 15.445245000000002, \"Life_Expectancy\": 76.2}, {\"Alpha-2 code\": \"ID\", \"Cases\": 203342, \"Deaths\": 8336, \"Recovered\": \"81\", \"Mortality_Rate\": 0.040994973984715403, \"Alpha-3 code\": \"IDN\", \"Numeric\": 360, \"ISO\": \"IDN\", \"Country\": \"Indonesia\", \"Tertiary_Education_Pct\": 11.857569, \"Debt_to_GDP\": null, \"Old_Age_Ratio\": 5.812, \"Tourism_Pct_GDP\": 4.11, \"Tourism_Pct_Employment\": 8.37, \"Top_10pct_Share\": null, \"Bottom_60pct_Share\": null, \"Life_Expectancy\": 71.6}, {\"Alpha-2 code\": \"IE\", \"Cases\": 30164, \"Deaths\": 1781, \"Recovered\": \"5\", \"Mortality_Rate\": 0.059043893382840475, \"Alpha-3 code\": \"IRL\", \"Numeric\": 372, \"ISO\": \"IRL\", \"Country\": \"Ireland\", \"Tertiary_Education_Pct\": 46.935134999999995, \"Debt_to_GDP\": 60.703, \"Old_Age_Ratio\": 13.864, \"Tourism_Pct_GDP\": null, \"Tourism_Pct_Employment\": 10.279000000000002, \"Top_10pct_Share\": 53.7924, \"Bottom_60pct_Share\": 7.1840534, \"Life_Expectancy\": 82.3}, {\"Alpha-2 code\": \"IL\", \"Cases\": 141097, \"Deaths\": 1054, \"Recovered\": \"89\", \"Mortality_Rate\": 0.007470038342416919, \"Alpha-3 code\": \"ISR\", \"Numeric\": 376, \"ISO\": \"ISR\", \"Country\": \"Israel\", \"Tertiary_Education_Pct\": 50.91605, \"Debt_to_GDP\": 74.714, \"Old_Age_Ratio\": 11.654000000000002, \"Tourism_Pct_GDP\": null, \"Tourism_Pct_Employment\": 3.61, \"Top_10pct_Share\": null, \"Bottom_60pct_Share\": null, \"Life_Expectancy\": 82.9}, {\"Alpha-2 code\": \"IN\", \"Cases\": 4370128, \"Deaths\": 73890, \"Recovered\": \"95\", \"Mortality_Rate\": 0.016907971574287983, \"Alpha-3 code\": \"IND\", \"Numeric\": 356, \"ISO\": \"IND\", \"Country\": \"India\", \"Tertiary_Education_Pct\": 10.595189, \"Debt_to_GDP\": null, \"Old_Age_Ratio\": 6.176, \"Tourism_Pct_GDP\": 3.759, \"Tourism_Pct_Employment\": 5.31, \"Top_10pct_Share\": null, \"Bottom_60pct_Share\": null, \"Life_Expectancy\": 69.5}, {\"Alpha-2 code\": \"IS\", \"Cases\": 2153, \"Deaths\": 10, \"Recovered\": \"97\", \"Mortality_Rate\": 0.004644681839294009, \"Alpha-3 code\": \"ISL\", \"Numeric\": 352, \"ISO\": \"ISL\", \"Country\": \"Iceland\", \"Tertiary_Education_Pct\": 43.749649, \"Debt_to_GDP\": 81.257, \"Old_Age_Ratio\": 14.136, \"Tourism_Pct_GDP\": 8.64, \"Tourism_Pct_Employment\": 15.7, \"Top_10pct_Share\": null, \"Bottom_60pct_Share\": null, \"Life_Expectancy\": 82.9}, {\"Alpha-2 code\": \"IT\", \"Cases\": 281583, \"Deaths\": 35577, \"Recovered\": \"9362\", \"Mortality_Rate\": 0.12634640585546714, \"Alpha-3 code\": \"ITA\", \"Numeric\": 380, \"ISO\": \"ITA\", \"Country\": \"Italy\", \"Tertiary_Education_Pct\": 19.323732, \"Debt_to_GDP\": 109.015, \"Old_Age_Ratio\": 22.675, \"Tourism_Pct_GDP\": null, \"Tourism_Pct_Employment\": 8.3, \"Top_10pct_Share\": 42.784328, \"Bottom_60pct_Share\": 17.315496, \"Life_Expectancy\": 83.4}, {\"Alpha-2 code\": \"JP\", \"Cases\": 73266, \"Deaths\": 1412, \"Recovered\": \"9\", \"Mortality_Rate\": 0.019272240875713154, \"Alpha-3 code\": \"JPN\", \"Numeric\": 392, \"ISO\": \"JPN\", \"Country\": \"Japan\", \"Tertiary_Education_Pct\": 51.928062, \"Debt_to_GDP\": 183.53, \"Old_Age_Ratio\": 28.136999999999997, \"Tourism_Pct_GDP\": 1.9609999999999999, \"Tourism_Pct_Employment\": 9.61, \"Top_10pct_Share\": 41.01643, \"Bottom_60pct_Share\": 17.749653, \"Life_Expectancy\": 84.2}, {\"Alpha-2 code\": \"KR\", \"Cases\": 21588, \"Deaths\": 344, \"Recovered\": \"9\", \"Mortality_Rate\": 0.015934778580692976, \"Alpha-3 code\": \"KOR\", \"Numeric\": 410, \"ISO\": \"KOR\", \"Country\": \"Korea\", \"Tertiary_Education_Pct\": 49.008511, \"Debt_to_GDP\": 31.935, \"Old_Age_Ratio\": 14.294, \"Tourism_Pct_GDP\": null, \"Tourism_Pct_Employment\": null, \"Top_10pct_Share\": null, \"Bottom_60pct_Share\": 17.694309, \"Life_Expectancy\": 82.7}, {\"Alpha-2 code\": \"KZ\", \"Cases\": 106498, \"Deaths\": 1634, \"Recovered\": \"3\", \"Mortality_Rate\": 0.015343011136359368, \"Alpha-3 code\": \"KAZ\", \"Numeric\": 398, \"ISO\": \"KAZ\", \"Country\": \"Kazakhstan\", \"Tertiary_Education_Pct\": null, \"Debt_to_GDP\": null, \"Old_Age_Ratio\": null, \"Tourism_Pct_GDP\": null, \"Tourism_Pct_Employment\": 5.33, \"Top_10pct_Share\": null, \"Bottom_60pct_Share\": null, \"Life_Expectancy\": null}, {\"Alpha-2 code\": \"LT\", \"Cases\": 3163, \"Deaths\": 86, \"Recovered\": \"7\", \"Mortality_Rate\": 0.027189377173569396, \"Alpha-3 code\": \"LTU\", \"Numeric\": 440, \"ISO\": \"LTU\", \"Country\": \"Lithuania\", \"Tertiary_Education_Pct\": 41.654594, \"Debt_to_GDP\": null, \"Old_Age_Ratio\": 19.706, \"Tourism_Pct_GDP\": null, \"Tourism_Pct_Employment\": 4.9, \"Top_10pct_Share\": null, \"Bottom_60pct_Share\": null, \"Life_Expectancy\": 75.8}, {\"Alpha-2 code\": \"LU\", \"Cases\": 7928, \"Deaths\": 124, \"Recovered\": \"80\", \"Mortality_Rate\": 0.01564076690211907, \"Alpha-3 code\": \"LUX\", \"Numeric\": 442, \"ISO\": \"LUX\", \"Country\": \"Luxembourg\", \"Tertiary_Education_Pct\": 43.886856, \"Debt_to_GDP\": 12.578, \"Old_Age_Ratio\": 14.354000000000001, \"Tourism_Pct_GDP\": null, \"Tourism_Pct_Employment\": null, \"Top_10pct_Share\": 48.667435, \"Bottom_60pct_Share\": 15.277357, \"Life_Expectancy\": 82.4}, {\"Alpha-2 code\": \"LV\", \"Cases\": 1443, \"Deaths\": 35, \"Recovered\": \"1008\", \"Mortality_Rate\": 0.024255024255024255, \"Alpha-3 code\": \"LVA\", \"Numeric\": 428, \"ISO\": \"LVA\", \"Country\": \"Latvia\", \"Tertiary_Education_Pct\": 33.939289, \"Debt_to_GDP\": null, \"Old_Age_Ratio\": 20.180999999999997, \"Tourism_Pct_GDP\": null, \"Tourism_Pct_Employment\": 8.48, \"Top_10pct_Share\": 63.376293000000004, \"Bottom_60pct_Share\": 7.114192500000001, \"Life_Expectancy\": 74.9}, {\"Alpha-2 code\": \"MA\", \"Cases\": 77878, \"Deaths\": 1453, \"Recovered\": \"8\", \"Mortality_Rate\": 0.01865738719535684, \"Alpha-3 code\": \"MAR\", \"Numeric\": 504, \"ISO\": \"MAR\", \"Country\": \"Morocco\", \"Tertiary_Education_Pct\": null, \"Debt_to_GDP\": null, \"Old_Age_Ratio\": null, \"Tourism_Pct_GDP\": 6.944, \"Tourism_Pct_Employment\": 5.0, \"Top_10pct_Share\": null, \"Bottom_60pct_Share\": null, \"Life_Expectancy\": null}, {\"Alpha-2 code\": \"MT\", \"Cases\": 2162, \"Deaths\": 14, \"Recovered\": \"653\", \"Mortality_Rate\": 0.0064754856614246065, \"Alpha-3 code\": \"MLT\", \"Numeric\": 470, \"ISO\": \"MLT\", \"Country\": \"Malta\", \"Tertiary_Education_Pct\": null, \"Debt_to_GDP\": null, \"Old_Age_Ratio\": 18.785, \"Tourism_Pct_GDP\": 6.129, \"Tourism_Pct_Employment\": 14.89, \"Top_10pct_Share\": null, \"Bottom_60pct_Share\": null, \"Life_Expectancy\": null}, {\"Alpha-2 code\": \"MX\", \"Cases\": 642860, \"Deaths\": 68484, \"Recovered\": \"4\", \"Mortality_Rate\": 0.10653019319914134, \"Alpha-3 code\": \"MEX\", \"Numeric\": 484, \"ISO\": \"MEX\", \"Country\": \"Mexico\", \"Tertiary_Education_Pct\": 17.979799, \"Debt_to_GDP\": 27.46, \"Old_Age_Ratio\": 7.246, \"Tourism_Pct_GDP\": null, \"Tourism_Pct_Employment\": 5.975, \"Top_10pct_Share\": null, \"Bottom_60pct_Share\": null, \"Life_Expectancy\": 75.0}, {\"Alpha-2 code\": \"NL\", \"Cases\": 81082, \"Deaths\": 6281, \"Recovered\": \"6\", \"Mortality_Rate\": 0.07746478873239436, \"Alpha-3 code\": \"NLD\", \"Numeric\": 528, \"ISO\": \"NLD\", \"Country\": \"Netherlands\", \"Tertiary_Education_Pct\": 38.343895, \"Debt_to_GDP\": 51.845, \"Old_Age_Ratio\": 19.015, \"Tourism_Pct_GDP\": null, \"Tourism_Pct_Employment\": 6.3, \"Top_10pct_Share\": 68.347847, \"Bottom_60pct_Share\": -3.9857127999999995, \"Life_Expectancy\": 81.9}, {\"Alpha-2 code\": \"NO\", \"Cases\": 11746, \"Deaths\": 264, \"Recovered\": \"8138\", \"Mortality_Rate\": 0.022475736420909245, \"Alpha-3 code\": \"NOR\", \"Numeric\": 578, \"ISO\": \"NOR\", \"Country\": \"Norway\", \"Tertiary_Education_Pct\": 43.575832, \"Debt_to_GDP\": 26.076999999999998, \"Old_Age_Ratio\": 17.087, \"Tourism_Pct_GDP\": 3.648, \"Tourism_Pct_Employment\": 6.05, \"Top_10pct_Share\": 51.450287, \"Bottom_60pct_Share\": 7.3088636, \"Life_Expectancy\": 82.8}, {\"Alpha-2 code\": \"NZ\", \"Cases\": 1788, \"Deaths\": 24, \"Recovered\": \"83\", \"Mortality_Rate\": 0.013422818791946308, \"Alpha-3 code\": \"NZL\", \"Numeric\": 554, \"ISO\": \"NZL\", \"Country\": \"New Zealand\", \"Tertiary_Education_Pct\": 39.292675, \"Debt_to_GDP\": 30.45, \"Old_Age_Ratio\": 15.288, \"Tourism_Pct_GDP\": null, \"Tourism_Pct_Employment\": 8.0, \"Top_10pct_Share\": 52.944607, \"Bottom_60pct_Share\": 12.318700999999999, \"Life_Expectancy\": 81.8}, {\"Alpha-2 code\": \"PE\", \"Cases\": 696190, \"Deaths\": 30123, \"Recovered\": \"53\", \"Mortality_Rate\": 0.043268360648673496, \"Alpha-3 code\": \"PER\", \"Numeric\": 604, \"ISO\": \"PER\", \"Country\": \"Peru\", \"Tertiary_Education_Pct\": null, \"Debt_to_GDP\": null, \"Old_Age_Ratio\": null, \"Tourism_Pct_GDP\": 3.9, \"Tourism_Pct_Employment\": 3.82, \"Top_10pct_Share\": null, \"Bottom_60pct_Share\": null, \"Life_Expectancy\": null}, {\"Alpha-2 code\": \"PH\", \"Cases\": 245143, \"Deaths\": 3986, \"Recovered\": \"8\", \"Mortality_Rate\": 0.016259897284442142, \"Alpha-3 code\": \"PHL\", \"Numeric\": 608, \"ISO\": \"PHL\", \"Country\": \"Philippines\", \"Tertiary_Education_Pct\": null, \"Debt_to_GDP\": null, \"Old_Age_Ratio\": null, \"Tourism_Pct_GDP\": 8.588, \"Tourism_Pct_Employment\": 12.8, \"Top_10pct_Share\": null, \"Bottom_60pct_Share\": null, \"Life_Expectancy\": null}, {\"Alpha-2 code\": \"PL\", \"Cases\": 71947, \"Deaths\": 2147, \"Recovered\": \"7\", \"Mortality_Rate\": 0.02984141103868125, \"Alpha-3 code\": \"POL\", \"Numeric\": 616, \"ISO\": \"POL\", \"Country\": \"Poland\", \"Tertiary_Education_Pct\": 30.919591999999998, \"Debt_to_GDP\": 49.678999999999995, \"Old_Age_Ratio\": 17.23, \"Tourism_Pct_GDP\": 1.175, \"Tourism_Pct_Employment\": null, \"Top_10pct_Share\": 41.83997, \"Bottom_60pct_Share\": 18.263699, \"Life_Expectancy\": 77.7}, {\"Alpha-2 code\": \"PT\", \"Cases\": 61541, \"Deaths\": 1849, \"Recovered\": \"5\", \"Mortality_Rate\": 0.030045010643310964, \"Alpha-3 code\": \"PRT\", \"Numeric\": 620, \"ISO\": \"PRT\", \"Country\": \"Portugal\", \"Tertiary_Education_Pct\": 24.984337, \"Debt_to_GDP\": 87.962, \"Old_Age_Ratio\": 21.671999999999997, \"Tourism_Pct_GDP\": null, \"Tourism_Pct_Employment\": 9.81, \"Top_10pct_Share\": 52.127502, \"Bottom_60pct_Share\": 12.422934, \"Life_Expectancy\": 81.4}, {\"Alpha-2 code\": \"RO\", \"Cases\": 98304, \"Deaths\": 4018, \"Recovered\": \"94\", \"Mortality_Rate\": 0.040873209635416664, \"Alpha-3 code\": \"ROU\", \"Numeric\": 642, \"ISO\": \"ROU\", \"Country\": \"Romania\", \"Tertiary_Education_Pct\": null, \"Debt_to_GDP\": null, \"Old_Age_Ratio\": 18.355999999999998, \"Tourism_Pct_GDP\": 2.787, \"Tourism_Pct_Employment\": null, \"Top_10pct_Share\": null, \"Bottom_60pct_Share\": null, \"Life_Expectancy\": null}, {\"Alpha-2 code\": \"RU\", \"Cases\": 1037526, \"Deaths\": 18080, \"Recovered\": \"9\", \"Mortality_Rate\": 0.01742606932260011, \"Alpha-3 code\": \"RUS\", \"Numeric\": 643, \"ISO\": \"RUS\", \"Country\": \"Russia\", \"Tertiary_Education_Pct\": 56.70015, \"Debt_to_GDP\": null, \"Old_Age_Ratio\": 14.745999999999999, \"Tourism_Pct_GDP\": null, \"Tourism_Pct_Employment\": null, \"Top_10pct_Share\": null, \"Bottom_60pct_Share\": null, \"Life_Expectancy\": 72.8}, {\"Alpha-2 code\": \"SA\", \"Cases\": 323012, \"Deaths\": 4165, \"Recovered\": \"8\", \"Mortality_Rate\": 0.012894257798471883, \"Alpha-3 code\": \"SAU\", \"Numeric\": 682, \"ISO\": \"SAU\", \"Country\": \"Saudi Arabia\", \"Tertiary_Education_Pct\": 23.623922, \"Debt_to_GDP\": null, \"Old_Age_Ratio\": 3.22, \"Tourism_Pct_GDP\": null, \"Tourism_Pct_Employment\": null, \"Top_10pct_Share\": null, \"Bottom_60pct_Share\": null, \"Life_Expectancy\": null}, {\"Alpha-2 code\": \"SE\", \"Cases\": 87072, \"Deaths\": 5842, \"Recovered\": \"16\", \"Mortality_Rate\": 0.06709389930172731, \"Alpha-3 code\": \"SWE\", \"Numeric\": 752, \"ISO\": \"SWE\", \"Country\": \"Sweden\", \"Tertiary_Education_Pct\": 43.26717, \"Debt_to_GDP\": 33.782, \"Old_Age_Ratio\": 19.861, \"Tourism_Pct_GDP\": 6.966, \"Tourism_Pct_Employment\": 3.4, \"Top_10pct_Share\": null, \"Bottom_60pct_Share\": null, \"Life_Expectancy\": 82.6}, {\"Alpha-2 code\": \"SG\", \"Cases\": 57166, \"Deaths\": 27, \"Recovered\": \"97\", \"Mortality_Rate\": 0.00047230871497043697, \"Alpha-3 code\": \"SGP\", \"Numeric\": 702, \"ISO\": \"SGP\", \"Country\": \"Singapore\", \"Tertiary_Education_Pct\": null, \"Debt_to_GDP\": null, \"Old_Age_Ratio\": 13.716, \"Tourism_Pct_GDP\": null, \"Tourism_Pct_Employment\": null, \"Top_10pct_Share\": null, \"Bottom_60pct_Share\": null, \"Life_Expectancy\": null}, {\"Alpha-2 code\": \"SI\", \"Cases\": 3312, \"Deaths\": 135, \"Recovered\": \"1423\", \"Mortality_Rate\": 0.04076086956521739, \"Alpha-3 code\": \"SVN\", \"Numeric\": 705, \"ISO\": \"SVN\", \"Country\": \"Slovenia\", \"Tertiary_Education_Pct\": 32.455208, \"Debt_to_GDP\": 36.023, \"Old_Age_Ratio\": 19.67, \"Tourism_Pct_GDP\": 5.29, \"Tourism_Pct_Employment\": 7.682, \"Top_10pct_Share\": 48.622921000000005, \"Bottom_60pct_Share\": 17.293293, \"Life_Expectancy\": 81.5}, {\"Alpha-2 code\": \"SK\", \"Cases\": 4888, \"Deaths\": 37, \"Recovered\": \"7\", \"Mortality_Rate\": 0.0075695581014729955, \"Alpha-3 code\": \"SVK\", \"Numeric\": 703, \"ISO\": \"SVK\", \"Country\": \"Slovak Republic\", \"Tertiary_Education_Pct\": 24.58342, \"Debt_to_GDP\": 39.078, \"Old_Age_Ratio\": 15.782, \"Tourism_Pct_GDP\": 2.804, \"Tourism_Pct_Employment\": 6.25, \"Top_10pct_Share\": 34.325706, \"Bottom_60pct_Share\": 25.886946, \"Life_Expectancy\": 77.4}, {\"Alpha-2 code\": \"TR\", \"Cases\": 284943, \"Deaths\": 6837, \"Recovered\": \"70\", \"Mortality_Rate\": 0.02399427253871827, \"Alpha-3 code\": \"TUR\", \"Numeric\": 792, \"ISO\": \"TUR\", \"Country\": \"Turkey\", \"Tertiary_Education_Pct\": 20.780222, \"Debt_to_GDP\": 42.851000000000006, \"Old_Age_Ratio\": 8.649, \"Tourism_Pct_GDP\": null, \"Tourism_Pct_Employment\": 7.733, \"Top_10pct_Share\": null, \"Bottom_60pct_Share\": null, \"Life_Expectancy\": 78.3}, {\"Alpha-2 code\": \"US\", \"Cases\": 6358247, \"Deaths\": 190727, \"Recovered\": \"924148\", \"Mortality_Rate\": 0.0299967899957331, \"Alpha-3 code\": \"USA\", \"Numeric\": 840, \"ISO\": \"USA\", \"Country\": \"United States\", \"Tertiary_Education_Pct\": 47.431145, \"Debt_to_GDP\": 61.273999999999994, \"Old_Age_Ratio\": 16.026, \"Tourism_Pct_GDP\": null, \"Tourism_Pct_Employment\": 4.321000000000001, \"Top_10pct_Share\": 79.471603, \"Bottom_60pct_Share\": 2.3983548, \"Life_Expectancy\": 78.7}, {\"Alpha-2 code\": \"ZA\", \"Cases\": 642431, \"Deaths\": 15168, \"Recovered\": \"97848\", \"Mortality_Rate\": 0.023610317683922476, \"Alpha-3 code\": \"ZAF\", \"Numeric\": 710, \"ISO\": \"ZAF\", \"Country\": \"South Africa\", \"Tertiary_Education_Pct\": 7.1976118, \"Debt_to_GDP\": null, \"Old_Age_Ratio\": 5.587000000000001, \"Tourism_Pct_GDP\": 2.799, \"Tourism_Pct_Employment\": 4.5, \"Top_10pct_Share\": null, \"Bottom_60pct_Share\": null, \"Life_Expectancy\": 63.9}]}}, {\"mode\": \"vega-lite\"});\n",
       "</script>"
      ],
      "text/plain": [
       "alt.Chart(...)"
      ]
     },
     "execution_count": 139,
     "metadata": {},
     "output_type": "execute_result"
    }
   ],
   "source": [
    "params = alt.Chart(combined).transform_regression('Old_Age_Ratio','Mortality_Rate', params=True\n",
    ").mark_text(align='left').encode(\n",
    "    x=alt.value(20),  # pixels from left\n",
    "    y=alt.value(20),  # pixels from top\n",
    "    text='rSquared:N'\n",
    ")\n",
    "\n",
    "params"
   ]
  },
  {
   "cell_type": "code",
   "execution_count": 68,
   "metadata": {},
   "outputs": [],
   "source": [
    "import matplotlib.pyplot as plt"
   ]
  },
  {
   "cell_type": "code",
   "execution_count": 92,
   "metadata": {},
   "outputs": [],
   "source": [
    "old_age_ratio_x=combined['Old_Age_Ratio'].dropna()\n",
    "mortality_rate_y=combined['Mortality_Rate'].dropna()"
   ]
  },
  {
   "cell_type": "code",
   "execution_count": 95,
   "metadata": {},
   "outputs": [
    {
     "data": {
      "image/png": "[encoded data removed]",
      "text/plain": [
       "<Figure size 432x288 with 1 Axes>"
      ]
     },
     "metadata": {
      "needs_background": "light"
     },
     "output_type": "display_data"
    }
   ],
   "source": [
    "vars=[old_age_ratio_x,mortality_rate_y]\n",
    "\n",
    "boxplt=plt.boxplot(old_age_ratio_x,showmeans=True)\n",
    "#print (boxplt.keys())\n",
    "boxplt['boxes'][0].set_color('r')\n",
    "#boxplt['boxes'][1].set_color('red')\n",
    "boxplt['medians'][0].set_color('blue')\n",
    "#boxplt['medians'][1].set_color('blue')\n",
    "plt.title('Distribution of Population >65 by Country')\n",
    "#plt.xticks([1,2],['Running','Cycling'])\n",
    "plt.xlabel('Countries w/ Covid-19')\n",
    "plt.ylabel('Old Age Ratio (% of population >65)')\n",
    "plt.show()"
   ]
  },
  {
   "cell_type": "code",
   "execution_count": 96,
   "metadata": {},
   "outputs": [
    {
     "data": {
      "image/png": "[encoded data removed]",
      "text/plain": [
       "<Figure size 432x288 with 1 Axes>"
      ]
     },
     "metadata": {
      "needs_background": "light"
     },
     "output_type": "display_data"
    }
   ],
   "source": [
    "boxplt=plt.boxplot(mortality_rate_y,showmeans=True)\n",
    "#print (boxplt.keys())\n",
    "boxplt['boxes'][0].set_color('r')\n",
    "#boxplt['boxes'][1].set_color('red')\n",
    "boxplt['medians'][0].set_color('blue')\n",
    "#boxplt['medians'][1].set_color('blue')\n",
    "plt.title('Distribution of Mortality Rate by Country')\n",
    "#plt.xticks([1,2],['Running','Cycling'])\n",
    "plt.xlabel('Countries w/ Covid-19')\n",
    "plt.ylabel('Mortality Ratio (% of Covid-19)')\n",
    "plt.show()"
   ]
  },
  {
   "cell_type": "code",
   "execution_count": 120,
   "metadata": {},
   "outputs": [],
   "source": [
    "import seaborn as sns"
   ]
  },
  {
   "cell_type": "code",
   "execution_count": 121,
   "metadata": {},
   "outputs": [
    {
     "data": {
      "text/plain": [
       "Index(['Alpha-2 code', 'Cases', 'Deaths', 'Recovered', 'Mortality_Rate',\n",
       "       'Alpha-3 code', 'Numeric', 'ISO', 'Country', 'Tertiary_Education_Pct',\n",
       "       'Debt_to_GDP', 'Old_Age_Ratio', 'Tourism_Pct_GDP',\n",
       "       'Tourism_Pct_Employment', 'Top_10pct_Share', 'Bottom_60pct_Share',\n",
       "       'Life_Expectancy'],\n",
       "      dtype='object')"
      ]
     },
     "execution_count": 121,
     "metadata": {},
     "output_type": "execute_result"
    }
   ],
   "source": [
    "combined.columns"
   ]
  },
  {
   "cell_type": "code",
   "execution_count": 133,
   "metadata": {},
   "outputs": [],
   "source": [
    "reduced_combined=combined[['Old_Age_Ratio', 'Mortality_Rate',\n",
    "                           'Tertiary_Education_Pct','Debt_to_GDP','Life_Expectancy']]\n",
    "\n",
    "reduced_combined1=combined[['Cases', 'Old_Age_Ratio', 'Mortality_Rate',\n",
    "                           'Tourism_Pct_Employment','Top_10pct_Share', ]]"
   ]
  },
  {
   "cell_type": "code",
   "execution_count": 134,
   "metadata": {},
   "outputs": [
    {
     "data": {
      "text/plain": [
       "<seaborn.axisgrid.PairGrid at 0x7f19fd37e908>"
      ]
     },
     "execution_count": 134,
     "metadata": {},
     "output_type": "execute_result"
    },
    {
     "data": {
      "image/png": "[encoded data removed]",
      "text/plain": [
       "<Figure size 900x900 with 30 Axes>"
      ]
     },
     "metadata": {
      "needs_background": "light"
     },
     "output_type": "display_data"
    }
   ],
   "source": [
    "sns.pairplot(reduced_combined)"
   ]
  },
  {
   "cell_type": "code",
   "execution_count": 135,
   "metadata": {},
   "outputs": [
    {
     "data": {
      "text/plain": [
       "<seaborn.axisgrid.PairGrid at 0x7f19fcaefac8>"
      ]
     },
     "execution_count": 135,
     "metadata": {},
     "output_type": "execute_result"
    },
    {
     "data": {
      "image/png": "[encoded data removed]",
      "text/plain": [
       "<Figure size 900x900 with 30 Axes>"
      ]
     },
     "metadata": {
      "needs_background": "light"
     },
     "output_type": "display_data"
    }
   ],
   "source": [
    "sns.pairplot(reduced_combined1)"
   ]
  },
  {
   "cell_type": "code",
   "execution_count": null,
   "metadata": {},
   "outputs": [],
   "source": []
  }
 ],
 "metadata": {
  "colab": {
   "name": "Project_v1.1.ipynb",
   "provenance": []
  },
  "kernelspec": {
   "display_name": "Python 3",
   "language": "python",
   "name": "python3"
  },
  "language_info": {
   "codemirror_mode": {
    "name": "ipython",
    "version": 3
   },
   "file_extension": ".py",
   "mimetype": "text/x-python",
   "name": "python",
   "nbconvert_exporter": "python",
   "pygments_lexer": "ipython3",
   "version": "3.7.3"
  }
 },
 "nbformat": 4,
 "nbformat_minor": 1
}
