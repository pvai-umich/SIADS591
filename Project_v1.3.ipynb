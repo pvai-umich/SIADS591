{
  "nbformat": 4,
  "nbformat_minor": 0,
  "metadata": {
    "colab": {
      "name": "Project_v1.1.ipynb",
      "provenance": [],
      "toc_visible": true
    },
    "kernelspec": {
      "display_name": "Python 3",
      "language": "python",
      "name": "python3"
    }
  },
  "cells": [
    {
      "cell_type": "markdown",
      "metadata": {
        "colab_type": "text",
        "id": "T6tKTzOYnSRC"
      },
      "source": [
        "# Intro\n",
        "\n",
        "The OECD database is composed of hundreds (if not thousands) of tables that focus on specific economic and social variables. These variables are attirbutable to individual countries, and are generally recorded over time, making them a time series. \n",
        "\n",
        "For the purposes of this analysis, we are only interested in the latest year's data point, which would reflect the most recent characterization of each country's social and economic situation. \n",
        "\n",
        "However, given that we have years of data for each country, there is also the potential to use the change in the variable as a feature of our modeling. For example, rapid improvement in immunization coverage for a country would imply effective health education and could represent a more accurate picture of how the country is better educating the public about a new pandemic versus a country with a higher, but stagnant, immunization record. \n",
        "\n",
        "For now, we are combining the various OECD tables on the 'country' key so that we can merge it with COVID data.\n",
        "\n",
        "Data transformation to follow."
      ]
    },
    {
      "cell_type": "markdown",
      "metadata": {
        "colab_type": "text",
        "id": "vWdO1ltBnSRD"
      },
      "source": [
        "# Loading and Cleaning Data\n",
        "\n",
        "Here we load and clean csv data taken from the OECD database. This includes datasets on the following topics:\n",
        "- Education\n",
        "- Government Debt\n",
        "- Immunization\n",
        "- Demographics / Population\n",
        "- Tourism\n",
        "- Wealth Distribution\n",
        "- Life Expectancy\n",
        "\n",
        "For each dataset, there are multiple columns we are not interested in. Furthermore, for the columns we do want, there are different enteries for that variable, so we need to filter on what we are looking for. \n",
        "\n",
        "The tables and column names are not standardized, so each csv file will have to be cleaned and prepared individually. "
      ]
    },
    {
      "cell_type": "markdown",
      "metadata": {
        "colab_type": "text",
        "id": "0ErXdojBnSRE"
      },
      "source": [
        "### Load Packages"
      ]
    },
    {
      "cell_type": "code",
      "metadata": {
        "colab_type": "code",
        "id": "Ara0Piq0nSRF",
        "colab": {}
      },
      "source": [
        "import pandas as pd\n",
        "import numpy as np\n",
        "from urllib.request import urlopen\n",
        "import ssl\n",
        "import json\n",
        "import requests\n",
        "\n",
        "ssl._create_default_https_context = ssl._create_unverified_context"
      ],
      "execution_count": 3,
      "outputs": []
    },
    {
      "cell_type": "markdown",
      "metadata": {
        "colab_type": "text",
        "id": "GotHxvPanSRJ"
      },
      "source": [
        "## OECD\n"
      ]
    },
    {
      "cell_type": "markdown",
      "metadata": {
        "colab_type": "text",
        "id": "2xMJi9vZ2JmJ"
      },
      "source": [
        "### Education\n",
        "\n",
        "We hypothesize that a country's education should play a key role in the success rate of the country's approach to COVID. Specifically, a more highly educated country should, in theory, have a more effective approach to dealing with the virus, and should have a populace that better understands public health terminiology, what viruses are, and would be more willing to take the pandemic seriously. \n",
        "\n",
        "So we will focus on the share of population of countries that have a tertiary education level. This is defined on wikipedia as:\n",
        "\n",
        "*Tertiary education, also referred to as third-level, third-stage or post-secondary education, is the educational level following the completion of secondary education. The World Bank, for example, defines tertiary education as including universities as well as trade schools and colleges.*"
      ]
    },
    {
      "cell_type": "code",
      "metadata": {
        "colab_type": "code",
        "id": "u3p59OlYnSRK",
        "colab": {}
      },
      "source": [
        "url_edu = 'https://raw.githubusercontent.com/pvai-umich/SIADS591/master/Data/OECD_Education_Statistics.csv'\n",
        "dfraw_edu = pd.read_csv(url_edu)\n"
      ],
      "execution_count": 26,
      "outputs": []
    },
    {
      "cell_type": "code",
      "metadata": {
        "colab_type": "code",
        "id": "kUVxa7JKnSRM",
        "colab": {
          "base_uri": "https://localhost:8080/",
          "height": 195
        },
        "outputId": "3bf85e40-82a3-4389-c747-38e70f97eb3d"
      },
      "source": [
        "columns_to_use = ['COUNTRY', 'Country', 'Gender', 'ISCED 2011 A education level', 'Reference Period', 'Measure', 'Value']\n",
        "\n",
        "# Only select the columns we want to use\n",
        "df_edu = dfraw_edu[columns_to_use]\n",
        "\n",
        "# filter some of the columns to include the variables we want to see\n",
        "df_edu = df_edu[df_edu['ISCED 2011 A education level'] == \"Tertiary education\"]\n",
        "df_edu = df_edu[df_edu['Gender'] == \"Total\"]\n",
        "df_edu = df_edu[df_edu['Measure'] == \"Value\"]\n",
        "\n",
        "# Choose the latest datapoint for each country\n",
        "df_edu = df_edu.sort_values('Reference Period').groupby('Country').tail(1)\n",
        "\n",
        "# This final dataframe contains the share of each country's population that has a tertiary education. \n",
        "df_edu.head()\n"
      ],
      "execution_count": 27,
      "outputs": [
        {
          "output_type": "execute_result",
          "data": {
            "text/html": [
              "<div>\n",
              "<style scoped>\n",
              "    .dataframe tbody tr th:only-of-type {\n",
              "        vertical-align: middle;\n",
              "    }\n",
              "\n",
              "    .dataframe tbody tr th {\n",
              "        vertical-align: top;\n",
              "    }\n",
              "\n",
              "    .dataframe thead th {\n",
              "        text-align: right;\n",
              "    }\n",
              "</style>\n",
              "<table border=\"1\" class=\"dataframe\">\n",
              "  <thead>\n",
              "    <tr style=\"text-align: right;\">\n",
              "      <th></th>\n",
              "      <th>COUNTRY</th>\n",
              "      <th>Country</th>\n",
              "      <th>Gender</th>\n",
              "      <th>ISCED 2011 A education level</th>\n",
              "      <th>Reference Period</th>\n",
              "      <th>Measure</th>\n",
              "      <th>Value</th>\n",
              "    </tr>\n",
              "  </thead>\n",
              "  <tbody>\n",
              "    <tr>\n",
              "      <th>3244</th>\n",
              "      <td>CHN</td>\n",
              "      <td>China (People's Republic of)</td>\n",
              "      <td>Total</td>\n",
              "      <td>Tertiary education</td>\n",
              "      <td>2010.0</td>\n",
              "      <td>Value</td>\n",
              "      <td>9.681174</td>\n",
              "    </tr>\n",
              "    <tr>\n",
              "      <th>3302</th>\n",
              "      <td>IND</td>\n",
              "      <td>India</td>\n",
              "      <td>Total</td>\n",
              "      <td>Tertiary education</td>\n",
              "      <td>2011.0</td>\n",
              "      <td>Value</td>\n",
              "      <td>10.595189</td>\n",
              "    </tr>\n",
              "    <tr>\n",
              "      <th>2846</th>\n",
              "      <td>SAU</td>\n",
              "      <td>Saudi Arabia</td>\n",
              "      <td>Total</td>\n",
              "      <td>Tertiary education</td>\n",
              "      <td>2016.0</td>\n",
              "      <td>Value</td>\n",
              "      <td>23.623922</td>\n",
              "    </tr>\n",
              "    <tr>\n",
              "      <th>2772</th>\n",
              "      <td>CHL</td>\n",
              "      <td>Chile</td>\n",
              "      <td>Total</td>\n",
              "      <td>Tertiary education</td>\n",
              "      <td>2017.0</td>\n",
              "      <td>Value</td>\n",
              "      <td>25.168179</td>\n",
              "    </tr>\n",
              "    <tr>\n",
              "      <th>2757</th>\n",
              "      <td>RUS</td>\n",
              "      <td>Russia</td>\n",
              "      <td>Total</td>\n",
              "      <td>Tertiary education</td>\n",
              "      <td>2017.0</td>\n",
              "      <td>Value</td>\n",
              "      <td>56.700150</td>\n",
              "    </tr>\n",
              "  </tbody>\n",
              "</table>\n",
              "</div>"
            ],
            "text/plain": [
              "     COUNTRY                       Country  ... Measure      Value\n",
              "3244     CHN  China (People's Republic of)  ...   Value   9.681174\n",
              "3302     IND                         India  ...   Value  10.595189\n",
              "2846     SAU                  Saudi Arabia  ...   Value  23.623922\n",
              "2772     CHL                         Chile  ...   Value  25.168179\n",
              "2757     RUS                        Russia  ...   Value  56.700150\n",
              "\n",
              "[5 rows x 7 columns]"
            ]
          },
          "metadata": {
            "tags": []
          },
          "execution_count": 27
        }
      ]
    },
    {
      "cell_type": "code",
      "metadata": {
        "colab_type": "code",
        "id": "UJT33i0WnSRP",
        "colab": {
          "base_uri": "https://localhost:8080/",
          "height": 195
        },
        "outputId": "09b950e6-b3d6-4197-abf6-7ebe56e46210"
      },
      "source": [
        "# But lets reduce this table down to what we'll be combining together later.\n",
        "# A simple country-variable table.\n",
        "\n",
        "df_edu = df_edu[['COUNTRY', 'Country', 'Value']]\n",
        "df_edu.columns = ['ISO', 'Country', 'Tertiary_Education_Pct']\n",
        "df_edu.head()"
      ],
      "execution_count": 28,
      "outputs": [
        {
          "output_type": "execute_result",
          "data": {
            "text/html": [
              "<div>\n",
              "<style scoped>\n",
              "    .dataframe tbody tr th:only-of-type {\n",
              "        vertical-align: middle;\n",
              "    }\n",
              "\n",
              "    .dataframe tbody tr th {\n",
              "        vertical-align: top;\n",
              "    }\n",
              "\n",
              "    .dataframe thead th {\n",
              "        text-align: right;\n",
              "    }\n",
              "</style>\n",
              "<table border=\"1\" class=\"dataframe\">\n",
              "  <thead>\n",
              "    <tr style=\"text-align: right;\">\n",
              "      <th></th>\n",
              "      <th>ISO</th>\n",
              "      <th>Country</th>\n",
              "      <th>Tertiary_Education_Pct</th>\n",
              "    </tr>\n",
              "  </thead>\n",
              "  <tbody>\n",
              "    <tr>\n",
              "      <th>3244</th>\n",
              "      <td>CHN</td>\n",
              "      <td>China (People's Republic of)</td>\n",
              "      <td>9.681174</td>\n",
              "    </tr>\n",
              "    <tr>\n",
              "      <th>3302</th>\n",
              "      <td>IND</td>\n",
              "      <td>India</td>\n",
              "      <td>10.595189</td>\n",
              "    </tr>\n",
              "    <tr>\n",
              "      <th>2846</th>\n",
              "      <td>SAU</td>\n",
              "      <td>Saudi Arabia</td>\n",
              "      <td>23.623922</td>\n",
              "    </tr>\n",
              "    <tr>\n",
              "      <th>2772</th>\n",
              "      <td>CHL</td>\n",
              "      <td>Chile</td>\n",
              "      <td>25.168179</td>\n",
              "    </tr>\n",
              "    <tr>\n",
              "      <th>2757</th>\n",
              "      <td>RUS</td>\n",
              "      <td>Russia</td>\n",
              "      <td>56.700150</td>\n",
              "    </tr>\n",
              "  </tbody>\n",
              "</table>\n",
              "</div>"
            ],
            "text/plain": [
              "      ISO                       Country  Tertiary_Education_Pct\n",
              "3244  CHN  China (People's Republic of)                9.681174\n",
              "3302  IND                         India               10.595189\n",
              "2846  SAU                  Saudi Arabia               23.623922\n",
              "2772  CHL                         Chile               25.168179\n",
              "2757  RUS                        Russia               56.700150"
            ]
          },
          "metadata": {
            "tags": []
          },
          "execution_count": 28
        }
      ]
    },
    {
      "cell_type": "markdown",
      "metadata": {
        "colab_type": "text",
        "id": "hl7FyfCbnSRR"
      },
      "source": [
        "### Debt\n",
        "\n",
        "The Debt dataset from the OECD has various government-level debt statistics. Our focus here will be on the total debt-to-GDP ratio, as it helps us look at a normalized measure, rather than needing to adjust absolute debt levels across different sized countries.\n",
        "\n",
        "Our hypothesis is a little mixed. On the surface, one would expect that a heavily indebted country is not wealthy and might have to skimp on health care spending at a time of a pandemic. Or conversely, wouldn't have room to borrow more. However, anecdotally, Japan is one of the most indebted countries in the World, but is highly developed, has a great health care system, and can easily increase its debt levels. This might be a difficult variable to gain insights on."
      ]
    },
    {
      "cell_type": "code",
      "metadata": {
        "colab_type": "code",
        "id": "YFZQDoH7nSRR",
        "colab": {}
      },
      "source": [
        "# Load the Debt Data\n",
        "url_debt = 'https://raw.githubusercontent.com/pvai-umich/SIADS591/master/Data/OECD_Government_Debt.csv'\n",
        "dfraw_debt = pd.read_csv(url_debt)"
      ],
      "execution_count": 29,
      "outputs": []
    },
    {
      "cell_type": "code",
      "metadata": {
        "colab_type": "code",
        "id": "JR8WcHCAoZLk",
        "colab": {
          "base_uri": "https://localhost:8080/",
          "height": 195
        },
        "outputId": "8be8fc67-4567-418a-cf41-7397f2f9d19f"
      },
      "source": [
        "# Choose the latest data point for each country\n",
        "df_debt = dfraw_debt.sort_values('Time period').groupby('Country').tail(1)\n",
        "\n",
        "# Choose the columns we want and rename them.\n",
        "df_debt = df_debt[['COU', 'Country', 'Value']]\n",
        "df_debt.columns = ['ISO', 'Country', 'Debt_to_GDP']\n",
        "\n",
        "# Check to make sure it looks ok\n",
        "df_debt.head()"
      ],
      "execution_count": 30,
      "outputs": [
        {
          "output_type": "execute_result",
          "data": {
            "text/html": [
              "<div>\n",
              "<style scoped>\n",
              "    .dataframe tbody tr th:only-of-type {\n",
              "        vertical-align: middle;\n",
              "    }\n",
              "\n",
              "    .dataframe tbody tr th {\n",
              "        vertical-align: top;\n",
              "    }\n",
              "\n",
              "    .dataframe thead th {\n",
              "        text-align: right;\n",
              "    }\n",
              "</style>\n",
              "<table border=\"1\" class=\"dataframe\">\n",
              "  <thead>\n",
              "    <tr style=\"text-align: right;\">\n",
              "      <th></th>\n",
              "      <th>ISO</th>\n",
              "      <th>Country</th>\n",
              "      <th>Debt_to_GDP</th>\n",
              "    </tr>\n",
              "  </thead>\n",
              "  <tbody>\n",
              "    <tr>\n",
              "      <th>208</th>\n",
              "      <td>JPN</td>\n",
              "      <td>Japan</td>\n",
              "      <td>183.530</td>\n",
              "    </tr>\n",
              "    <tr>\n",
              "      <th>278</th>\n",
              "      <td>NZL</td>\n",
              "      <td>New Zealand</td>\n",
              "      <td>30.450</td>\n",
              "    </tr>\n",
              "    <tr>\n",
              "      <th>264</th>\n",
              "      <td>NLD</td>\n",
              "      <td>Netherlands</td>\n",
              "      <td>51.845</td>\n",
              "    </tr>\n",
              "    <tr>\n",
              "      <th>320</th>\n",
              "      <td>PRT</td>\n",
              "      <td>Portugal</td>\n",
              "      <td>87.962</td>\n",
              "    </tr>\n",
              "    <tr>\n",
              "      <th>27</th>\n",
              "      <td>AUT</td>\n",
              "      <td>Austria</td>\n",
              "      <td>65.754</td>\n",
              "    </tr>\n",
              "  </tbody>\n",
              "</table>\n",
              "</div>"
            ],
            "text/plain": [
              "     ISO      Country  Debt_to_GDP\n",
              "208  JPN        Japan      183.530\n",
              "278  NZL  New Zealand       30.450\n",
              "264  NLD  Netherlands       51.845\n",
              "320  PRT     Portugal       87.962\n",
              "27   AUT      Austria       65.754"
            ]
          },
          "metadata": {
            "tags": []
          },
          "execution_count": 30
        }
      ]
    },
    {
      "cell_type": "markdown",
      "metadata": {
        "colab_type": "text",
        "id": "TnBi6d2SnSRT"
      },
      "source": [
        "### Immunization\n",
        "\n",
        "OECD also has a slew of health care data. It is not a health care organization however, so we don't want to rely too heavily on medical statistics from this source, however, they do have useful macro level information that is insightful. \n",
        "\n",
        "One of these variables is the percentage of individuals over 65 that are immunized for the flu. Unfortunately this isn't a statistic they have for the full population, but it is still a good proxy for how open a country is to public health initiatives, and how seriously they take flu-like diseases. \n",
        "\n",
        "Our hypothesis would be that the higher the level of immunization, the more successful a country is at combatting COVID.\n"
      ]
    },
    {
      "cell_type": "code",
      "metadata": {
        "colab_type": "code",
        "id": "iY5Lme7lnSRU",
        "colab": {}
      },
      "source": [
        "# Load Immunization Data\n",
        "url_imm = 'https://raw.githubusercontent.com/pvai-umich/SIADS591/master/Data/OECD_Immunization_Statistics.csv'\n",
        "dfraw_imm = pd.read_csv(url_imm)\n"
      ],
      "execution_count": 31,
      "outputs": []
    },
    {
      "cell_type": "code",
      "metadata": {
        "colab_type": "code",
        "id": "29XprDLCrJOr",
        "colab": {
          "base_uri": "https://localhost:8080/",
          "height": 195
        },
        "outputId": "e8a8b589-99ec-4362-aaf0-028d3ee18b31"
      },
      "source": [
        "# Choose the latest data point for each country\n",
        "df_imm = dfraw_imm.sort_values('Year').groupby('Country').tail(1)\n",
        "\n",
        "# Choose the columns we want and rename them.\n",
        "df_imm = df_imm[['COU', 'Country', 'Value']]\n",
        "df_imm.columns = ['ISO', 'Country', 'Pct_65_Immunized_Flu']\n",
        "\n",
        "# Check to make sure it looks ok\n",
        "df_imm.head()"
      ],
      "execution_count": 32,
      "outputs": [
        {
          "output_type": "execute_result",
          "data": {
            "text/html": [
              "<div>\n",
              "<style scoped>\n",
              "    .dataframe tbody tr th:only-of-type {\n",
              "        vertical-align: middle;\n",
              "    }\n",
              "\n",
              "    .dataframe tbody tr th {\n",
              "        vertical-align: top;\n",
              "    }\n",
              "\n",
              "    .dataframe thead th {\n",
              "        text-align: right;\n",
              "    }\n",
              "</style>\n",
              "<table border=\"1\" class=\"dataframe\">\n",
              "  <thead>\n",
              "    <tr style=\"text-align: right;\">\n",
              "      <th></th>\n",
              "      <th>ISO</th>\n",
              "      <th>Country</th>\n",
              "      <th>Pct_65_Immunized_Flu</th>\n",
              "    </tr>\n",
              "  </thead>\n",
              "  <tbody>\n",
              "    <tr>\n",
              "      <th>6</th>\n",
              "      <td>AUS</td>\n",
              "      <td>Australia</td>\n",
              "      <td>74.6</td>\n",
              "    </tr>\n",
              "    <tr>\n",
              "      <th>351</th>\n",
              "      <td>CHE</td>\n",
              "      <td>Switzerland</td>\n",
              "      <td>46.0</td>\n",
              "    </tr>\n",
              "    <tr>\n",
              "      <th>8</th>\n",
              "      <td>AUT</td>\n",
              "      <td>Austria</td>\n",
              "      <td>20.3</td>\n",
              "    </tr>\n",
              "    <tr>\n",
              "      <th>271</th>\n",
              "      <td>POL</td>\n",
              "      <td>Poland</td>\n",
              "      <td>9.7</td>\n",
              "    </tr>\n",
              "    <tr>\n",
              "      <th>224</th>\n",
              "      <td>MEX</td>\n",
              "      <td>Mexico</td>\n",
              "      <td>82.3</td>\n",
              "    </tr>\n",
              "  </tbody>\n",
              "</table>\n",
              "</div>"
            ],
            "text/plain": [
              "     ISO      Country  Pct_65_Immunized_Flu\n",
              "6    AUS    Australia                  74.6\n",
              "351  CHE  Switzerland                  46.0\n",
              "8    AUT      Austria                  20.3\n",
              "271  POL       Poland                   9.7\n",
              "224  MEX       Mexico                  82.3"
            ]
          },
          "metadata": {
            "tags": []
          },
          "execution_count": 32
        }
      ]
    },
    {
      "cell_type": "markdown",
      "metadata": {
        "colab_type": "text",
        "id": "k_4pILBgnSRW"
      },
      "source": [
        "### Population / Demographics\n",
        "\n",
        "OECD offers a slew of population and demographic data for global countries. Our variable of interest is regarding age demographics of countries. Specifically we will look at the Old Age Dependency Ratio. This is the ratio of a country's old-age population (>65 years) to the rest of the population. Our hypothesis is there is a positive correlation between COVID success and this ratio\n"
      ]
    },
    {
      "cell_type": "code",
      "metadata": {
        "colab_type": "code",
        "id": "hWMYQWtlnSRW",
        "colab": {}
      },
      "source": [
        "# Load the Demographics Data\n",
        "url_pop = 'https://raw.githubusercontent.com/pvai-umich/SIADS591/master/Data/OECD_Population_Statistics.csv'\n",
        "dfraw_pop = pd.read_csv(url_pop)"
      ],
      "execution_count": 33,
      "outputs": []
    },
    {
      "cell_type": "code",
      "metadata": {
        "colab_type": "code",
        "id": "X7oz4wQk8obB",
        "colab": {
          "base_uri": "https://localhost:8080/",
          "height": 195
        },
        "outputId": "5099b29b-82a0-4025-c8e9-7a7adb103b4d"
      },
      "source": [
        "# Create an old age ratio dataframe\n",
        "df_oldage = dfraw_pop[dfraw_pop['AGE'] == \"65_OVER_SHARE\"]\n",
        "df_oldage = df_oldage[df_oldage['Sex'] == \"Total\"]\n",
        "\n",
        "# Choose the latest data point for each country\n",
        "df_oldage = df_oldage.sort_values('Time').groupby('Country').tail(1)\n",
        "\n",
        "# Choose the columns we want and rename them.\n",
        "df_oldage = df_oldage[['LOCATION', 'Country', 'Value']]\n",
        "df_oldage.columns = ['ISO', 'Country', 'Old_Age_Ratio']\n",
        "\n",
        "# Check to make sure it looks ok\n",
        "df_oldage.head()"
      ],
      "execution_count": 34,
      "outputs": [
        {
          "output_type": "execute_result",
          "data": {
            "text/html": [
              "<div>\n",
              "<style scoped>\n",
              "    .dataframe tbody tr th:only-of-type {\n",
              "        vertical-align: middle;\n",
              "    }\n",
              "\n",
              "    .dataframe tbody tr th {\n",
              "        vertical-align: top;\n",
              "    }\n",
              "\n",
              "    .dataframe thead th {\n",
              "        text-align: right;\n",
              "    }\n",
              "</style>\n",
              "<table border=\"1\" class=\"dataframe\">\n",
              "  <thead>\n",
              "    <tr style=\"text-align: right;\">\n",
              "      <th></th>\n",
              "      <th>ISO</th>\n",
              "      <th>Country</th>\n",
              "      <th>Old_Age_Ratio</th>\n",
              "    </tr>\n",
              "  </thead>\n",
              "  <tbody>\n",
              "    <tr>\n",
              "      <th>58757</th>\n",
              "      <td>EU28</td>\n",
              "      <td>European Union (28 countries)</td>\n",
              "      <td>19.849</td>\n",
              "    </tr>\n",
              "    <tr>\n",
              "      <th>58715</th>\n",
              "      <td>G20</td>\n",
              "      <td>G20</td>\n",
              "      <td>11.037</td>\n",
              "    </tr>\n",
              "    <tr>\n",
              "      <th>58673</th>\n",
              "      <td>WLD</td>\n",
              "      <td>World</td>\n",
              "      <td>8.921</td>\n",
              "    </tr>\n",
              "    <tr>\n",
              "      <th>57623</th>\n",
              "      <td>TUR</td>\n",
              "      <td>Turkey</td>\n",
              "      <td>8.649</td>\n",
              "    </tr>\n",
              "    <tr>\n",
              "      <th>58589</th>\n",
              "      <td>SVN</td>\n",
              "      <td>Slovenia</td>\n",
              "      <td>19.670</td>\n",
              "    </tr>\n",
              "  </tbody>\n",
              "</table>\n",
              "</div>"
            ],
            "text/plain": [
              "        ISO                        Country  Old_Age_Ratio\n",
              "58757  EU28  European Union (28 countries)         19.849\n",
              "58715   G20                            G20         11.037\n",
              "58673   WLD                          World          8.921\n",
              "57623   TUR                         Turkey          8.649\n",
              "58589   SVN                       Slovenia         19.670"
            ]
          },
          "metadata": {
            "tags": []
          },
          "execution_count": 34
        }
      ]
    },
    {
      "cell_type": "code",
      "metadata": {
        "id": "gbXWX5IyUbHk",
        "colab_type": "code",
        "colab": {
          "base_uri": "https://localhost:8080/",
          "height": 195
        },
        "outputId": "c1b53374-fbb0-472f-aa7d-37f616b9c0a2"
      },
      "source": [
        "# Also retain the total population of each country so we can \n",
        "# calc death per capita later on\n",
        "\n",
        "df_population = dfraw_pop[dfraw_pop['Age'] == \"Total\"]\n",
        "df_population = df_population[df_population['Sex'] == \"Total\"]\n",
        "\n",
        "df_population = df_population.sort_values('Time').groupby('Country').tail(1)\n",
        "\n",
        "# Choose the columns we want and rename them.\n",
        "df_population = df_population[['LOCATION', 'Country', 'Value']]\n",
        "df_population.columns = ['ISO', 'Country', 'Population']\n",
        "\n",
        "# Check to make sure it looks ok\n",
        "df_population.head()\n"
      ],
      "execution_count": 35,
      "outputs": [
        {
          "output_type": "execute_result",
          "data": {
            "text/html": [
              "<div>\n",
              "<style scoped>\n",
              "    .dataframe tbody tr th:only-of-type {\n",
              "        vertical-align: middle;\n",
              "    }\n",
              "\n",
              "    .dataframe tbody tr th {\n",
              "        vertical-align: top;\n",
              "    }\n",
              "\n",
              "    .dataframe thead th {\n",
              "        text-align: right;\n",
              "    }\n",
              "</style>\n",
              "<table border=\"1\" class=\"dataframe\">\n",
              "  <thead>\n",
              "    <tr style=\"text-align: right;\">\n",
              "      <th></th>\n",
              "      <th>ISO</th>\n",
              "      <th>Country</th>\n",
              "      <th>Population</th>\n",
              "    </tr>\n",
              "  </thead>\n",
              "  <tbody>\n",
              "    <tr>\n",
              "      <th>2309</th>\n",
              "      <td>EU28</td>\n",
              "      <td>European Union (28 countries)</td>\n",
              "      <td>5.131792e+08</td>\n",
              "    </tr>\n",
              "    <tr>\n",
              "      <th>2267</th>\n",
              "      <td>G20</td>\n",
              "      <td>G20</td>\n",
              "      <td>4.809945e+09</td>\n",
              "    </tr>\n",
              "    <tr>\n",
              "      <th>2225</th>\n",
              "      <td>WLD</td>\n",
              "      <td>World</td>\n",
              "      <td>7.632819e+09</td>\n",
              "    </tr>\n",
              "    <tr>\n",
              "      <th>1175</th>\n",
              "      <td>TUR</td>\n",
              "      <td>Turkey</td>\n",
              "      <td>8.140721e+07</td>\n",
              "    </tr>\n",
              "    <tr>\n",
              "      <th>2141</th>\n",
              "      <td>SVN</td>\n",
              "      <td>Slovenia</td>\n",
              "      <td>2.070050e+06</td>\n",
              "    </tr>\n",
              "  </tbody>\n",
              "</table>\n",
              "</div>"
            ],
            "text/plain": [
              "       ISO                        Country    Population\n",
              "2309  EU28  European Union (28 countries)  5.131792e+08\n",
              "2267   G20                            G20  4.809945e+09\n",
              "2225   WLD                          World  7.632819e+09\n",
              "1175   TUR                         Turkey  8.140721e+07\n",
              "2141   SVN                       Slovenia  2.070050e+06"
            ]
          },
          "metadata": {
            "tags": []
          },
          "execution_count": 35
        }
      ]
    },
    {
      "cell_type": "markdown",
      "metadata": {
        "colab_type": "text",
        "id": "5mQ4_zXonSRY"
      },
      "source": [
        "### Tourism"
      ]
    },
    {
      "cell_type": "code",
      "metadata": {
        "colab_type": "code",
        "id": "WyxP_CNPnSRZ",
        "colab": {}
      },
      "source": [
        "url_tour = 'https://raw.githubusercontent.com/pvai-umich/SIADS591/master/Data/OECD_Tourism_Statistics.csv'\n",
        "dfraw_tour = pd.read_csv(url_tour)\n"
      ],
      "execution_count": 36,
      "outputs": []
    },
    {
      "cell_type": "code",
      "metadata": {
        "colab_type": "code",
        "id": "1cRLUtnxA-10",
        "colab": {
          "base_uri": "https://localhost:8080/",
          "height": 195
        },
        "outputId": "6b67f886-7a3a-42d1-f7f1-0bacf39401fc"
      },
      "source": [
        "# We'll create two separate dataframes from the tourism table\n",
        "# Tourism as % of GDP (Do a lot of people come to the country)\n",
        "# and Tourism as % of Total Employment (do a lot of people interact with foreigners)\n",
        "\n",
        "# Create Tourism as % of GDP dataframe\n",
        "df_tour_gdp = dfraw_tour[dfraw_tour['KEY_IND_PC'] == \"KEYIND_TOURGDPPC\"]\n",
        "\n",
        "# Choose the latest data point for each country\n",
        "df_tour_gdp = df_tour_gdp.sort_values('Year').groupby('Country').tail(1)\n",
        "\n",
        "# Choose the columns we want and rename them.\n",
        "df_tour_gdp = df_tour_gdp[['COUNTRY', 'Country', 'Value']]\n",
        "df_tour_gdp.columns = ['ISO', 'Country', 'Tourism_Pct_GDP']\n",
        "\n",
        "# Check to make sure it looks ok\n",
        "df_tour_gdp.head()\n",
        "\n"
      ],
      "execution_count": 37,
      "outputs": [
        {
          "output_type": "execute_result",
          "data": {
            "text/html": [
              "<div>\n",
              "<style scoped>\n",
              "    .dataframe tbody tr th:only-of-type {\n",
              "        vertical-align: middle;\n",
              "    }\n",
              "\n",
              "    .dataframe tbody tr th {\n",
              "        vertical-align: top;\n",
              "    }\n",
              "\n",
              "    .dataframe thead th {\n",
              "        text-align: right;\n",
              "    }\n",
              "</style>\n",
              "<table border=\"1\" class=\"dataframe\">\n",
              "  <thead>\n",
              "    <tr style=\"text-align: right;\">\n",
              "      <th></th>\n",
              "      <th>ISO</th>\n",
              "      <th>Country</th>\n",
              "      <th>Tourism_Pct_GDP</th>\n",
              "    </tr>\n",
              "  </thead>\n",
              "  <tbody>\n",
              "    <tr>\n",
              "      <th>564</th>\n",
              "      <td>MLT</td>\n",
              "      <td>Malta</td>\n",
              "      <td>6.129</td>\n",
              "    </tr>\n",
              "    <tr>\n",
              "      <th>119</th>\n",
              "      <td>IND</td>\n",
              "      <td>India</td>\n",
              "      <td>3.759</td>\n",
              "    </tr>\n",
              "    <tr>\n",
              "      <th>108</th>\n",
              "      <td>EGY</td>\n",
              "      <td>Egypt</td>\n",
              "      <td>4.258</td>\n",
              "    </tr>\n",
              "    <tr>\n",
              "      <th>115</th>\n",
              "      <td>EST</td>\n",
              "      <td>Estonia</td>\n",
              "      <td>5.428</td>\n",
              "    </tr>\n",
              "    <tr>\n",
              "      <th>66</th>\n",
              "      <td>POL</td>\n",
              "      <td>Poland</td>\n",
              "      <td>1.175</td>\n",
              "    </tr>\n",
              "  </tbody>\n",
              "</table>\n",
              "</div>"
            ],
            "text/plain": [
              "     ISO  Country  Tourism_Pct_GDP\n",
              "564  MLT    Malta            6.129\n",
              "119  IND    India            3.759\n",
              "108  EGY    Egypt            4.258\n",
              "115  EST  Estonia            5.428\n",
              "66   POL   Poland            1.175"
            ]
          },
          "metadata": {
            "tags": []
          },
          "execution_count": 37
        }
      ]
    },
    {
      "cell_type": "code",
      "metadata": {
        "colab_type": "code",
        "id": "pnzSMg-oBv8E",
        "colab": {
          "base_uri": "https://localhost:8080/",
          "height": 195
        },
        "outputId": "3283bbee-2b04-448f-9c40-0e7b74424ada"
      },
      "source": [
        "# Create Toursim employment as % of Total\n",
        "df_tour_emp = dfraw_tour[dfraw_tour['KEY_IND_PC'] == \"KEYIND_TOUREMPDIRECTPC\"]\n",
        "\n",
        "# Choose the latest data point for each country\n",
        "df_tour_emp = df_tour_emp.sort_values('Year').groupby('Country').tail(1)\n",
        "\n",
        "# Choose the columns we want and rename them.\n",
        "df_tour_emp = df_tour_emp[['COUNTRY', 'Country', 'Value']]\n",
        "df_tour_emp.columns = ['ISO', 'Country', 'Tourism_Pct_Employment']\n",
        "\n",
        "# Check to make sure it looks ok\n",
        "df_tour_emp.head()"
      ],
      "execution_count": 38,
      "outputs": [
        {
          "output_type": "execute_result",
          "data": {
            "text/html": [
              "<div>\n",
              "<style scoped>\n",
              "    .dataframe tbody tr th:only-of-type {\n",
              "        vertical-align: middle;\n",
              "    }\n",
              "\n",
              "    .dataframe tbody tr th {\n",
              "        vertical-align: top;\n",
              "    }\n",
              "\n",
              "    .dataframe thead th {\n",
              "        text-align: right;\n",
              "    }\n",
              "</style>\n",
              "<table border=\"1\" class=\"dataframe\">\n",
              "  <thead>\n",
              "    <tr style=\"text-align: right;\">\n",
              "      <th></th>\n",
              "      <th>ISO</th>\n",
              "      <th>Country</th>\n",
              "      <th>Tourism_Pct_Employment</th>\n",
              "    </tr>\n",
              "  </thead>\n",
              "  <tbody>\n",
              "    <tr>\n",
              "      <th>387</th>\n",
              "      <td>ARG</td>\n",
              "      <td>Argentina</td>\n",
              "      <td>10.17</td>\n",
              "    </tr>\n",
              "    <tr>\n",
              "      <th>460</th>\n",
              "      <td>IND</td>\n",
              "      <td>India</td>\n",
              "      <td>5.31</td>\n",
              "    </tr>\n",
              "    <tr>\n",
              "      <th>465</th>\n",
              "      <td>IDN</td>\n",
              "      <td>Indonesia</td>\n",
              "      <td>8.37</td>\n",
              "    </tr>\n",
              "    <tr>\n",
              "      <th>577</th>\n",
              "      <td>PER</td>\n",
              "      <td>Peru</td>\n",
              "      <td>3.82</td>\n",
              "    </tr>\n",
              "    <tr>\n",
              "      <th>282</th>\n",
              "      <td>ITA</td>\n",
              "      <td>Italy</td>\n",
              "      <td>8.30</td>\n",
              "    </tr>\n",
              "  </tbody>\n",
              "</table>\n",
              "</div>"
            ],
            "text/plain": [
              "     ISO    Country  Tourism_Pct_Employment\n",
              "387  ARG  Argentina                   10.17\n",
              "460  IND      India                    5.31\n",
              "465  IDN  Indonesia                    8.37\n",
              "577  PER       Peru                    3.82\n",
              "282  ITA      Italy                    8.30"
            ]
          },
          "metadata": {
            "tags": []
          },
          "execution_count": 38
        }
      ]
    },
    {
      "cell_type": "markdown",
      "metadata": {
        "colab_type": "text",
        "id": "_zBIxCzFnSRa"
      },
      "source": [
        "### Wealth Distribution"
      ]
    },
    {
      "cell_type": "code",
      "metadata": {
        "colab_type": "code",
        "id": "RAb7K-yGnSRb",
        "colab": {}
      },
      "source": [
        "url_wealth = 'https://raw.githubusercontent.com/pvai-umich/SIADS591/master/Data/OECD_Wealth_Distribution_Statistics.csv'\n",
        "dfraw_wealth = pd.read_csv(url_wealth)"
      ],
      "execution_count": 39,
      "outputs": []
    },
    {
      "cell_type": "code",
      "metadata": {
        "colab_type": "code",
        "id": "6Le53tLsCpmk",
        "colab": {
          "base_uri": "https://localhost:8080/",
          "height": 195
        },
        "outputId": "8db06e7e-b095-42cd-d502-f655c822cba3"
      },
      "source": [
        "# Create two dataframes from the wealth distirbution table. The focus is on\n",
        "# inequality is the focus of the data.\n",
        "# Share of top 10% wealth (how rich are the super-rich)\n",
        "# Share of bottom 60% of wealth (how poor is the bottom half)\n",
        "dfraw_wealth.head()\n",
        "\n",
        "# First, create the top 10pct dataframe\n",
        "df_top_10pct_share = dfraw_wealth[dfraw_wealth['Variable'] == 'Share of top 10% of wealth']\n",
        "\n",
        "# Choose the latest data point for each country\n",
        "df_top_10pct_share = df_top_10pct_share.sort_values('Time').groupby('Country').tail(1)\n",
        "\n",
        "# Choose the columns we want and rename them.\n",
        "df_top_10pct_share = df_top_10pct_share[['COUNTRY', 'Country', 'Value']]\n",
        "df_top_10pct_share.columns = ['ISO', 'Country', 'Top_10pct_Share']\n",
        "\n",
        "# Check to make sure it looks ok\n",
        "df_top_10pct_share.head()\n"
      ],
      "execution_count": 40,
      "outputs": [
        {
          "output_type": "execute_result",
          "data": {
            "text/html": [
              "<div>\n",
              "<style scoped>\n",
              "    .dataframe tbody tr th:only-of-type {\n",
              "        vertical-align: middle;\n",
              "    }\n",
              "\n",
              "    .dataframe tbody tr th {\n",
              "        vertical-align: top;\n",
              "    }\n",
              "\n",
              "    .dataframe thead th {\n",
              "        text-align: right;\n",
              "    }\n",
              "</style>\n",
              "<table border=\"1\" class=\"dataframe\">\n",
              "  <thead>\n",
              "    <tr style=\"text-align: right;\">\n",
              "      <th></th>\n",
              "      <th>ISO</th>\n",
              "      <th>Country</th>\n",
              "      <th>Top_10pct_Share</th>\n",
              "    </tr>\n",
              "  </thead>\n",
              "  <tbody>\n",
              "    <tr>\n",
              "      <th>268</th>\n",
              "      <td>ESP</td>\n",
              "      <td>Spain</td>\n",
              "      <td>45.577541</td>\n",
              "    </tr>\n",
              "    <tr>\n",
              "      <th>752</th>\n",
              "      <td>PRT</td>\n",
              "      <td>Portugal</td>\n",
              "      <td>52.127502</td>\n",
              "    </tr>\n",
              "    <tr>\n",
              "      <th>487</th>\n",
              "      <td>IRL</td>\n",
              "      <td>Ireland</td>\n",
              "      <td>53.792400</td>\n",
              "    </tr>\n",
              "    <tr>\n",
              "      <th>325</th>\n",
              "      <td>FIN</td>\n",
              "      <td>Finland</td>\n",
              "      <td>45.231823</td>\n",
              "    </tr>\n",
              "    <tr>\n",
              "      <th>288</th>\n",
              "      <td>EST</td>\n",
              "      <td>Estonia</td>\n",
              "      <td>55.713390</td>\n",
              "    </tr>\n",
              "  </tbody>\n",
              "</table>\n",
              "</div>"
            ],
            "text/plain": [
              "     ISO   Country  Top_10pct_Share\n",
              "268  ESP     Spain        45.577541\n",
              "752  PRT  Portugal        52.127502\n",
              "487  IRL   Ireland        53.792400\n",
              "325  FIN   Finland        45.231823\n",
              "288  EST   Estonia        55.713390"
            ]
          },
          "metadata": {
            "tags": []
          },
          "execution_count": 40
        }
      ]
    },
    {
      "cell_type": "code",
      "metadata": {
        "colab_type": "code",
        "id": "DhvJ1hzYjQyl",
        "colab": {
          "base_uri": "https://localhost:8080/",
          "height": 195
        },
        "outputId": "220444e2-6157-4cea-b957-69b5f6603381"
      },
      "source": [
        "# Create the bottom 60% dataframe\n",
        "\n",
        "df_bottom_60pct_share = dfraw_wealth[dfraw_wealth['Variable'] == 'Share of bottom 60% of wealth']\n",
        "\n",
        "# Choose the latest data point for each country\n",
        "df_bottom_60pct_share = df_bottom_60pct_share.sort_values('Time').groupby('Country').tail(1)\n",
        "\n",
        "# Choose the columns we want and rename them.\n",
        "df_bottom_60pct_share = df_bottom_60pct_share[['COUNTRY', 'Country', 'Value']]\n",
        "df_bottom_60pct_share.columns = ['ISO', 'Country', 'Bottom_60pct_Share']\n",
        "\n",
        "# Check to make sure it looks ok\n",
        "df_bottom_60pct_share.head()"
      ],
      "execution_count": 41,
      "outputs": [
        {
          "output_type": "execute_result",
          "data": {
            "text/html": [
              "<div>\n",
              "<style scoped>\n",
              "    .dataframe tbody tr th:only-of-type {\n",
              "        vertical-align: middle;\n",
              "    }\n",
              "\n",
              "    .dataframe tbody tr th {\n",
              "        vertical-align: top;\n",
              "    }\n",
              "\n",
              "    .dataframe thead th {\n",
              "        text-align: right;\n",
              "    }\n",
              "</style>\n",
              "<table border=\"1\" class=\"dataframe\">\n",
              "  <thead>\n",
              "    <tr style=\"text-align: right;\">\n",
              "      <th></th>\n",
              "      <th>ISO</th>\n",
              "      <th>Country</th>\n",
              "      <th>Bottom_60pct_Share</th>\n",
              "    </tr>\n",
              "  </thead>\n",
              "  <tbody>\n",
              "    <tr>\n",
              "      <th>252</th>\n",
              "      <td>ESP</td>\n",
              "      <td>Spain</td>\n",
              "      <td>18.664709</td>\n",
              "    </tr>\n",
              "    <tr>\n",
              "      <th>280</th>\n",
              "      <td>EST</td>\n",
              "      <td>Estonia</td>\n",
              "      <td>12.786300</td>\n",
              "    </tr>\n",
              "    <tr>\n",
              "      <th>736</th>\n",
              "      <td>PRT</td>\n",
              "      <td>Portugal</td>\n",
              "      <td>12.422934</td>\n",
              "    </tr>\n",
              "    <tr>\n",
              "      <th>479</th>\n",
              "      <td>IRL</td>\n",
              "      <td>Ireland</td>\n",
              "      <td>7.184053</td>\n",
              "    </tr>\n",
              "    <tr>\n",
              "      <th>309</th>\n",
              "      <td>FIN</td>\n",
              "      <td>Finland</td>\n",
              "      <td>13.552249</td>\n",
              "    </tr>\n",
              "  </tbody>\n",
              "</table>\n",
              "</div>"
            ],
            "text/plain": [
              "     ISO   Country  Bottom_60pct_Share\n",
              "252  ESP     Spain           18.664709\n",
              "280  EST   Estonia           12.786300\n",
              "736  PRT  Portugal           12.422934\n",
              "479  IRL   Ireland            7.184053\n",
              "309  FIN   Finland           13.552249"
            ]
          },
          "metadata": {
            "tags": []
          },
          "execution_count": 41
        }
      ]
    },
    {
      "cell_type": "markdown",
      "metadata": {
        "colab_type": "text",
        "id": "_67gF6kKCsg7"
      },
      "source": [
        "### Life Expectancy\n"
      ]
    },
    {
      "cell_type": "code",
      "metadata": {
        "colab_type": "code",
        "id": "27NJBQ_YCxvq",
        "colab": {}
      },
      "source": [
        "url_life_exp = 'https://raw.githubusercontent.com/pvai-umich/SIADS591/master/Data/OECD_Life_Expectancy.csv'\n",
        "dfraw_life_exp = pd.read_csv(url_life_exp)"
      ],
      "execution_count": 42,
      "outputs": []
    },
    {
      "cell_type": "code",
      "metadata": {
        "colab_type": "code",
        "id": "xhoAoO4OC6Ik",
        "colab": {
          "base_uri": "https://localhost:8080/",
          "height": 195
        },
        "outputId": "7edb82dd-f4e5-4e51-959e-1659feb64f9d"
      },
      "source": [
        "# There's only one variable here, so we just need to get the last available date\n",
        "# and then choose the columns we want \n",
        "\n",
        "# Choose the latest data point for each country\n",
        "df_life_exp = dfraw_life_exp.sort_values('Year').groupby('Country').tail(1)\n",
        "\n",
        "# Choose the columns we want and rename them.\n",
        "df_life_exp = df_life_exp[['COU', 'Country', 'Value']]\n",
        "df_life_exp.columns = ['ISO', 'Country', 'Life_Expectancy']\n",
        "\n",
        "# Check to make sure it looks ok\n",
        "df_life_exp.head()"
      ],
      "execution_count": 43,
      "outputs": [
        {
          "output_type": "execute_result",
          "data": {
            "text/html": [
              "<div>\n",
              "<style scoped>\n",
              "    .dataframe tbody tr th:only-of-type {\n",
              "        vertical-align: middle;\n",
              "    }\n",
              "\n",
              "    .dataframe tbody tr th {\n",
              "        vertical-align: top;\n",
              "    }\n",
              "\n",
              "    .dataframe thead th {\n",
              "        text-align: right;\n",
              "    }\n",
              "</style>\n",
              "<table border=\"1\" class=\"dataframe\">\n",
              "  <thead>\n",
              "    <tr style=\"text-align: right;\">\n",
              "      <th></th>\n",
              "      <th>ISO</th>\n",
              "      <th>Country</th>\n",
              "      <th>Life_Expectancy</th>\n",
              "    </tr>\n",
              "  </thead>\n",
              "  <tbody>\n",
              "    <tr>\n",
              "      <th>133</th>\n",
              "      <td>JPN</td>\n",
              "      <td>Japan</td>\n",
              "      <td>84.2</td>\n",
              "    </tr>\n",
              "    <tr>\n",
              "      <th>368</th>\n",
              "      <td>LVA</td>\n",
              "      <td>Latvia</td>\n",
              "      <td>74.9</td>\n",
              "    </tr>\n",
              "    <tr>\n",
              "      <th>71</th>\n",
              "      <td>FRA</td>\n",
              "      <td>France</td>\n",
              "      <td>82.8</td>\n",
              "    </tr>\n",
              "    <tr>\n",
              "      <th>377</th>\n",
              "      <td>CRI</td>\n",
              "      <td>Costa Rica</td>\n",
              "      <td>80.4</td>\n",
              "    </tr>\n",
              "    <tr>\n",
              "      <th>386</th>\n",
              "      <td>LTU</td>\n",
              "      <td>Lithuania</td>\n",
              "      <td>75.8</td>\n",
              "    </tr>\n",
              "  </tbody>\n",
              "</table>\n",
              "</div>"
            ],
            "text/plain": [
              "     ISO     Country  Life_Expectancy\n",
              "133  JPN       Japan             84.2\n",
              "368  LVA      Latvia             74.9\n",
              "71   FRA      France             82.8\n",
              "377  CRI  Costa Rica             80.4\n",
              "386  LTU   Lithuania             75.8"
            ]
          },
          "metadata": {
            "tags": []
          },
          "execution_count": 43
        }
      ]
    },
    {
      "cell_type": "markdown",
      "metadata": {
        "id": "qr4SMfh7VlQC",
        "colab_type": "text"
      },
      "source": [
        "### Health Expenditures\n",
        "\n",
        "This is the total expenditures on health care as a % of GDP"
      ]
    },
    {
      "cell_type": "code",
      "metadata": {
        "id": "e4U_8MnsVrTX",
        "colab_type": "code",
        "colab": {}
      },
      "source": [
        "url_health_exp = 'https://raw.githubusercontent.com/pvai-umich/SIADS591/master/Data/OECD_Health_Exp.csv'\n",
        "dfraw_health_exp = pd.read_csv(url_health_exp)"
      ],
      "execution_count": 44,
      "outputs": []
    },
    {
      "cell_type": "code",
      "metadata": {
        "id": "dBl82jlNYNb7",
        "colab_type": "code",
        "colab": {
          "base_uri": "https://localhost:8080/",
          "height": 296
        },
        "outputId": "98395563-c78b-48d2-f7d9-d14d342c23be"
      },
      "source": [
        "# Filter some of the varibles to what we want\n",
        "df_health_exp = dfraw_health_exp[dfraw_health_exp['Financing scheme'] == 'All financing schemes']\n",
        "df_health_exp = df_health_exp[dfraw_health_exp['Function'] == 'Current expenditure on health (all functions)']\n",
        "df_health_exp = df_health_exp[dfraw_health_exp['Provider'] == 'All providers']\n",
        "df_health_exp = df_health_exp[dfraw_health_exp['Measure'] == 'Share of gross domestic product']\n",
        "\n",
        "# Choose the latest data point for each country\n",
        "df_health_exp = df_health_exp.sort_values('Year').groupby('Country').tail(1)\n",
        "\n",
        "# Choose the columns we want and rename them.\n",
        "df_health_exp = df_health_exp[['LOCATION', 'Country', 'Value']]\n",
        "df_health_exp.columns = ['ISO', 'Country', 'Health_Expenditure']\n",
        "\n",
        "# Check to make sure it looks ok\n",
        "df_health_exp.head()"
      ],
      "execution_count": 77,
      "outputs": [
        {
          "output_type": "stream",
          "text": [
            "/usr/local/lib/python3.6/dist-packages/ipykernel_launcher.py:3: UserWarning: Boolean Series key will be reindexed to match DataFrame index.\n",
            "  This is separate from the ipykernel package so we can avoid doing imports until\n",
            "/usr/local/lib/python3.6/dist-packages/ipykernel_launcher.py:4: UserWarning: Boolean Series key will be reindexed to match DataFrame index.\n",
            "  after removing the cwd from sys.path.\n",
            "/usr/local/lib/python3.6/dist-packages/ipykernel_launcher.py:5: UserWarning: Boolean Series key will be reindexed to match DataFrame index.\n",
            "  \"\"\"\n"
          ],
          "name": "stderr"
        },
        {
          "output_type": "execute_result",
          "data": {
            "text/html": [
              "<div>\n",
              "<style scoped>\n",
              "    .dataframe tbody tr th:only-of-type {\n",
              "        vertical-align: middle;\n",
              "    }\n",
              "\n",
              "    .dataframe tbody tr th {\n",
              "        vertical-align: top;\n",
              "    }\n",
              "\n",
              "    .dataframe thead th {\n",
              "        text-align: right;\n",
              "    }\n",
              "</style>\n",
              "<table border=\"1\" class=\"dataframe\">\n",
              "  <thead>\n",
              "    <tr style=\"text-align: right;\">\n",
              "      <th></th>\n",
              "      <th>ISO</th>\n",
              "      <th>Country</th>\n",
              "      <th>Health_Expenditure</th>\n",
              "    </tr>\n",
              "  </thead>\n",
              "  <tbody>\n",
              "    <tr>\n",
              "      <th>27874</th>\n",
              "      <td>CHN</td>\n",
              "      <td>China (People's Republic of)</td>\n",
              "      <td>5.047</td>\n",
              "    </tr>\n",
              "    <tr>\n",
              "      <th>27917</th>\n",
              "      <td>IND</td>\n",
              "      <td>India</td>\n",
              "      <td>3.603</td>\n",
              "    </tr>\n",
              "    <tr>\n",
              "      <th>26179</th>\n",
              "      <td>ZAF</td>\n",
              "      <td>South Africa</td>\n",
              "      <td>8.113</td>\n",
              "    </tr>\n",
              "    <tr>\n",
              "      <th>24973</th>\n",
              "      <td>BRA</td>\n",
              "      <td>Brazil</td>\n",
              "      <td>9.423</td>\n",
              "    </tr>\n",
              "    <tr>\n",
              "      <th>25495</th>\n",
              "      <td>IDN</td>\n",
              "      <td>Indonesia</td>\n",
              "      <td>2.988</td>\n",
              "    </tr>\n",
              "  </tbody>\n",
              "</table>\n",
              "</div>"
            ],
            "text/plain": [
              "       ISO                       Country  Health_Expenditure\n",
              "27874  CHN  China (People's Republic of)               5.047\n",
              "27917  IND                         India               3.603\n",
              "26179  ZAF                  South Africa               8.113\n",
              "24973  BRA                        Brazil               9.423\n",
              "25495  IDN                     Indonesia               2.988"
            ]
          },
          "metadata": {
            "tags": []
          },
          "execution_count": 77
        }
      ]
    },
    {
      "cell_type": "markdown",
      "metadata": {
        "id": "kS2m0GitVrx6",
        "colab_type": "text"
      },
      "source": [
        "### Tobacco Usage\n",
        "\n",
        "This is the % of population over the age of 15 that uses tobacco"
      ]
    },
    {
      "cell_type": "code",
      "metadata": {
        "id": "ass3poLtVwt-",
        "colab_type": "code",
        "colab": {}
      },
      "source": [
        "url_tobacco = 'https://raw.githubusercontent.com/pvai-umich/SIADS591/master/Data/OECD_Tobacco.csv'\n",
        "dfraw_tobacco = pd.read_csv(url_tobacco)"
      ],
      "execution_count": 46,
      "outputs": []
    },
    {
      "cell_type": "code",
      "metadata": {
        "id": "46RboQ7eV4f9",
        "colab_type": "code",
        "colab": {
          "base_uri": "https://localhost:8080/",
          "height": 195
        },
        "outputId": "35293ba2-34bb-468c-9563-88f6fb0de378"
      },
      "source": [
        "df_tobacco = dfraw_tobacco[dfraw_tobacco['Measure'] == '% of population aged 15+ who are daily smokers']\n",
        "\n",
        "# Choose the latest data point for each country\n",
        "df_tobacco = df_tobacco.sort_values('Year').groupby('Country').tail(1)\n",
        "\n",
        "# Choose the columns we want and rename them.\n",
        "df_tobacco = df_tobacco[['COU', 'Country', 'Value']]\n",
        "df_tobacco.columns = ['ISO', 'Country', 'Tobacco_Users']\n",
        "\n",
        "# Check to make sure it looks ok\n",
        "df_tobacco.head()"
      ],
      "execution_count": 48,
      "outputs": [
        {
          "output_type": "execute_result",
          "data": {
            "text/html": [
              "<div>\n",
              "<style scoped>\n",
              "    .dataframe tbody tr th:only-of-type {\n",
              "        vertical-align: middle;\n",
              "    }\n",
              "\n",
              "    .dataframe tbody tr th {\n",
              "        vertical-align: top;\n",
              "    }\n",
              "\n",
              "    .dataframe thead th {\n",
              "        text-align: right;\n",
              "    }\n",
              "</style>\n",
              "<table border=\"1\" class=\"dataframe\">\n",
              "  <thead>\n",
              "    <tr style=\"text-align: right;\">\n",
              "      <th></th>\n",
              "      <th>ISO</th>\n",
              "      <th>Country</th>\n",
              "      <th>Tobacco_Users</th>\n",
              "    </tr>\n",
              "  </thead>\n",
              "  <tbody>\n",
              "    <tr>\n",
              "      <th>2860</th>\n",
              "      <td>COL</td>\n",
              "      <td>Colombia</td>\n",
              "      <td>13.0</td>\n",
              "    </tr>\n",
              "    <tr>\n",
              "      <th>2923</th>\n",
              "      <td>LVA</td>\n",
              "      <td>Latvia</td>\n",
              "      <td>24.1</td>\n",
              "    </tr>\n",
              "    <tr>\n",
              "      <th>67</th>\n",
              "      <td>AUT</td>\n",
              "      <td>Austria</td>\n",
              "      <td>24.3</td>\n",
              "    </tr>\n",
              "    <tr>\n",
              "      <th>816</th>\n",
              "      <td>HUN</td>\n",
              "      <td>Hungary</td>\n",
              "      <td>25.8</td>\n",
              "    </tr>\n",
              "    <tr>\n",
              "      <th>2833</th>\n",
              "      <td>SVN</td>\n",
              "      <td>Slovenia</td>\n",
              "      <td>18.9</td>\n",
              "    </tr>\n",
              "  </tbody>\n",
              "</table>\n",
              "</div>"
            ],
            "text/plain": [
              "      ISO   Country  Tobacco_Users\n",
              "2860  COL  Colombia           13.0\n",
              "2923  LVA    Latvia           24.1\n",
              "67    AUT   Austria           24.3\n",
              "816   HUN   Hungary           25.8\n",
              "2833  SVN  Slovenia           18.9"
            ]
          },
          "metadata": {
            "tags": []
          },
          "execution_count": 48
        }
      ]
    },
    {
      "cell_type": "markdown",
      "metadata": {
        "colab_type": "text",
        "id": "HjLAU3EnnSRd"
      },
      "source": [
        "## COVID-19"
      ]
    },
    {
      "cell_type": "markdown",
      "metadata": {
        "colab_type": "text",
        "id": "X08FqiZbnSRe"
      },
      "source": [
        "All attempts to load json via web is throwing an SSL error. We will load locally."
      ]
    },
    {
      "cell_type": "markdown",
      "metadata": {
        "colab_type": "text",
        "id": "a1Cv24CWnSRe"
      },
      "source": [
        "-Method 1\n",
        "-Request fails unless we provide a user-agent\n",
        "api_response = requests.get('https://thevirustracker.com/timeline/map-data.json', headers={\"User-Agent\": \"Chrome\"})\n",
        "covid_stats = api_response.json()"
      ]
    },
    {
      "cell_type": "markdown",
      "metadata": {
        "colab_type": "text",
        "id": "HlH6aEhonSRf"
      },
      "source": [
        "-Method 2\n",
        "response = urlopen('https://thevirustracker.com/timeline/map-data.json')\n",
        "json_data = response.read().decode('utf-8', 'replace')\n",
        "df = json.loads(json_data)"
      ]
    },
    {
      "cell_type": "markdown",
      "metadata": {
        "colab_type": "text",
        "id": "mkKVLO0OnSRf"
      },
      "source": [
        "### Covid-19 Daily Stats by Country"
      ]
    },
    {
      "cell_type": "code",
      "metadata": {
        "colab_type": "code",
        "id": "IICl9BM0nSRg",
        "colab": {}
      },
      "source": [
        "#Importing COVID19 Global Data\n",
        "cf = 'covid_full.json'\n",
        "with open(cf, 'r') as f:\n",
        "    doc = json.load(f)"
      ],
      "execution_count": null,
      "outputs": []
    },
    {
      "cell_type": "code",
      "metadata": {
        "id": "hwv3XbsuS9cB",
        "colab_type": "code",
        "colab": {},
        "outputId": "f6b85992-3bf3-42bd-9984-490c0930ce92"
      },
      "source": [
        "#converting to pandas data frame\n",
        "covid_daily_stats=pd.DataFrame(doc)\n",
        "\n",
        "#changing the types of the columns\n",
        "covid_daily_stats['cases']=covid_daily_stats['cases'].astype('int')\n",
        "covid_daily_stats['deaths']=covid_daily_stats['deaths'].astype('int')\n",
        "#covid_daily_stats['recovered']=covid_daily_stats['recovered'].astype('int')\n",
        "\n",
        "#renaming columns for future merge\n",
        "covid_daily_stats.rename(columns={'countrycode':'Alpha-2 code'}, inplace=True)\n",
        "\n",
        "covid_daily_stats.sample(10)"
      ],
      "execution_count": null,
      "outputs": [
        {
          "output_type": "execute_result",
          "data": {
            "text/html": [
              "<div>\n",
              "<style scoped>\n",
              "    .dataframe tbody tr th:only-of-type {\n",
              "        vertical-align: middle;\n",
              "    }\n",
              "\n",
              "    .dataframe tbody tr th {\n",
              "        vertical-align: top;\n",
              "    }\n",
              "\n",
              "    .dataframe thead th {\n",
              "        text-align: right;\n",
              "    }\n",
              "</style>\n",
              "<table border=\"1\" class=\"dataframe\">\n",
              "  <thead>\n",
              "    <tr style=\"text-align: right;\">\n",
              "      <th></th>\n",
              "      <th>Alpha-2 code</th>\n",
              "      <th>date</th>\n",
              "      <th>cases</th>\n",
              "      <th>deaths</th>\n",
              "      <th>recovered</th>\n",
              "    </tr>\n",
              "  </thead>\n",
              "  <tbody>\n",
              "    <tr>\n",
              "      <th>27707</th>\n",
              "      <td>BH</td>\n",
              "      <td>7/31/20</td>\n",
              "      <td>40982</td>\n",
              "      <td>147</td>\n",
              "      <td>25178</td>\n",
              "    </tr>\n",
              "    <tr>\n",
              "      <th>1641</th>\n",
              "      <td>BG</td>\n",
              "      <td>4/18/20</td>\n",
              "      <td>878</td>\n",
              "      <td>41</td>\n",
              "      <td>3</td>\n",
              "    </tr>\n",
              "    <tr>\n",
              "      <th>32820</th>\n",
              "      <td>QA</td>\n",
              "      <td>8/26/20</td>\n",
              "      <td>117742</td>\n",
              "      <td>194</td>\n",
              "      <td>94903</td>\n",
              "    </tr>\n",
              "    <tr>\n",
              "      <th>11503</th>\n",
              "      <td>MX</td>\n",
              "      <td>4/02/20</td>\n",
              "      <td>1510</td>\n",
              "      <td>50</td>\n",
              "      <td>4</td>\n",
              "    </tr>\n",
              "    <tr>\n",
              "      <th>17476</th>\n",
              "      <td>ZA</td>\n",
              "      <td>5/11/20</td>\n",
              "      <td>10652</td>\n",
              "      <td>206</td>\n",
              "      <td>2</td>\n",
              "    </tr>\n",
              "    <tr>\n",
              "      <th>32290</th>\n",
              "      <td>IQ</td>\n",
              "      <td>8/16/20</td>\n",
              "      <td>176931</td>\n",
              "      <td>5860</td>\n",
              "      <td>36252</td>\n",
              "    </tr>\n",
              "    <tr>\n",
              "      <th>31242</th>\n",
              "      <td>DJ</td>\n",
              "      <td>8/20/20</td>\n",
              "      <td>5374</td>\n",
              "      <td>59</td>\n",
              "      <td>4621</td>\n",
              "    </tr>\n",
              "    <tr>\n",
              "      <th>34604</th>\n",
              "      <td>CR</td>\n",
              "      <td>9/04/20</td>\n",
              "      <td>45680</td>\n",
              "      <td>469</td>\n",
              "      <td>1810</td>\n",
              "    </tr>\n",
              "    <tr>\n",
              "      <th>29886</th>\n",
              "      <td>YE</td>\n",
              "      <td>8/12/20</td>\n",
              "      <td>1841</td>\n",
              "      <td>528</td>\n",
              "      <td>591</td>\n",
              "    </tr>\n",
              "    <tr>\n",
              "      <th>4498</th>\n",
              "      <td>DO</td>\n",
              "      <td>5/15/20</td>\n",
              "      <td>11739</td>\n",
              "      <td>424</td>\n",
              "      <td>0</td>\n",
              "    </tr>\n",
              "  </tbody>\n",
              "</table>\n",
              "</div>"
            ],
            "text/plain": [
              "      Alpha-2 code     date   cases  deaths recovered\n",
              "27707           BH  7/31/20   40982     147     25178\n",
              "1641            BG  4/18/20     878      41         3\n",
              "32820           QA  8/26/20  117742     194     94903\n",
              "11503           MX  4/02/20    1510      50         4\n",
              "17476           ZA  5/11/20   10652     206         2\n",
              "32290           IQ  8/16/20  176931    5860     36252\n",
              "31242           DJ  8/20/20    5374      59      4621\n",
              "34604           CR  9/04/20   45680     469      1810\n",
              "29886           YE  8/12/20    1841     528       591\n",
              "4498            DO  5/15/20   11739     424         0"
            ]
          },
          "metadata": {
            "tags": []
          },
          "execution_count": 21
        }
      ]
    },
    {
      "cell_type": "code",
      "metadata": {
        "id": "KqtaWQLBS9cF",
        "colab_type": "code",
        "colab": {},
        "outputId": "a33b4645-d0a5-4cd1-c7b1-a3dca514fe73"
      },
      "source": [
        "covid_daily_stats.dtypes"
      ],
      "execution_count": null,
      "outputs": [
        {
          "output_type": "execute_result",
          "data": {
            "text/plain": [
              "Alpha-2 code    object\n",
              "date            object\n",
              "cases            int64\n",
              "deaths           int64\n",
              "recovered       object\n",
              "dtype: object"
            ]
          },
          "metadata": {
            "tags": []
          },
          "execution_count": 22
        }
      ]
    },
    {
      "cell_type": "markdown",
      "metadata": {
        "colab_type": "text",
        "id": "eZ6iKiCDnSRl"
      },
      "source": [
        "### Covid-19 Global Stats"
      ]
    },
    {
      "cell_type": "code",
      "metadata": {
        "colab_type": "code",
        "id": "TfrklemJnSRm",
        "colab": {},
        "outputId": "882f19f8-913c-4a0c-b9ca-47781e7bd1b5"
      },
      "source": [
        "#Importing COVID19 Global Data\n",
        "gs= 'global_stats.json'\n",
        "with open(gs, 'r') as g:\n",
        "    doc1 = json.load(g)\n",
        "covid_global_stats=pd.DataFrame(doc1).transpose()\n",
        "covid_global_stats.rename(columns={0:'stats'}, inplace=True)\n",
        "covid_global_stats.head()"
      ],
      "execution_count": null,
      "outputs": [
        {
          "output_type": "execute_result",
          "data": {
            "text/html": [
              "<div>\n",
              "<style scoped>\n",
              "    .dataframe tbody tr th:only-of-type {\n",
              "        vertical-align: middle;\n",
              "    }\n",
              "\n",
              "    .dataframe tbody tr th {\n",
              "        vertical-align: top;\n",
              "    }\n",
              "\n",
              "    .dataframe thead th {\n",
              "        text-align: right;\n",
              "    }\n",
              "</style>\n",
              "<table border=\"1\" class=\"dataframe\">\n",
              "  <thead>\n",
              "    <tr style=\"text-align: right;\">\n",
              "      <th></th>\n",
              "      <th>stats</th>\n",
              "    </tr>\n",
              "  </thead>\n",
              "  <tbody>\n",
              "    <tr>\n",
              "      <th>total_cases</th>\n",
              "      <td>23164025</td>\n",
              "    </tr>\n",
              "    <tr>\n",
              "      <th>total_recovered</th>\n",
              "      <td>15742473</td>\n",
              "    </tr>\n",
              "    <tr>\n",
              "      <th>total_unresolved</th>\n",
              "      <td>5940153</td>\n",
              "    </tr>\n",
              "    <tr>\n",
              "      <th>total_deaths</th>\n",
              "      <td>804028</td>\n",
              "    </tr>\n",
              "    <tr>\n",
              "      <th>total_new_cases_today</th>\n",
              "      <td>0</td>\n",
              "    </tr>\n",
              "  </tbody>\n",
              "</table>\n",
              "</div>"
            ],
            "text/plain": [
              "                          stats\n",
              "total_cases            23164025\n",
              "total_recovered        15742473\n",
              "total_unresolved        5940153\n",
              "total_deaths             804028\n",
              "total_new_cases_today         0"
            ]
          },
          "metadata": {
            "tags": []
          },
          "execution_count": 23
        }
      ]
    },
    {
      "cell_type": "markdown",
      "metadata": {
        "id": "fLEA8ezQS9cM",
        "colab_type": "text"
      },
      "source": [
        "### Covid-19 Total Stats by Country"
      ]
    },
    {
      "cell_type": "code",
      "metadata": {
        "id": "nyFQ6J1QS9cN",
        "colab_type": "code",
        "colab": {},
        "outputId": "491b955a-d2fc-4f72-8b5c-c13aa962d273"
      },
      "source": [
        "#Group daily covid data by country.. pull out max values\n",
        "cts=covid_daily_stats.groupby(['Alpha-2 code']).max()\n",
        "cts['death_ratio']=cts['deaths']/cts['cases']\n",
        "\n",
        "#Sort values by Death Ratio\n",
        "cts.sort_values(by='death_ratio', ascending=False)\n",
        "cts.drop(columns=['date'],inplace=True)\n",
        "\n",
        "cts.head(10)"
      ],
      "execution_count": null,
      "outputs": [
        {
          "output_type": "execute_result",
          "data": {
            "text/html": [
              "<div>\n",
              "<style scoped>\n",
              "    .dataframe tbody tr th:only-of-type {\n",
              "        vertical-align: middle;\n",
              "    }\n",
              "\n",
              "    .dataframe tbody tr th {\n",
              "        vertical-align: top;\n",
              "    }\n",
              "\n",
              "    .dataframe thead th {\n",
              "        text-align: right;\n",
              "    }\n",
              "</style>\n",
              "<table border=\"1\" class=\"dataframe\">\n",
              "  <thead>\n",
              "    <tr style=\"text-align: right;\">\n",
              "      <th></th>\n",
              "      <th>cases</th>\n",
              "      <th>deaths</th>\n",
              "      <th>recovered</th>\n",
              "      <th>death_ratio</th>\n",
              "    </tr>\n",
              "    <tr>\n",
              "      <th>Alpha-2 code</th>\n",
              "      <th></th>\n",
              "      <th></th>\n",
              "      <th></th>\n",
              "      <th></th>\n",
              "    </tr>\n",
              "  </thead>\n",
              "  <tbody>\n",
              "    <tr>\n",
              "      <th>AD</th>\n",
              "      <td>1301</td>\n",
              "      <td>53</td>\n",
              "      <td>800</td>\n",
              "      <td>0.040738</td>\n",
              "    </tr>\n",
              "    <tr>\n",
              "      <th>AE</th>\n",
              "      <td>75981</td>\n",
              "      <td>393</td>\n",
              "      <td>7</td>\n",
              "      <td>0.005172</td>\n",
              "    </tr>\n",
              "    <tr>\n",
              "      <th>AF</th>\n",
              "      <td>38544</td>\n",
              "      <td>1420</td>\n",
              "      <td>5</td>\n",
              "      <td>0.036841</td>\n",
              "    </tr>\n",
              "    <tr>\n",
              "      <th>AG</th>\n",
              "      <td>95</td>\n",
              "      <td>3</td>\n",
              "      <td>23</td>\n",
              "      <td>0.031579</td>\n",
              "    </tr>\n",
              "    <tr>\n",
              "      <th>AL</th>\n",
              "      <td>10704</td>\n",
              "      <td>322</td>\n",
              "      <td>67</td>\n",
              "      <td>0.030082</td>\n",
              "    </tr>\n",
              "    <tr>\n",
              "      <th>AM</th>\n",
              "      <td>45152</td>\n",
              "      <td>905</td>\n",
              "      <td>31</td>\n",
              "      <td>0.020043</td>\n",
              "    </tr>\n",
              "    <tr>\n",
              "      <th>AO</th>\n",
              "      <td>3092</td>\n",
              "      <td>126</td>\n",
              "      <td>117</td>\n",
              "      <td>0.040750</td>\n",
              "    </tr>\n",
              "    <tr>\n",
              "      <th>AR</th>\n",
              "      <td>500034</td>\n",
              "      <td>10457</td>\n",
              "      <td>72</td>\n",
              "      <td>0.020913</td>\n",
              "    </tr>\n",
              "    <tr>\n",
              "      <th>AT</th>\n",
              "      <td>30583</td>\n",
              "      <td>747</td>\n",
              "      <td>9</td>\n",
              "      <td>0.024425</td>\n",
              "    </tr>\n",
              "    <tr>\n",
              "      <th>AU</th>\n",
              "      <td>26516</td>\n",
              "      <td>788</td>\n",
              "      <td>88</td>\n",
              "      <td>0.029718</td>\n",
              "    </tr>\n",
              "  </tbody>\n",
              "</table>\n",
              "</div>"
            ],
            "text/plain": [
              "               cases  deaths recovered  death_ratio\n",
              "Alpha-2 code                                       \n",
              "AD              1301      53       800     0.040738\n",
              "AE             75981     393         7     0.005172\n",
              "AF             38544    1420         5     0.036841\n",
              "AG                95       3        23     0.031579\n",
              "AL             10704     322        67     0.030082\n",
              "AM             45152     905        31     0.020043\n",
              "AO              3092     126       117     0.040750\n",
              "AR            500034   10457        72     0.020913\n",
              "AT             30583     747         9     0.024425\n",
              "AU             26516     788        88     0.029718"
            ]
          },
          "metadata": {
            "tags": []
          },
          "execution_count": 24
        }
      ]
    },
    {
      "cell_type": "code",
      "metadata": {
        "id": "4eNnKLefS9cQ",
        "colab_type": "code",
        "colab": {},
        "outputId": "a73d120f-249e-4bd1-c7c3-8a132e7917cd"
      },
      "source": [
        "cts.filter(like='US', axis=0)"
      ],
      "execution_count": null,
      "outputs": [
        {
          "output_type": "execute_result",
          "data": {
            "text/html": [
              "<div>\n",
              "<style scoped>\n",
              "    .dataframe tbody tr th:only-of-type {\n",
              "        vertical-align: middle;\n",
              "    }\n",
              "\n",
              "    .dataframe tbody tr th {\n",
              "        vertical-align: top;\n",
              "    }\n",
              "\n",
              "    .dataframe thead th {\n",
              "        text-align: right;\n",
              "    }\n",
              "</style>\n",
              "<table border=\"1\" class=\"dataframe\">\n",
              "  <thead>\n",
              "    <tr style=\"text-align: right;\">\n",
              "      <th></th>\n",
              "      <th>cases</th>\n",
              "      <th>deaths</th>\n",
              "      <th>recovered</th>\n",
              "      <th>death_ratio</th>\n",
              "    </tr>\n",
              "    <tr>\n",
              "      <th>Alpha-2 code</th>\n",
              "      <th></th>\n",
              "      <th></th>\n",
              "      <th></th>\n",
              "      <th></th>\n",
              "    </tr>\n",
              "  </thead>\n",
              "  <tbody>\n",
              "    <tr>\n",
              "      <th>US</th>\n",
              "      <td>6358247</td>\n",
              "      <td>190727</td>\n",
              "      <td>924148</td>\n",
              "      <td>0.029997</td>\n",
              "    </tr>\n",
              "  </tbody>\n",
              "</table>\n",
              "</div>"
            ],
            "text/plain": [
              "                cases  deaths recovered  death_ratio\n",
              "Alpha-2 code                                        \n",
              "US            6358247  190727    924148     0.029997"
            ]
          },
          "metadata": {
            "tags": []
          },
          "execution_count": 25
        }
      ]
    },
    {
      "cell_type": "markdown",
      "metadata": {
        "id": "OlmDRPKnS9cS",
        "colab_type": "text"
      },
      "source": [
        "### ISO Translation"
      ]
    },
    {
      "cell_type": "code",
      "metadata": {
        "id": "NqHJTqOjS9cS",
        "colab_type": "code",
        "colab": {},
        "outputId": "be9357cd-9d75-4f4a-bc02-02880d6af893"
      },
      "source": [
        "ISO=pd.read_excel('ISO_CODES.xlsx')\n",
        "ISO.head()"
      ],
      "execution_count": null,
      "outputs": [
        {
          "output_type": "execute_result",
          "data": {
            "text/html": [
              "<div>\n",
              "<style scoped>\n",
              "    .dataframe tbody tr th:only-of-type {\n",
              "        vertical-align: middle;\n",
              "    }\n",
              "\n",
              "    .dataframe tbody tr th {\n",
              "        vertical-align: top;\n",
              "    }\n",
              "\n",
              "    .dataframe thead th {\n",
              "        text-align: right;\n",
              "    }\n",
              "</style>\n",
              "<table border=\"1\" class=\"dataframe\">\n",
              "  <thead>\n",
              "    <tr style=\"text-align: right;\">\n",
              "      <th></th>\n",
              "      <th>Country</th>\n",
              "      <th>Alpha-2 code</th>\n",
              "      <th>Alpha-3 code</th>\n",
              "      <th>Numeric</th>\n",
              "    </tr>\n",
              "  </thead>\n",
              "  <tbody>\n",
              "    <tr>\n",
              "      <th>0</th>\n",
              "      <td>Afghanistan</td>\n",
              "      <td>AF</td>\n",
              "      <td>AFG</td>\n",
              "      <td>4</td>\n",
              "    </tr>\n",
              "    <tr>\n",
              "      <th>1</th>\n",
              "      <td>Albania</td>\n",
              "      <td>AL</td>\n",
              "      <td>ALB</td>\n",
              "      <td>8</td>\n",
              "    </tr>\n",
              "    <tr>\n",
              "      <th>2</th>\n",
              "      <td>Algeria</td>\n",
              "      <td>DZ</td>\n",
              "      <td>DZA</td>\n",
              "      <td>12</td>\n",
              "    </tr>\n",
              "    <tr>\n",
              "      <th>3</th>\n",
              "      <td>American Samoa</td>\n",
              "      <td>AS</td>\n",
              "      <td>ASM</td>\n",
              "      <td>16</td>\n",
              "    </tr>\n",
              "    <tr>\n",
              "      <th>4</th>\n",
              "      <td>Andorra</td>\n",
              "      <td>AD</td>\n",
              "      <td>AND</td>\n",
              "      <td>20</td>\n",
              "    </tr>\n",
              "  </tbody>\n",
              "</table>\n",
              "</div>"
            ],
            "text/plain": [
              "          Country Alpha-2 code Alpha-3 code  Numeric\n",
              "0     Afghanistan           AF          AFG        4\n",
              "1         Albania           AL          ALB        8\n",
              "2         Algeria           DZ          DZA       12\n",
              "3  American Samoa           AS          ASM       16\n",
              "4         Andorra           AD          AND       20"
            ]
          },
          "metadata": {
            "tags": []
          },
          "execution_count": 26
        }
      ]
    },
    {
      "cell_type": "code",
      "metadata": {
        "id": "VBofw1peS9cV",
        "colab_type": "code",
        "colab": {},
        "outputId": "9346ce0b-522d-4ef2-859e-7ff4622c73e9"
      },
      "source": [
        "cts=cts.merge(ISO,on='Alpha-2 code')\n",
        "cts.columns"
      ],
      "execution_count": null,
      "outputs": [
        {
          "output_type": "execute_result",
          "data": {
            "text/plain": [
              "Index(['Alpha-2 code', 'cases', 'deaths', 'recovered', 'death_ratio',\n",
              "       'Country', 'Alpha-3 code', 'Numeric'],\n",
              "      dtype='object')"
            ]
          },
          "metadata": {
            "tags": []
          },
          "execution_count": 27
        }
      ]
    },
    {
      "cell_type": "markdown",
      "metadata": {
        "colab_type": "text",
        "id": "zeDfW0c_nSRr"
      },
      "source": [
        "## Combining the OECD Data\n",
        "\n",
        "For now, we are combining the various OECD tables on the 'country' key so that we can merge it with COVID data.\n",
        "\n",
        "At this point, there are XXXXX variables we are looking to "
      ]
    },
    {
      "cell_type": "code",
      "metadata": {
        "colab_type": "code",
        "id": "dMhHTAg_nSRr",
        "colab": {
          "base_uri": "https://localhost:8080/",
          "height": 232
        },
        "outputId": "f4bcb088-a9f3-4151-bbae-5359089d37c8"
      },
      "source": [
        "# Let's keep a running list of the dataframe names. Will make it easier\n",
        "# to run future analysis if we can just iterate on this list of df names rather\n",
        "# than including each one individually in multiple spots\n",
        "# So if a new variable is added up top, append it to this list, and the rest\n",
        "# of the analysis is good to go.\n",
        "oecd_df_list = list()\n",
        "oecd_df_list.append(df_edu)\n",
        "oecd_df_list.append(df_debt)\n",
        "oecd_df_list.append(df_oldage)\n",
        "#oecd_df_list.append(df_tour_gdp)\n",
        "oecd_df_list.append(df_tour_emp)\n",
        "oecd_df_list.append(df_top_10pct_share)\n",
        "#oecd_df_list.append(df_bottom_60pct_share)\n",
        "oecd_df_list.append(df_life_exp)\n",
        "oecd_df_list.append(df_population)\n",
        "oecd_df_list.append(df_tobacco)\n",
        "oecd_df_list.append(df_health_exp)\n",
        "\n",
        "# Doing a quick check of the shapes of each data frame.\n",
        "# it looks like some are smaller than others. Will need to decide what countries to keep later.\n",
        "#for i in oecd_df_list:\n",
        "  #print(i.shape)\n",
        "\n",
        "# Let's merge them all together\n",
        "df_oecd = pd.DataFrame(columns=['ISO', 'Country'])\n",
        "\n",
        "for df in oecd_df_list:\n",
        "  df_oecd = df_oecd.merge(df, on=['ISO', 'Country'], how='outer') \n",
        "\n",
        "# and we'll drop the NA rows so that we have a complete data set.\n",
        "# We end up dropping quite a few countries, but the final dataframe\n",
        "# has 23 which seems enough?\n",
        "# One other option would be to drop the top_10_pct variable. This would increase\n",
        "# the country size to 30, which is significant, but I like the idea of a \n",
        "# having an inequality statistic. Can think about it going forward.\n",
        "\n",
        "df_oecd = df_oecd.dropna(axis = 0)\n",
        "\n",
        "# Let's check it out!\n",
        "df_oecd.head()"
      ],
      "execution_count": 86,
      "outputs": [
        {
          "output_type": "execute_result",
          "data": {
            "text/html": [
              "<div>\n",
              "<style scoped>\n",
              "    .dataframe tbody tr th:only-of-type {\n",
              "        vertical-align: middle;\n",
              "    }\n",
              "\n",
              "    .dataframe tbody tr th {\n",
              "        vertical-align: top;\n",
              "    }\n",
              "\n",
              "    .dataframe thead th {\n",
              "        text-align: right;\n",
              "    }\n",
              "</style>\n",
              "<table border=\"1\" class=\"dataframe\">\n",
              "  <thead>\n",
              "    <tr style=\"text-align: right;\">\n",
              "      <th></th>\n",
              "      <th>ISO</th>\n",
              "      <th>Country</th>\n",
              "      <th>Tertiary_Education_Pct</th>\n",
              "      <th>Debt_to_GDP</th>\n",
              "      <th>Old_Age_Ratio</th>\n",
              "      <th>Tourism_Pct_Employment</th>\n",
              "      <th>Top_10pct_Share</th>\n",
              "      <th>Life_Expectancy</th>\n",
              "      <th>Population</th>\n",
              "      <th>Tobacco_Users</th>\n",
              "      <th>Health_Expenditure</th>\n",
              "    </tr>\n",
              "  </thead>\n",
              "  <tbody>\n",
              "    <tr>\n",
              "      <th>3</th>\n",
              "      <td>CHL</td>\n",
              "      <td>Chile</td>\n",
              "      <td>25.168179</td>\n",
              "      <td>9.185</td>\n",
              "      <td>11.547</td>\n",
              "      <td>6.461</td>\n",
              "      <td>57.710564</td>\n",
              "      <td>80.6</td>\n",
              "      <td>18751405.0</td>\n",
              "      <td>24.5</td>\n",
              "      <td>9.102</td>\n",
              "    </tr>\n",
              "    <tr>\n",
              "      <th>6</th>\n",
              "      <td>GRC</td>\n",
              "      <td>Greece</td>\n",
              "      <td>31.739904</td>\n",
              "      <td>147.839</td>\n",
              "      <td>21.894</td>\n",
              "      <td>9.974</td>\n",
              "      <td>42.423824</td>\n",
              "      <td>81.9</td>\n",
              "      <td>10725886.0</td>\n",
              "      <td>35.0</td>\n",
              "      <td>7.791</td>\n",
              "    </tr>\n",
              "    <tr>\n",
              "      <th>8</th>\n",
              "      <td>PRT</td>\n",
              "      <td>Portugal</td>\n",
              "      <td>24.984337</td>\n",
              "      <td>87.962</td>\n",
              "      <td>21.672</td>\n",
              "      <td>9.810</td>\n",
              "      <td>52.127502</td>\n",
              "      <td>81.4</td>\n",
              "      <td>10283822.0</td>\n",
              "      <td>16.8</td>\n",
              "      <td>9.563</td>\n",
              "    </tr>\n",
              "    <tr>\n",
              "      <th>10</th>\n",
              "      <td>HUN</td>\n",
              "      <td>Hungary</td>\n",
              "      <td>25.101177</td>\n",
              "      <td>73.898</td>\n",
              "      <td>19.143</td>\n",
              "      <td>9.590</td>\n",
              "      <td>48.477074</td>\n",
              "      <td>76.2</td>\n",
              "      <td>9767600.0</td>\n",
              "      <td>25.8</td>\n",
              "      <td>6.360</td>\n",
              "    </tr>\n",
              "    <tr>\n",
              "      <th>11</th>\n",
              "      <td>GBR</td>\n",
              "      <td>United Kingdom</td>\n",
              "      <td>45.781677</td>\n",
              "      <td>85.535</td>\n",
              "      <td>18.312</td>\n",
              "      <td>4.670</td>\n",
              "      <td>51.988647</td>\n",
              "      <td>81.3</td>\n",
              "      <td>66435550.0</td>\n",
              "      <td>16.6</td>\n",
              "      <td>10.254</td>\n",
              "    </tr>\n",
              "  </tbody>\n",
              "</table>\n",
              "</div>"
            ],
            "text/plain": [
              "    ISO         Country  ...  Tobacco_Users  Health_Expenditure\n",
              "3   CHL           Chile  ...           24.5               9.102\n",
              "6   GRC          Greece  ...           35.0               7.791\n",
              "8   PRT        Portugal  ...           16.8               9.563\n",
              "10  HUN         Hungary  ...           25.8               6.360\n",
              "11  GBR  United Kingdom  ...           16.6              10.254\n",
              "\n",
              "[5 rows x 11 columns]"
            ]
          },
          "metadata": {
            "tags": []
          },
          "execution_count": 86
        }
      ]
    },
    {
      "cell_type": "markdown",
      "metadata": {
        "id": "KPclOU_MS9ce",
        "colab_type": "text"
      },
      "source": [
        "### Master Combination"
      ]
    },
    {
      "cell_type": "code",
      "metadata": {
        "id": "GCVD0FFdS9cf",
        "colab_type": "code",
        "colab": {
          "base_uri": "https://localhost:8080/",
          "height": 162
        },
        "outputId": "e3088cc5-da42-4fc6-d24d-bab43095c08b"
      },
      "source": [
        "df_merged = cts.merge(df_oecd, left_on='Alpha-3 code', right_on='ISO')"
      ],
      "execution_count": 80,
      "outputs": [
        {
          "output_type": "error",
          "ename": "NameError",
          "evalue": "ignored",
          "traceback": [
            "\u001b[0;31m---------------------------------------------------------------------------\u001b[0m",
            "\u001b[0;31mNameError\u001b[0m                                 Traceback (most recent call last)",
            "\u001b[0;32m<ipython-input-80-e3faaa5d3f53>\u001b[0m in \u001b[0;36m<module>\u001b[0;34m()\u001b[0m\n\u001b[0;32m----> 1\u001b[0;31m \u001b[0mdf_merged\u001b[0m \u001b[0;34m=\u001b[0m \u001b[0mcts\u001b[0m\u001b[0;34m.\u001b[0m\u001b[0mmerge\u001b[0m\u001b[0;34m(\u001b[0m\u001b[0mdf_oecd\u001b[0m\u001b[0;34m,\u001b[0m \u001b[0mleft_on\u001b[0m\u001b[0;34m=\u001b[0m\u001b[0;34m'Alpha-3 code'\u001b[0m\u001b[0;34m,\u001b[0m \u001b[0mright_on\u001b[0m\u001b[0;34m=\u001b[0m\u001b[0;34m'ISO'\u001b[0m\u001b[0;34m)\u001b[0m\u001b[0;34m\u001b[0m\u001b[0;34m\u001b[0m\u001b[0m\n\u001b[0m",
            "\u001b[0;31mNameError\u001b[0m: name 'cts' is not defined"
          ]
        }
      ]
    },
    {
      "cell_type": "code",
      "metadata": {
        "id": "e_VGzwIXS9cg",
        "colab_type": "code",
        "colab": {},
        "outputId": "a7cdc8cf-72a4-499e-8b18-0da7e37d148d"
      },
      "source": [
        "df_merged.sample(10)"
      ],
      "execution_count": null,
      "outputs": [
        {
          "output_type": "execute_result",
          "data": {
            "text/html": [
              "<div>\n",
              "<style scoped>\n",
              "    .dataframe tbody tr th:only-of-type {\n",
              "        vertical-align: middle;\n",
              "    }\n",
              "\n",
              "    .dataframe tbody tr th {\n",
              "        vertical-align: top;\n",
              "    }\n",
              "\n",
              "    .dataframe thead th {\n",
              "        text-align: right;\n",
              "    }\n",
              "</style>\n",
              "<table border=\"1\" class=\"dataframe\">\n",
              "  <thead>\n",
              "    <tr style=\"text-align: right;\">\n",
              "      <th></th>\n",
              "      <th>Alpha-2 code</th>\n",
              "      <th>cases</th>\n",
              "      <th>deaths</th>\n",
              "      <th>recovered</th>\n",
              "      <th>death_ratio</th>\n",
              "      <th>Country_x</th>\n",
              "      <th>Alpha-3 code</th>\n",
              "      <th>Numeric</th>\n",
              "      <th>ISO</th>\n",
              "      <th>Country_y</th>\n",
              "      <th>Tertiary_Education_Pct</th>\n",
              "      <th>Debt_to_GDP</th>\n",
              "      <th>Old_Age_Ratio</th>\n",
              "      <th>Tourism_Pct_GDP</th>\n",
              "      <th>Tourism_Pct_Employment</th>\n",
              "      <th>Top_10pct_Share</th>\n",
              "      <th>Bottom_60pct_Share</th>\n",
              "      <th>Life_Expectancy</th>\n",
              "    </tr>\n",
              "  </thead>\n",
              "  <tbody>\n",
              "    <tr>\n",
              "      <th>26</th>\n",
              "      <td>IE</td>\n",
              "      <td>30164</td>\n",
              "      <td>1781</td>\n",
              "      <td>5</td>\n",
              "      <td>0.059044</td>\n",
              "      <td>Ireland</td>\n",
              "      <td>IRL</td>\n",
              "      <td>372</td>\n",
              "      <td>IRL</td>\n",
              "      <td>Ireland</td>\n",
              "      <td>46.935135</td>\n",
              "      <td>60.703</td>\n",
              "      <td>13.864</td>\n",
              "      <td>NaN</td>\n",
              "      <td>10.279</td>\n",
              "      <td>53.792400</td>\n",
              "      <td>7.184053</td>\n",
              "      <td>82.3</td>\n",
              "    </tr>\n",
              "    <tr>\n",
              "      <th>21</th>\n",
              "      <td>GB</td>\n",
              "      <td>355219</td>\n",
              "      <td>41594</td>\n",
              "      <td>8</td>\n",
              "      <td>0.117094</td>\n",
              "      <td>United Kingdom of Great Britain and Northern I...</td>\n",
              "      <td>GBR</td>\n",
              "      <td>826</td>\n",
              "      <td>GBR</td>\n",
              "      <td>United Kingdom</td>\n",
              "      <td>45.781677</td>\n",
              "      <td>85.535</td>\n",
              "      <td>18.312</td>\n",
              "      <td>NaN</td>\n",
              "      <td>4.670</td>\n",
              "      <td>51.988647</td>\n",
              "      <td>11.807471</td>\n",
              "      <td>81.3</td>\n",
              "    </tr>\n",
              "    <tr>\n",
              "      <th>9</th>\n",
              "      <td>CN</td>\n",
              "      <td>90087</td>\n",
              "      <td>4733</td>\n",
              "      <td>9298</td>\n",
              "      <td>0.052538</td>\n",
              "      <td>China</td>\n",
              "      <td>CHN</td>\n",
              "      <td>156</td>\n",
              "      <td>CHN</td>\n",
              "      <td>China (People's Republic of)</td>\n",
              "      <td>9.681174</td>\n",
              "      <td>NaN</td>\n",
              "      <td>11.194</td>\n",
              "      <td>NaN</td>\n",
              "      <td>NaN</td>\n",
              "      <td>NaN</td>\n",
              "      <td>NaN</td>\n",
              "      <td>76.8</td>\n",
              "    </tr>\n",
              "    <tr>\n",
              "      <th>14</th>\n",
              "      <td>DE</td>\n",
              "      <td>256433</td>\n",
              "      <td>9342</td>\n",
              "      <td>9211</td>\n",
              "      <td>0.036431</td>\n",
              "      <td>Germany</td>\n",
              "      <td>DEU</td>\n",
              "      <td>276</td>\n",
              "      <td>DEU</td>\n",
              "      <td>Germany</td>\n",
              "      <td>29.065134</td>\n",
              "      <td>44.403</td>\n",
              "      <td>21.466</td>\n",
              "      <td>NaN</td>\n",
              "      <td>4.796</td>\n",
              "      <td>59.758945</td>\n",
              "      <td>6.456923</td>\n",
              "      <td>81.0</td>\n",
              "    </tr>\n",
              "    <tr>\n",
              "      <th>24</th>\n",
              "      <td>HU</td>\n",
              "      <td>9715</td>\n",
              "      <td>628</td>\n",
              "      <td>7</td>\n",
              "      <td>0.064642</td>\n",
              "      <td>Hungary</td>\n",
              "      <td>HUN</td>\n",
              "      <td>348</td>\n",
              "      <td>HUN</td>\n",
              "      <td>Hungary</td>\n",
              "      <td>25.101177</td>\n",
              "      <td>73.898</td>\n",
              "      <td>19.143</td>\n",
              "      <td>NaN</td>\n",
              "      <td>9.590</td>\n",
              "      <td>48.477074</td>\n",
              "      <td>15.445245</td>\n",
              "      <td>76.2</td>\n",
              "    </tr>\n",
              "    <tr>\n",
              "      <th>32</th>\n",
              "      <td>KR</td>\n",
              "      <td>21588</td>\n",
              "      <td>344</td>\n",
              "      <td>9</td>\n",
              "      <td>0.015935</td>\n",
              "      <td>Korea (the Republic of)</td>\n",
              "      <td>KOR</td>\n",
              "      <td>410</td>\n",
              "      <td>KOR</td>\n",
              "      <td>Korea</td>\n",
              "      <td>49.008511</td>\n",
              "      <td>31.935</td>\n",
              "      <td>14.294</td>\n",
              "      <td>NaN</td>\n",
              "      <td>NaN</td>\n",
              "      <td>NaN</td>\n",
              "      <td>17.694309</td>\n",
              "      <td>82.7</td>\n",
              "    </tr>\n",
              "    <tr>\n",
              "      <th>34</th>\n",
              "      <td>LT</td>\n",
              "      <td>3163</td>\n",
              "      <td>86</td>\n",
              "      <td>7</td>\n",
              "      <td>0.027189</td>\n",
              "      <td>Lithuania</td>\n",
              "      <td>LTU</td>\n",
              "      <td>440</td>\n",
              "      <td>LTU</td>\n",
              "      <td>Lithuania</td>\n",
              "      <td>41.654594</td>\n",
              "      <td>NaN</td>\n",
              "      <td>19.706</td>\n",
              "      <td>NaN</td>\n",
              "      <td>4.900</td>\n",
              "      <td>NaN</td>\n",
              "      <td>NaN</td>\n",
              "      <td>75.8</td>\n",
              "    </tr>\n",
              "    <tr>\n",
              "      <th>16</th>\n",
              "      <td>EE</td>\n",
              "      <td>2585</td>\n",
              "      <td>69</td>\n",
              "      <td>8</td>\n",
              "      <td>0.026692</td>\n",
              "      <td>Estonia</td>\n",
              "      <td>EST</td>\n",
              "      <td>233</td>\n",
              "      <td>EST</td>\n",
              "      <td>Estonia</td>\n",
              "      <td>41.130722</td>\n",
              "      <td>3.227</td>\n",
              "      <td>19.676</td>\n",
              "      <td>5.428</td>\n",
              "      <td>4.300</td>\n",
              "      <td>55.713390</td>\n",
              "      <td>12.786300</td>\n",
              "      <td>78.4</td>\n",
              "    </tr>\n",
              "    <tr>\n",
              "      <th>43</th>\n",
              "      <td>PE</td>\n",
              "      <td>696190</td>\n",
              "      <td>30123</td>\n",
              "      <td>53</td>\n",
              "      <td>0.043268</td>\n",
              "      <td>Peru</td>\n",
              "      <td>PER</td>\n",
              "      <td>604</td>\n",
              "      <td>PER</td>\n",
              "      <td>Peru</td>\n",
              "      <td>NaN</td>\n",
              "      <td>NaN</td>\n",
              "      <td>NaN</td>\n",
              "      <td>3.900</td>\n",
              "      <td>3.820</td>\n",
              "      <td>NaN</td>\n",
              "      <td>NaN</td>\n",
              "      <td>NaN</td>\n",
              "    </tr>\n",
              "    <tr>\n",
              "      <th>31</th>\n",
              "      <td>JP</td>\n",
              "      <td>73266</td>\n",
              "      <td>1412</td>\n",
              "      <td>9</td>\n",
              "      <td>0.019272</td>\n",
              "      <td>Japan</td>\n",
              "      <td>JPN</td>\n",
              "      <td>392</td>\n",
              "      <td>JPN</td>\n",
              "      <td>Japan</td>\n",
              "      <td>51.928062</td>\n",
              "      <td>183.530</td>\n",
              "      <td>28.137</td>\n",
              "      <td>1.961</td>\n",
              "      <td>9.610</td>\n",
              "      <td>41.016430</td>\n",
              "      <td>17.749653</td>\n",
              "      <td>84.2</td>\n",
              "    </tr>\n",
              "  </tbody>\n",
              "</table>\n",
              "</div>"
            ],
            "text/plain": [
              "   Alpha-2 code   cases  deaths recovered  death_ratio  \\\n",
              "26           IE   30164    1781         5     0.059044   \n",
              "21           GB  355219   41594         8     0.117094   \n",
              "9            CN   90087    4733      9298     0.052538   \n",
              "14           DE  256433    9342      9211     0.036431   \n",
              "24           HU    9715     628         7     0.064642   \n",
              "32           KR   21588     344         9     0.015935   \n",
              "34           LT    3163      86         7     0.027189   \n",
              "16           EE    2585      69         8     0.026692   \n",
              "43           PE  696190   30123        53     0.043268   \n",
              "31           JP   73266    1412         9     0.019272   \n",
              "\n",
              "                                            Country_x Alpha-3 code  Numeric  \\\n",
              "26                                            Ireland          IRL      372   \n",
              "21  United Kingdom of Great Britain and Northern I...          GBR      826   \n",
              "9                                               China          CHN      156   \n",
              "14                                            Germany          DEU      276   \n",
              "24                                            Hungary          HUN      348   \n",
              "32                            Korea (the Republic of)          KOR      410   \n",
              "34                                          Lithuania          LTU      440   \n",
              "16                                            Estonia          EST      233   \n",
              "43                                               Peru          PER      604   \n",
              "31                                              Japan          JPN      392   \n",
              "\n",
              "    ISO                     Country_y  Tertiary_Education_Pct  Debt_to_GDP  \\\n",
              "26  IRL                       Ireland               46.935135       60.703   \n",
              "21  GBR                United Kingdom               45.781677       85.535   \n",
              "9   CHN  China (People's Republic of)                9.681174          NaN   \n",
              "14  DEU                       Germany               29.065134       44.403   \n",
              "24  HUN                       Hungary               25.101177       73.898   \n",
              "32  KOR                         Korea               49.008511       31.935   \n",
              "34  LTU                     Lithuania               41.654594          NaN   \n",
              "16  EST                       Estonia               41.130722        3.227   \n",
              "43  PER                          Peru                     NaN          NaN   \n",
              "31  JPN                         Japan               51.928062      183.530   \n",
              "\n",
              "    Old_Age_Ratio  Tourism_Pct_GDP  Tourism_Pct_Employment  Top_10pct_Share  \\\n",
              "26         13.864              NaN                  10.279        53.792400   \n",
              "21         18.312              NaN                   4.670        51.988647   \n",
              "9          11.194              NaN                     NaN              NaN   \n",
              "14         21.466              NaN                   4.796        59.758945   \n",
              "24         19.143              NaN                   9.590        48.477074   \n",
              "32         14.294              NaN                     NaN              NaN   \n",
              "34         19.706              NaN                   4.900              NaN   \n",
              "16         19.676            5.428                   4.300        55.713390   \n",
              "43            NaN            3.900                   3.820              NaN   \n",
              "31         28.137            1.961                   9.610        41.016430   \n",
              "\n",
              "    Bottom_60pct_Share  Life_Expectancy  \n",
              "26            7.184053             82.3  \n",
              "21           11.807471             81.3  \n",
              "9                  NaN             76.8  \n",
              "14            6.456923             81.0  \n",
              "24           15.445245             76.2  \n",
              "32           17.694309             82.7  \n",
              "34                 NaN             75.8  \n",
              "16           12.786300             78.4  \n",
              "43                 NaN              NaN  \n",
              "31           17.749653             84.2  "
            ]
          },
          "metadata": {
            "tags": []
          },
          "execution_count": 40
        }
      ]
    },
    {
      "cell_type": "code",
      "metadata": {
        "id": "VL4h1218S9ci",
        "colab_type": "code",
        "colab": {},
        "outputId": "a248b373-47af-4686-8905-2d574f866799"
      },
      "source": [
        "df_merged.count()"
      ],
      "execution_count": null,
      "outputs": [
        {
          "output_type": "execute_result",
          "data": {
            "text/plain": [
              "Alpha-2 code              57\n",
              "cases                     57\n",
              "deaths                    57\n",
              "recovered                 57\n",
              "death_ratio               57\n",
              "Country_x                 57\n",
              "Alpha-3 code              57\n",
              "Numeric                   57\n",
              "ISO                       57\n",
              "Country_y                 57\n",
              "Tertiary_Education_Pct    46\n",
              "Debt_to_GDP               34\n",
              "Old_Age_Ratio             52\n",
              "Tourism_Pct_GDP           24\n",
              "Tourism_Pct_Employment    46\n",
              "Top_10pct_Share           27\n",
              "Bottom_60pct_Share        28\n",
              "Life_Expectancy           44\n",
              "dtype: int64"
            ]
          },
          "metadata": {
            "tags": []
          },
          "execution_count": 38
        }
      ]
    },
    {
      "cell_type": "code",
      "metadata": {
        "id": "PkmZvEhTS9ck",
        "colab_type": "code",
        "colab": {},
        "outputId": "6e9a7737-748f-4227-b5b3-bf76d25af7bf"
      },
      "source": [
        "print(len(df_oecd))\n",
        "print(len(cts))"
      ],
      "execution_count": null,
      "outputs": [
        {
          "output_type": "stream",
          "text": [
            "62\n",
            "185\n"
          ],
          "name": "stdout"
        }
      ]
    }
  ]
}